{
  "nbformat": 4,
  "nbformat_minor": 0,
  "metadata": {
    "colab": {
      "provenance": []
    },
    "kernelspec": {
      "name": "python3",
      "display_name": "Python 3"
    },
    "language_info": {
      "name": "python"
    }
  },
  "cells": [
    {
      "cell_type": "markdown",
      "source": [
        "These are the exercise problems from the book Python programming and Numerical methods book:\n",
        "\n",
        "https://pythonnumericalmethods.berkeley.edu/notebooks/Index.html\n",
        "\n",
        "# Chapter 13: Parallelize Your Python\n",
        "\n",
        "https://pythonnumericalmethods.berkeley.edu/notebooks/chapter13.04-Summary-and-Problems.html#problems\n",
        "\n",
        "Only those problems that need to be solved in a notebook environment"
      ],
      "metadata": {
        "id": "_sT6nsX2vB3K"
      }
    },
    {
      "cell_type": "markdown",
      "source": [
        "---"
      ],
      "metadata": {
        "id": "LxfASW8dvVnL"
      }
    },
    {
      "cell_type": "markdown",
      "source": [
        "1. What's parallel computing?\n",
        "\n",
        "Parellel computing means breaking down a single operation into multiple smaller operations where each sub operation is performed simultaneously and the results of each operation is combined to produce the final result.\n",
        "\n",
        "For example, lets say we need to take a mean of 10 numbers from the following array.\n",
        "\n",
        "[3,5,7,8,9,10,4,6,8,11]\n",
        "\n",
        "\n",
        "lets say we have a computer with 5 cores.\n",
        "\n",
        "each core can take 2 numbers and computre their mean and the final answer would the mean of all five means. Each of the operations can be performed side by side in the individual cores.\n",
        "\n",
        "<pre>\n",
        "\n",
        "[3,5]            [7,8]              [9,10]              [4,6]           [8,11]\n",
        " c1                c2                 c3                 c4              c5\n",
        "(3+5)/2 = 4      (7+8)/2 = 7.5       (9+10)/2 = 9.5      (4+6)/2 = 5      (8+11)/2 = 9.5\n",
        "\n",
        "final_ans = (4 + 7.5 + 9.5 + 5 + 9.5)/5 = 7.1\n",
        "</pre>\n",
        "\n",
        "This is an example of parallel processing."
      ],
      "metadata": {
        "id": "OVw_dZwVvX2a"
      }
    },
    {
      "cell_type": "code",
      "source": [
        "import numpy as np\n",
        "np.mean([3,5,7,8,9,10,4,6,8,11])"
      ],
      "metadata": {
        "colab": {
          "base_uri": "https://localhost:8080/"
        },
        "id": "1TGZPtFdfLb2",
        "outputId": "5fa045a2-1613-4bdf-ad22-cad273bfecb5"
      },
      "execution_count": null,
      "outputs": [
        {
          "output_type": "execute_result",
          "data": {
            "text/plain": [
              "7.1"
            ]
          },
          "metadata": {},
          "execution_count": 1
        }
      ]
    },
    {
      "cell_type": "markdown",
      "source": [
        "---"
      ],
      "metadata": {
        "id": "oV2vnaiIe-6X"
      }
    },
    {
      "cell_type": "markdown",
      "source": [
        "2. Please specify the difference between process and thread.\n",
        "\n",
        "Processes can help breakdown a single oepration into multiple operations using cores within a cpu. However, within each core a single process can be handled by multiple sub-processes known as threads.\n",
        "\n",
        "So, threads can be seen as further breaking down an individual sub-process.\n",
        "\n",
        "So, let's say if we only had a single core and 5 threads within that core then a similar operation as demonstrated above would be performed by breaking the whole process into multiple threads. Each thread within a core has access to all of the data within that core.\n",
        "\n",
        "The operations performed with 5 cores and 1 thread will be significantly faster than 1 core 5 threads as the 5 threads within a core would need to fetch the data stored in cpu memory, and with one core that would be the entire data.\n",
        "\n",
        "The major difference between a process and a thread is that processes are independent of one another whereas threads share information with each other. If you change any variable or code for one thread, it will change for all. For processes that's not the case. Even if you change variables or data of one of the processes, it will not affect the other processes."
      ],
      "metadata": {
        "id": "uHmDtI5Fe_qU"
      }
    },
    {
      "cell_type": "markdown",
      "source": [
        "---"
      ],
      "metadata": {
        "id": "EfRME6TWpqCa"
      }
    },
    {
      "cell_type": "markdown",
      "source": [
        "3. Find out the number of your processors on your computer using the multiprocessing package."
      ],
      "metadata": {
        "id": "jG3o7n-Xpq3B"
      }
    },
    {
      "cell_type": "code",
      "execution_count": null,
      "metadata": {
        "colab": {
          "base_uri": "https://localhost:8080/"
        },
        "id": "g8594hhIu6Rw",
        "outputId": "6e5d91b7-84e8-431f-8e8d-9d9774305df1"
      },
      "outputs": [
        {
          "output_type": "stream",
          "name": "stdout",
          "text": [
            "Number of cpu: 2\n"
          ]
        }
      ],
      "source": [
        "import multiprocessing as mp\n",
        "print(f'Number of cpu: {mp.cpu_count()}')"
      ]
    },
    {
      "cell_type": "markdown",
      "source": [
        "---"
      ],
      "metadata": {
        "id": "94cNdF9lqFAL"
      }
    },
    {
      "cell_type": "markdown",
      "source": [
        "4. Use multiprocessing package to parallel the following code, and record the running time. Hint: You may need to check out the pool.apply function."
      ],
      "metadata": {
        "id": "BDOTbNOfqF0L"
      }
    },
    {
      "cell_type": "code",
      "source": [
        "%%time\n",
        "\n",
        "results = []\n",
        "\n",
        "def plus_cube(x, y):\n",
        "    return (x+y)**3\n",
        "\n",
        "for x, y in zip(range(100), range(100)):\n",
        "    results.append(plus_cube(x, y))\n",
        "\n",
        "print(results[:10])"
      ],
      "metadata": {
        "colab": {
          "base_uri": "https://localhost:8080/"
        },
        "id": "YbGTA4vWqFdD",
        "outputId": "e45de62d-da10-486a-a32f-c34169ce84e9"
      },
      "execution_count": null,
      "outputs": [
        {
          "output_type": "stream",
          "name": "stdout",
          "text": [
            "[0, 8, 64, 216, 512, 1000, 1728, 2744, 4096, 5832]\n",
            "CPU times: user 858 µs, sys: 2 µs, total: 860 µs\n",
            "Wall time: 872 µs\n"
          ]
        }
      ]
    },
    {
      "cell_type": "code",
      "source": [
        "%%time\n",
        "\n",
        "pool = mp.Pool(processes=mp.cpu_count())\n",
        "async_results = [pool.apply_async(plus_cube, args = (x, y)) for (x,y) in zip(range(100), range(100))]\n",
        "results = [r.get() for r in async_results]\n",
        "print(results[:10])"
      ],
      "metadata": {
        "colab": {
          "base_uri": "https://localhost:8080/"
        },
        "id": "ZzrXnanTqLN-",
        "outputId": "c44f080d-0c28-4a2a-f101-d15dd1372509"
      },
      "execution_count": null,
      "outputs": [
        {
          "output_type": "stream",
          "name": "stdout",
          "text": [
            "[0, 8, 64, 216, 512, 1000, 1728, 2744, 4096, 5832]\n",
            "CPU times: user 24.2 ms, sys: 16.1 ms, total: 40.3 ms\n",
            "Wall time: 46.8 ms\n"
          ]
        }
      ]
    },
    {
      "cell_type": "markdown",
      "source": [
        "Using starmap"
      ],
      "metadata": {
        "id": "UFpnX14UtKC-"
      }
    },
    {
      "cell_type": "code",
      "source": [
        "%%time\n",
        "\n",
        "pool = mp.Pool(processes=mp.cpu_count())\n",
        "results = pool.starmap(plus_cube, zip(range(100), range(100)))\n",
        "print(results[:10])"
      ],
      "metadata": {
        "colab": {
          "base_uri": "https://localhost:8080/"
        },
        "id": "VSM9tc8TsFn0",
        "outputId": "192c4f7e-6b61-48e5-9799-f8b71f8e3563"
      },
      "execution_count": null,
      "outputs": [
        {
          "output_type": "stream",
          "name": "stdout",
          "text": [
            "[0, 8, 64, 216, 512, 1000, 1728, 2744, 4096, 5832]\n",
            "CPU times: user 5.57 ms, sys: 15.3 ms, total: 20.8 ms\n",
            "Wall time: 26 ms\n"
          ]
        }
      ]
    },
    {
      "cell_type": "markdown",
      "source": [
        "more details:\n",
        "\n",
        "https://superfastpython.com/multiprocessing-pool-map-multiple-arguments/"
      ],
      "metadata": {
        "id": "2oz1RY_suIDI"
      }
    },
    {
      "cell_type": "markdown",
      "source": [
        "---"
      ],
      "metadata": {
        "id": "hy_wLGtIuOxh"
      }
    },
    {
      "cell_type": "markdown",
      "source": [
        "5. Can you provide an example to illustrate the difference of pool.map and pool.map_async?"
      ],
      "metadata": {
        "id": "-plKZfzguPbp"
      }
    },
    {
      "cell_type": "markdown",
      "source": [
        "poo.map() applies a function to each iterable one at a time where the entire array or list is passed as an argument."
      ],
      "metadata": {
        "id": "DN6X6CmG3hEk"
      }
    },
    {
      "cell_type": "code",
      "source": [
        "def square(num):\n",
        "    return num**2\n",
        "\n",
        "n_cpu = mp.cpu_count()\n",
        "pool = mp.Pool(processes=n_cpu)\n",
        "results = pool.map(square, range(21))\n",
        "results"
      ],
      "metadata": {
        "colab": {
          "base_uri": "https://localhost:8080/"
        },
        "id": "NuhW7bpLtO_6",
        "outputId": "6815a740-6b73-4661-9cec-024227439ffb"
      },
      "execution_count": null,
      "outputs": [
        {
          "output_type": "execute_result",
          "data": {
            "text/plain": [
              "[0,\n",
              " 1,\n",
              " 4,\n",
              " 9,\n",
              " 16,\n",
              " 25,\n",
              " 36,\n",
              " 49,\n",
              " 64,\n",
              " 81,\n",
              " 100,\n",
              " 121,\n",
              " 144,\n",
              " 169,\n",
              " 196,\n",
              " 225,\n",
              " 256,\n",
              " 289,\n",
              " 324,\n",
              " 361,\n",
              " 400]"
            ]
          },
          "metadata": {},
          "execution_count": 12
        }
      ]
    },
    {
      "cell_type": "markdown",
      "source": [
        "Using map.async()\n",
        "\n",
        "map.async() only takes one argument at a time and hence would return an async object from which we can retrieve all the results. This allows you to split items between multiple cores using chunksize where it will split evenly sized chunks to all cores or processes."
      ],
      "metadata": {
        "id": "3EuIp4WN6zjm"
      }
    },
    {
      "cell_type": "code",
      "source": [
        "async_results = pool.map_async(square, range(21))\n",
        "results = async_results.get()\n",
        "results"
      ],
      "metadata": {
        "colab": {
          "base_uri": "https://localhost:8080/"
        },
        "id": "_eHc19Bt6h8E",
        "outputId": "6328dee4-7daf-414e-ed2d-23b4aeed833c"
      },
      "execution_count": null,
      "outputs": [
        {
          "output_type": "execute_result",
          "data": {
            "text/plain": [
              "[0,\n",
              " 1,\n",
              " 4,\n",
              " 9,\n",
              " 16,\n",
              " 25,\n",
              " 36,\n",
              " 49,\n",
              " 64,\n",
              " 81,\n",
              " 100,\n",
              " 121,\n",
              " 144,\n",
              " 169,\n",
              " 196,\n",
              " 225,\n",
              " 256,\n",
              " 289,\n",
              " 324,\n",
              " 361,\n",
              " 400]"
            ]
          },
          "metadata": {},
          "execution_count": 24
        }
      ]
    },
    {
      "cell_type": "markdown",
      "source": [
        "Thre big advantage of using map.async() is it can accept iterables in chunks."
      ],
      "metadata": {
        "id": "u2WL9aJH7peU"
      }
    },
    {
      "cell_type": "code",
      "source": [
        "lst = list(range(21))\n",
        "results = pool.map_async(square, lst, chunksize = 10).get()\n",
        "results"
      ],
      "metadata": {
        "colab": {
          "base_uri": "https://localhost:8080/"
        },
        "id": "61Fv2izu7oow",
        "outputId": "b42f9272-f361-4fbc-e089-ae5f5004592e"
      },
      "execution_count": null,
      "outputs": [
        {
          "output_type": "execute_result",
          "data": {
            "text/plain": [
              "[0,\n",
              " 1,\n",
              " 4,\n",
              " 9,\n",
              " 16,\n",
              " 25,\n",
              " 36,\n",
              " 49,\n",
              " 64,\n",
              " 81,\n",
              " 100,\n",
              " 121,\n",
              " 144,\n",
              " 169,\n",
              " 196,\n",
              " 225,\n",
              " 256,\n",
              " 289,\n",
              " 324,\n",
              " 361,\n",
              " 400]"
            ]
          },
          "metadata": {},
          "execution_count": 23
        }
      ]
    },
    {
      "cell_type": "markdown",
      "source": [
        "6. What is Python’s GIL?\n",
        "\n",
        "Python GIL (Global Interpreter Lock) ensures only a single thread can run at a time and prevents multiple threads from running simultaneously."
      ],
      "metadata": {
        "id": "m2dUA5n78gBk"
      }
    },
    {
      "cell_type": "markdown",
      "source": [
        "---"
      ],
      "metadata": {
        "id": "_2sIr7-U9Jy1"
      }
    },
    {
      "cell_type": "markdown",
      "source": [
        "7. Use joblib to parallel the above example, and use the multiprocessing as the backend."
      ],
      "metadata": {
        "id": "aclG6EHf9KuJ"
      }
    },
    {
      "cell_type": "code",
      "source": [
        "# !pip install joblib\n",
        "from joblib import Parallel, delayed\n",
        "import numpy as np"
      ],
      "metadata": {
        "id": "F8mJC2D0749e"
      },
      "execution_count": null,
      "outputs": []
    },
    {
      "cell_type": "code",
      "source": [
        "results = Parallel(n_jobs=mp.cpu_count(), backend = 'multiprocessing')(delayed(square)(x) for x in range(21))\n",
        "results"
      ],
      "metadata": {
        "colab": {
          "base_uri": "https://localhost:8080/"
        },
        "id": "RuJfS_em9QfF",
        "outputId": "4de9c1a5-b841-4e23-d6df-dc242fd0e431"
      },
      "execution_count": null,
      "outputs": [
        {
          "output_type": "execute_result",
          "data": {
            "text/plain": [
              "[0,\n",
              " 1,\n",
              " 4,\n",
              " 9,\n",
              " 16,\n",
              " 25,\n",
              " 36,\n",
              " 49,\n",
              " 64,\n",
              " 81,\n",
              " 100,\n",
              " 121,\n",
              " 144,\n",
              " 169,\n",
              " 196,\n",
              " 225,\n",
              " 256,\n",
              " 289,\n",
              " 324,\n",
              " 361,\n",
              " 400]"
            ]
          },
          "metadata": {},
          "execution_count": 27
        }
      ]
    }
  ]
}