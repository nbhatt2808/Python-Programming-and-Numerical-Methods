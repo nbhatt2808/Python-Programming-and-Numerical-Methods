{
  "nbformat": 4,
  "nbformat_minor": 0,
  "metadata": {
    "colab": {
      "provenance": []
    },
    "kernelspec": {
      "name": "python3",
      "display_name": "Python 3"
    },
    "language_info": {
      "name": "python"
    }
  },
  "cells": [
    {
      "cell_type": "markdown",
      "source": [
        "These are the exercise problems from the book Python programming and Numerical methods book:\n",
        "\n",
        "https://pythonnumericalmethods.berkeley.edu/notebooks/Index.html\n",
        "\n",
        "# Chapter 2: Variables and Basic Data Structures\n",
        "\n",
        "https://pythonnumericalmethods.berkeley.edu/notebooks/chapter02.08-Summary-and-Problems.html\n",
        "\n",
        "Only those problems that need to be solved in a notebook environment"
      ],
      "metadata": {
        "id": "1VOvHo5UaVXA"
      }
    },
    {
      "cell_type": "markdown",
      "source": [
        "1. Assign the value 2 to the variable x and the value 3 to the variable y. Clear just the variable x."
      ],
      "metadata": {
        "id": "zYDIOA7gaYFG"
      }
    },
    {
      "cell_type": "code",
      "execution_count": 1,
      "metadata": {
        "id": "-n84lDtHZGNG"
      },
      "outputs": [],
      "source": [
        "x = 2\n",
        "y = 3\n",
        "del x"
      ]
    },
    {
      "cell_type": "markdown",
      "source": [
        "2. Write a line of code that generates the following error:\n",
        "\n",
        "NameError: name 'x' is not defined"
      ],
      "metadata": {
        "id": "pLqFuRYoak0R"
      }
    },
    {
      "cell_type": "code",
      "source": [
        "x"
      ],
      "metadata": {
        "colab": {
          "base_uri": "https://localhost:8080/",
          "height": 166
        },
        "id": "MyXu4K6uahOk",
        "outputId": "111670bd-46e7-413f-a28f-23322d9b0f29"
      },
      "execution_count": 2,
      "outputs": [
        {
          "output_type": "error",
          "ename": "NameError",
          "evalue": "ignored",
          "traceback": [
            "\u001b[0;31m---------------------------------------------------------------------------\u001b[0m",
            "\u001b[0;31mNameError\u001b[0m                                 Traceback (most recent call last)",
            "\u001b[0;32m<ipython-input-2-6fcf9dfbd479>\u001b[0m in \u001b[0;36m<module>\u001b[0;34m\u001b[0m\n\u001b[0;32m----> 1\u001b[0;31m \u001b[0mx\u001b[0m\u001b[0;34m\u001b[0m\u001b[0;34m\u001b[0m\u001b[0m\n\u001b[0m",
            "\u001b[0;31mNameError\u001b[0m: name 'x' is not defined"
          ]
        }
      ]
    },
    {
      "cell_type": "markdown",
      "source": [
        "3. Let x = 10 and y = 3. Write a line of code that will make each of the following assignments.\n",
        "\n",
        "<pre>\n",
        "u = x + y \n",
        "v = xy\n",
        "w = x/y\n",
        "z = sin(x)\n",
        "r = 8sin(x) \n",
        "s = 5sin(xy)\n",
        "p = x**y\n",
        "</pre>"
      ],
      "metadata": {
        "id": "9Vc97Hqla73I"
      }
    },
    {
      "cell_type": "code",
      "source": [
        "import math\n",
        "\n",
        "x = 10\n",
        "y = 3\n",
        "\n",
        "u = x + y\n",
        "v = x*y\n",
        "w = x/y\n",
        "z = math.sin(x)\n",
        "r = 8*math.sin(x) \n",
        "s = 5*math.sin(x*y)\n",
        "p = x**y"
      ],
      "metadata": {
        "id": "dvFGVqViaq8Y"
      },
      "execution_count": 12,
      "outputs": []
    },
    {
      "cell_type": "markdown",
      "source": [
        "4. Show all the variables in the Jupyter notebook after you finish problem 3."
      ],
      "metadata": {
        "id": "tL2wtz4pbZIw"
      }
    },
    {
      "cell_type": "code",
      "source": [
        "%whos"
      ],
      "metadata": {
        "colab": {
          "base_uri": "https://localhost:8080/"
        },
        "id": "_O0swSUubQC4",
        "outputId": "8d48d277-8c71-439b-abc4-1a3c7f4361a1"
      },
      "execution_count": 13,
      "outputs": [
        {
          "output_type": "stream",
          "name": "stdout",
          "text": [
            "Variable   Type      Data/Info\n",
            "------------------------------\n",
            "list_a     list      n=6\n",
            "math       module    <module 'math' (built-in)>\n",
            "p          int       1000\n",
            "r          float     -4.352168887114958\n",
            "s          float     -4.940158120464309\n",
            "sent       str       Python is great!\n",
            "set_a      tuple     n=3\n",
            "set_b      tuple     n=3\n",
            "tuple_a    tuple     n=2\n",
            "u          int       13\n",
            "v          int       30\n",
            "w          float     3.3333333333333335\n",
            "word       str       great\n",
            "x          int       10\n",
            "y          int       3\n",
            "z          float     -0.5440211108893698\n"
          ]
        }
      ]
    },
    {
      "cell_type": "markdown",
      "source": [
        "5. Assign string ‘123’ to the variable S. Convert the string into a float type and assign the output to the variable N. Verify that S is a string and N is a float using the __type__ function."
      ],
      "metadata": {
        "id": "6X6zXxS_bl0F"
      }
    },
    {
      "cell_type": "code",
      "source": [
        "S = '123'\n",
        "N = float(S)\n",
        "\n",
        "print(type(S))\n",
        "print(type(N))"
      ],
      "metadata": {
        "colab": {
          "base_uri": "https://localhost:8080/"
        },
        "id": "7RwNWb7SbmtQ",
        "outputId": "7813b915-0d0d-41d0-ec64-ba97d6743034"
      },
      "execution_count": 14,
      "outputs": [
        {
          "output_type": "stream",
          "name": "stdout",
          "text": [
            "<class 'str'>\n",
            "<class 'float'>\n"
          ]
        }
      ]
    },
    {
      "cell_type": "code",
      "source": [
        "type(S)"
      ],
      "metadata": {
        "colab": {
          "base_uri": "https://localhost:8080/"
        },
        "id": "uhBh1aFwbvFn",
        "outputId": "1b6aa9e8-58d1-4d5e-b7ea-3daca989c115"
      },
      "execution_count": 15,
      "outputs": [
        {
          "output_type": "execute_result",
          "data": {
            "text/plain": [
              "str"
            ]
          },
          "metadata": {},
          "execution_count": 15
        }
      ]
    },
    {
      "cell_type": "code",
      "source": [
        "type(N)"
      ],
      "metadata": {
        "colab": {
          "base_uri": "https://localhost:8080/"
        },
        "id": "PXzTUHWibzvo",
        "outputId": "72527c93-6141-45da-a4ca-26a183df7dc7"
      },
      "execution_count": 16,
      "outputs": [
        {
          "output_type": "execute_result",
          "data": {
            "text/plain": [
              "float"
            ]
          },
          "metadata": {},
          "execution_count": 16
        }
      ]
    },
    {
      "cell_type": "markdown",
      "source": [
        "6. Assign the string ‘HELLO’ to the variable s1 and the string ‘hello’ to the variable s2. Use the == operator to show that they are not equal. Use the == operator to show that s1 and s2 are equal if the lower method is used on s1. Use the == operator to show that s1 and s2 are equal if upper method is used on s2."
      ],
      "metadata": {
        "id": "GtirSKZeb11g"
      }
    },
    {
      "cell_type": "code",
      "source": [
        "s1 = 'HELLO'\n",
        "s2 = 'hello'\n",
        "\n",
        "print(s1 == s2) # not equal \n",
        "print(s1.lower() == s2) # equal when s1 is lower case\n",
        "print(s1 == s2.upper()) # equal when s2 is upper case"
      ],
      "metadata": {
        "colab": {
          "base_uri": "https://localhost:8080/"
        },
        "id": "lXhoO7KGb0vv",
        "outputId": "27afef05-2e6b-4ae8-ffa3-c16775e67e45"
      },
      "execution_count": 17,
      "outputs": [
        {
          "output_type": "stream",
          "name": "stdout",
          "text": [
            "False\n",
            "True\n",
            "True\n"
          ]
        }
      ]
    },
    {
      "cell_type": "markdown",
      "source": [
        "7. Use the print function to generate the following strings.\n",
        "\n",
        "- The word ‘Engineering’ has 11 letters.\n",
        "\n",
        "- The word ‘Book’ has 4 letters."
      ],
      "metadata": {
        "id": "6Inw5fyKc-Es"
      }
    },
    {
      "cell_type": "code",
      "source": [
        "print(f\"The word 'Engineering' has {len('Engineering')} letters.\")\n",
        "print(f\"The word 'Book' has {len('Book')} letters.\")"
      ],
      "metadata": {
        "colab": {
          "base_uri": "https://localhost:8080/"
        },
        "id": "rxgdcReJcfvw",
        "outputId": "f94f1494-ab6f-48ef-ffb5-51d7ea71161f"
      },
      "execution_count": 18,
      "outputs": [
        {
          "output_type": "stream",
          "name": "stdout",
          "text": [
            "The word 'Engineering' has 11 letters.\n",
            "The word 'Book' has 4 letters.\n"
          ]
        }
      ]
    },
    {
      "cell_type": "markdown",
      "source": [
        "8. Check if 'Python' is in \"Python is great!\"."
      ],
      "metadata": {
        "id": "Z-ha8vFuktjm"
      }
    },
    {
      "cell_type": "code",
      "source": [
        "'Python' in 'Python is great!'"
      ],
      "metadata": {
        "colab": {
          "base_uri": "https://localhost:8080/"
        },
        "id": "O53Q7A3_fuwv",
        "outputId": "d1cc9aa0-d90a-47c7-8354-82dd8a65a75e"
      },
      "execution_count": 19,
      "outputs": [
        {
          "output_type": "execute_result",
          "data": {
            "text/plain": [
              "True"
            ]
          },
          "metadata": {},
          "execution_count": 19
        }
      ]
    },
    {
      "cell_type": "markdown",
      "source": [
        "9. Get the last word 'great' from 'Python is great!'"
      ],
      "metadata": {
        "id": "TAi24o_2Pyyt"
      }
    },
    {
      "cell_type": "code",
      "source": [
        "sent = 'Python is great!'\n",
        "word = 'great'\n",
        "\n",
        "sent[sent.find(word):(sent.find(word) + len(word))]"
      ],
      "metadata": {
        "colab": {
          "base_uri": "https://localhost:8080/",
          "height": 35
        },
        "id": "YEhv--DDP6J_",
        "outputId": "7492ad94-da85-46e2-f296-a1193fd80a89"
      },
      "execution_count": 20,
      "outputs": [
        {
          "output_type": "execute_result",
          "data": {
            "text/plain": [
              "'great'"
            ],
            "application/vnd.google.colaboratory.intrinsic+json": {
              "type": "string"
            }
          },
          "metadata": {},
          "execution_count": 20
        }
      ]
    },
    {
      "cell_type": "code",
      "source": [
        "# alternate way \n",
        "sent.split(' ')[-1]"
      ],
      "metadata": {
        "colab": {
          "base_uri": "https://localhost:8080/",
          "height": 35
        },
        "id": "b4eJag2vS2bD",
        "outputId": "e6480a28-3b90-4aff-8b4d-a678f187b5eb"
      },
      "execution_count": 21,
      "outputs": [
        {
          "output_type": "execute_result",
          "data": {
            "text/plain": [
              "'great!'"
            ],
            "application/vnd.google.colaboratory.intrinsic+json": {
              "type": "string"
            }
          },
          "metadata": {},
          "execution_count": 21
        }
      ]
    },
    {
      "cell_type": "markdown",
      "source": [
        "10. Assign list [1, 8, 9, 15] to a variable list_a and insert 2 at index 1 using the insert method. Append 4 to the list_a using the append method."
      ],
      "metadata": {
        "id": "_RiGIUEiTKIe"
      }
    },
    {
      "cell_type": "code",
      "source": [
        "list_a = [1,8,9,15]\n",
        "print(list_a)\n",
        "\n",
        "list_a.insert(1,2) # inserting 2 at index 1. expect 2 between 1 and 9\n",
        "print(list_a)\n",
        "\n",
        "list_a.append(4) # append 4 to list_a at the end.\n",
        "print(list_a)"
      ],
      "metadata": {
        "colab": {
          "base_uri": "https://localhost:8080/"
        },
        "id": "DPxOR17KS58z",
        "outputId": "2b411972-c0a1-481b-b5f5-3623e38fb3f7"
      },
      "execution_count": 22,
      "outputs": [
        {
          "output_type": "stream",
          "name": "stdout",
          "text": [
            "[1, 8, 9, 15]\n",
            "[1, 2, 8, 9, 15]\n",
            "[1, 2, 8, 9, 15, 4]\n"
          ]
        }
      ]
    },
    {
      "cell_type": "markdown",
      "source": [
        "11. Sort the list_a in problem 10 in ascending order."
      ],
      "metadata": {
        "id": "D2KMc9HjWSQ5"
      }
    },
    {
      "cell_type": "code",
      "source": [
        "sorted(list_a)"
      ],
      "metadata": {
        "colab": {
          "base_uri": "https://localhost:8080/"
        },
        "id": "kEJAZPmZWH6S",
        "outputId": "bc40b248-b087-4560-985c-f368a53e92a8"
      },
      "execution_count": 23,
      "outputs": [
        {
          "output_type": "execute_result",
          "data": {
            "text/plain": [
              "[1, 2, 4, 8, 9, 15]"
            ]
          },
          "metadata": {},
          "execution_count": 23
        }
      ]
    },
    {
      "cell_type": "markdown",
      "source": [
        "12. Turn 'Python is great!' to a list."
      ],
      "metadata": {
        "id": "jqcT_BBEWeeA"
      }
    },
    {
      "cell_type": "code",
      "source": [
        "sent = 'Python is great!'\n",
        "\n",
        "sent.split()"
      ],
      "metadata": {
        "colab": {
          "base_uri": "https://localhost:8080/"
        },
        "id": "ntacId7uWg3J",
        "outputId": "5f0e55af-36de-4db5-fef9-4a5078185824"
      },
      "execution_count": 24,
      "outputs": [
        {
          "output_type": "execute_result",
          "data": {
            "text/plain": [
              "['Python', 'is', 'great!']"
            ]
          },
          "metadata": {},
          "execution_count": 24
        }
      ]
    },
    {
      "cell_type": "markdown",
      "source": [
        "13. Create one tuple with element 'One', 1 and assign it to tuple_a."
      ],
      "metadata": {
        "id": "gkRDk40qYfSG"
      }
    },
    {
      "cell_type": "code",
      "source": [
        "tuple_a = tuple(('One', 1))\n",
        "\n",
        "type(tuple_a)"
      ],
      "metadata": {
        "colab": {
          "base_uri": "https://localhost:8080/"
        },
        "id": "njEOHLVSWmpB",
        "outputId": "a00c0823-8a2c-497b-db5b-94a3865de36e"
      },
      "execution_count": 25,
      "outputs": [
        {
          "output_type": "execute_result",
          "data": {
            "text/plain": [
              "tuple"
            ]
          },
          "metadata": {},
          "execution_count": 25
        }
      ]
    },
    {
      "cell_type": "markdown",
      "source": [
        "14. Get the 2nd element in the tuple_a in problem 13."
      ],
      "metadata": {
        "id": "qWXyA44nbk5X"
      }
    },
    {
      "cell_type": "code",
      "source": [
        "tuple_a[1]"
      ],
      "metadata": {
        "colab": {
          "base_uri": "https://localhost:8080/"
        },
        "id": "jIGYETlObgvI",
        "outputId": "4a712d89-6d24-4ae6-82e5-9f509cd62fce"
      },
      "execution_count": 26,
      "outputs": [
        {
          "output_type": "execute_result",
          "data": {
            "text/plain": [
              "1"
            ]
          },
          "metadata": {},
          "execution_count": 26
        }
      ]
    },
    {
      "cell_type": "markdown",
      "source": [
        "15. Get the unique element from (2, 3, 2, 3, 1, 2, 5)."
      ],
      "metadata": {
        "id": "1QjL0Xxfb6t7"
      }
    },
    {
      "cell_type": "code",
      "source": [
        "set((2, 3, 2, 3, 1, 2, 5))"
      ],
      "metadata": {
        "colab": {
          "base_uri": "https://localhost:8080/"
        },
        "id": "PI5J1Zfsbupg",
        "outputId": "f1dc10b0-f504-4db2-c58e-015b59f328f3"
      },
      "execution_count": 27,
      "outputs": [
        {
          "output_type": "execute_result",
          "data": {
            "text/plain": [
              "{1, 2, 3, 5}"
            ]
          },
          "metadata": {},
          "execution_count": 27
        }
      ]
    },
    {
      "cell_type": "markdown",
      "source": [
        "16. Assign (2, 3, 2) to set_a, and (1, 2, 3) to set_b. Get the following:\n",
        "\n",
        "- union of set_a and set_b\n",
        "\n",
        "- intersection of set_a and set_b\n",
        "\n",
        "- difference of set_a to set_b using difference method"
      ],
      "metadata": {
        "id": "2nFQkcgob_bk"
      }
    },
    {
      "cell_type": "code",
      "source": [
        "set_a = (2, 3, 2)\n",
        "set_b = (1, 2, 3)\n",
        "\n",
        "print(set(set_a).union( set(set_b) ))\n",
        "print(set(set_a).intersection( set(set_b) ))\n",
        "print(set(set_b).difference( set(set_a) ))"
      ],
      "metadata": {
        "colab": {
          "base_uri": "https://localhost:8080/"
        },
        "id": "gTER5cmhb-f_",
        "outputId": "60c4e048-177d-4d42-ff08-203481b8e8f9"
      },
      "execution_count": 28,
      "outputs": [
        {
          "output_type": "stream",
          "name": "stdout",
          "text": [
            "{1, 2, 3}\n",
            "{2, 3}\n",
            "{1}\n"
          ]
        }
      ]
    },
    {
      "cell_type": "markdown",
      "source": [
        "17. Create a dictionary that has the keys 'A', 'B', 'C' with values 'a', 'b', 'c' individually. Print all the keys in the dictionary.\n",
        "\n",
        "\n"
      ],
      "metadata": {
        "id": "We2j3BetDAP6"
      }
    },
    {
      "cell_type": "code",
      "source": [
        "dict1 = {'A': 'a', 'B': 'b', 'C': 'c'}\n",
        "dict1.keys()"
      ],
      "metadata": {
        "colab": {
          "base_uri": "https://localhost:8080/"
        },
        "id": "uAt77sdRGCAK",
        "outputId": "3f214d3b-a8a7-4271-b28f-13ae33153417"
      },
      "execution_count": 29,
      "outputs": [
        {
          "output_type": "execute_result",
          "data": {
            "text/plain": [
              "dict_keys(['A', 'B', 'C'])"
            ]
          },
          "metadata": {},
          "execution_count": 29
        }
      ]
    },
    {
      "cell_type": "markdown",
      "source": [
        "18. Check if key 'B' is in the dictionary defined in problem 17."
      ],
      "metadata": {
        "id": "7RH6JlMvGJs_"
      }
    },
    {
      "cell_type": "code",
      "source": [
        "'B' in dict1"
      ],
      "metadata": {
        "colab": {
          "base_uri": "https://localhost:8080/"
        },
        "id": "zYMPIeJ3GIaN",
        "outputId": "42600875-8307-4ab9-a49b-a9dfa34f1ae9"
      },
      "execution_count": 30,
      "outputs": [
        {
          "output_type": "execute_result",
          "data": {
            "text/plain": [
              "True"
            ]
          },
          "metadata": {},
          "execution_count": 30
        }
      ]
    },
    {
      "cell_type": "markdown",
      "source": [
        "19. Create array x and y, where x = [1, 4, 3, 2, 9, 4] and y=[2, 3, 4, 1, 2, 3]. Compute the assignments from Problem 3."
      ],
      "metadata": {
        "id": "n-Pit2sMGwtJ"
      }
    },
    {
      "cell_type": "code",
      "source": [
        "import numpy as np\n",
        "\n",
        "x = np.array([1, 4, 3, 2, 9, 4])\n",
        "y = np.array([2, 3, 4, 1, 2, 3])\n",
        "\n",
        "u = x + y\n",
        "v = x*y\n",
        "w = x/y\n",
        "z = np.sin(x)\n",
        "r = 8*np.sin(x) \n",
        "s = 5*np.sin(x*y)\n",
        "p = x**y"
      ],
      "metadata": {
        "id": "7qM5q-yVGu6v"
      },
      "execution_count": 33,
      "outputs": []
    },
    {
      "cell_type": "markdown",
      "source": [
        "20. Generate an array with size 100 evenly spaced between -10 to 10 using linspace function in Numpy.\n",
        "\n"
      ],
      "metadata": {
        "id": "FhnoN__ZID7i"
      }
    },
    {
      "cell_type": "code",
      "source": [
        "np.linspace(-10,10,100)"
      ],
      "metadata": {
        "colab": {
          "base_uri": "https://localhost:8080/"
        },
        "id": "tTbyuj5oHfqX",
        "outputId": "96187dcb-11e7-4c42-bdbf-5c480e3153b5"
      },
      "execution_count": 36,
      "outputs": [
        {
          "output_type": "execute_result",
          "data": {
            "text/plain": [
              "array([-10.        ,  -9.7979798 ,  -9.5959596 ,  -9.39393939,\n",
              "        -9.19191919,  -8.98989899,  -8.78787879,  -8.58585859,\n",
              "        -8.38383838,  -8.18181818,  -7.97979798,  -7.77777778,\n",
              "        -7.57575758,  -7.37373737,  -7.17171717,  -6.96969697,\n",
              "        -6.76767677,  -6.56565657,  -6.36363636,  -6.16161616,\n",
              "        -5.95959596,  -5.75757576,  -5.55555556,  -5.35353535,\n",
              "        -5.15151515,  -4.94949495,  -4.74747475,  -4.54545455,\n",
              "        -4.34343434,  -4.14141414,  -3.93939394,  -3.73737374,\n",
              "        -3.53535354,  -3.33333333,  -3.13131313,  -2.92929293,\n",
              "        -2.72727273,  -2.52525253,  -2.32323232,  -2.12121212,\n",
              "        -1.91919192,  -1.71717172,  -1.51515152,  -1.31313131,\n",
              "        -1.11111111,  -0.90909091,  -0.70707071,  -0.50505051,\n",
              "        -0.3030303 ,  -0.1010101 ,   0.1010101 ,   0.3030303 ,\n",
              "         0.50505051,   0.70707071,   0.90909091,   1.11111111,\n",
              "         1.31313131,   1.51515152,   1.71717172,   1.91919192,\n",
              "         2.12121212,   2.32323232,   2.52525253,   2.72727273,\n",
              "         2.92929293,   3.13131313,   3.33333333,   3.53535354,\n",
              "         3.73737374,   3.93939394,   4.14141414,   4.34343434,\n",
              "         4.54545455,   4.74747475,   4.94949495,   5.15151515,\n",
              "         5.35353535,   5.55555556,   5.75757576,   5.95959596,\n",
              "         6.16161616,   6.36363636,   6.56565657,   6.76767677,\n",
              "         6.96969697,   7.17171717,   7.37373737,   7.57575758,\n",
              "         7.77777778,   7.97979798,   8.18181818,   8.38383838,\n",
              "         8.58585859,   8.78787879,   8.98989899,   9.19191919,\n",
              "         9.39393939,   9.5959596 ,   9.7979798 ,  10.        ])"
            ]
          },
          "metadata": {},
          "execution_count": 36
        }
      ]
    },
    {
      "cell_type": "markdown",
      "source": [
        "21. Let array_a be an array [-1, 0, 1, 2, 0, 3]. Write a command that will return an array consisting of all the elements of array_a that are larger than zero. Hint: Use logical expression as the index of the array."
      ],
      "metadata": {
        "id": "HhfrEQj9IONp"
      }
    },
    {
      "cell_type": "code",
      "source": [
        "array_a = np.array([-1, 0, 1, 2, 0, 3])\n",
        "\n",
        "array_a[array_a > 0]"
      ],
      "metadata": {
        "colab": {
          "base_uri": "https://localhost:8080/"
        },
        "id": "pLAV3LJDIJWW",
        "outputId": "3531a4cd-c260-4d97-a92c-e9523d1d7a97"
      },
      "execution_count": 37,
      "outputs": [
        {
          "output_type": "execute_result",
          "data": {
            "text/plain": [
              "array([1, 2, 3])"
            ]
          },
          "metadata": {},
          "execution_count": 37
        }
      ]
    },
    {
      "cell_type": "markdown",
      "source": [
        "22. Create an array y = $\\begin{bmatrix}3 & 5 & 3\\\\2 & 2 & 5\\\\3 & 8 & 9\\end{bmatrix}$ and calculate the transpose of the array."
      ],
      "metadata": {
        "id": "qS2KAzisIdp3"
      }
    },
    {
      "cell_type": "code",
      "source": [
        "y = np.array([[3,5,3], [2,2,5], [3,8,9]])\n",
        "\n",
        "print(y)\n",
        "print()\n",
        "print(y.T)"
      ],
      "metadata": {
        "colab": {
          "base_uri": "https://localhost:8080/"
        },
        "id": "rJKwaNaWIa4_",
        "outputId": "53d2125c-bcc4-48f4-cccb-8f47c24e3185"
      },
      "execution_count": 39,
      "outputs": [
        {
          "output_type": "stream",
          "name": "stdout",
          "text": [
            "[[3 5 3]\n",
            " [2 2 5]\n",
            " [3 8 9]]\n",
            "\n",
            "[[3 2 3]\n",
            " [5 2 8]\n",
            " [3 5 9]]\n"
          ]
        }
      ]
    },
    {
      "cell_type": "markdown",
      "source": [
        "23. Create a 2 x 4 zero array."
      ],
      "metadata": {
        "id": "wMBrnbRTKfz1"
      }
    },
    {
      "cell_type": "code",
      "source": [
        "A = np.zeros((2,4))\n",
        "A"
      ],
      "metadata": {
        "colab": {
          "base_uri": "https://localhost:8080/"
        },
        "id": "zwzAFXgwJvUH",
        "outputId": "f7c16572-ecc5-4964-9629-77bbdf132bec"
      },
      "execution_count": 41,
      "outputs": [
        {
          "output_type": "execute_result",
          "data": {
            "text/plain": [
              "array([[0., 0., 0., 0.],\n",
              "       [0., 0., 0., 0.]])"
            ]
          },
          "metadata": {},
          "execution_count": 41
        }
      ]
    },
    {
      "cell_type": "markdown",
      "source": [
        "24. Change the 2nd column in the above array to 1."
      ],
      "metadata": {
        "id": "6u80j15DK4E0"
      }
    },
    {
      "cell_type": "code",
      "source": [
        "A[:,1] = 1\n",
        "A"
      ],
      "metadata": {
        "colab": {
          "base_uri": "https://localhost:8080/"
        },
        "id": "hs4B3C4jKxdF",
        "outputId": "a0bda5e6-6be2-4ff9-837c-fa7d8eb1ed28"
      },
      "execution_count": 43,
      "outputs": [
        {
          "output_type": "execute_result",
          "data": {
            "text/plain": [
              "array([[0., 1., 0., 0.],\n",
              "       [0., 1., 0., 0.]])"
            ]
          },
          "metadata": {},
          "execution_count": 43
        }
      ]
    },
    {
      "cell_type": "markdown",
      "source": [
        "25. Write a cell magic to clear all the variables in the Jupyter notebook."
      ],
      "metadata": {
        "id": "lgbk64wKLBGr"
      }
    },
    {
      "cell_type": "code",
      "source": [
        "%whos"
      ],
      "metadata": {
        "colab": {
          "base_uri": "https://localhost:8080/"
        },
        "id": "Q1Yqi3PMLlZi",
        "outputId": "6101c203-b027-47a9-d99d-421b7b575f5f"
      },
      "execution_count": 45,
      "outputs": [
        {
          "output_type": "stream",
          "name": "stdout",
          "text": [
            "Variable   Type       Data/Info\n",
            "-------------------------------\n",
            "A          ndarray    2x4: 8 elems, type `float64`, 64 bytes\n",
            "N          float      123.0\n",
            "S          str        123\n",
            "array_a    ndarray    6: 6 elems, type `int64`, 48 bytes\n",
            "dict1      dict       n=3\n",
            "list_a     list       n=6\n",
            "math       module     <module 'math' (built-in)>\n",
            "np         module     <module 'numpy' from '/us<...>kages/numpy/__init__.py'>\n",
            "p          ndarray    6: 6 elems, type `int64`, 48 bytes\n",
            "r          ndarray    6: 6 elems, type `float64`, 48 bytes\n",
            "s          ndarray    6: 6 elems, type `float64`, 48 bytes\n",
            "s1         str        HELLO\n",
            "s2         str        hello\n",
            "sent       str        Python is great!\n",
            "set_a      tuple      n=3\n",
            "set_b      tuple      n=3\n",
            "tuple_a    tuple      n=2\n",
            "u          ndarray    6: 6 elems, type `int64`, 48 bytes\n",
            "v          ndarray    6: 6 elems, type `int64`, 48 bytes\n",
            "w          ndarray    6: 6 elems, type `float64`, 48 bytes\n",
            "word       str        great\n",
            "x          ndarray    6: 6 elems, type `int64`, 48 bytes\n",
            "y          ndarray    3x3: 9 elems, type `int64`, 72 bytes\n",
            "z          ndarray    6: 6 elems, type `float64`, 48 bytes\n"
          ]
        }
      ]
    },
    {
      "cell_type": "code",
      "source": [
        "%reset"
      ],
      "metadata": {
        "colab": {
          "base_uri": "https://localhost:8080/"
        },
        "id": "HYKofgV3K8WC",
        "outputId": "e7b2e948-a2bb-453d-cc3c-b38830c9708b"
      },
      "execution_count": 46,
      "outputs": [
        {
          "name": "stdout",
          "output_type": "stream",
          "text": [
            "Once deleted, variables cannot be recovered. Proceed (y/[n])? y\n"
          ]
        }
      ]
    },
    {
      "cell_type": "code",
      "source": [
        "%whos"
      ],
      "metadata": {
        "colab": {
          "base_uri": "https://localhost:8080/"
        },
        "id": "RzJRKo3LLnXN",
        "outputId": "611d58f3-07a8-46fe-e4c1-8e971f1ce768"
      },
      "execution_count": 47,
      "outputs": [
        {
          "output_type": "stream",
          "name": "stdout",
          "text": [
            "Interactive namespace is empty.\n"
          ]
        }
      ]
    }
  ]
}