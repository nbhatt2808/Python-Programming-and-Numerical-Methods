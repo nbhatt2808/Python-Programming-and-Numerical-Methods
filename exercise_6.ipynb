{
  "nbformat": 4,
  "nbformat_minor": 0,
  "metadata": {
    "colab": {
      "provenance": []
    },
    "kernelspec": {
      "name": "python3",
      "display_name": "Python 3"
    },
    "language_info": {
      "name": "python"
    }
  },
  "cells": [
    {
      "cell_type": "markdown",
      "source": [
        "These are the exercise problems from the book Python programming and Numerical methods book:\n",
        "\n",
        "https://pythonnumericalmethods.berkeley.edu/notebooks/Index.html\n",
        "\n",
        "# Chapter 6: Recursion\n",
        "\n",
        "https://pythonnumericalmethods.berkeley.edu/notebooks/chapter06.03-Summary-and-Problems.html#problems\n",
        "\n",
        "Only those problems that need to be solved in a notebook environment"
      ],
      "metadata": {
        "id": "OQsDvIoh8ke6"
      }
    },
    {
      "cell_type": "markdown",
      "source": [
        "1. Write a function my_sum(lst) where lst is a list, and the output is the sum of all the elements of lst. You can use recursion or iteration to solve the problem, but do not use Python’s function sum."
      ],
      "metadata": {
        "id": "iLzH0o2S8_Jf"
      }
    },
    {
      "cell_type": "markdown",
      "source": [
        "Iteration"
      ],
      "metadata": {
        "id": "xHqyfshk-7b7"
      }
    },
    {
      "cell_type": "code",
      "execution_count": 1,
      "metadata": {
        "id": "c3P-SWtM8eCg"
      },
      "outputs": [],
      "source": [
        "def my_sum(lst):\n",
        "\n",
        "  sum_val = 0\n",
        "\n",
        "  for num in lst:\n",
        "    sum_val += num\n",
        "\n",
        "  return sum_val"
      ]
    },
    {
      "cell_type": "code",
      "source": [
        "# Output: 6\n",
        "my_sum([1, 2, 3])"
      ],
      "metadata": {
        "colab": {
          "base_uri": "https://localhost:8080/"
        },
        "id": "R_q6qEfcILx2",
        "outputId": "f3921e28-945c-41ae-a840-030b40ac049c"
      },
      "execution_count": 2,
      "outputs": [
        {
          "output_type": "execute_result",
          "data": {
            "text/plain": [
              "6"
            ]
          },
          "metadata": {},
          "execution_count": 2
        }
      ]
    },
    {
      "cell_type": "code",
      "source": [
        "# Output: 5050\n",
        "my_sum(range(1,101))"
      ],
      "metadata": {
        "colab": {
          "base_uri": "https://localhost:8080/"
        },
        "id": "G1C6OXJFINp5",
        "outputId": "4e6452ae-aff5-4502-add7-73438ed745a3"
      },
      "execution_count": 3,
      "outputs": [
        {
          "output_type": "execute_result",
          "data": {
            "text/plain": [
              "5050"
            ]
          },
          "metadata": {},
          "execution_count": 3
        }
      ]
    },
    {
      "cell_type": "markdown",
      "source": [
        "Recursion"
      ],
      "metadata": {
        "id": "Q-JBX6kAIQUm"
      }
    },
    {
      "cell_type": "code",
      "source": [
        "def my_sum(lst):\n",
        "\n",
        "  # base case: just return the first value as is if list contains only one element\n",
        "  if len(lst) == 1:\n",
        "    return lst[0]\n",
        "\n",
        "  # else take the first element and add it by the sum of all other elements\n",
        "  else:\n",
        "    return lst[0] + my_sum(lst[1:])"
      ],
      "metadata": {
        "id": "pf_WVcoWIPmJ"
      },
      "execution_count": 4,
      "outputs": []
    },
    {
      "cell_type": "markdown",
      "source": [
        "Recursion breakdown of the function:\n",
        "\n",
        "input: [1,2,3]\n",
        "\n",
        "Here, it will look at the list [1,2,3] and since its length is not 1, it will go into the else block.\n",
        "\n",
        "__solution will be:__ <br>\n",
        "__s1 = lst[0] + my_sum([lst[1:]])= 1 + my_sum([2,3])__ \n",
        "\n",
        "now it will wait till it has the solution to my_sum([2,3]).\n",
        "\n",
        "it will again check the if condition and since its length is not 1, it will again get into the else block.\n",
        "\n",
        "__solution will be:__ <br>\n",
        "__s2 = lst[0] + my_sum([lst[1:]]) = 2 + my_sum([3])__\n",
        "\n",
        "now it will wait for result of my_sum([3])\n",
        "\n",
        "here length of the list [3] is 1 and thus it returns 3.\n",
        "\n",
        "so now it will go and replace that value in s2.\n",
        "\n",
        "__s2 = 2 + 3 = 5__\n",
        "\n",
        "Finally, it will substitute 5 in s1.\n",
        "\n",
        "__s1 = 1 + 5 = 6__"
      ],
      "metadata": {
        "id": "6QWN4OpIThVK"
      }
    },
    {
      "cell_type": "code",
      "source": [
        "# Output: 6\n",
        "my_sum([1, 2, 3])"
      ],
      "metadata": {
        "colab": {
          "base_uri": "https://localhost:8080/"
        },
        "id": "znqlEI1rRR6K",
        "outputId": "d8fc53f1-326a-46ab-d8eb-c9bd2711616f"
      },
      "execution_count": 5,
      "outputs": [
        {
          "output_type": "execute_result",
          "data": {
            "text/plain": [
              "6"
            ]
          },
          "metadata": {},
          "execution_count": 5
        }
      ]
    },
    {
      "cell_type": "code",
      "source": [
        "# Output: 5050\n",
        "my_sum(range(1,101))"
      ],
      "metadata": {
        "colab": {
          "base_uri": "https://localhost:8080/"
        },
        "id": "xvP30UCCS2Fm",
        "outputId": "12c3948c-342a-4cf1-afd9-7e908ce3c199"
      },
      "execution_count": 6,
      "outputs": [
        {
          "output_type": "execute_result",
          "data": {
            "text/plain": [
              "5050"
            ]
          },
          "metadata": {},
          "execution_count": 6
        }
      ]
    },
    {
      "cell_type": "markdown",
      "source": [
        "2. Chebyshev polynomials are defined recursively. Chebyshev polynomials are separated into two kinds: first and second. Chebyshev polynomials of the first kind, 𝑇𝑛(𝑥), and of the second kind, 𝑈𝑛(𝑥), are defined by the following recurrence relations:\n",
        "\n",
        "$$T_n(x) = \\left\\{\n",
        "\\begin{array}{ll}\n",
        "      1 & if & n = 0 \\\\\n",
        "      x & if & n = 1 \\\\\n",
        "      2xT_{n-1}(x) - T_{n-2}(x) &  & otherwise\n",
        "\\end{array}\n",
        "\\right.    $$ \n",
        "\n",
        "$$U_n(x) = \\left\\{\n",
        "\\begin{array}{ll}\n",
        "      1 & if & n = 0 \\\\\n",
        "      2x & if & n = 1 \\\\\n",
        "      2xU_{n-1}(x) - U_{n-2}(x) &  & otherwise\n",
        "\\end{array}\n",
        "\\right.    $$ \n",
        "\n",
        "<br><br>\n",
        "\n",
        "Write a function my_chebyshev_poly1(n,x), where the output y is the n-th Chebyshev polynomial of the first kind evaluated at x. Be sure your function can take list inputs for x. You may assume that x is a list. The output variable, y, must be a list also."
      ],
      "metadata": {
        "id": "kmtd1dPzTSdH"
      }
    },
    {
      "cell_type": "code",
      "source": [
        "def my_chebyshev_poly1(n,x):\n",
        "\n",
        "  # first base case: return a list of ones of the same size as x if n == 0\n",
        "  if n == 0:\n",
        "    return [1]*len(x)\n",
        "\n",
        "  # second base case: return x as is if n == 1\n",
        "  elif n == 1:\n",
        "    return x\n",
        "\n",
        "  # recursive case: return solutions using the formula provided above\n",
        "  else:\n",
        "    return [2*x[idx]*my_chebyshev_poly1(n-1,x)[idx] - my_chebyshev_poly1(n-2,x)[idx] for idx in range(len(x))]"
      ],
      "metadata": {
        "id": "leY2R2nES4Df"
      },
      "execution_count": 7,
      "outputs": []
    },
    {
      "cell_type": "code",
      "source": [
        "x = [1, 2, 3, 4, 5]"
      ],
      "metadata": {
        "id": "FveGrG1Ad7lH"
      },
      "execution_count": 8,
      "outputs": []
    },
    {
      "cell_type": "code",
      "source": [
        "# Output: [1, 1, 1, 1, 1]\n",
        "my_chebyshev_poly1(0,x)"
      ],
      "metadata": {
        "colab": {
          "base_uri": "https://localhost:8080/"
        },
        "id": "geLAAMxNd3lK",
        "outputId": "423ee7c3-7b9c-4bc7-908c-ae5c2618744e"
      },
      "execution_count": 9,
      "outputs": [
        {
          "output_type": "execute_result",
          "data": {
            "text/plain": [
              "[1, 1, 1, 1, 1]"
            ]
          },
          "metadata": {},
          "execution_count": 9
        }
      ]
    },
    {
      "cell_type": "code",
      "source": [
        "# Output: [1, 2, 3, 4, 5]\n",
        "my_chebyshev_poly1(1,x)"
      ],
      "metadata": {
        "colab": {
          "base_uri": "https://localhost:8080/"
        },
        "id": "U5JiU0opd4-J",
        "outputId": "3ae87166-41dc-435b-f3e7-4b52b9e91903"
      },
      "execution_count": 10,
      "outputs": [
        {
          "output_type": "execute_result",
          "data": {
            "text/plain": [
              "[1, 2, 3, 4, 5]"
            ]
          },
          "metadata": {},
          "execution_count": 10
        }
      ]
    },
    {
      "cell_type": "code",
      "source": [
        "# Output: [1, 26, 99, 244, 485]\n",
        "my_chebyshev_poly1(3,x)"
      ],
      "metadata": {
        "colab": {
          "base_uri": "https://localhost:8080/"
        },
        "id": "eyaJ2aNqd-VA",
        "outputId": "def8d165-0a52-4456-c1d4-7266e534f820"
      },
      "execution_count": 11,
      "outputs": [
        {
          "output_type": "execute_result",
          "data": {
            "text/plain": [
              "[1, 26, 99, 244, 485]"
            ]
          },
          "metadata": {},
          "execution_count": 11
        }
      ]
    },
    {
      "cell_type": "markdown",
      "source": [
        "Constructing the logic:\n",
        "\n",
        "input: (3, [1,2,3,4,5])\n",
        "\n",
        "it checks if n == 0 and its not and thus it moves to check if n == 1 and its also false.\n",
        "\n",
        "now it computes: <br>\n",
        "[2 * x[idx] * my_chebyshev_poly1(n-1,x)[idx] - my_chebyshev_poly1(n-2,x)[idx] for idx in range(len(x))]\n",
        "\n",
        "where x is a list, outputs of both my_chebyshev_poly1(n-1,x) and my_chebyshev_poly1(n-2,x) are lists. It aims to perform an element by element multiplication and subtraction. \n",
        "\n",
        "So, our first sub problem is dependent on my_chebyshev_poly1(n-1,x) and my_chebyshev_poly1(n-2,x)\n",
        "\n",
        "let the first sub problem be s1\n",
        "\n",
        "s1 = [2 * x[idx] * my_chebyshev_poly1(2,x)[idx] - my_chebyshev_poly1(1,x)[idx] for idx in range(len(x))]\n",
        "\n",
        "here for my_chebyshev_poly1(1,x), n == 1 and thus output is: <br>\n",
        "my_chebyshev_poly1(1,x) = x = [1,2,3,4,5]\n",
        "\n",
        "now we wait for solution of my_chebyshev_poly1(2,x)\n",
        "\n",
        "my_chebyshev_poly1(2,x) = [2 * x[idx] * my_chebyshev_poly1(1,x)[idx] - my_chebyshev_poly1(0,x)[idx] for idx in range(len(x))]\n",
        "\n",
        "here for my_chebyshev_poly1(0,x), n == 0 and output is: <br>\n",
        "my_chebyshev_poly1(0,x) = [1,1,1,1,1]\n",
        "\n",
        "now for my_chebyshev_poly1(2,x) we get:\n",
        "\n",
        "[2 * 1 * 1 - 1, 2 * 2 * 2 - 1, 2 * 3 * 3 - 1, 2 * 4 * 4 - 1, 2 * 5 * 5 - 1]\n",
        "\n",
        "= [1, 7, 17, 31, 49]\n",
        "\n",
        "replacing my_chebyshev_poly1(2,x) in s1:\n",
        "\n",
        "s1 = [2 * 1 * 1 - 1, 2 * 2 * 7 - 2, 2 * 3 * 17 - 3, 2 * 4 * 31 - 4, 2 * 5 * 49 - 5]\n",
        "\n",
        "= [1, 26, 99, 244, 485]"
      ],
      "metadata": {
        "id": "LH0JkXvKeGyx"
      }
    },
    {
      "cell_type": "markdown",
      "source": [
        "3. The Ackermann function, A, is a quickly growing function that is defined by the recursive relationship:\n",
        "\n",
        "\n",
        "$$A(m,n) = \\left\\{\n",
        "\\begin{array}{ll}\n",
        "      n+1 & if & m = 0 \\\\\n",
        "      A(m-1,1) & if & m > 0 \\text{ and } n = 1 \\\\\n",
        "      A(m-1, A(m,n-1)) & if & m > 0 \\text{ and } n > 0\n",
        "\\end{array}\n",
        "\\right.    $$\n",
        "\n",
        "<br> <br>\n",
        "\n",
        "Write a function my_ackermann(m,n), where the output is the Ackermann function compuated for m and n.\n",
        "\n",
        "my_ackermann(4,4) is so large that it would be difficult to write down. Although the Ackermann function does not have many practical uses, the inverse Ackermann function has several uses in robotic motion planning."
      ],
      "metadata": {
        "id": "IeLbVPusXz9U"
      }
    },
    {
      "cell_type": "markdown",
      "source": [
        "__note:__ There is a mistake in the question. The first recursive case should be A(m-1, 1) if m > 0 and n == 0.\n",
        "\n",
        "https://mathworld.wolfram.com/AckermannFunction.html\n",
        "\n",
        "https://rosettacode.org/wiki/Ackermann_function#:~:text=The%20Ackermann%20function%20is%20usually,%3E%200%20and%20n%20%3E%200.&text=Its%20arguments%20are%20never%20negative%20and%20it%20always%20terminates.&text=.,-Arbitrary%20precision%20is"
      ],
      "metadata": {
        "id": "4gHFyx0HomPC"
      }
    },
    {
      "cell_type": "code",
      "source": [
        "def my_ackermann(m,n):\n",
        "\n",
        "  # base case: if m == 0 then return n+1\n",
        "  if m == 0:\n",
        "    return n + 1\n",
        "  \n",
        "  # first recursive case \n",
        "  elif m > 0 and n == 0:\n",
        "    return my_ackermann(m-1, 1)\n",
        "\n",
        "  # second recursive case\n",
        "  elif m > 0 and n > 0:\n",
        "    return my_ackermann(m-1, my_ackermann(m, n-1))"
      ],
      "metadata": {
        "id": "7x3ArflwwNwB"
      },
      "execution_count": 12,
      "outputs": []
    },
    {
      "cell_type": "code",
      "source": [
        "# Output: 3\n",
        "my_ackermann(1,1)"
      ],
      "metadata": {
        "colab": {
          "base_uri": "https://localhost:8080/"
        },
        "id": "Qp50S88Elkbi",
        "outputId": "f39e15c3-b4e6-4221-fe71-2548eb95ed3f"
      },
      "execution_count": 13,
      "outputs": [
        {
          "output_type": "execute_result",
          "data": {
            "text/plain": [
              "3"
            ]
          },
          "metadata": {},
          "execution_count": 13
        }
      ]
    },
    {
      "cell_type": "code",
      "source": [
        "# Output: 4\n",
        "my_ackermann(1,2)"
      ],
      "metadata": {
        "colab": {
          "base_uri": "https://localhost:8080/"
        },
        "id": "IntHo_KFlno_",
        "outputId": "fbc1370a-161b-4c88-ea70-0c864a1a416b"
      },
      "execution_count": 14,
      "outputs": [
        {
          "output_type": "execute_result",
          "data": {
            "text/plain": [
              "4"
            ]
          },
          "metadata": {},
          "execution_count": 14
        }
      ]
    },
    {
      "cell_type": "code",
      "source": [
        "# Output: 9\n",
        "my_ackermann(2,3)"
      ],
      "metadata": {
        "colab": {
          "base_uri": "https://localhost:8080/"
        },
        "id": "wK2m9bJNlyI_",
        "outputId": "c6fdd2cd-d1e8-4c86-8587-c2fe9ee1aa59"
      },
      "execution_count": 15,
      "outputs": [
        {
          "output_type": "execute_result",
          "data": {
            "text/plain": [
              "9"
            ]
          },
          "metadata": {},
          "execution_count": 15
        }
      ]
    },
    {
      "cell_type": "code",
      "source": [
        "# Output: 61\n",
        "my_ackermann(3,3)"
      ],
      "metadata": {
        "colab": {
          "base_uri": "https://localhost:8080/"
        },
        "id": "x9lyj7GQpPHW",
        "outputId": "25f1c35e-cbcc-437e-9481-10e7466200f0"
      },
      "execution_count": 16,
      "outputs": [
        {
          "output_type": "execute_result",
          "data": {
            "text/plain": [
              "61"
            ]
          },
          "metadata": {},
          "execution_count": 16
        }
      ]
    },
    {
      "cell_type": "code",
      "source": [
        "# Output: 125\n",
        "my_ackermann(3,4)"
      ],
      "metadata": {
        "colab": {
          "base_uri": "https://localhost:8080/"
        },
        "id": "RQZ8Ky9JpP2x",
        "outputId": "22a5df5a-0b47-4e54-e6b4-43ec0b230c94"
      },
      "execution_count": 17,
      "outputs": [
        {
          "output_type": "execute_result",
          "data": {
            "text/plain": [
              "125"
            ]
          },
          "metadata": {},
          "execution_count": 17
        }
      ]
    },
    {
      "cell_type": "markdown",
      "source": [
        "__Breaking down the recursion:__\n",
        "\n",
        "input: (1,1)\n",
        "\n",
        "m = 1, n = 1\n",
        "\n",
        "__first run:__\n",
        "\n",
        "m is not equal to 0 so it moves to the next condition\n",
        "\n",
        "m is greater than 0 but n is not equal to 0 and thus it moves to the next condition\n",
        "\n",
        "soln = my_ackermann(0, my_ackermann(1, 0)) \n",
        "\n",
        "now it will wait the solutions of first my_ackermann(1, 0) and then my_ackermann(0, my_ackermann(1, 0)).\n",
        "\n",
        "<br>\n",
        "\n",
        "__second run:__\n",
        "\n",
        "For my_ackermann(1, 0),\n",
        "\n",
        "m = 1, n = 0\n",
        "\n",
        "m is not equal to 0 so it moves to the next condition\n",
        "\n",
        "m is greater than 0 and n is equal to 0 \n",
        "\n",
        "my_ackermann(1, 0) = my_ackermann(0, 1)\n",
        "\n",
        "<br>\n",
        "\n",
        "__third run:__\n",
        "\n",
        "For my_ackermann(0, 1),\n",
        "\n",
        "m = 0, n = 1\n",
        "\n",
        "m == 0\n",
        "\n",
        "my_ackermann(0, 1) = n + 1 = 1 + 1 = 2\n",
        "\n",
        "__Now, we got to the base case and we start substituing values.__\n",
        "\n",
        "my_ackermann(1, 0) = my_ackermann(0, 1) = 2\n",
        "\n",
        "soln = my_ackermann(0, my_ackermann(1, 0)) = my_ackermann(0, 2)\n",
        "\n",
        "<br>\n",
        "\n",
        "__fourth run:__\n",
        "\n",
        "now for my_ackermann(0, 2) \n",
        "\n",
        "m = 0, n = 2\n",
        "\n",
        "my_ackermann(0, 2) = n + 1 = 2 + 1 = 3\n",
        "\n",
        "__Thus, soln = 3__\n"
      ],
      "metadata": {
        "id": "DXCeA055pG3C"
      }
    },
    {
      "cell_type": "markdown",
      "source": [
        "4. A function, C(n,k), which computes the number of different ways of uniquely choosing k objects from n without repetition, is commonly used in many statistics applications. For example, how many three-flavored ice cream sundaes are there if there are 10 icecream flavors? To solve this problem we would have to compute C(10,3), the number of ways of choosing three unique icecream flavors from 10. The function C is commonly called “n choose k.” You may assume that n and k are integers.\n",
        "\n",
        "If n = k, then clearly C(n,k) = 1 because there is only way to choose n objects from n objects.\n",
        "\n",
        "If k = 1, then C(n,k) = n because choosing each of the n objects is a way of choosing one object from n. For all other cases, C(n,k) = C(n-1,k) + C(n-1,k-1). Can you see why?\n",
        "\n",
        "Write a function my_n_choose_k(n,k) that computes the number of times 𝑘\n",
        " objects can be uniquely chosen from 𝑛\n",
        " objects without repetition."
      ],
      "metadata": {
        "id": "20WYIQal8RZE"
      }
    },
    {
      "cell_type": "code",
      "source": [
        "def my_n_choose_k(n,k):\n",
        "    \n",
        "    # first base case\n",
        "    if n == k:\n",
        "      return 1\n",
        "\n",
        "    # second base case\n",
        "    elif k == 1:\n",
        "      return n\n",
        "    \n",
        "    else:\n",
        "      return my_n_choose_k(n-1, k) + my_n_choose_k(n-1, k-1)"
      ],
      "metadata": {
        "id": "VArMcUiPoi4_"
      },
      "execution_count": 18,
      "outputs": []
    },
    {
      "cell_type": "code",
      "source": [
        "# Output: 10\n",
        "my_n_choose_k(10,1)"
      ],
      "metadata": {
        "colab": {
          "base_uri": "https://localhost:8080/"
        },
        "id": "LRtxPJm48zqm",
        "outputId": "1c1efedf-2f7f-4fe0-82c5-529f70ba7031"
      },
      "execution_count": 19,
      "outputs": [
        {
          "output_type": "execute_result",
          "data": {
            "text/plain": [
              "10"
            ]
          },
          "metadata": {},
          "execution_count": 19
        }
      ]
    },
    {
      "cell_type": "code",
      "source": [
        "# Output: 1\n",
        "my_n_choose_k(10,10)"
      ],
      "metadata": {
        "colab": {
          "base_uri": "https://localhost:8080/"
        },
        "id": "1sfL7Psj83De",
        "outputId": "c609a484-330a-43e8-963c-4a2dee8d4269"
      },
      "execution_count": 20,
      "outputs": [
        {
          "output_type": "execute_result",
          "data": {
            "text/plain": [
              "1"
            ]
          },
          "metadata": {},
          "execution_count": 20
        }
      ]
    },
    {
      "cell_type": "code",
      "source": [
        "# Output: 120\n",
        "my_n_choose_k(10,3)"
      ],
      "metadata": {
        "colab": {
          "base_uri": "https://localhost:8080/"
        },
        "id": "duZQmctT84qv",
        "outputId": "6f2d819d-e69c-4de8-c749-0bf820d0c00d"
      },
      "execution_count": 21,
      "outputs": [
        {
          "output_type": "execute_result",
          "data": {
            "text/plain": [
              "120"
            ]
          },
          "metadata": {},
          "execution_count": 21
        }
      ]
    },
    {
      "cell_type": "code",
      "source": [
        "# simple case 3C2 = 3\n",
        "my_n_choose_k(3,2)"
      ],
      "metadata": {
        "colab": {
          "base_uri": "https://localhost:8080/"
        },
        "id": "gW9cYdrC86X-",
        "outputId": "0f4a71dc-f5b6-4217-9581-097eb93d3cce"
      },
      "execution_count": 22,
      "outputs": [
        {
          "output_type": "execute_result",
          "data": {
            "text/plain": [
              "3"
            ]
          },
          "metadata": {},
          "execution_count": 22
        }
      ]
    },
    {
      "cell_type": "markdown",
      "source": [
        "__Explaing the recursion:__\n",
        "\n",
        "input: n = 3, k = 2\n",
        "\n",
        "n $\\neq$ k\n",
        "\n",
        "k $\\neq$ 1\n",
        "\n",
        "__soln = my_n_choose_k(n - 1, k) + my_n_choose_k(n-1, k-1) = my_n_choose_k(3 - 1, 2) + my_n_choose_k(3-1, 2-1) = my_n_choose_k(2, 2) + my_n_choose_k(2, 1)__\n",
        "\n",
        "__For my_n_choose_k(2, 2)__\n",
        "\n",
        "input: n = 2, k = 2\n",
        "\n",
        "n = k and thus it returns 1\n",
        "\n",
        "my_n_choose_k(2, 2) = 1\n",
        "\n",
        "__For my_n_choose_k(2, 1)__\n",
        "\n",
        "input: n = 2, k = 1\n",
        "\n",
        "n $\\neq$ k\n",
        "\n",
        "k = 1 and thus it returns n = 2\n",
        "\n",
        "my_n_choose_k(2, 1) = 2\n",
        "\n",
        "__soln: 1 + 2 = 3__\n",
        "\n"
      ],
      "metadata": {
        "id": "nFmqLH52E5eh"
      }
    },
    {
      "cell_type": "markdown",
      "source": [
        "__Explanation for why in all other cases C(n,k) = C(n-1,k) + C(n-1,k-1)__\n",
        "\n",
        "https://math.stackexchange.com/questions/780627/show-that-cn-k-cn-1-k-cn-1-k-1"
      ],
      "metadata": {
        "id": "PkBLKQqOG1bL"
      }
    },
    {
      "cell_type": "markdown",
      "source": [
        "5. For any purchases paid in cash, the seller must return money that was overpaid. This is commonly referred to as \"giving change.\" The bills and coins required to properly give change can be defined by a recursive relationship. If the amount paid is more than \\$100 more than the cost,then a \\$100 bill is returned, which is the result of a recursive call to the change function with \\$100 subtracted from the amount paid. If the amount paid is more than \\$50 over the cost of the item, then a \\$50 bill is returned, along with the result of a recursive call to the change function with \\$50 subtracted. Similar clauses can be given for every denomination of US currency. The denominations of US currency, in dollars, are 100, 50, 20, 10, 5, 1, 0.25, 0.10, 0.05, and 0.01. For this problem we will ignore the 2-dollar bill, which is not in common circulation. Assume that __cost__ and __paid__ are scalars, and that paid >= cost. The output variable, __change__, must be a list as shown in the test case.\n",
        "\n",
        "Use recursion to program a function my_change(cost, paid) where cost is the cost of the item, paid is the amount paid, and the output change is a list of bills and coins that should be returned to the seller. Note: Watch out for the base case! "
      ],
      "metadata": {
        "id": "L0qBjj-EDnnP"
      }
    },
    {
      "cell_type": "code",
      "source": [
        "# using change as variable output\n",
        "\n",
        "def my_change(cost, paid):\n",
        "\n",
        "  change = []\n",
        "\n",
        "  # base case 1\n",
        "  if paid == cost:\n",
        "    change = []\n",
        "\n",
        "  # base case 2. We round it to 2 as it should check if its exactly 0.01 as 0.09999 != 0.01\n",
        "  elif round(paid - cost, 2) == 0.01:\n",
        "    change = [0.01]\n",
        "\n",
        "  # recursive case 1\n",
        "  elif paid - cost > 100:\n",
        "    change = [100] + my_change(cost, paid-100)\n",
        "\n",
        "  # recursive case 2\n",
        "  elif paid - cost > 50:\n",
        "    change = [50] + my_change(cost, paid-50)\n",
        "\n",
        "  # recursive case 3\n",
        "  elif paid - cost > 20:\n",
        "    change = [20] + my_change(cost, paid-20)\n",
        "\n",
        "  # recursive case 4\n",
        "  elif paid - cost > 10:\n",
        "    change = [10] + my_change(cost, paid-10)\n",
        "\n",
        "  # recursive case 5\n",
        "  elif paid - cost > 5:\n",
        "    change = [5] + my_change(cost, paid-5)\n",
        "\n",
        "  # recursive case 6\n",
        "  elif paid - cost > 1:\n",
        "    change =  [1] + my_change(cost, paid-1)\n",
        "\n",
        "  # recursive case 7\n",
        "  elif paid - cost > 0.25:\n",
        "    change = [0.25] + my_change(cost, paid-0.25)\n",
        "\n",
        "  # recursive case 8\n",
        "  elif paid - cost > 0.1:\n",
        "    change = [0.1] + my_change(cost, paid-0.1)\n",
        "\n",
        "  # recursive case 9\n",
        "  elif paid - cost > 0.05:\n",
        "    change = [0.05] + my_change(cost, paid-0.05)\n",
        "\n",
        "  # recursive case 10\n",
        "  elif paid - cost > 0.01:\n",
        "    change = [0.01] + my_change(cost, paid-0.01)\n",
        "\n",
        "  return change"
      ],
      "metadata": {
        "id": "Vi_6my3HFrMQ"
      },
      "execution_count": 23,
      "outputs": []
    },
    {
      "cell_type": "code",
      "source": [
        "# using return statements after each condition\n",
        "\n",
        "def my_change1(cost, paid):\n",
        "\n",
        "  if paid == cost:\n",
        "    return []\n",
        "\n",
        "  elif round(paid - cost, 2) == 0.01:\n",
        "    return [0.01] \n",
        "\n",
        "  elif paid - cost > 100:\n",
        "    return [100] + my_change(cost, paid-100)\n",
        "\n",
        "  elif paid - cost > 50:\n",
        "    return [50] + my_change(cost, paid-50)\n",
        "\n",
        "  elif paid - cost > 20:\n",
        "    return [20] + my_change(cost, paid-20)\n",
        "\n",
        "  elif paid - cost > 10:\n",
        "    return [10] + my_change(cost, paid-10)\n",
        "\n",
        "  elif paid - cost > 5:\n",
        "    return [5] + my_change(cost, paid-5)\n",
        "\n",
        "  elif paid - cost > 1:\n",
        "    return [1] + my_change(cost, paid-1)\n",
        "\n",
        "  elif paid - cost > 0.25:\n",
        "    return [0.25] + my_change(cost, paid-0.25)\n",
        "\n",
        "  elif paid - cost > 0.1:\n",
        "    return [0.1] + my_change(cost, paid-0.1)\n",
        "\n",
        "  elif paid - cost > 0.05:\n",
        "    return [0.05] + my_change(cost, paid-0.05)\n",
        "\n",
        "  elif paid - cost > 0.01:\n",
        "    return [0.01] + my_change(cost, paid-0.01)\n"
      ],
      "metadata": {
        "id": "kW_MlrdHRPzz"
      },
      "execution_count": 24,
      "outputs": []
    },
    {
      "cell_type": "code",
      "source": [
        "# Output: [50.0, 20.0, 1.0, 1.0, 0.25, 0.10, 0.05, 0.01, 0.01, 0.01]\n",
        "my_change(27.57, 100)"
      ],
      "metadata": {
        "colab": {
          "base_uri": "https://localhost:8080/"
        },
        "id": "47EtxEWFCdpq",
        "outputId": "bef125d0-6ae4-4b9d-fbb3-2bf89927da4e"
      },
      "execution_count": 25,
      "outputs": [
        {
          "output_type": "execute_result",
          "data": {
            "text/plain": [
              "[50, 20, 1, 1, 0.25, 0.1, 0.05, 0.01, 0.01, 0.01]"
            ]
          },
          "metadata": {},
          "execution_count": 25
        }
      ]
    },
    {
      "cell_type": "code",
      "source": [
        "# Output: [50.0, 20.0, 1.0, 1.0, 0.25, 0.10, 0.05, 0.01, 0.01, 0.01]\n",
        "my_change1(27.57, 100)"
      ],
      "metadata": {
        "colab": {
          "base_uri": "https://localhost:8080/"
        },
        "id": "r2zzl4ZPYIjh",
        "outputId": "bb03d81e-f508-4b65-b7e8-1192602aa6fe"
      },
      "execution_count": 26,
      "outputs": [
        {
          "output_type": "execute_result",
          "data": {
            "text/plain": [
              "[50, 20, 1, 1, 0.25, 0.1, 0.05, 0.01, 0.01, 0.01]"
            ]
          },
          "metadata": {},
          "execution_count": 26
        }
      ]
    },
    {
      "cell_type": "code",
      "source": [
        "sum(my_change(27.57, 100))"
      ],
      "metadata": {
        "colab": {
          "base_uri": "https://localhost:8080/"
        },
        "id": "WTBQm_vRMenb",
        "outputId": "97db1a0c-f0fb-4cc2-c7cb-30ed3f3f8c46"
      },
      "execution_count": 27,
      "outputs": [
        {
          "output_type": "execute_result",
          "data": {
            "text/plain": [
              "72.43"
            ]
          },
          "metadata": {},
          "execution_count": 27
        }
      ]
    },
    {
      "cell_type": "code",
      "source": [
        "72.43 + 27.57"
      ],
      "metadata": {
        "colab": {
          "base_uri": "https://localhost:8080/"
        },
        "id": "JX7Q8imPOGXW",
        "outputId": "bf8b2d99-2fee-4e3b-a2ee-c2972a6c2412"
      },
      "execution_count": 28,
      "outputs": [
        {
          "output_type": "execute_result",
          "data": {
            "text/plain": [
              "100.0"
            ]
          },
          "metadata": {},
          "execution_count": 28
        }
      ]
    },
    {
      "cell_type": "markdown",
      "source": [
        "__Exploring the steps:__\n",
        "\n",
        "input = (27,57, 100)\n",
        "\n",
        "__breaking into subproblems:__\n",
        "\n",
        "soln = [50] + my_change(27.57, 50)  \n",
        "\n",
        "my_change(27.57, 50) = [20] + my_change(27.57, 30) \n",
        "\n",
        "my_change(27.57, 30) = [1] + my_change(27.57, 29)\n",
        "\n",
        "my_change(27.57, 29) = [1] + my_change(27.57, 28)\n",
        "\n",
        "my_change(27.57, 28) = [0.25] + my_change(27.57, 27.75)\n",
        "\n",
        "my_change(27.57, 27.75) = [0.1] + my_change(27.57, 27.65)\n",
        "\n",
        "my_change(27.57, 27.65) = [0.05] + my_change(27.57, 27.60)\n",
        "\n",
        "my_change(27.57, 27.60) = [0.01] + my_change(27.57, 27.59)\n",
        "\n",
        "my_change(27.57, 27.59) = [0.01] + my_change(27.57, 27.58)\n",
        "\n",
        "my_change(27.57, 27.58) = [0.01] + my_change(27.57, 27.57)\n",
        "\n",
        "my_change(27.57, 27.57) = []\n",
        "\n",
        "\n",
        "-----------------------------------------------------------------------\n",
        "\n",
        "__after base case combining the solutions:__\n",
        "\n",
        "my_change(27.57, 27.58) = [0.01] + [] = [0.01]\n",
        "\n",
        "my_change(27.57, 27.59) = [0.01] + [0.01] = [0.01, 0.01]\n",
        "\n",
        "my_change(27.57, 27.60) = [0.01] + [0.01, 0.01] = [0.01, 0.01, 0.01]\n",
        "\n",
        "my_change(27.57, 27.65) = [0.05] + [0.01, 0.01, 0.01] = [0.05, 0.01, 0.01, 0.01]\n",
        "\n",
        "my_change(27.57, 27.75) = [0.1] + [0.05, 0.01, 0.01, 0.01] = [0.1, 0.05, 0.01, 0.01, 0.01]\n",
        "\n",
        "my_change(27.57, 28) = [0.25] + [0.1, 0.05, 0.01, 0.01, 0.01] = [0.25, 0.1, 0.05, 0.01, 0.01, 0.01]\n",
        "\n",
        "my_change(27.57, 29) = [1] + [0.25, 0.1, 0.05, 0.01, 0.01, 0.01] = [1, 0.25, 0.1, 0.05, 0.01, 0.01, 0.01]\n",
        "\n",
        "my_change(27.57, 30) = [1] + [1, 0.25, 0.1, 0.05, 0.01, 0.01, 0.01] = [1, 1, 0.25, 0.1, 0.05, 0.01, 0.01, 0.01]\n",
        "\n",
        "my_change(27.57, 50) = [20] + [1, 1, 0.25, 0.1, 0.05, 0.01, 0.01, 0.01] = [20, 1, 1, 0.25, 0.1, 0.05, 0.01, 0.01, 0.01]\n",
        "\n",
        "__soln = [50] + [20, 1, 1, 0.25, 0.1, 0.05, 0.01, 0.01, 0.01] = [50, 20, 1, 1, 0.25, 0.1, 0.05, 0.01, 0.01, 0.01]__"
      ],
      "metadata": {
        "id": "JRQkNPpPaltM"
      }
    },
    {
      "cell_type": "markdown",
      "source": [
        "6. The golden ratio Φ, is the limit of $\\frac{F(n+1)}{F(n)}$ as n goes to infinity and F(n) is the n-th Fibonacci number, which can be shown to be exactly $\\frac{1+\\sqrt{5}}{2}$ and is approximately 1.62. We say that G(n) = $\\frac{F(n+1)}{F(n)}$ is the nth approximation of the golden ratio, and G(1) = 1.\n",
        "\n",
        "It can also be shown that Φ is also the limit of the continued fraction:\n",
        "\n",
        "Φ = $1 + \\frac{1}{1 + \\frac{1}{1 + \\frac{1}{1 + \\frac{1}{...}}}}$\n",
        "\n",
        "Write a recursive function with header my_golden_ratio(n), where the output is the n-th approximation of the golden ratio according to the continued fraction recursive relationship. You should use the continued fraction approximation for the Golden ratio, not the 𝐺(𝑛)=𝐹(𝑛+1)/𝐹(𝑛)\n",
        "definition. However for both definitions, 𝐺(1)=1.\n",
        "\n",
        "Studies have shown that rectangles with aspect ratio (i.e., length divided by width) close to the golden ratio are more pleasing than rectangles that do not. What is the aspect ratio of many wide-screen TV’s and movie screens?"
      ],
      "metadata": {
        "id": "3OyrTGMWK_vi"
      }
    },
    {
      "cell_type": "code",
      "source": [
        "def my_golden_ratio(n):\n",
        "\n",
        "  # base case\n",
        "  if n == 1:\n",
        "    return 1\n",
        "\n",
        "  # recursive case\n",
        "  else:\n",
        "    # return 1 + 1/(1 + 1/(my_golden_ratio(n-1)) ) # this gives a much more closer approximation as it performs one more operation of 1 + 1/(1 + ...)\n",
        "    return 1 + 1/(my_golden_ratio(n-1))"
      ],
      "metadata": {
        "id": "OyiumoTUYGdM"
      },
      "execution_count": 29,
      "outputs": []
    },
    {
      "cell_type": "code",
      "source": [
        "# Output: 1.618181818181818\n",
        "my_golden_ratio(10)"
      ],
      "metadata": {
        "colab": {
          "base_uri": "https://localhost:8080/"
        },
        "id": "LJFQ5XSLSt9S",
        "outputId": "a7c32ad7-dd56-4aca-a676-f1dfc786c0e4"
      },
      "execution_count": 30,
      "outputs": [
        {
          "output_type": "execute_result",
          "data": {
            "text/plain": [
              "1.6181818181818182"
            ]
          },
          "metadata": {},
          "execution_count": 30
        }
      ]
    },
    {
      "cell_type": "code",
      "source": [
        "import numpy as np\n",
        "(1 + np.sqrt(5))/2"
      ],
      "metadata": {
        "colab": {
          "base_uri": "https://localhost:8080/"
        },
        "id": "KWEb0fVYTnWd",
        "outputId": "fd07f012-56ec-470a-9465-2104c9e043ac"
      },
      "execution_count": 31,
      "outputs": [
        {
          "output_type": "execute_result",
          "data": {
            "text/plain": [
              "1.618033988749895"
            ]
          },
          "metadata": {},
          "execution_count": 31
        }
      ]
    },
    {
      "cell_type": "markdown",
      "source": [
        "7. The greatest common divisor of two integers a and b is the largest integer that divides both numbers without remainder, and the function to compute it is denoted by gcd(a,b). The gcd function can be written recursively. If b equals 0, then a is the greatest common divisor. Otherwise, gcd(a,b) = gcd(b,a%b) where a%b is the remainder of a divided by b. Assume that a and b are integers.\n",
        "\n",
        "Write a recursive function my_gcd(a,b) that computes the greatest common divisor of a and b. Assume that a and b are integers."
      ],
      "metadata": {
        "id": "1c8eNoCZYrLR"
      }
    },
    {
      "cell_type": "code",
      "source": [
        "def my_gcd(a,b):\n",
        "\n",
        "  # base case\n",
        "  if b == 0:\n",
        "    return a\n",
        "\n",
        "  # recursive case\n",
        "  else:\n",
        "    return my_gcd(b, a % b)"
      ],
      "metadata": {
        "id": "hLo4jI5kZnwB"
      },
      "execution_count": 32,
      "outputs": []
    },
    {
      "cell_type": "code",
      "source": [
        "# Output: 2\n",
        "my_gcd(10, 4)"
      ],
      "metadata": {
        "colab": {
          "base_uri": "https://localhost:8080/"
        },
        "id": "3Ipb2_5TcFj3",
        "outputId": "7879ef4e-94e7-4398-86c9-db262ed91678"
      },
      "execution_count": 33,
      "outputs": [
        {
          "output_type": "execute_result",
          "data": {
            "text/plain": [
              "2"
            ]
          },
          "metadata": {},
          "execution_count": 33
        }
      ]
    },
    {
      "cell_type": "code",
      "source": [
        "# Output: 11\n",
        "my_gcd(33, 121)"
      ],
      "metadata": {
        "colab": {
          "base_uri": "https://localhost:8080/"
        },
        "id": "jt_kiWaMcHtV",
        "outputId": "51377ac9-c6bb-4345-fa12-498a3e9a7ed6"
      },
      "execution_count": 34,
      "outputs": [
        {
          "output_type": "execute_result",
          "data": {
            "text/plain": [
              "11"
            ]
          },
          "metadata": {},
          "execution_count": 34
        }
      ]
    },
    {
      "cell_type": "code",
      "source": [
        "# Output: 1\n",
        "my_gcd(18, 1)"
      ],
      "metadata": {
        "colab": {
          "base_uri": "https://localhost:8080/"
        },
        "id": "pDrr6XvOcJq3",
        "outputId": "92768589-92f9-4ae8-9a09-14fd96a99f7f"
      },
      "execution_count": 35,
      "outputs": [
        {
          "output_type": "execute_result",
          "data": {
            "text/plain": [
              "1"
            ]
          },
          "metadata": {},
          "execution_count": 35
        }
      ]
    },
    {
      "cell_type": "markdown",
      "source": [
        "__Explaining the recursion:__\n",
        "\n",
        "input: a = 10, b = 4\n",
        "\n",
        "b != 0\n",
        "\n",
        "soln = my_gcd(4, 10 % 4) = my_gcd(4, 2)\n",
        "\n",
        "my_gcd(4, 2) = my_gcd(2, 4 % 2) = my_gcd(2, 0)\n",
        "\n",
        "my_gcd(2, 0) = 2 (since b = 0 we return a)\n",
        "\n",
        "__Thus, soln = 2__\n",
        "\n",
        "--------------------------------------------------------------------\n",
        "\n",
        "__Example 2:__\n",
        "\n",
        "input: a = 33, b = 121\n",
        "\n",
        "b != 0\n",
        "\n",
        "soln = my_gcd(121, 121 % 33) = my_gcd(121, 22)\n",
        "\n",
        "my_gcd(121, 22) = my_gcd(22, 121 % 22) = my_gcd(22, 11)\n",
        "\n",
        "my_gcd(22, 11) = my_gcd(11, 22 % 11) = my_gcd(11, 0)\n",
        "\n",
        "my_gcd(11,0) = 11\n",
        "\n",
        "__Thus, soln = 11__\n",
        "\n",
        "\n"
      ],
      "metadata": {
        "id": "Q3c-YhpqcMKz"
      }
    },
    {
      "cell_type": "markdown",
      "source": [
        "8. Pascal's triangle is an arrangement of numbers such that each row is equivalent to the coefficients of the binomial expansion of $(𝑥+𝑦)^{(𝑝−1)}$, where p is some positive integer more than or equal to 1. For example, $(𝑥+𝑦)^2 = 1𝑥^2 + 2𝑥𝑦 + 1𝑦^2$ so the third row of Pascal's triangle is 1 2 1.\n",
        "\n",
        "Let $𝑅_𝑚$ represent the m-th row of Pascal's triangle, and $𝑅_𝑚(𝑛)$ be the 𝑛-th element of the row. By definition, $𝑅_𝑚$ has m elements, and $𝑅_𝑚(1) = 𝑅_𝑚(𝑛) = 1$. The remaining elements are computed by the following recursive relationship: $𝑅_𝑚(𝑖) = 𝑅_{𝑚−1}(𝑖−1)+𝑅_{𝑚−1}(𝑖)$ for 𝑖=2,…,𝑚−1. The first few rows of Pascal’s triangle are depicted in the following figure. You may assume that m is a strictly positive integer. The output variable, row, must be a list.\n",
        "\n",
        "<pre>\n",
        "\n",
        "              1\n",
        "            1   1\n",
        "          1   2   1\n",
        "        1   3   3   1\n",
        "      1   4   6   4   1\n",
        "    1   5  10   10  5   1\n",
        "\n",
        "</pre>\n",
        "\n",
        "Write a function with my_pascal_row(m) where output variable row is the m-th row of the Pascal triangle. You may assume that m is a strictly positive integer."
      ],
      "metadata": {
        "id": "bW1WraMJfY5C"
      }
    },
    {
      "cell_type": "code",
      "source": [
        "list(range(1,3))"
      ],
      "metadata": {
        "colab": {
          "base_uri": "https://localhost:8080/"
        },
        "id": "C_kDfiiIiCMt",
        "outputId": "c0ee745a-4dd8-490d-ce5b-d19dee745f53"
      },
      "execution_count": 36,
      "outputs": [
        {
          "output_type": "execute_result",
          "data": {
            "text/plain": [
              "[1, 2]"
            ]
          },
          "metadata": {},
          "execution_count": 36
        }
      ]
    },
    {
      "cell_type": "code",
      "source": [
        "def my_pascal_row(m):\n",
        "\n",
        "  # base case\n",
        "  if m == 1:\n",
        "    return [1]\n",
        "  \n",
        "  # base case 2\n",
        "  if m == 2:\n",
        "    return [1, 1]\n",
        "\n",
        "  # recursive case\n",
        "  else:\n",
        "    return [1] + [my_pascal_row(m-1)[i-1] + my_pascal_row(m-1)[i] for i in range(1,m-1)] + [1]"
      ],
      "metadata": {
        "id": "0bc_EimacLoH"
      },
      "execution_count": 37,
      "outputs": []
    },
    {
      "cell_type": "code",
      "source": [
        "# Output: [1]\n",
        "my_pascal_row(1)"
      ],
      "metadata": {
        "colab": {
          "base_uri": "https://localhost:8080/"
        },
        "id": "MfGMFrcpzsXk",
        "outputId": "b6eba496-2522-43d1-d687-c5a8c3c9146f"
      },
      "execution_count": 38,
      "outputs": [
        {
          "output_type": "execute_result",
          "data": {
            "text/plain": [
              "[1]"
            ]
          },
          "metadata": {},
          "execution_count": 38
        }
      ]
    },
    {
      "cell_type": "code",
      "source": [
        "# Output: [1, 1]\n",
        "my_pascal_row(2)"
      ],
      "metadata": {
        "colab": {
          "base_uri": "https://localhost:8080/"
        },
        "id": "uBBpYvJZzt5x",
        "outputId": "f53a3f23-e94c-4011-e327-e04d66a24976"
      },
      "execution_count": 39,
      "outputs": [
        {
          "output_type": "execute_result",
          "data": {
            "text/plain": [
              "[1, 1]"
            ]
          },
          "metadata": {},
          "execution_count": 39
        }
      ]
    },
    {
      "cell_type": "code",
      "source": [
        "# Output: [1, 2, 1]\n",
        "my_pascal_row(3)"
      ],
      "metadata": {
        "colab": {
          "base_uri": "https://localhost:8080/"
        },
        "id": "VpKrdKxxzvX7",
        "outputId": "cb2a0e7e-137d-46f7-f21d-693974d360f4"
      },
      "execution_count": 40,
      "outputs": [
        {
          "output_type": "execute_result",
          "data": {
            "text/plain": [
              "[1, 2, 1]"
            ]
          },
          "metadata": {},
          "execution_count": 40
        }
      ]
    },
    {
      "cell_type": "code",
      "source": [
        "# Output: [1, 3, 3, 1]\n",
        "my_pascal_row(4)"
      ],
      "metadata": {
        "colab": {
          "base_uri": "https://localhost:8080/"
        },
        "id": "maWCr5FMzxDL",
        "outputId": "b00cddc3-66bb-4421-afa0-150f65ca9184"
      },
      "execution_count": 41,
      "outputs": [
        {
          "output_type": "execute_result",
          "data": {
            "text/plain": [
              "[1, 3, 3, 1]"
            ]
          },
          "metadata": {},
          "execution_count": 41
        }
      ]
    },
    {
      "cell_type": "code",
      "source": [
        "# Output: [1, 4, 6, 4, 1]\n",
        "my_pascal_row(5)"
      ],
      "metadata": {
        "colab": {
          "base_uri": "https://localhost:8080/"
        },
        "id": "lT6poB8xzy9i",
        "outputId": "ce0c5d2f-1b8c-431a-901b-f1936f9f06ef"
      },
      "execution_count": 42,
      "outputs": [
        {
          "output_type": "execute_result",
          "data": {
            "text/plain": [
              "[1, 4, 6, 4, 1]"
            ]
          },
          "metadata": {},
          "execution_count": 42
        }
      ]
    },
    {
      "cell_type": "code",
      "source": [
        "# Output: [1, 5, 10, 10, 5, 1]\n",
        "my_pascal_row(6)"
      ],
      "metadata": {
        "colab": {
          "base_uri": "https://localhost:8080/"
        },
        "id": "6_qen9R9z1oy",
        "outputId": "d9f304c2-4668-485a-9914-dc00d2b758e7"
      },
      "execution_count": 43,
      "outputs": [
        {
          "output_type": "execute_result",
          "data": {
            "text/plain": [
              "[1, 5, 10, 10, 5, 1]"
            ]
          },
          "metadata": {},
          "execution_count": 43
        }
      ]
    },
    {
      "cell_type": "markdown",
      "source": [
        "explaining the recursion:\n",
        "\n",
        "input: 3\n",
        "\n",
        "m != 1\n",
        "\n",
        "m != 2\n",
        "\n",
        "soln = [1] + [my_pascal_row(2)[i-1] + my_pascal_row(2)[i] for i in range(1,2)] + [1]\n",
        "\n",
        "my_pascal_row(2) = [1,1]\n",
        "\n",
        "i - 1 = 1 - 1 = 0 <br>\n",
        "i = 1\n",
        "\n",
        "soln = [1] + [[1,1][0] + [1,1][1]] + [1]\n",
        "\n",
        "soln = [1] + [1 + 1] + [1] = [1,2,1]\n",
        "\n",
        "\n",
        "-----------------------------------------------------------------------\n",
        "\n",
        "__example 2:__\n",
        "\n",
        "input: 4\n",
        "\n",
        "m != 1\n",
        "\n",
        "m != 2\n",
        "\n",
        "soln = [1] + [my_pascal_row(3)[i-1] + my_pascal_row(3)[i] for i in range(1,3)] + [1]\n",
        "\n",
        "my_pascal_row(3) = [1] + [my_pascal_row(2)[i-1] + my_pascal_row(2)[i] for i in range(1,2)] + [1]\n",
        "\n",
        "my_pascal_row(3) = [1,2,1]\n",
        "\n",
        "[my_pascal_row(3)[i-1] + my_pascal_row(3)[i] for i in range(1,3)] = \n",
        "[[1,2,1][0] + [1,2,1][1], [1,2,1][1] + [1,2,1][2]] = [1 + 2, 2 + 1] = [3,3]\n",
        "\n",
        "soln = [1] + [3,3] + [1] = [1,3,3,1]"
      ],
      "metadata": {
        "id": "_fZOtAWs0QR9"
      }
    },
    {
      "cell_type": "markdown",
      "source": [
        "9. Consider a 𝑛×𝑛 matrix of the following form:\n",
        "\n",
        "\n",
        "$$A = \\begin{bmatrix}1 & 1 & 1 & 1 & 1\\\\1 & 0 & 0 & 0 & 0\\\\1 & 0 & 1 & 1 & 0\\\\1 & 0 & 0 & 1 & 0\\\\1 & 1 & 1 & 1 & 0\\end{bmatrix}$$\n",
        "\n",
        "where the ones form a right spiral. Write a function my_spiral_ones(n) that produces an 𝑛×𝑛 matrix of the given form. Take care that the recursive steps are in the correct order (i.e., the ones go right, then down, then left, then up, then right, etc.)."
      ],
      "metadata": {
        "id": "3AfkfM4V2uxL"
      }
    },
    {
      "cell_type": "code",
      "source": [
        "def my_spiral_ones(n):\n",
        "\n",
        "  # base case: if n == 1 then return 1\n",
        "  if n == 1:\n",
        "    arr = np.array([1])\n",
        "  \n",
        "  else:\n",
        "    # all of the directions for the ones. the order is right, then down, then left, then up and then right\n",
        "    directions = ['right', 'down', 'left', 'up']\n",
        "    \n",
        "    # There will be a total of n-1 rounds to get to a matrix n by n. We thus want to extract the (n-1)th element from directions. \n",
        "    # So, for example if n = 5 then:\n",
        "    # we start with n = 2 by appending 1's to the right of a 2 by 2 matrix, then for n = 3 we append 1's below a 3 by 3 matrix,\n",
        "    # then for n = 4 we append 1's to the left of a 4 by 4 matrix. Finally, for n = 5 we append 1's to the top of a 5 by 5 matrix.\n",
        "    # Thus, to get to 5 by 5 we performed 4 operations. However, if n > 4, say 7 then we need to perform 6 operations in the \n",
        "    # following order: right --> down --> left --> up --> right --> down. Thus, we get to down, which is the second element of \n",
        "    # directions list. To account for zero indexing we thus extract ((n - 2) % 4)th element, which in this case is ((7-2) % 4) = 1.\n",
        "    direction = directions[(n-2) % 4]\n",
        "\n",
        "    if direction == 'right':\n",
        "      # first recursive case: if final direction is right to get to n by n then for right we take the array at previous step\n",
        "      # and append an array of 1's of size n to the right of the (n-1, n-1) matrix. However, we need to first append an array\n",
        "      # of size n-1 at the bottom of the matrix from previous step (n-1, n-1) to get a valid n by n matrix. vstack would append\n",
        "      # arrays on top of each other and hstack would append arrays side by side. Thus, we append the matrix at previous step on top\n",
        "      # of zeros and then append that matrix with an array of 1's side by side to get the final n by n matrix.\n",
        "      # e.g. if n = 2 then we have [1] from the previous step and thus first we get \n",
        "      # [[1]   and then  [[1,1]]\n",
        "      #  [0]]            [[0,1]] \n",
        "      arr = np.hstack([np.vstack([my_spiral_ones(n-1), np.zeros(n-1)]), np.ones(((n-1)+1,1))])\n",
        "\n",
        "      # second recursive case: if final direction is down then first append an array of 0's to the left of (n-1, n-1) matrix\n",
        "      # and then stack that matrix on top of an array of 1's of size n to get the n by n matrix.\n",
        "      # e.g. if n = 3 then we have the 2 by 2 array computed above.\n",
        "      # [[0]] + [[1,1]] = [[0,1,1]] \n",
        "      # [[0]]   [[0,1]]   [[0,0,1]]\n",
        "      #                 + [[1,1,1]]\n",
        "    elif direction == 'down':\n",
        "      arr = np.vstack([np.hstack([np.zeros(n-1).reshape(-1,1), my_spiral_ones(n-1)]), np.ones(((n-1)+1))])\n",
        "    \n",
        "      # third recursive case: place an array of 0's at the top of the n-1 by n-1 matrix and then concatenate \n",
        "      # an array of 1's of size n with that matrix to get an n by n matrix\n",
        "      # e.g. if n = 4 then we have the 3 by 3 matrix from above.\n",
        "      # [[1]]   [[0,0,0]] = [[1,0,0,0]] \n",
        "      # [[1]] + [[0,1,1]]   [[1,0,1,1]]\n",
        "      # [[1]]   [[0,0,1]]   [[1,0,0,1]]\n",
        "      # [[1]]   [[1,1,1]]   [[1,1,1,1]]\n",
        "    elif direction == 'left':\n",
        "      arr = np.hstack([np.ones(((n-1)+1)).reshape(-1,1), np.vstack([np.zeros(n-1), my_spiral_ones(n-1)])])\n",
        "\n",
        "      # fourth recursive case: place an array of 0's to the right of n-1 by n-1 matrix and then stack \n",
        "      # an array of 1's on top of that matrix to get the n by n matrix\n",
        "      # e.g. n = 5. We have the 4 by 4 matrix from above\n",
        "      #                         [[1,1,1,1,1]]\n",
        "      # [[1,0,0,0]] + [[0]] = + [[1,0,0,0,0]]  \n",
        "      # [[1,0,1,1]]   [[0]]     [[1,0,1,1,0]]\n",
        "      # [[1,0,0,1]]   [[0]]     [[1,0,0,1,0]]\n",
        "      # [[1,1,1,1]]   [[0]]     [[1,1,1,1,0]]\n",
        "    elif direction == 'up':\n",
        "      arr = np.vstack([np.ones(((n-1)+1)), np.hstack([my_spiral_ones(n-1), np.zeros(n-1).reshape(-1,1)])])\n",
        "\n",
        "  return arr"
      ],
      "metadata": {
        "id": "c564O_zzUqZH"
      },
      "execution_count": 44,
      "outputs": []
    },
    {
      "cell_type": "code",
      "source": [
        "# Output: array([1])\n",
        "my_spiral_ones(1)"
      ],
      "metadata": {
        "colab": {
          "base_uri": "https://localhost:8080/"
        },
        "outputId": "17f36654-4d27-42b1-ed2f-1b50517a91dd",
        "id": "EFK6SAUhUqZH"
      },
      "execution_count": 45,
      "outputs": [
        {
          "output_type": "execute_result",
          "data": {
            "text/plain": [
              "array([1])"
            ]
          },
          "metadata": {},
          "execution_count": 45
        }
      ]
    },
    {
      "cell_type": "code",
      "source": [
        "# Output: \n",
        "# array([[1, 1],\n",
        "#       [0, 1]])\n",
        "my_spiral_ones(2)"
      ],
      "metadata": {
        "colab": {
          "base_uri": "https://localhost:8080/"
        },
        "outputId": "5446f97a-f3be-42b1-b7f3-235ae4a78369",
        "id": "Wt_PjJysUqZI"
      },
      "execution_count": 46,
      "outputs": [
        {
          "output_type": "execute_result",
          "data": {
            "text/plain": [
              "array([[1., 1.],\n",
              "       [0., 1.]])"
            ]
          },
          "metadata": {},
          "execution_count": 46
        }
      ]
    },
    {
      "cell_type": "code",
      "source": [
        "# Output:\n",
        "#array([[0, 1, 1],\n",
        "#       [0, 0, 1],\n",
        "#       [1, 1, 1]])\n",
        "my_spiral_ones(3)"
      ],
      "metadata": {
        "colab": {
          "base_uri": "https://localhost:8080/"
        },
        "outputId": "3d12397e-b455-43d8-a775-18aca877441a",
        "id": "1Kb75lNXUqZI"
      },
      "execution_count": 47,
      "outputs": [
        {
          "output_type": "execute_result",
          "data": {
            "text/plain": [
              "array([[0., 1., 1.],\n",
              "       [0., 0., 1.],\n",
              "       [1., 1., 1.]])"
            ]
          },
          "metadata": {},
          "execution_count": 47
        }
      ]
    },
    {
      "cell_type": "code",
      "source": [
        "# Output:\n",
        "#array([[1, 0, 0, 0],\n",
        "#       [1, 0, 1, 1],\n",
        "#       [1, 0, 0, 1],\n",
        "#       [1, 1, 1, 1]])\n",
        "my_spiral_ones(4)"
      ],
      "metadata": {
        "colab": {
          "base_uri": "https://localhost:8080/"
        },
        "outputId": "0366eedd-7e99-4a86-cb0a-9d385d239dc4",
        "id": "M9mxUT8eUqZI"
      },
      "execution_count": 48,
      "outputs": [
        {
          "output_type": "execute_result",
          "data": {
            "text/plain": [
              "array([[1., 0., 0., 0.],\n",
              "       [1., 0., 1., 1.],\n",
              "       [1., 0., 0., 1.],\n",
              "       [1., 1., 1., 1.]])"
            ]
          },
          "metadata": {},
          "execution_count": 48
        }
      ]
    },
    {
      "cell_type": "code",
      "source": [
        "# Output:\n",
        "#array([[1, 1, 1, 1, 1],\n",
        "#       [1, 0, 0, 0, 0],\n",
        "#       [1, 0, 1, 1, 0],\n",
        "#       [1, 0, 0, 1, 0],\n",
        "#       [1, 1, 1, 1, 0]])\n",
        "my_spiral_ones(5)"
      ],
      "metadata": {
        "colab": {
          "base_uri": "https://localhost:8080/"
        },
        "outputId": "c81dca6d-e3e2-4a78-b51d-fd5ee958ea11",
        "id": "s7xxM1lpUqZI"
      },
      "execution_count": 49,
      "outputs": [
        {
          "output_type": "execute_result",
          "data": {
            "text/plain": [
              "array([[1., 1., 1., 1., 1.],\n",
              "       [1., 0., 0., 0., 0.],\n",
              "       [1., 0., 1., 1., 0.],\n",
              "       [1., 0., 0., 1., 0.],\n",
              "       [1., 1., 1., 1., 0.]])"
            ]
          },
          "metadata": {},
          "execution_count": 49
        }
      ]
    },
    {
      "cell_type": "markdown",
      "source": [
        "__Checking the operations from 1 to 13 to complete 12 operations.__"
      ],
      "metadata": {
        "id": "l1ERavGcgVAR"
      }
    },
    {
      "cell_type": "code",
      "source": [
        "operations = ['right', 'down', 'left', 'up'] * 3\n",
        "\n",
        "for num in range(1, 14):\n",
        "  print(num)\n",
        "  if num > 1:\n",
        "    print(operations[num-2])\n",
        "  print(my_spiral_ones(num))\n",
        "  print('='*100)\n",
        "  print()"
      ],
      "metadata": {
        "colab": {
          "base_uri": "https://localhost:8080/"
        },
        "outputId": "719cb970-9ce3-40ef-bb98-5b65dd5a29f1",
        "id": "5GIAnKEKUqZI"
      },
      "execution_count": 50,
      "outputs": [
        {
          "output_type": "stream",
          "name": "stdout",
          "text": [
            "1\n",
            "[1]\n",
            "====================================================================================================\n",
            "\n",
            "2\n",
            "right\n",
            "[[1. 1.]\n",
            " [0. 1.]]\n",
            "====================================================================================================\n",
            "\n",
            "3\n",
            "down\n",
            "[[0. 1. 1.]\n",
            " [0. 0. 1.]\n",
            " [1. 1. 1.]]\n",
            "====================================================================================================\n",
            "\n",
            "4\n",
            "left\n",
            "[[1. 0. 0. 0.]\n",
            " [1. 0. 1. 1.]\n",
            " [1. 0. 0. 1.]\n",
            " [1. 1. 1. 1.]]\n",
            "====================================================================================================\n",
            "\n",
            "5\n",
            "up\n",
            "[[1. 1. 1. 1. 1.]\n",
            " [1. 0. 0. 0. 0.]\n",
            " [1. 0. 1. 1. 0.]\n",
            " [1. 0. 0. 1. 0.]\n",
            " [1. 1. 1. 1. 0.]]\n",
            "====================================================================================================\n",
            "\n",
            "6\n",
            "right\n",
            "[[1. 1. 1. 1. 1. 1.]\n",
            " [1. 0. 0. 0. 0. 1.]\n",
            " [1. 0. 1. 1. 0. 1.]\n",
            " [1. 0. 0. 1. 0. 1.]\n",
            " [1. 1. 1. 1. 0. 1.]\n",
            " [0. 0. 0. 0. 0. 1.]]\n",
            "====================================================================================================\n",
            "\n",
            "7\n",
            "down\n",
            "[[0. 1. 1. 1. 1. 1. 1.]\n",
            " [0. 1. 0. 0. 0. 0. 1.]\n",
            " [0. 1. 0. 1. 1. 0. 1.]\n",
            " [0. 1. 0. 0. 1. 0. 1.]\n",
            " [0. 1. 1. 1. 1. 0. 1.]\n",
            " [0. 0. 0. 0. 0. 0. 1.]\n",
            " [1. 1. 1. 1. 1. 1. 1.]]\n",
            "====================================================================================================\n",
            "\n",
            "8\n",
            "left\n",
            "[[1. 0. 0. 0. 0. 0. 0. 0.]\n",
            " [1. 0. 1. 1. 1. 1. 1. 1.]\n",
            " [1. 0. 1. 0. 0. 0. 0. 1.]\n",
            " [1. 0. 1. 0. 1. 1. 0. 1.]\n",
            " [1. 0. 1. 0. 0. 1. 0. 1.]\n",
            " [1. 0. 1. 1. 1. 1. 0. 1.]\n",
            " [1. 0. 0. 0. 0. 0. 0. 1.]\n",
            " [1. 1. 1. 1. 1. 1. 1. 1.]]\n",
            "====================================================================================================\n",
            "\n",
            "9\n",
            "up\n",
            "[[1. 1. 1. 1. 1. 1. 1. 1. 1.]\n",
            " [1. 0. 0. 0. 0. 0. 0. 0. 0.]\n",
            " [1. 0. 1. 1. 1. 1. 1. 1. 0.]\n",
            " [1. 0. 1. 0. 0. 0. 0. 1. 0.]\n",
            " [1. 0. 1. 0. 1. 1. 0. 1. 0.]\n",
            " [1. 0. 1. 0. 0. 1. 0. 1. 0.]\n",
            " [1. 0. 1. 1. 1. 1. 0. 1. 0.]\n",
            " [1. 0. 0. 0. 0. 0. 0. 1. 0.]\n",
            " [1. 1. 1. 1. 1. 1. 1. 1. 0.]]\n",
            "====================================================================================================\n",
            "\n",
            "10\n",
            "right\n",
            "[[1. 1. 1. 1. 1. 1. 1. 1. 1. 1.]\n",
            " [1. 0. 0. 0. 0. 0. 0. 0. 0. 1.]\n",
            " [1. 0. 1. 1. 1. 1. 1. 1. 0. 1.]\n",
            " [1. 0. 1. 0. 0. 0. 0. 1. 0. 1.]\n",
            " [1. 0. 1. 0. 1. 1. 0. 1. 0. 1.]\n",
            " [1. 0. 1. 0. 0. 1. 0. 1. 0. 1.]\n",
            " [1. 0. 1. 1. 1. 1. 0. 1. 0. 1.]\n",
            " [1. 0. 0. 0. 0. 0. 0. 1. 0. 1.]\n",
            " [1. 1. 1. 1. 1. 1. 1. 1. 0. 1.]\n",
            " [0. 0. 0. 0. 0. 0. 0. 0. 0. 1.]]\n",
            "====================================================================================================\n",
            "\n",
            "11\n",
            "down\n",
            "[[0. 1. 1. 1. 1. 1. 1. 1. 1. 1. 1.]\n",
            " [0. 1. 0. 0. 0. 0. 0. 0. 0. 0. 1.]\n",
            " [0. 1. 0. 1. 1. 1. 1. 1. 1. 0. 1.]\n",
            " [0. 1. 0. 1. 0. 0. 0. 0. 1. 0. 1.]\n",
            " [0. 1. 0. 1. 0. 1. 1. 0. 1. 0. 1.]\n",
            " [0. 1. 0. 1. 0. 0. 1. 0. 1. 0. 1.]\n",
            " [0. 1. 0. 1. 1. 1. 1. 0. 1. 0. 1.]\n",
            " [0. 1. 0. 0. 0. 0. 0. 0. 1. 0. 1.]\n",
            " [0. 1. 1. 1. 1. 1. 1. 1. 1. 0. 1.]\n",
            " [0. 0. 0. 0. 0. 0. 0. 0. 0. 0. 1.]\n",
            " [1. 1. 1. 1. 1. 1. 1. 1. 1. 1. 1.]]\n",
            "====================================================================================================\n",
            "\n",
            "12\n",
            "left\n",
            "[[1. 0. 0. 0. 0. 0. 0. 0. 0. 0. 0. 0.]\n",
            " [1. 0. 1. 1. 1. 1. 1. 1. 1. 1. 1. 1.]\n",
            " [1. 0. 1. 0. 0. 0. 0. 0. 0. 0. 0. 1.]\n",
            " [1. 0. 1. 0. 1. 1. 1. 1. 1. 1. 0. 1.]\n",
            " [1. 0. 1. 0. 1. 0. 0. 0. 0. 1. 0. 1.]\n",
            " [1. 0. 1. 0. 1. 0. 1. 1. 0. 1. 0. 1.]\n",
            " [1. 0. 1. 0. 1. 0. 0. 1. 0. 1. 0. 1.]\n",
            " [1. 0. 1. 0. 1. 1. 1. 1. 0. 1. 0. 1.]\n",
            " [1. 0. 1. 0. 0. 0. 0. 0. 0. 1. 0. 1.]\n",
            " [1. 0. 1. 1. 1. 1. 1. 1. 1. 1. 0. 1.]\n",
            " [1. 0. 0. 0. 0. 0. 0. 0. 0. 0. 0. 1.]\n",
            " [1. 1. 1. 1. 1. 1. 1. 1. 1. 1. 1. 1.]]\n",
            "====================================================================================================\n",
            "\n",
            "13\n",
            "up\n",
            "[[1. 1. 1. 1. 1. 1. 1. 1. 1. 1. 1. 1. 1.]\n",
            " [1. 0. 0. 0. 0. 0. 0. 0. 0. 0. 0. 0. 0.]\n",
            " [1. 0. 1. 1. 1. 1. 1. 1. 1. 1. 1. 1. 0.]\n",
            " [1. 0. 1. 0. 0. 0. 0. 0. 0. 0. 0. 1. 0.]\n",
            " [1. 0. 1. 0. 1. 1. 1. 1. 1. 1. 0. 1. 0.]\n",
            " [1. 0. 1. 0. 1. 0. 0. 0. 0. 1. 0. 1. 0.]\n",
            " [1. 0. 1. 0. 1. 0. 1. 1. 0. 1. 0. 1. 0.]\n",
            " [1. 0. 1. 0. 1. 0. 0. 1. 0. 1. 0. 1. 0.]\n",
            " [1. 0. 1. 0. 1. 1. 1. 1. 0. 1. 0. 1. 0.]\n",
            " [1. 0. 1. 0. 0. 0. 0. 0. 0. 1. 0. 1. 0.]\n",
            " [1. 0. 1. 1. 1. 1. 1. 1. 1. 1. 0. 1. 0.]\n",
            " [1. 0. 0. 0. 0. 0. 0. 0. 0. 0. 0. 1. 0.]\n",
            " [1. 1. 1. 1. 1. 1. 1. 1. 1. 1. 1. 1. 0.]]\n",
            "====================================================================================================\n",
            "\n"
          ]
        }
      ]
    },
    {
      "cell_type": "markdown",
      "source": [
        "10. Rewrite my_spiral_ones without using recursion."
      ],
      "metadata": {
        "id": "-0qlICYfU4jJ"
      }
    },
    {
      "cell_type": "code",
      "source": [
        "def my_spiral_ones(n):\n",
        "\n",
        "  # if n is 1 then return 1\n",
        "  if n == 1:\n",
        "    return 1\n",
        "\n",
        "  arr = np.array([1]) # start with an array of just 1\n",
        "  prev_size = 1 # this keeps track of the previous array size\n",
        "  direction = 'right' # start with right\n",
        "\n",
        "  # keep performing the eoperations till we get n by n matrix\n",
        "  while prev_size < n:\n",
        "\n",
        "    # for right, first add an array of 0's of prev_size at the bottom and then add an array of size (prev_size + 1) to the right  \n",
        "    if direction == 'right':\n",
        "      arr = np.hstack([np.vstack([arr, np.zeros(prev_size)]), np.ones((prev_size+1,1))])\n",
        "      direction = 'down'\n",
        "      prev_size += 1\n",
        "\n",
        "    # for down, first add an array of 0's of prev_size to the left and then add an array of 1's of size (prev_size + 1) at the bottom\n",
        "    elif direction == 'down':\n",
        "      arr = np.vstack([np.hstack([np.zeros(prev_size).reshape(-1,1), arr]), np.ones((prev_size+1))])\n",
        "      direction = 'left'\n",
        "      prev_size += 1\n",
        "    \n",
        "    # for left, first add an array of 0's of prev_size to the top and then add an array of 1's of size (prev_size + 1) to the left\n",
        "    elif direction == 'left':\n",
        "      arr = np.hstack([np.ones((prev_size+1)).reshape(-1,1), np.vstack([np.zeros(prev_size), arr])])\n",
        "      direction = 'up'\n",
        "      prev_size += 1\n",
        "\n",
        "    # for up, first add an array of 0's of prev_size to the right and then add an array of 1's of size (prev_size + 1) at the top\n",
        "    elif direction == 'up':\n",
        "      arr = np.vstack([np.ones((prev_size+1)), np.hstack([arr, np.zeros(prev_size).reshape(-1,1)])])\n",
        "      direction = 'right'\n",
        "      prev_size += 1\n",
        "\n",
        "  return arr"
      ],
      "metadata": {
        "id": "uAJ55wfKzZ9B"
      },
      "execution_count": 51,
      "outputs": []
    },
    {
      "cell_type": "code",
      "source": [
        "# Output: 1\n",
        "my_spiral_ones(1)"
      ],
      "metadata": {
        "colab": {
          "base_uri": "https://localhost:8080/"
        },
        "id": "EkeyLWmxz50u",
        "outputId": "91f1c994-4deb-4901-dffa-52dd94890078"
      },
      "execution_count": 52,
      "outputs": [
        {
          "output_type": "execute_result",
          "data": {
            "text/plain": [
              "1"
            ]
          },
          "metadata": {},
          "execution_count": 52
        }
      ]
    },
    {
      "cell_type": "code",
      "source": [
        "# Output: \n",
        "# array([[1, 1],\n",
        "#       [0, 1]])\n",
        "my_spiral_ones(2)"
      ],
      "metadata": {
        "colab": {
          "base_uri": "https://localhost:8080/"
        },
        "id": "5KHF-Eauz9nN",
        "outputId": "37adc359-83e7-4dc0-e1c1-73aa0dc1156e"
      },
      "execution_count": 53,
      "outputs": [
        {
          "output_type": "execute_result",
          "data": {
            "text/plain": [
              "array([[1., 1.],\n",
              "       [0., 1.]])"
            ]
          },
          "metadata": {},
          "execution_count": 53
        }
      ]
    },
    {
      "cell_type": "code",
      "source": [
        "# Output:\n",
        "#array([[0, 1, 1],\n",
        "#       [0, 0, 1],\n",
        "#       [1, 1, 1]])\n",
        "my_spiral_ones(3)"
      ],
      "metadata": {
        "colab": {
          "base_uri": "https://localhost:8080/"
        },
        "id": "BjIy2mz4z_Pv",
        "outputId": "f87eb031-b354-4733-912e-ab0ee0e56d72"
      },
      "execution_count": 54,
      "outputs": [
        {
          "output_type": "execute_result",
          "data": {
            "text/plain": [
              "array([[0., 1., 1.],\n",
              "       [0., 0., 1.],\n",
              "       [1., 1., 1.]])"
            ]
          },
          "metadata": {},
          "execution_count": 54
        }
      ]
    },
    {
      "cell_type": "code",
      "source": [
        "# Output:\n",
        "#array([[1, 0, 0, 0],\n",
        "#       [1, 0, 1, 1],\n",
        "#       [1, 0, 0, 1],\n",
        "#       [1, 1, 1, 1]])\n",
        "my_spiral_ones(4)"
      ],
      "metadata": {
        "colab": {
          "base_uri": "https://localhost:8080/"
        },
        "id": "xUf1f-J80B70",
        "outputId": "4f364acc-1e29-44d1-a35c-cd25816e3d23"
      },
      "execution_count": 55,
      "outputs": [
        {
          "output_type": "execute_result",
          "data": {
            "text/plain": [
              "array([[1., 0., 0., 0.],\n",
              "       [1., 0., 1., 1.],\n",
              "       [1., 0., 0., 1.],\n",
              "       [1., 1., 1., 1.]])"
            ]
          },
          "metadata": {},
          "execution_count": 55
        }
      ]
    },
    {
      "cell_type": "code",
      "source": [
        "# Output:\n",
        "#array([[1, 1, 1, 1, 1],\n",
        "#       [1, 0, 0, 0, 0],\n",
        "#       [1, 0, 1, 1, 0],\n",
        "#       [1, 0, 0, 1, 0],\n",
        "#       [1, 1, 1, 1, 0]])\n",
        "my_spiral_ones(5)"
      ],
      "metadata": {
        "colab": {
          "base_uri": "https://localhost:8080/"
        },
        "id": "zImmaOiP0EdJ",
        "outputId": "ba8cd75d-0153-41c5-b10b-fef9ab18d956"
      },
      "execution_count": 56,
      "outputs": [
        {
          "output_type": "execute_result",
          "data": {
            "text/plain": [
              "array([[1., 1., 1., 1., 1.],\n",
              "       [1., 0., 0., 0., 0.],\n",
              "       [1., 0., 1., 1., 0.],\n",
              "       [1., 0., 0., 1., 0.],\n",
              "       [1., 1., 1., 1., 0.]])"
            ]
          },
          "metadata": {},
          "execution_count": 56
        }
      ]
    },
    {
      "cell_type": "code",
      "source": [
        "operations = ['right', 'down', 'left', 'up'] * 3\n",
        "\n",
        "for num in range(1, 14):\n",
        "  print(num)\n",
        "  if num > 1:\n",
        "    print(operations[num-2])\n",
        "  print(my_spiral_ones(num))\n",
        "  print('='*100)\n",
        "  print()"
      ],
      "metadata": {
        "colab": {
          "base_uri": "https://localhost:8080/"
        },
        "id": "OMLgFyy50H3N",
        "outputId": "9365499c-82e3-403b-f10b-e22748482d27"
      },
      "execution_count": 57,
      "outputs": [
        {
          "output_type": "stream",
          "name": "stdout",
          "text": [
            "1\n",
            "1\n",
            "====================================================================================================\n",
            "\n",
            "2\n",
            "right\n",
            "[[1. 1.]\n",
            " [0. 1.]]\n",
            "====================================================================================================\n",
            "\n",
            "3\n",
            "down\n",
            "[[0. 1. 1.]\n",
            " [0. 0. 1.]\n",
            " [1. 1. 1.]]\n",
            "====================================================================================================\n",
            "\n",
            "4\n",
            "left\n",
            "[[1. 0. 0. 0.]\n",
            " [1. 0. 1. 1.]\n",
            " [1. 0. 0. 1.]\n",
            " [1. 1. 1. 1.]]\n",
            "====================================================================================================\n",
            "\n",
            "5\n",
            "up\n",
            "[[1. 1. 1. 1. 1.]\n",
            " [1. 0. 0. 0. 0.]\n",
            " [1. 0. 1. 1. 0.]\n",
            " [1. 0. 0. 1. 0.]\n",
            " [1. 1. 1. 1. 0.]]\n",
            "====================================================================================================\n",
            "\n",
            "6\n",
            "right\n",
            "[[1. 1. 1. 1. 1. 1.]\n",
            " [1. 0. 0. 0. 0. 1.]\n",
            " [1. 0. 1. 1. 0. 1.]\n",
            " [1. 0. 0. 1. 0. 1.]\n",
            " [1. 1. 1. 1. 0. 1.]\n",
            " [0. 0. 0. 0. 0. 1.]]\n",
            "====================================================================================================\n",
            "\n",
            "7\n",
            "down\n",
            "[[0. 1. 1. 1. 1. 1. 1.]\n",
            " [0. 1. 0. 0. 0. 0. 1.]\n",
            " [0. 1. 0. 1. 1. 0. 1.]\n",
            " [0. 1. 0. 0. 1. 0. 1.]\n",
            " [0. 1. 1. 1. 1. 0. 1.]\n",
            " [0. 0. 0. 0. 0. 0. 1.]\n",
            " [1. 1. 1. 1. 1. 1. 1.]]\n",
            "====================================================================================================\n",
            "\n",
            "8\n",
            "left\n",
            "[[1. 0. 0. 0. 0. 0. 0. 0.]\n",
            " [1. 0. 1. 1. 1. 1. 1. 1.]\n",
            " [1. 0. 1. 0. 0. 0. 0. 1.]\n",
            " [1. 0. 1. 0. 1. 1. 0. 1.]\n",
            " [1. 0. 1. 0. 0. 1. 0. 1.]\n",
            " [1. 0. 1. 1. 1. 1. 0. 1.]\n",
            " [1. 0. 0. 0. 0. 0. 0. 1.]\n",
            " [1. 1. 1. 1. 1. 1. 1. 1.]]\n",
            "====================================================================================================\n",
            "\n",
            "9\n",
            "up\n",
            "[[1. 1. 1. 1. 1. 1. 1. 1. 1.]\n",
            " [1. 0. 0. 0. 0. 0. 0. 0. 0.]\n",
            " [1. 0. 1. 1. 1. 1. 1. 1. 0.]\n",
            " [1. 0. 1. 0. 0. 0. 0. 1. 0.]\n",
            " [1. 0. 1. 0. 1. 1. 0. 1. 0.]\n",
            " [1. 0. 1. 0. 0. 1. 0. 1. 0.]\n",
            " [1. 0. 1. 1. 1. 1. 0. 1. 0.]\n",
            " [1. 0. 0. 0. 0. 0. 0. 1. 0.]\n",
            " [1. 1. 1. 1. 1. 1. 1. 1. 0.]]\n",
            "====================================================================================================\n",
            "\n",
            "10\n",
            "right\n",
            "[[1. 1. 1. 1. 1. 1. 1. 1. 1. 1.]\n",
            " [1. 0. 0. 0. 0. 0. 0. 0. 0. 1.]\n",
            " [1. 0. 1. 1. 1. 1. 1. 1. 0. 1.]\n",
            " [1. 0. 1. 0. 0. 0. 0. 1. 0. 1.]\n",
            " [1. 0. 1. 0. 1. 1. 0. 1. 0. 1.]\n",
            " [1. 0. 1. 0. 0. 1. 0. 1. 0. 1.]\n",
            " [1. 0. 1. 1. 1. 1. 0. 1. 0. 1.]\n",
            " [1. 0. 0. 0. 0. 0. 0. 1. 0. 1.]\n",
            " [1. 1. 1. 1. 1. 1. 1. 1. 0. 1.]\n",
            " [0. 0. 0. 0. 0. 0. 0. 0. 0. 1.]]\n",
            "====================================================================================================\n",
            "\n",
            "11\n",
            "down\n",
            "[[0. 1. 1. 1. 1. 1. 1. 1. 1. 1. 1.]\n",
            " [0. 1. 0. 0. 0. 0. 0. 0. 0. 0. 1.]\n",
            " [0. 1. 0. 1. 1. 1. 1. 1. 1. 0. 1.]\n",
            " [0. 1. 0. 1. 0. 0. 0. 0. 1. 0. 1.]\n",
            " [0. 1. 0. 1. 0. 1. 1. 0. 1. 0. 1.]\n",
            " [0. 1. 0. 1. 0. 0. 1. 0. 1. 0. 1.]\n",
            " [0. 1. 0. 1. 1. 1. 1. 0. 1. 0. 1.]\n",
            " [0. 1. 0. 0. 0. 0. 0. 0. 1. 0. 1.]\n",
            " [0. 1. 1. 1. 1. 1. 1. 1. 1. 0. 1.]\n",
            " [0. 0. 0. 0. 0. 0. 0. 0. 0. 0. 1.]\n",
            " [1. 1. 1. 1. 1. 1. 1. 1. 1. 1. 1.]]\n",
            "====================================================================================================\n",
            "\n",
            "12\n",
            "left\n",
            "[[1. 0. 0. 0. 0. 0. 0. 0. 0. 0. 0. 0.]\n",
            " [1. 0. 1. 1. 1. 1. 1. 1. 1. 1. 1. 1.]\n",
            " [1. 0. 1. 0. 0. 0. 0. 0. 0. 0. 0. 1.]\n",
            " [1. 0. 1. 0. 1. 1. 1. 1. 1. 1. 0. 1.]\n",
            " [1. 0. 1. 0. 1. 0. 0. 0. 0. 1. 0. 1.]\n",
            " [1. 0. 1. 0. 1. 0. 1. 1. 0. 1. 0. 1.]\n",
            " [1. 0. 1. 0. 1. 0. 0. 1. 0. 1. 0. 1.]\n",
            " [1. 0. 1. 0. 1. 1. 1. 1. 0. 1. 0. 1.]\n",
            " [1. 0. 1. 0. 0. 0. 0. 0. 0. 1. 0. 1.]\n",
            " [1. 0. 1. 1. 1. 1. 1. 1. 1. 1. 0. 1.]\n",
            " [1. 0. 0. 0. 0. 0. 0. 0. 0. 0. 0. 1.]\n",
            " [1. 1. 1. 1. 1. 1. 1. 1. 1. 1. 1. 1.]]\n",
            "====================================================================================================\n",
            "\n",
            "13\n",
            "up\n",
            "[[1. 1. 1. 1. 1. 1. 1. 1. 1. 1. 1. 1. 1.]\n",
            " [1. 0. 0. 0. 0. 0. 0. 0. 0. 0. 0. 0. 0.]\n",
            " [1. 0. 1. 1. 1. 1. 1. 1. 1. 1. 1. 1. 0.]\n",
            " [1. 0. 1. 0. 0. 0. 0. 0. 0. 0. 0. 1. 0.]\n",
            " [1. 0. 1. 0. 1. 1. 1. 1. 1. 1. 0. 1. 0.]\n",
            " [1. 0. 1. 0. 1. 0. 0. 0. 0. 1. 0. 1. 0.]\n",
            " [1. 0. 1. 0. 1. 0. 1. 1. 0. 1. 0. 1. 0.]\n",
            " [1. 0. 1. 0. 1. 0. 0. 1. 0. 1. 0. 1. 0.]\n",
            " [1. 0. 1. 0. 1. 1. 1. 1. 0. 1. 0. 1. 0.]\n",
            " [1. 0. 1. 0. 0. 0. 0. 0. 0. 1. 0. 1. 0.]\n",
            " [1. 0. 1. 1. 1. 1. 1. 1. 1. 1. 0. 1. 0.]\n",
            " [1. 0. 0. 0. 0. 0. 0. 0. 0. 0. 0. 1. 0.]\n",
            " [1. 1. 1. 1. 1. 1. 1. 1. 1. 1. 1. 1. 0.]]\n",
            "====================================================================================================\n",
            "\n"
          ]
        }
      ]
    },
    {
      "cell_type": "markdown",
      "source": [
        "11. Draw the recursion tree for my_towers."
      ],
      "metadata": {
        "id": "W66OVSiAvsaA"
      }
    },
    {
      "cell_type": "code",
      "source": [
        "# my_towers function from the notebook\n",
        "# link: https://pythonnumericalmethods.berkeley.edu/notebooks/chapter06.02-Divide-and-Conquer.html\n",
        "def my_towers(N, from_tower, to_tower, alt_tower):\n",
        "    \"\"\"\n",
        "    Displays the moves required to move a tower of size N from the\n",
        "    'from_tower' to the 'to_tower'. \n",
        "    \n",
        "    'from_tower', 'to_tower' and 'alt_tower' are uniquely either \n",
        "    1, 2, or 3 referring to tower 1, tower 2, and tower 3. \n",
        "    \"\"\"\n",
        "    \n",
        "    if N != 0:\n",
        "        # recursive call that moves N-1 stack from starting tower\n",
        "        # to alternate tower\n",
        "        my_towers(N-1, from_tower, alt_tower, to_tower)\n",
        "        \n",
        "        # display to screen movement of bottom disk from starting\n",
        "        # tower to final tower\n",
        "        print(\"Move disk %d from tower %d to tower %d.\"\\\n",
        "                  %(N, from_tower, to_tower))\n",
        "        \n",
        "        # recursive call that moves N-1 stack from alternate tower\n",
        "        # to final tower\n",
        "        my_towers(N-1, alt_tower, to_tower, from_tower)\n",
        "\n",
        "my_towers(3, 1, 3, 2)"
      ],
      "metadata": {
        "id": "LuhJMfUsj53J",
        "colab": {
          "base_uri": "https://localhost:8080/"
        },
        "outputId": "abbde69e-b10e-46c0-f1af-dc5d2fe653ef"
      },
      "execution_count": 58,
      "outputs": [
        {
          "output_type": "stream",
          "name": "stdout",
          "text": [
            "Move disk 1 from tower 1 to tower 3.\n",
            "Move disk 2 from tower 1 to tower 2.\n",
            "Move disk 1 from tower 3 to tower 2.\n",
            "Move disk 3 from tower 1 to tower 3.\n",
            "Move disk 1 from tower 2 to tower 1.\n",
            "Move disk 2 from tower 2 to tower 3.\n",
            "Move disk 1 from tower 1 to tower 3.\n"
          ]
        }
      ]
    },
    {
      "cell_type": "markdown",
      "source": [
        "__explaining the recursion:__\n",
        "\n",
        "input: N = 3, from_tower = 1, to_tower = 3, alt_tower = 2.\n",
        "\n",
        "__note:__ first recursive call before the print statement moves the disk __from_tower__ to __alt_tower__ and thus we swap second and third arguments i.e. __to_tower__ = __alt_tower__ and __alt_tower__ = __to_tower__. In the above example it would become N = 2, __from_tower__ = 1, __to_tower__ = 2, __alt_tower__ = 3.\n",
        "\n",
        "Similarly, second recursive call after the print statement moves the disk from __alt_tower__ to __to_tower__. Here, __from_tower__ = __alt_tower__ and __alt_tower__ = __from_tower__. In the above example it would become N = 2, __from_tower__ = 2, __to_tower__ = 3, __alt_tower__ = 1.\n",
        "\n",
        "---------------------------------------------------------------------------\n",
        "\n",
        "my_towers(N = 3, from_tower = 1, to_tower = 3, alt_tower = 2) __(call 0)__\n",
        "\n",
        "__First iteration:__\n",
        "\n",
        "N != 0\n",
        "\n",
        "__swap to_tower and alt_tower__ <br>\n",
        "my_towers(N = 2, from_tower = 1, to_tower = 2, alt_tower = 3) __(call 1)__\n",
        "\n",
        "__Second iteration:__\n",
        "\n",
        "input: my_towers(N = 2, from_tower = 1, to_tower = 2, alt_tower = 3):\n",
        "\n",
        "N != 0\n",
        "\n",
        "my_towers(N = 1, from_tower = 1, to_tower = 3, alt_tower = 2) __(call 2)__\n",
        "\n",
        "__Third iteration:__\n",
        "\n",
        "input: my_towers(N = 1, from_tower = 1, to_tower = 3, alt_tower = 2):\n",
        "\n",
        "N != 0\n",
        "\n",
        "my_towers(N = 0, from_tower = 1, to_tower = 3, alt_tower = 2) __(call 3)__\n",
        "\n",
        "__Fourth iteration:__\n",
        "\n",
        "input: my_towers(N = 0, from_tower = 1, to_tower = 3, alt_tower = 2)\n",
        "\n",
        "N == 0\n",
        "\n",
        "nothing else happens. Now we got to the base case. Now, we start with print statement of __call 2__ and move to the second recursive function in __call 2__.\n",
        "\n",
        "__print(\"Move disk 1 from tower 1 to tower 3.\")__\n",
        "\n",
        "__swap from_tower and alt_tower from call 2__ <br>\n",
        "my_towers(N = 0, from_tower = 2, to_tower = 3, alt_tower = 1) __(call 4)__\n",
        "\n",
        "\n",
        "__Fifth iteration:__\n",
        "\n",
        "input: my_towers(N = 0, from_tower = 2, to_tower = 3, alt_tower = 1)\n",
        "\n",
        "N == 0\n",
        "\n",
        "now we finished both the recursive calls of N = 1 and so now we move to __call 1__ print statement and pass it to the second recursive function.\n",
        "\n",
        "__print(\"Move disk 2 from tower 1 to tower 2.\")__\n",
        "\n",
        "my_towers(N = 1, from_tower = 3, to_tower = 2, alt_tower = 1) __(call 5)__\n",
        "\n",
        "\n",
        "__Sixth iteration:__\n",
        "\n",
        "input: my_towers(N = 1, from_tower = 3, to_tower = 2, alt_tower = 1)\n",
        "\n",
        "N != 0\n",
        "\n",
        "my_towers(N = 0, from_tower = 3, to_tower = 1, alt_tower = 2) __(call 6)__\n",
        "\n",
        "\n",
        "__Seventh iteration:__\n",
        "\n",
        "input: my_towers(N = 0, from_tower = 3, to_tower = 1, alt_tower = 2)\n",
        "\n",
        "N == 0\n",
        "\n",
        "now we execute print statement for __call 5__\n",
        "\n",
        "__print(\"Move disk 1 from tower 3 to tower 2.\")__\n",
        "\n",
        "my_towers(N = 0, from_tower = 1, to_tower = 2, alt_tower = 3) __(call 7)__\n",
        "\n",
        "__Eighth iteration:__\n",
        "\n",
        "input: my_towers(N = 0, from_tower = 1, to_tower = 2, alt_tower = 3)\n",
        "\n",
        "N == 0\n",
        "\n",
        "here, we finish both recursive calls of N = 2 and thus the first recursive call of the original input is finished. Now, we execute the print statement of our original input __call 0__ and move that to the second recursive call.\n",
        "\n",
        "__print(\"Move disk 3 from tower 1 to tower 3.\")__\n",
        "\n",
        "my_towers(N = 2, from_tower = 2, to_tower = 3, alt_tower = 1) __(call 8)__\n",
        "\n",
        "__ninth iteration:__\n",
        "\n",
        "input: my_towers(N = 2, from_tower = 2, to_tower = 3, alt_tower = 1)\n",
        "\n",
        "N != 0\n",
        "\n",
        "my_towers(N = 1, from_tower = 2, to_tower = 1, alt_tower = 3) __(call 9)__\n",
        "\n",
        "__tenth iteration:__\n",
        "\n",
        "input: my_towers(N = 1, from_tower = 2, to_tower = 1, alt_tower = 3)\n",
        "\n",
        "N != 0\n",
        "\n",
        "my_towers(N = 0, from_tower = 2, to_tower = 3, alt_tower = 1) __(call 10)__\n",
        "\n",
        "__eleventh iteration:__\n",
        "\n",
        "input: my_towers(N = 0, from_tower = 2, to_tower = 3, alt_tower = 1)\n",
        "\n",
        "N == 0\n",
        "\n",
        "since we reached 0, we execute the print statement of __call 9__ and move it to the second recursive function.\n",
        "\n",
        "__print(\"Move disk 1 from tower 2 to tower 1.\")__\n",
        "\n",
        "my_towers(N = 0, from_tower = 3, to_tower = 2, alt_tower = 1) __(call 11)__\n",
        "\n",
        "__twelveth:__\n",
        "\n",
        "input: my_towers(N = 0, from_tower = 3, to_tower = 2, alt_tower = 1)\n",
        "\n",
        "N == 0\n",
        "\n",
        "we reached 0 in both recursive functions for N = 1 and so we now execute the print statement of __call 8__ with N = 2 and pass it to the second recursive function.\n",
        "\n",
        "__print(\"Move disk 2 from tower 2 to tower 3.\")__\n",
        "\n",
        "my_towers(N = 1, from_tower = 1, to_tower = 3, alt_tower = 2) __(call 12)__\n",
        "\n",
        "__thirteenth:__\n",
        "\n",
        "input: my_towers(N = 1, from_tower = 1, to_tower = 3, alt_tower = 2)\n",
        "\n",
        "N != 0\n",
        "\n",
        "my_towers(N = 0, from_tower = 1, to_tower = 2, alt_tower = 3) __(call 13)__\n",
        "\n",
        "__fourteenth:__\n",
        "\n",
        "input: my_towers(N = 0, from_tower = 1, to_tower = 2, alt_tower = 3)\n",
        "\n",
        "N == 0\n",
        "\n",
        "now we execute the print statement of __call 12__ and pass it to the second recursive function.\n",
        "\n",
        "__print(\"Move disk 1 from tower 1 to tower 3.\")__\n",
        "\n",
        "my_towers(N = 0, from_tower = 2, to_tower = 3, alt_tower = 1) __(call 14)__\n",
        "\n",
        "Here, we reached the end as after this call all recursive calls each side have been done so the program has been completed.\n",
        "\n",
        "------------------------------------------------------------------------\n",
        "\n",
        "__Recursion tree of the tower of hanoi__\n",
        "\n",
        "__first argument:__ N (disk no.)<br>\n",
        "__second argument:__ from_tower <br>\n",
        "__third argument:__ to_tower <br>\n",
        "__fourth argument:__ from_tower \n",
        "\n",
        "<pre>\n",
        "                                      (0)\n",
        "                                  (3, 1, 3, 2)\n",
        "                 (1)                                       (8)\n",
        "              (2,1,2,3)                                 (2,2,3,1)\n",
        "\n",
        "       (2)                 (5)                   (9)                (12)\n",
        "    (1,1,3,2)           (1,3,2,1)             (1,2,1,3)           (1,1,3,2)\n",
        "\n",
        "  (3)       (4)       (6)       (7)         (10)      (11)      (13)      (14)\n",
        "(0,...)   (0,...)   (0,...)   (0,...)     (0,...)   (0,...)   (0,...)   (0,...)\n",
        "               \n",
        "</pre>\n",
        "\n",
        " (3): print(\"Move disk 1 from tower 1 to tower 3.\") <br>\n",
        " (4): print(\"Move disk 2 from tower 1 to tower 2.\") <br>\n",
        " (6): print(\"Move disk 1 from tower 3 to tower 2.\") <br>\n",
        " (7): print(\"Move disk 3 from tower 1 to tower 3.\") <br>\n",
        "(10): print(\"Move disk 1 from tower 2 to tower 1.\") <br>\n",
        "(11): print(\"Move disk 2 from tower 2 to tower 3.\") <br>\n",
        "(13): print(\"Move disk 1 from tower 1 to tower 3.\") <br>\n",
        "(14): Final call after which the program run is completed.\n"
      ],
      "metadata": {
        "id": "iUUx3sv50dWz"
      }
    },
    {
      "cell_type": "markdown",
      "source": [
        "12. Rewrite the Towers of Hanoi function in this chapter without using recursion."
      ],
      "metadata": {
        "id": "dgukTn_l2ozQ"
      }
    },
    {
      "cell_type": "code",
      "source": [
        "def tower_hanoi(n, source, target, aux):\n",
        "\n",
        "  # input is a list that will keep track of all the inputs that are being passed in\n",
        "  input = [(n,source,target,aux)]\n",
        "\n",
        "  # indicator_dict is a dictionary where the key is an input that has been processed and a list of two elements \n",
        "  # indicating whether the input has passed through both the operations. So, for example if input is (2,1,3,2)\n",
        "  # then it needs to first swop to and alt (1,1,2,3) and then swop from and alt (1,2,3,1). If both of these have\n",
        "  # been processed then we get {(2,1,3,2): [1,1]} indicating it has passed through both recursive operations.  \n",
        "  indicator_dict = {(n,source,target,aux): [0,1]} # root only has to run from the left\n",
        "  \n",
        "  n_ops = 0 # n_ops to keep track of number of iterations performed\n",
        "  N = n # keeping track of the original number of disks\n",
        "  root = (n,source,target,aux) # this is the root that will pass through the iteration twice, one in between and one at the end\n",
        "  root_process = 0 # this keeps track of whther the root has been passed through the print statement.\n",
        "\n",
        "  while input:\n",
        "\n",
        "      # if several operations have been passed and we get to the root then it means the program has passed through the left branch.\n",
        "      # Thus, we remove all other prior operations 2 levels\n",
        "      # below the root. If original n = 3 then remove all branches with n = 1. This allows us to re-process same branches\n",
        "      # to the right side of the root.\n",
        "      if n_ops > 0 and input[-1] == root:\n",
        "          indicator_dict = {k:v for (k,v) in indicator_dict.items() if k[0] >= N-1}\n",
        "\n",
        "      # take the last value in input list as initial argument    \n",
        "      n, source, target, aux = input[-1]\n",
        "\n",
        "      # this first while loop mimicks the first recursive function, which is to replace to_tower and alt_tower till we get to 0\n",
        "      while n > 1:\n",
        "        new_input = (n-1, source, aux, target)\n",
        "\n",
        "        # here, if new_input has been processed before from the same branch then we will not reprocess it. That would indicate\n",
        "        # that all branches and sub-branches have been processed and thus we terminate the loop. However, if the previous branch \n",
        "        # has indicator [0,0] then the same input is coming from a different branch and thus we would recreate this input with [0,0]\n",
        "        if new_input not in indicator_dict or sum(indicator_dict[input[-1]]) == 0:\n",
        "            input.append(new_input)\n",
        "            indicator_dict[new_input] = [0,0]\n",
        "\n",
        "        else:\n",
        "            break\n",
        "\n",
        "        n, source, target, aux = new_input\n",
        "\n",
        "      # if the last input is the root and it has been processed already then we do not print it again\n",
        "      if input[-1] != root or root_process == 0:\n",
        "        # if the input has an indicator [1,1] then all the sub-branches on both sides have been processed and we do not print it again\n",
        "        if sum(indicator_dict[input[-1]]) < 2:\n",
        "          print(f\"Move disk {n} from {source} to {target}\")\n",
        "\n",
        "      # this will keep a track of how many times the root has been processed\n",
        "      if input[-1] == root:\n",
        "        root_process += 1\n",
        "\n",
        "      # once the input is printed we activate the left indicator by replacing a [0,0] with [1,0]\n",
        "      if indicator_dict[(n, source, target, aux)][0] == 0:\n",
        "        indicator_dict[(n, source, target, aux)][0] = 1\n",
        "\n",
        "      # if the input that was printed has n > 1 then we pass it to the second recursive function or move to the right of the \n",
        "      # branch by replacing from_tower and alt_tower\n",
        "      if n > 1:\n",
        "        new_input = (n-1, aux, target, source)\n",
        "\n",
        "        # if this new_input is in indicator_dict, then it means it has already been processed and we don't need to reprocess it.\n",
        "        # However, if the input has indicator [1,0] then it means it's to the right of a different branch and thus, we will\n",
        "        # replace it in the indicator with [0,0] and reprocess it.\n",
        "        if new_input not in indicator_dict:\n",
        "          input.append(new_input)\n",
        "          indicator_dict[new_input] = [0,0]\n",
        "\n",
        "        else:\n",
        "          if len(input) > 1:\n",
        "            if indicator_dict[input[-1]][0] == 1 and indicator_dict[input[-1]][1] == 0:\n",
        "              input.append(new_input)\n",
        "              indicator_dict[new_input] = [0,0]\n",
        "\n",
        "      # if the input has been printed and passed through both recursive functions then it would have indicator\n",
        "      # [1,0] at this point and thus we turn the right indicator on and make it [1,1] \n",
        "      if indicator_dict[input[-1]][0] == 1 and indicator_dict[input[-1]][-1] == 0:\n",
        "          indicator_dict[input[-1]][-1] = 1\n",
        "\n",
        "      # if indicator of this input is [1,1] then we delete it from the input list\n",
        "      if sum(indicator_dict[input[-1]]) == 2:\n",
        "          input.pop(-1)\n",
        "          \n",
        "          # if the previous input is deleted and there are still inputs left then if the next one is a branch and is\n",
        "          # [0,0] then we change it to [1,0] indicating we passed through the left side of the branch. If the prevous \n",
        "          # input is [1,0] then we change it to [1,1] \n",
        "          if len(input) > 0:\n",
        "            if sum(indicator_dict[input[-1]]) == 0:\n",
        "              indicator_dict[input[-1]] = [1,0]\n",
        "            \n",
        "            else:\n",
        "              # it could happen that we have at this point successfully passed through multiple branches at this point\n",
        "              # so all previous branches that are [1,0] will be converted to [1,1] to indicate we have passed through the right side \n",
        "              # of the branch\n",
        "              for i in input[::-1]:\n",
        "                if indicator_dict[i][0] == 1 and indicator_dict[i][1] == 0:\n",
        "                    indicator_dict[i] = [1,1]\n",
        "                else:\n",
        "                    break\n",
        "\n",
        "      n_ops += 1 # increment the n_ops at this point"
      ],
      "metadata": {
        "id": "61SwRtThyHcg"
      },
      "execution_count": 59,
      "outputs": []
    },
    {
      "cell_type": "code",
      "source": [
        "my_towers(3, 1, 3, 2)"
      ],
      "metadata": {
        "colab": {
          "base_uri": "https://localhost:8080/"
        },
        "id": "-Pg_TcyjVkgS",
        "outputId": "36c20ffd-e57f-44b1-cb8e-73e33a262cd6"
      },
      "execution_count": 60,
      "outputs": [
        {
          "output_type": "stream",
          "name": "stdout",
          "text": [
            "Move disk 1 from tower 1 to tower 3.\n",
            "Move disk 2 from tower 1 to tower 2.\n",
            "Move disk 1 from tower 3 to tower 2.\n",
            "Move disk 3 from tower 1 to tower 3.\n",
            "Move disk 1 from tower 2 to tower 1.\n",
            "Move disk 2 from tower 2 to tower 3.\n",
            "Move disk 1 from tower 1 to tower 3.\n"
          ]
        }
      ]
    },
    {
      "cell_type": "code",
      "source": [
        "tower_hanoi(3,1,3,2)"
      ],
      "metadata": {
        "colab": {
          "base_uri": "https://localhost:8080/"
        },
        "id": "Av0LnVM4yqDi",
        "outputId": "cb5ee3de-352d-462c-a6d7-43666d6251f6"
      },
      "execution_count": 61,
      "outputs": [
        {
          "output_type": "stream",
          "name": "stdout",
          "text": [
            "Move disk 1 from 1 to 3\n",
            "Move disk 2 from 1 to 2\n",
            "Move disk 1 from 3 to 2\n",
            "Move disk 3 from 1 to 3\n",
            "Move disk 1 from 2 to 1\n",
            "Move disk 2 from 2 to 3\n",
            "Move disk 1 from 1 to 3\n"
          ]
        }
      ]
    },
    {
      "cell_type": "code",
      "source": [
        "my_towers(4, 1, 3, 2)"
      ],
      "metadata": {
        "colab": {
          "base_uri": "https://localhost:8080/"
        },
        "id": "NCFlVR8CVrPp",
        "outputId": "f5e0635e-45d3-4331-812a-6524667bfe61"
      },
      "execution_count": 62,
      "outputs": [
        {
          "output_type": "stream",
          "name": "stdout",
          "text": [
            "Move disk 1 from tower 1 to tower 2.\n",
            "Move disk 2 from tower 1 to tower 3.\n",
            "Move disk 1 from tower 2 to tower 3.\n",
            "Move disk 3 from tower 1 to tower 2.\n",
            "Move disk 1 from tower 3 to tower 1.\n",
            "Move disk 2 from tower 3 to tower 2.\n",
            "Move disk 1 from tower 1 to tower 2.\n",
            "Move disk 4 from tower 1 to tower 3.\n",
            "Move disk 1 from tower 2 to tower 3.\n",
            "Move disk 2 from tower 2 to tower 1.\n",
            "Move disk 1 from tower 3 to tower 1.\n",
            "Move disk 3 from tower 2 to tower 3.\n",
            "Move disk 1 from tower 1 to tower 2.\n",
            "Move disk 2 from tower 1 to tower 3.\n",
            "Move disk 1 from tower 2 to tower 3.\n"
          ]
        }
      ]
    },
    {
      "cell_type": "code",
      "source": [
        "tower_hanoi(4,1,3,2)"
      ],
      "metadata": {
        "colab": {
          "base_uri": "https://localhost:8080/"
        },
        "id": "fRdBPndDVsIX",
        "outputId": "35af9f0d-a1ab-4659-e6dc-45d391277cc5"
      },
      "execution_count": 63,
      "outputs": [
        {
          "output_type": "stream",
          "name": "stdout",
          "text": [
            "Move disk 1 from 1 to 2\n",
            "Move disk 2 from 1 to 3\n",
            "Move disk 1 from 2 to 3\n",
            "Move disk 3 from 1 to 2\n",
            "Move disk 1 from 3 to 1\n",
            "Move disk 2 from 3 to 2\n",
            "Move disk 1 from 1 to 2\n",
            "Move disk 4 from 1 to 3\n",
            "Move disk 1 from 2 to 3\n",
            "Move disk 2 from 2 to 1\n",
            "Move disk 1 from 3 to 1\n",
            "Move disk 3 from 2 to 3\n",
            "Move disk 1 from 1 to 2\n",
            "Move disk 2 from 1 to 3\n",
            "Move disk 1 from 2 to 3\n"
          ]
        }
      ]
    },
    {
      "cell_type": "code",
      "source": [
        "my_towers(5, 1, 3, 2)"
      ],
      "metadata": {
        "colab": {
          "base_uri": "https://localhost:8080/"
        },
        "id": "zYB_SKzlGjPa",
        "outputId": "5ee91eb9-1b4a-4f1e-a2f0-625e72223bf5"
      },
      "execution_count": 64,
      "outputs": [
        {
          "output_type": "stream",
          "name": "stdout",
          "text": [
            "Move disk 1 from tower 1 to tower 3.\n",
            "Move disk 2 from tower 1 to tower 2.\n",
            "Move disk 1 from tower 3 to tower 2.\n",
            "Move disk 3 from tower 1 to tower 3.\n",
            "Move disk 1 from tower 2 to tower 1.\n",
            "Move disk 2 from tower 2 to tower 3.\n",
            "Move disk 1 from tower 1 to tower 3.\n",
            "Move disk 4 from tower 1 to tower 2.\n",
            "Move disk 1 from tower 3 to tower 2.\n",
            "Move disk 2 from tower 3 to tower 1.\n",
            "Move disk 1 from tower 2 to tower 1.\n",
            "Move disk 3 from tower 3 to tower 2.\n",
            "Move disk 1 from tower 1 to tower 3.\n",
            "Move disk 2 from tower 1 to tower 2.\n",
            "Move disk 1 from tower 3 to tower 2.\n",
            "Move disk 5 from tower 1 to tower 3.\n",
            "Move disk 1 from tower 2 to tower 1.\n",
            "Move disk 2 from tower 2 to tower 3.\n",
            "Move disk 1 from tower 1 to tower 3.\n",
            "Move disk 3 from tower 2 to tower 1.\n",
            "Move disk 1 from tower 3 to tower 2.\n",
            "Move disk 2 from tower 3 to tower 1.\n",
            "Move disk 1 from tower 2 to tower 1.\n",
            "Move disk 4 from tower 2 to tower 3.\n",
            "Move disk 1 from tower 1 to tower 3.\n",
            "Move disk 2 from tower 1 to tower 2.\n",
            "Move disk 1 from tower 3 to tower 2.\n",
            "Move disk 3 from tower 1 to tower 3.\n",
            "Move disk 1 from tower 2 to tower 1.\n",
            "Move disk 2 from tower 2 to tower 3.\n",
            "Move disk 1 from tower 1 to tower 3.\n"
          ]
        }
      ]
    },
    {
      "cell_type": "code",
      "source": [
        "tower_hanoi(5,1,3,2)"
      ],
      "metadata": {
        "colab": {
          "base_uri": "https://localhost:8080/"
        },
        "id": "V0guKqYKGmL7",
        "outputId": "e777e6d3-f1fa-4a15-d4ff-605837576f8f"
      },
      "execution_count": 65,
      "outputs": [
        {
          "output_type": "stream",
          "name": "stdout",
          "text": [
            "Move disk 1 from 1 to 3\n",
            "Move disk 2 from 1 to 2\n",
            "Move disk 1 from 3 to 2\n",
            "Move disk 3 from 1 to 3\n",
            "Move disk 1 from 2 to 1\n",
            "Move disk 2 from 2 to 3\n",
            "Move disk 1 from 1 to 3\n",
            "Move disk 4 from 1 to 2\n",
            "Move disk 1 from 3 to 2\n",
            "Move disk 2 from 3 to 1\n",
            "Move disk 1 from 2 to 1\n",
            "Move disk 3 from 3 to 2\n",
            "Move disk 1 from 1 to 3\n",
            "Move disk 2 from 1 to 2\n",
            "Move disk 1 from 3 to 2\n",
            "Move disk 5 from 1 to 3\n",
            "Move disk 1 from 2 to 1\n",
            "Move disk 2 from 2 to 3\n",
            "Move disk 1 from 1 to 3\n",
            "Move disk 3 from 2 to 1\n",
            "Move disk 1 from 3 to 2\n",
            "Move disk 2 from 3 to 1\n",
            "Move disk 1 from 2 to 1\n",
            "Move disk 4 from 2 to 3\n",
            "Move disk 1 from 1 to 3\n",
            "Move disk 2 from 1 to 2\n",
            "Move disk 1 from 3 to 2\n",
            "Move disk 3 from 1 to 3\n",
            "Move disk 1 from 2 to 1\n",
            "Move disk 2 from 2 to 3\n",
            "Move disk 1 from 1 to 3\n"
          ]
        }
      ]
    },
    {
      "cell_type": "code",
      "source": [
        "my_towers(4, 1, 2, 3)"
      ],
      "metadata": {
        "colab": {
          "base_uri": "https://localhost:8080/"
        },
        "id": "wc-yJLHLCPPN",
        "outputId": "432fb996-826d-4dd4-f3c0-e15ee9be9f6f"
      },
      "execution_count": 66,
      "outputs": [
        {
          "output_type": "stream",
          "name": "stdout",
          "text": [
            "Move disk 1 from tower 1 to tower 3.\n",
            "Move disk 2 from tower 1 to tower 2.\n",
            "Move disk 1 from tower 3 to tower 2.\n",
            "Move disk 3 from tower 1 to tower 3.\n",
            "Move disk 1 from tower 2 to tower 1.\n",
            "Move disk 2 from tower 2 to tower 3.\n",
            "Move disk 1 from tower 1 to tower 3.\n",
            "Move disk 4 from tower 1 to tower 2.\n",
            "Move disk 1 from tower 3 to tower 2.\n",
            "Move disk 2 from tower 3 to tower 1.\n",
            "Move disk 1 from tower 2 to tower 1.\n",
            "Move disk 3 from tower 3 to tower 2.\n",
            "Move disk 1 from tower 1 to tower 3.\n",
            "Move disk 2 from tower 1 to tower 2.\n",
            "Move disk 1 from tower 3 to tower 2.\n"
          ]
        }
      ]
    },
    {
      "cell_type": "code",
      "source": [
        "tower_hanoi(4,1,2,3)"
      ],
      "metadata": {
        "colab": {
          "base_uri": "https://localhost:8080/"
        },
        "id": "2C8lfMaUCQh6",
        "outputId": "b4e912d6-d0d5-4370-de77-81de78c30cee"
      },
      "execution_count": 67,
      "outputs": [
        {
          "output_type": "stream",
          "name": "stdout",
          "text": [
            "Move disk 1 from 1 to 3\n",
            "Move disk 2 from 1 to 2\n",
            "Move disk 1 from 3 to 2\n",
            "Move disk 3 from 1 to 3\n",
            "Move disk 1 from 2 to 1\n",
            "Move disk 2 from 2 to 3\n",
            "Move disk 1 from 1 to 3\n",
            "Move disk 4 from 1 to 2\n",
            "Move disk 1 from 3 to 2\n",
            "Move disk 2 from 3 to 1\n",
            "Move disk 1 from 2 to 1\n",
            "Move disk 3 from 3 to 2\n",
            "Move disk 1 from 1 to 3\n",
            "Move disk 2 from 1 to 2\n",
            "Move disk 1 from 3 to 2\n"
          ]
        }
      ]
    },
    {
      "cell_type": "markdown",
      "source": [
        "working through how the iterative version is working\n",
        "\n",
        "input: (3,1,3,2)\n",
        "\n",
        "input = [(3,1,3,2)]\n",
        "\n",
        "indicator_dict = {(3,1,3,2): [0,1]} <br>\n",
        "n_ops = 0 <br>\n",
        "N = n <br>\n",
        "root = (3,1,3,2) <br>\n",
        "root_process = 0 \n",
        "\n",
        "now we enter the loop:\n",
        "\n",
        "input list is not empty so we continue\n",
        "\n",
        "__iteration 1:__\n",
        "\n",
        "__take the last value in input list as initial argument__ <br>   \n",
        "n, source, target, aux = (3,1,3,2)\n",
        "\n",
        "n_ops == 0 so we do not modify the dictionary\n",
        "\n",
        "now we enter the first recursive function mimicked by the while loop.\n",
        "\n",
        "__we swop to_tower and alt_tower__ <br>\n",
        "new_input = (2,1,2,3)\n",
        "\n",
        "__append to input list and add to indicator_dict__ <br>\n",
        "input = [(3,1,3,2), (2,1,2,3)]\n",
        "\n",
        "indicator_dict = {(3,1,3,2): [0,1], (2,1,2,3): [0,0]}\n",
        "\n",
        "__n > 1 so we continue the above operations__\n",
        "\n",
        "new_input = (1,1,3,2)\n",
        "\n",
        "input = [(3,1,3,2), (2,1,2,3), (1,1,3,2)]\n",
        "\n",
        "indicator_dict = {(3,1,3,2): [0,1], (2,1,2,3): [0,0], (1,1,3,2): [0,0]}\n",
        "\n",
        "__n = 1 so we exit the loop as the next n-1 would be 0__\n",
        "\n",
        "__input is not the root and its indicators are not [1,1] so we print__\n",
        "\n",
        "print('Move disk 1 from 1 to 3.')\n",
        "\n",
        "__now we activate the left key__ <br>\n",
        "indicator_dict = {(3,1,3,2): [0,1], (2,1,2,3): [0,0], (1,1,3,2): [1,0]}\n",
        "\n",
        "__n is not greater than 1 so we do not pass it to the right as the next n-1 to the right is 0 and so we have reached the end. Hence, we turn on the right indicator.__ <br>\n",
        "indicator_dict = {(3,1,3,2): [0,1], (2,1,2,3): [0,0], (1,1,3,2): [1,1]}\n",
        "\n",
        "__since indicator is [1,1], we delete the input__ <br>\n",
        "input = [(3,1,3,2), (2,1,2,3)]\n",
        "      \n",
        "__(2,1,2,3) has indicators [0,0] and so we turn it to [1,0] as we have passed to the left of (2,1,2,3)__ <br>\n",
        "indicator_dict = {(3,1,3,2): [0,1], (2,1,2,3): [1,0], (1,1,3,2): [1,1]}\n",
        "      \n",
        "\n",
        "__increment n_ops by 1 as we reached the end__ <br>\n",
        "n_ops = 1\n",
        "\n",
        "---------------------------------------------------------------------------\n",
        "\n",
        "__iteration 2:__\n",
        "\n",
        "__take the last value in input list as initial argument__ <br>   \n",
        "n, source, target, aux = (2,1,2,3)\n",
        "\n",
        "n_ops == 1 and the next input is not the root so we do not modify the dictionary\n",
        "\n",
        "now we enter the first recursive function mimicked by the while loop.\n",
        "\n",
        "__we swop to_tower and alt_tower__ <br>\n",
        "new_input = (1,1,3,2)\n",
        "\n",
        "__new_input is in indicator_dict and both indicators of current input are not 0, and so we break out of this loop as we have already passed through the left of (2,1,2,3)__\n",
        "\n",
        "__input is not the root and its indicators are not [1,1] so we print__\n",
        "\n",
        "print('Move disk 2 from 1 to 2.')\n",
        "\n",
        "__here the left key is already activated.__ <br>\n",
        "indicator_dict = {(3,1,3,2): [0,1], (2,1,2,3): [1,0], (1,1,3,2): [1,1]}\n",
        "\n",
        "__n is greater than 1 so we enter the right side of the input.__ <br>\n",
        "\n",
        "__we now swop from_tower and alt_tower__ <br>\n",
        "new_input = (1,3,2,1)\n",
        "\n",
        "input = input = [(3,1,3,2), (2,1,2,3), (1,3,2,1)] <br>\n",
        "indicator_dict = {(3,1,3,2): [0,1], (2,1,2,3): [1,0], (1,1,3,2): [1,1], (1,3,2,1): [0,0]}\n",
        "\n",
        "__since indicator is not [1,1], we do nothing else__ <br>      \n",
        "\n",
        "__increment n_ops by 1 as we reached the end__ <br>\n",
        "n_ops = 2\n",
        "\n",
        "------------------------------------------------------------------------\n",
        "\n",
        "__iteration 3:__\n",
        "\n",
        "__take the last value in input list as initial argument__ <br>   \n",
        "n, source, target, aux = (1,3,2,1)\n",
        "\n",
        "n_ops == 2 and the next input is not the root so we do not modify the dictionary\n",
        "\n",
        "since n is not greater than 1 we do not enter the first loop.\n",
        "\n",
        "__input is not the root and its indicators are not [1,1] so we print__\n",
        "\n",
        "print('Move disk 1 from 3 to 2.')\n",
        "\n",
        "__now we activate the left indicator.__ <br>\n",
        "indicator_dict = {(3,1,3,2): [0,1], (2,1,2,3): [1,0], (1,1,3,2): [1,1], (1,3,2,1): [1,0]}\n",
        "\n",
        "__n is not greater than 1 and so we do not enter the right side as we are at the end.__ <br>\n",
        "\n",
        "__now we turn on the right indicator.__\n",
        "indicator_dict = {(3,1,3,2): [0,1], (2,1,2,3): [1,0], (1,1,3,2): [1,1], (1,3,2,1): [1,1]}\n",
        "\n",
        "__since indicator is [1,1], we delete the input__ <br>\n",
        "input = [(3,1,3,2), (2,1,2,3)]\n",
        "\n",
        "__(2,1,2,3) has indicator [1,0] and so we turn it to [1,1] as we have passed both sides of (2,1,2,3). we then check the previousone (3,1,3,2) where the left indicator is 0 and so we stop.__      \n",
        "indicator_dict = {(3,1,3,2): [0,1], (2,1,2,3): [1,1], (1,1,3,2): [1,1], (1,3,2,1): [1,1]}\n",
        "\n",
        "__increment n_ops by 1 as we reached the end__ <br>\n",
        "n_ops = 3\n",
        "\n",
        "------------------------------------------------------------------------\n",
        "\n",
        "__iteration 4:__\n",
        "\n",
        "__take the last value in input list as initial argument__ <br>   \n",
        "n, source, target, aux = (2,1,2,3)\n",
        "\n",
        "n_ops == 3 and the next input is not the root so we do not modify the dictionary\n",
        "\n",
        "since n is greater than 1 we enter the first loop.\n",
        "\n",
        "__we swop to_tower and alt_tower__ <br>\n",
        "new_input = (1,1,3,2)\n",
        "\n",
        "__new_input is in indicator_dict and both indicators of current input are not 0, and so we break out of this loop as we have already passed through the left of (2,1,2,3)__\n",
        "\n",
        "__input is not the root but the indicators are [1,1] so we do not print__\n",
        "\n",
        "__the left indicator is already 1.__ <br>\n",
        "\n",
        "__n is greater than 1 and so we enter the right side__<br>\n",
        "\n",
        "__we now swop from_tower and alt_tower__ <br>\n",
        "new_input = (1,3,2,1)\n",
        "\n",
        "__new_input is in indicator_dict and the right indicator of current input is not 0 and so we move on.__\n",
        "\n",
        "__right indicator is already 1.__\n",
        "\n",
        "__since indicator is [1,1], we delete the input__ <br>\n",
        "input = [(3,1,3,2)]\n",
        "\n",
        "__For (3,1,3,2) is not [0,0] or [1,0]. It is at initial se value [0,1] as the root only has to run from the left. Thus, the program leaves it as is.__      \n",
        "\n",
        "__increment n_ops by 1 as we reached the end__ <br>\n",
        "n_ops = 4\n",
        "\n",
        "---------------------------------------------------------------------------\n",
        "\n",
        "__iteration 5:__\n",
        "\n",
        "__take the last value in input list as initial argument__ <br>   \n",
        "n, source, target, aux = (3,1,3,2)\n",
        "\n",
        "n_ops == 4 and the next input is the root so we remove all branches below N - 1, where N is the original number of disks.\n",
        "\n",
        "indicator_dict = {(3,1,3,2): [0,1], (2,1,2,3): [1,1]}\n",
        "\n",
        "now we enter the first recursive function mimicked by the while loop.\n",
        "\n",
        "__we swop to_tower and alt_tower__ <br>\n",
        "new_input = (2,1,2,3)\n",
        "\n",
        "__new_input is in indicator_dict and both indicators of current input are not 0, and so we break out of this loop as we have already passed through the left of (2,1,2,3)__\n",
        "\n",
        "__input is the root but its indicators are not [1,1] so we print__\n",
        "\n",
        "print('Move disk 3 from 1 to 3.')\n",
        "\n",
        "__now we activate the left key.__ <br>\n",
        "indicator_dict = {(3,1,3,2): [1,1], (2,1,2,3): [1,1]}\n",
        "\n",
        "__n is greater than 1 so we enter the right side of the input.__ <br>\n",
        "\n",
        "__we now swop from_tower and alt_tower__ <br>\n",
        "new_input = (2,2,3,1)\n",
        "\n",
        "input = [(3,1,3,2), (2,2,3,1)] <br>\n",
        "indicator_dict = {(3,1,3,2): [1,1], (2,1,2,3): [1,1], (2,2,3,1): [0,0]}\n",
        "\n",
        "__since indicator is not [1,1], we do nothing else__ <br>      \n",
        "\n",
        "__increment n_ops by 1 as we reached the end__ <br>\n",
        "n_ops = 5\n",
        "\n",
        "---------------------------------------------------------------------------\n",
        "\n",
        "__iteration 6:__\n",
        "\n",
        "__take the last value in input list as initial argument__ <br>   \n",
        "n, source, target, aux = (2,2,3,1)\n",
        "\n",
        "input is not root n_ops == 5 so we do not modify the dictionary\n",
        "\n",
        "since n > 1, we enter the first recursive function.\n",
        "\n",
        "__we swop to_tower and alt_tower__ <br>\n",
        "new_input = (1,2,1,3)\n",
        "\n",
        "__append to input list and add to indicator_dict__ <br>\n",
        "input = [(3,1,3,2), (2,2,3,1), (1,2,1,3)]\n",
        "\n",
        "indicator_dict = {(3,1,3,2): [1,1], (2,1,2,3): [1,1], (2,2,3,1): [0,0], (1,2,1,3): [0,0]}\n",
        "\n",
        "__n = 1 so we exit the loop as the next n-1 would be 0__\n",
        "\n",
        "__input is not the root and its indicators are not [1,1] so we print__\n",
        "\n",
        "print('Move disk 1 from 2 to 1.')\n",
        "\n",
        "__now we activate the left key__ <br>\n",
        "indicator_dict = {(3,1,3,2): [1,1], (2,1,2,3): [1,1], (2,2,3,1): [0,0], (1,2,1,3): [1,0]}\n",
        "\n",
        "__n is not greater than 1 so we do not pass it to the right as the next n-1 to the right is 0 and so we have reached the end. Hence, we turn on the right indicator.__ <br>\n",
        "indicator_dict = {(3,1,3,2): [1,1], (2,1,2,3): [1,1], (2,2,3,1): [0,0], (1,2,1,3): [1,1]}\n",
        "\n",
        "__since indicator is [1,1], we delete the input__ <br>\n",
        "input = [(3,1,3,2), (2,2,3,1)]\n",
        "      \n",
        "__(2,2,3,1) has indicators [0,0] and so we turn it to [1,0] as we have passed to the left of (2,2,3,1)__ <br>\n",
        "indicator_dict = {(3,1,3,2): [1,1], (2,1,2,3): [1,1], (2,2,3,1): [1,0], (1,2,1,3): [1,1]}\n",
        "      \n",
        "__increment n_ops by 1 as we reached the end__ <br>\n",
        "n_ops = 6\n",
        "\n",
        "---------------------------------------------------------------------------\n",
        "\n",
        "__iteration 7:__\n",
        "\n",
        "__take the last value in input list as initial argument__ <br>   \n",
        "n, source, target, aux = (2,2,3,1)\n",
        "\n",
        "n_ops == 6 and the next input is not the root so we do nothing.\n",
        "\n",
        "now we enter the first recursive function.\n",
        "\n",
        "__we swop to_tower and alt_tower__ <br>\n",
        "new_input = (1,2,1,3)\n",
        "\n",
        "__new_input is in indicator_dict and both indicators of current input are not 0, and so we break out of this loop as we have already passed through the left of (2,2,3,1)__\n",
        "\n",
        "__input is the root but its indicators are not [1,1] so we print__\n",
        "\n",
        "print('Move disk 2 from 2 to 3.')\n",
        "\n",
        "__left key is already activated.__ <br>\n",
        "\n",
        "__n is greater than 1 so we enter the right side of the input.__ <br>\n",
        "\n",
        "__we now swop from_tower and alt_tower__ <br>\n",
        "new_input = (1,1,3,2)\n",
        "\n",
        "input = [(3,1,3,2), (2,2,3,1), (1,1,3,2)] <br>\n",
        "indicator_dict = {(3,1,3,2): [1,1], (2,1,2,3): [1,1], (2,2,3,1): [1,0], (1,2,1,3): [1,1], (1,1,3,2): [0,0]}\n",
        "\n",
        "__since indicator is not [1,1], we do nothing else__ <br>      \n",
        "\n",
        "__increment n_ops by 1 as we reached the end__ <br>\n",
        "n_ops = 7\n",
        "\n",
        "---------------------------------------------------------------------------\n",
        "\n",
        "__iteration 8:__\n",
        "\n",
        "__take the last value in input list as initial argument__ <br>   \n",
        "n, source, target, aux = (1,1,3,2)\n",
        "\n",
        "n_ops == 7 and the next input is not the root so we move on.\n",
        "\n",
        "since n = 1, we do not enter the first loop.\n",
        "\n",
        "__input is not the root and its indicators are not [1,1] so we print__\n",
        "\n",
        "print('Move disk 1 from 1 to 3.')\n",
        "\n",
        "__now we activate the left key.__ <br>\n",
        "indicator_dict = {(3,1,3,2): [1,1], (2,1,2,3): [1,1], (2,2,3,1): [1,0], (1,2,1,3): [1,1], (1,1,3,2): [1,0]}\n",
        "\n",
        "__n is not greater than 1 so we move on.__ <br>\n",
        "\n",
        "__now we activate the right key.__ <br>\n",
        "indicator_dict = {(3,1,3,2): [1,1], (2,1,2,3): [1,1], (2,2,3,1): [1,0], (1,2,1,3): [1,1], (1,1,3,2): [1,1]}\n",
        "\n",
        "__since indicator is [1,1], we delete the input__ <br>\n",
        "input = [(3,1,3,2), (2,2,3,1)]\n",
        "      \n",
        "__(2,2,3,1) has indicators [1,0] and so we turn it to [1,1] as we have passed both sides of (2,2,3,1). However, (3,1,3,2) is not [1,0] and so we stop__.<br>\n",
        "indicator_dict = {(3,1,3,2): [1,1], (2,1,2,3): [1,1], (2,2,3,1): [1,1], (1,2,1,3): [1,1], (1,1,3,2): [1,1]}     \n",
        "\n",
        "__increment n_ops by 1 as we reached the end__ <br>\n",
        "n_ops = 8\n",
        "\n",
        "------------------------------------------------------------------------\n",
        "\n",
        "__iteration 9:__\n",
        "\n",
        "__take the last value in input list as initial argument__ <br>   \n",
        "n, source, target, aux = (2,2,3,1)\n",
        "\n",
        "n_ops == 8 and the next input is not the root so we move on.\n",
        "\n",
        "since n is greater than 1 we enter the first loop.\n",
        "\n",
        "__we swop to_tower and alt_tower__ <br>\n",
        "new_input = (1,2,3,1)\n",
        "\n",
        "__new_input is in indicator_dict and both indicators of current input are not 0, and so we break out of this loop as we have already passed through the left of (2,2,3,1)__\n",
        "\n",
        "__input is not the root but the indicators are [1,1] so we do not print__\n",
        "\n",
        "__the left indicator is already 1.__ <br>\n",
        "\n",
        "__n is greater than 1 and so we enter the right side__<br>\n",
        "\n",
        "__we now swop from_tower and alt_tower__ <br>\n",
        "new_input = (1,1,3,2)\n",
        "\n",
        "__new_input is in indicator_dict and the right indicator of current input is not 0 and so we move on.__\n",
        "\n",
        "__right indicator is already 1.__\n",
        "\n",
        "__since indicator is [1,1], we delete the input__ <br>\n",
        "input = [(3,1,3,2)]\n",
        "\n",
        "__(3,1,3,2) is already [1,1] and so move on.__      \n",
        "\n",
        "__increment n_ops by 1 as we reached the end__ <br>\n",
        "n_ops = 9\n",
        "\n",
        "------------------------------------------------------------------------\n",
        "\n",
        "__iteration 10:__\n",
        "\n",
        "__take the last value in input list as initial argument__ <br>   \n",
        "n, source, target, aux = (3,1,3,2)\n",
        "\n",
        "n_ops == 10 and the next input is the root so we remove all branches below N - 1.\n",
        "\n",
        "indicator_dict = {(3,1,3,2): [1,1], (2,1,2,3): [1,1], (2,2,3,1): [1,1]}    \n",
        "\n",
        "since n is greater than 1 we enter the first loop.\n",
        "\n",
        "__we swop to_tower and alt_tower__ <br>\n",
        "new_input = (2,1,2,3)\n",
        "\n",
        "__new_input is in indicator_dict and both indicators of current input are not 0, and so we break out of this loop as we have already passed through the left of (2,1,2,3)__\n",
        "\n",
        "__input is not the root but the indicators are [1,1] so we do not print__\n",
        "\n",
        "__the left indicator is already 1.__ <br>\n",
        "\n",
        "__n is greater than 1 and so we enter the right side__<br>\n",
        "\n",
        "__we now swop from_tower and alt_tower__ <br>\n",
        "new_input = (2,2,3,1)\n",
        "\n",
        "__new_input is in indicator_dict and the right indicator of current input is not 0 and so we move on.__\n",
        "\n",
        "__right indicator is already 1.__\n",
        "\n",
        "__since indicator is [1,1], we delete the input__ <br>\n",
        "input = []\n",
        "\n",
        "__input is empty and so we move on.__      \n",
        "\n",
        "__increment n_ops by 1 as we reached the end__ <br>\n",
        "n_ops = 10\n",
        "\n",
        "__This is the end of the program as now input is empty.__"
      ],
      "metadata": {
        "id": "MBXqY2IEY-ZJ"
      }
    },
    {
      "cell_type": "markdown",
      "source": [
        "13. Draw the recursion tree for my_quicksort([5,4,6,2,9,1,7,3])."
      ],
      "metadata": {
        "id": "CSB6QWZ33vX7"
      }
    },
    {
      "cell_type": "code",
      "source": [
        "# recursive function from the textbook\n",
        "# link: https://pythonnumericalmethods.berkeley.edu/notebooks/chapter06.02-Divide-and-Conquer.html\n",
        "def my_quicksort(lst):\n",
        "    \n",
        "    if len(lst) <= 1:\n",
        "        # list of length 1 is easiest to sort \n",
        "        # because it is already sorted\n",
        "        \n",
        "        sorted_list = lst    \n",
        "    else:\n",
        "        \n",
        "        # select pivot as teh first element of the list\n",
        "        pivot = lst[0]\n",
        "        \n",
        "        # initialize lists for bigger and smaller elements \n",
        "        # as well those equal to the pivot\n",
        "        bigger = []\n",
        "        smaller = []\n",
        "        same = []\n",
        "        \n",
        "        # loop through list and put elements into appropriate array\n",
        "        \n",
        "        for item in lst:\n",
        "            if item > pivot:\n",
        "                bigger.append(item)\n",
        "            elif item < pivot:\n",
        "                smaller.append(item)\n",
        "            else:\n",
        "                same.append(item)\n",
        "        \n",
        "        sorted_list = my_quicksort(smaller) + same + my_quicksort(bigger)\n",
        "        \n",
        "    return sorted_list"
      ],
      "metadata": {
        "id": "xQsizt_b3d38"
      },
      "execution_count": 68,
      "outputs": []
    },
    {
      "cell_type": "code",
      "source": [
        "my_quicksort([5,4,6,2,9,1,7,3])"
      ],
      "metadata": {
        "colab": {
          "base_uri": "https://localhost:8080/"
        },
        "id": "1YJcv4qz4OvN",
        "outputId": "6be7e61c-0c3a-4d1f-971e-b3cba02e82aa"
      },
      "execution_count": 69,
      "outputs": [
        {
          "output_type": "execute_result",
          "data": {
            "text/plain": [
              "[1, 2, 3, 4, 5, 6, 7, 9]"
            ]
          },
          "metadata": {},
          "execution_count": 69
        }
      ]
    },
    {
      "cell_type": "markdown",
      "source": [
        "__explaining the recursion__\n",
        "\n",
        "lst: [5,4,6,2,9,1,7,3]\n",
        "\n",
        "len(lst) > 1 so we move on.\n",
        "\n",
        "__iteration 1__\n",
        "\n",
        "pivot = 5\n",
        "\n",
        "bigger = [] <br>\n",
        "smaller = [] <br>\n",
        "same = []\n",
        "\n",
        "now we enter the for loop using each value in the list.\n",
        "\n",
        "5 = 5 <br>\n",
        "same.append(5) <br>\n",
        "same = [5]\n",
        "\n",
        "4 < 5 <br>\n",
        "smaller.append(4) <br>\n",
        "smaller = [4]\n",
        "\n",
        "6 > 5 <br>\n",
        "bigger.append(6) <br>\n",
        "bigger = [6]\n",
        "\n",
        "2 < 5 <br>\n",
        "smaller.append(2) <br>\n",
        "smaller = [4,2]\n",
        "\n",
        "9 > 5 <br>\n",
        "bigger.append(9) <br>\n",
        "bigger = [6,9]\n",
        "\n",
        "1 < 5 <br>\n",
        "smaller.append(1) <br>\n",
        "smaller = [4,2,1]\n",
        "\n",
        "7 > 5 <br>\n",
        "bigger.append(7) <br>\n",
        "bigger = [6,9,7]\n",
        "\n",
        "3 < 5 <br>\n",
        "smaller.append(3) <br>\n",
        "smaller = [4,2,1,3]\n",
        "\n",
        "sorted_list = my_quicksort([4,2,1,3]) + [5] + my_quicksort([6,9,7])\n",
        "\n",
        "now we first wait for the output of my_quicksort([4,2,1,3]) - (i)\n",
        "\n",
        "--------------------------------------------------------------------------\n",
        "\n",
        "__iteration 2__\n",
        "\n",
        "lst: my_quicksort([4,2,1,3])\n",
        "\n",
        "len(lst) > 1 and so we move on\n",
        "\n",
        "pivot = 4\n",
        "\n",
        "bigger = [] <br>\n",
        "smaller = [] <br>\n",
        "same = []\n",
        "\n",
        "now we enter the for loop using each value in the list.\n",
        "\n",
        "4 = 4 <br>\n",
        "same.append(4) <br>\n",
        "same = [4]\n",
        "\n",
        "2 < 4 <br>\n",
        "smaller.append(2) <br>\n",
        "smaller = [2]\n",
        "\n",
        "1 < 4 <br>\n",
        "smaller.append(1) <br>\n",
        "smaller = [2,1]\n",
        "\n",
        "3 < 4 <br>\n",
        "smaller.append(3) <br>\n",
        "smaller = [2,1,3]\n",
        "\n",
        "sorted_list = my_quicksort([2,1,3]) + [4] + my_quicksort([]) - (ii)\n",
        "\n",
        "we now wait for my_quicksort([2,1,3])\n",
        "\n",
        "---------------------------------------------------------------------------\n",
        "\n",
        "__iteration 3__\n",
        "\n",
        "lst: my_quicksort([2,1,3])\n",
        "\n",
        "len(lst) > 1 and so we move on\n",
        "\n",
        "pivot = 2\n",
        "\n",
        "bigger = [] <br>\n",
        "smaller = [] <br>\n",
        "same = []\n",
        "\n",
        "now we enter the for loop using each value in the list.\n",
        "\n",
        "2 = 2 <br>\n",
        "same.append(2) <br>\n",
        "same = [2]\n",
        "\n",
        "1 < 2 <br>\n",
        "smaller.append(1) <br>\n",
        "smaller = [1]\n",
        "\n",
        "3 > 2 <br>\n",
        "bigger.append(3) <br>\n",
        "bigger = [3]\n",
        "\n",
        "sorted_list = my_quicksort([1]) + [2] + my_quicksort([3]) - (iii)\n",
        "\n",
        "we now wait for my_quicksort([1])\n",
        "\n",
        "---------------------------------------------------------------------------\n",
        "\n",
        "__iteration 4__\n",
        "\n",
        "lst: my_quicksort([1])\n",
        "\n",
        "len(lst) = 1 and thus we have reached the base case and we return the list as is.\n",
        "\n",
        "substituting this in (iii)\n",
        "\n",
        "sorted_list = my_quicksort([1]) + [2] + my_quicksort([3]) <br>\n",
        "sorted_list = [1] + [2] + my_quicksort([3]) - (iv)\n",
        "\n",
        "we now wait for my_quicksort([3])\n",
        "\n",
        "---------------------------------------------------------------------------\n",
        "\n",
        "__iteration 5__\n",
        "\n",
        "lst: my_quicksort([3])\n",
        "\n",
        "len(lst) = 1 and thus we we return the list as is.\n",
        "\n",
        "substituting this in (iv)\n",
        "\n",
        "sorted_list = [1] + [2] + [3] <br>\n",
        "sorted_list = [1,2,3]\n",
        "\n",
        "substituting this in (ii) we get\n",
        "\n",
        "sorted_list = my_quicksort([2,1,3]) + [4] + my_quicksort([]) <br>\n",
        "sorted_list = [1,2,3] + [4] + my_quicksort([]) - (v)\n",
        "\n",
        "we now wait for my_quicksort([])\n",
        "\n",
        "---------------------------------------------------------------------------\n",
        "\n",
        "__iteration 6__\n",
        "\n",
        "lst: my_quicksort([])\n",
        "\n",
        "len(lst) < 1 and thus we we return the list as is.\n",
        "\n",
        "substituting this in (v)\n",
        "\n",
        "sorted_list = [1,2,3] + [4] + my_quicksort([]) <br>\n",
        "sorted_list = [1,2,3] + [4] + [] <br>\n",
        "sorted_list = [1,2,3,4]\n",
        "\n",
        "substituting this in (i) we get\n",
        "\n",
        "sorted_list = my_quicksort([2,1,3]) + [4] + my_quicksort([]) <br>\n",
        "sorted_list = [1,2,3] + [4] + my_quicksort([])\n",
        "\n",
        "sorted_list = my_quicksort([4,2,1,3]) + [5] + my_quicksort([6,9,7]) <br>\n",
        "sorted_list = [1,2,3,4] + [5] + my_quicksort([6,9,7]) - (vi)\n",
        "\n",
        "we now wait for my_quicksort([6,9,7])\n",
        "\n",
        "---------------------------------------------------------------------------\n",
        "\n",
        "__iteration 7__\n",
        "\n",
        "lst: my_quicksort([6,9,7])\n",
        "\n",
        "len(lst) > 1 and so we move on\n",
        "\n",
        "pivot = 6\n",
        "\n",
        "bigger = [] <br>\n",
        "smaller = [] <br>\n",
        "same = []\n",
        "\n",
        "now we enter the for loop using each value in the list.\n",
        "\n",
        "6 = 6 <br>\n",
        "same.append(6) <br>\n",
        "same = [6]\n",
        "\n",
        "9 > 6 <br>\n",
        "bigger.append(9) <br>\n",
        "bigger = [9]\n",
        "\n",
        "7 > 6 <br>\n",
        "bigger.append(7) <br>\n",
        "bigger = [9,7]\n",
        "\n",
        "sorted_list = my_quicksort([]) + [6] + my_quicksort([9,7]) - (vii)\n",
        "\n",
        "we now wait for my_quicksort([])\n",
        "\n",
        "---------------------------------------------------------------------------\n",
        "\n",
        "__iteration 8__\n",
        "\n",
        "lst: my_quicksort([])\n",
        "\n",
        "len(lst) < 1 and so we return lst as is.\n",
        "\n",
        "substituting this in (vii)\n",
        "\n",
        "sorted_list = [] + [6] + my_quicksort([9,7]) - (vii)\n",
        "\n",
        "we now wait for my_quicksort([9,7])\n",
        "\n",
        "---------------------------------------------------------------------------\n",
        "\n",
        "__iteration 9__\n",
        "\n",
        "lst: my_quicksort([9,7])\n",
        "\n",
        "len(lst) > 1 and so we move on\n",
        "\n",
        "pivot = 9\n",
        "\n",
        "bigger = [] <br>\n",
        "smaller = [] <br>\n",
        "same = []\n",
        "\n",
        "now we enter the for loop using each value in the list.\n",
        "\n",
        "9 = 9 <br>\n",
        "same.append(9) <br>\n",
        "same = [9]\n",
        "\n",
        "7 < 9 <br>\n",
        "smaller.append(7) <br>\n",
        "smaller = [7]\n",
        "\n",
        "sorted_list = my_quicksort([7]) + [9] + my_quicksort([]) - (viii)\n",
        "\n",
        "we now wait for my_quicksort([7])\n",
        "\n",
        "---------------------------------------------------------------------------\n",
        "\n",
        "__iteration 10__\n",
        "\n",
        "lst: my_quicksort([7])\n",
        "\n",
        "len(lst) = 1 and thus we we return the list as is.\n",
        "\n",
        "substituting this in (viii)\n",
        "\n",
        "sorted_list = my_quicksort([7]) + [9] + my_quicksort([]) <br>\n",
        "sorted_list = [7] + [9] + my_quicksort([]) - (ix)\n",
        "\n",
        "we now wait for my_quicksort([])\n",
        "\n",
        "---------------------------------------------------------------------------\n",
        "\n",
        "__iteration 11__\n",
        "\n",
        "lst: my_quicksort([])\n",
        "\n",
        "len(lst) < 1 and thus we we return the list as is.\n",
        "\n",
        "substituting this in (ix)\n",
        "\n",
        "sorted_list = [7] + [9] + my_quicksort([]) <br>\n",
        "sorted_list = [7] + [9] + [] <br>\n",
        "sorted_list = [7,9]\n",
        "\n",
        "substituting this in (vii)\n",
        "\n",
        "sorted_list = [] + [6] + my_quicksort([9,7]) <br>\n",
        "sorted_list = [] + [6] + [7,9] <br>\n",
        "sorted_list = [6,7,9]\n",
        "\n",
        "substituting this in vi\n",
        "\n",
        "sorted_list = [1,2,3,4] + [5] + my_quicksort([6,9,7]) <br>\n",
        "sorted_list = [1,2,3,4] + [5] + [6,7,9] <br>\n",
        "sorted_list = [1,2,3,4,5,6,7,9]\n",
        "\n",
        "end of program\n",
        "\n",
        "--------------------------------------------------------------------------\n",
        "\n",
        "__Recursion tree of quicksort__\n",
        "\n",
        "\n",
        "<pre>\n",
        "                                      (0)\n",
        "                                [5,4,6,2,9,1,7,3]\n",
        "                 (1)                                       (4)\n",
        "              [4,2,1,3]               [5]                [6,9,7]\n",
        "\n",
        "         (2)                                           (5)        \n",
        "       [2,1,3]  + [4]  + []                       [] + [6] + [9,7]\n",
        "\n",
        "     (3)                                                          (6)\n",
        "[1]  [2]  [3]                                               [7] + [9] + []\n",
        "               \n",
        "</pre>\n",
        "\n",
        " (3): [1] + [2] + [3] = [1,2,3] <br>\n",
        "      [1,2,3] + [4] + [] = [1,2,3,4] <br>\n",
        "      [1,2,3,4] + [5] = [1,2,3,4,5] <br>  \n",
        " (6): [7] + [9] + [] = [7,9] <br>\n",
        "      [] + [6] + [7,9] = [6,7,9] <br>\n",
        "      [1,2,3,4,5] + [6,7,9] = [1,2,3,4,5,6,7,9] "
      ],
      "metadata": {
        "id": "_HfWdSB34LHh"
      }
    },
    {
      "cell_type": "markdown",
      "source": [
        "14. Rewrite the quicksort function in this chapter without using recursion."
      ],
      "metadata": {
        "id": "virrL_qAYp30"
      }
    },
    {
      "cell_type": "code",
      "source": [
        "# The solution has been provided by Chat GPT. We will work on breaking it down\n",
        "\n",
        "def quicksort_iter(arr):\n",
        "    if len(arr) <= 1:\n",
        "        return arr\n",
        "\n",
        "    # Create a stack to simulate recursion\n",
        "    stack = []\n",
        "    stack.append((0, len(arr) - 1))\n",
        "\n",
        "    while stack:\n",
        "        # Pop the left and right indices from the top of the stack\n",
        "        left, right = stack.pop()\n",
        "\n",
        "        # Partition the array\n",
        "        pivot = arr[right]\n",
        "        i = left - 1\n",
        "        for j in range(left, right):\n",
        "            if arr[j] <= pivot:\n",
        "                i += 1\n",
        "                arr[i], arr[j] = arr[j], arr[i]\n",
        "        arr[i + 1], arr[right] = arr[right], arr[i + 1]\n",
        "\n",
        "        # Add new subarrays to the stack\n",
        "        if i - left > 0:\n",
        "            stack.append((left, i))\n",
        "        if right - i > 1:\n",
        "            stack.append((i + 1, right))\n",
        "\n",
        "    return arr\n"
      ],
      "metadata": {
        "id": "_ec8ZAMH1Gu8"
      },
      "execution_count": 70,
      "outputs": []
    },
    {
      "cell_type": "code",
      "source": [
        "quicksort_iter([5,4,6,2,9,1,7,3])"
      ],
      "metadata": {
        "colab": {
          "base_uri": "https://localhost:8080/"
        },
        "id": "2hSv0TTszwo4",
        "outputId": "e1877bb8-b152-49d6-9fa0-786b19b53bcd"
      },
      "execution_count": 71,
      "outputs": [
        {
          "output_type": "execute_result",
          "data": {
            "text/plain": [
              "[1, 2, 3, 4, 5, 6, 7, 9]"
            ]
          },
          "metadata": {},
          "execution_count": 71
        }
      ]
    },
    {
      "cell_type": "code",
      "source": [
        "quicksort_iter([5,10,4,6,2,9,1,7,3,17,13,8])"
      ],
      "metadata": {
        "colab": {
          "base_uri": "https://localhost:8080/"
        },
        "id": "UpSlbIbH0t-j",
        "outputId": "a8b85ead-921a-4421-96ef-a338abc67e04"
      },
      "execution_count": 72,
      "outputs": [
        {
          "output_type": "execute_result",
          "data": {
            "text/plain": [
              "[1, 2, 3, 4, 5, 6, 7, 8, 9, 10, 13, 17]"
            ]
          },
          "metadata": {},
          "execution_count": 72
        }
      ]
    },
    {
      "cell_type": "code",
      "source": [
        "quicksort_iter([5,10,4,6,5,2,2,9,1,7,3,17,13,8])"
      ],
      "metadata": {
        "colab": {
          "base_uri": "https://localhost:8080/"
        },
        "id": "Nluc2S9S04xm",
        "outputId": "c9634694-6bd5-4a13-a878-c92309a4946a"
      },
      "execution_count": 73,
      "outputs": [
        {
          "output_type": "execute_result",
          "data": {
            "text/plain": [
              "[1, 2, 2, 3, 4, 5, 5, 6, 7, 8, 9, 10, 13, 17]"
            ]
          },
          "metadata": {},
          "execution_count": 73
        }
      ]
    },
    {
      "cell_type": "markdown",
      "source": [
        "Breaking down the ChatGPT solution:\n",
        "\n",
        "arr: [5,4,6,2,9,1,7,3]\n",
        "\n",
        "len(arr) > 1\n",
        "\n",
        "stack.append((0,7)) <br>\n",
        "stack = [(0,7)]\n",
        "\n",
        "now we enter the while loop\n",
        "\n",
        "__iteration 1:__\n",
        "\n",
        "__extract the last value from stack.__ <br>\n",
        "left, right = stack.pop() = (0,7) <br>\n",
        "stack = []\n",
        "\n",
        "__arr[right]__ <br>\n",
        "pivot = arr[7] = 3\n",
        "\n",
        "__i = left - 1__ <br>\n",
        "i = 0 - 1 = -1\n",
        "\n",
        "__loop over the array from 0 to 6 with iterable j (upper bound is excluded)__\n",
        "\n",
        "__if arr[j] <= pivot then i += 1 and swap arr[i] and arr[j] else move on.__\n",
        "\n",
        "arr[j] = arr[0] = 5 <br>\n",
        "5 > 3 so we move on\n",
        "\n",
        "arr[j] = arr[1] = 4 <br>\n",
        "4 > 3 so we move on\n",
        "\n",
        "arr[j] = arr[2] = 6 <br>\n",
        "6 > 3 so we move on\n",
        "\n",
        "arr[j] = arr[3] = 2 <br>\n",
        "2 < 3\n",
        "\n",
        "i += 1 <br>\n",
        "i = 0\n",
        "\n",
        "arr[0], arr[3] = arr[3], arr[0] <br>\n",
        "arr = [2,4,6,5,9,1,7,3]\n",
        "\n",
        "arr[j] = arr[4] = 9 <br>\n",
        "9 > 3 so we move on\n",
        "\n",
        "arr[j] = arr[5] = 1 <br>\n",
        "1 < 3 \n",
        "\n",
        "i += 1 <br>\n",
        "i = 1\n",
        "\n",
        "arr[1], arr[5] = arr[5], arr[1] <br>\n",
        "arr = [2,1,6,5,9,4,7,3]\n",
        "\n",
        "arr[j] = arr[6] = 7 <br>\n",
        "7 > 3 so we move on\n",
        "\n",
        "__we sorted till i = 1, so we swop the next element with the rightmost one__ <br>\n",
        "arr[1 + 1], arr[7] = arr[7], arr[1 + 1] <br>\n",
        "arr[2], arr[7] = arr[7], arr[2] <br>\n",
        "arr = [2,1,3,5,9,4,7,6]\n",
        "\n",
        "__add new_subarrays to the stack__\n",
        "\n",
        "__if i - left > 0 then append (left, i) to the stack else move on. If right - i > 1 then append (i+1, right) to the stack else move on.__\n",
        "\n",
        "i - left = 1 - 0 = 1 <br>\n",
        "i - left > 0\n",
        "\n",
        "stack.append((0,1)) <br>\n",
        "stack = [(0,1)]\n",
        "\n",
        "right - i = 7 - 1 = 6 <br>\n",
        "right - i > 1 <br>\n",
        "i + 1 = 2\n",
        "\n",
        "stack.append((2,7)) <br>\n",
        "stack = [(0,1), (2,7)]\n",
        "\n",
        "---------------------------------------------------------------------------\n",
        "\n",
        "__iteration 2:__\n",
        "\n",
        "arr = [2,1,3,5,9,4,7,6]\n",
        "\n",
        "left, right = stack.pop() = (2,7) <br>\n",
        "stack = [(0,1)]\n",
        "\n",
        "pivot = arr[7] = 6\n",
        "\n",
        "i = 2 - 1 = 1\n",
        "\n",
        "loop over the array from 2 to 6 with iterable j\n",
        "\n",
        "arr[j] = arr[2] = 3 <br>\n",
        "3 < 6 \n",
        "\n",
        "i += 1 <br>\n",
        "i = 2\n",
        "\n",
        "arr[2], arr[2] = arr[2], arr[2] <br>\n",
        "arr = [2,1,3,5,9,4,7,6]\n",
        "\n",
        "arr[j] = arr[3] = 5 <br>\n",
        "5 < 6 so we move on\n",
        "\n",
        "i += 1 <br>\n",
        "i = 3\n",
        "\n",
        "arr[3], arr[3] = arr[3], arr[3] <br>\n",
        "arr = [2,1,3,5,9,4,7,6]\n",
        "\n",
        "arr[j] = arr[4] = 9 <br>\n",
        "9 > 6 so we move on\n",
        "\n",
        "arr[j] = arr[5] = 4 <br>\n",
        "4 < 6\n",
        "\n",
        "i += 1 <br>\n",
        "i = 4\n",
        "\n",
        "arr[4], arr[5] = arr[5], arr[4] <br>\n",
        "arr = [2,1,3,5,4,9,7,6]\n",
        "\n",
        "\n",
        "arr[j] = arr[6] = 7 <br>\n",
        "7 > 6 so we move on\n",
        "\n",
        "\n",
        "__we sorted till i = 4, so we swop the next element with the rightmost one__ <br>\n",
        "arr[4 + 1], arr[7] = arr[7], arr[4 + 1] <br>\n",
        "arr[5], arr[7] = arr[7], arr[5] <br>\n",
        "arr = [2,1,3,5,4,6,7,9]\n",
        "\n",
        "__add new_subarrays to the stack__\n",
        "\n",
        "i - left = 4 - 2 = 2 <br>\n",
        "i - left > 0\n",
        "\n",
        "stack.append((2,4)) <br>\n",
        "stack = [(0,1), (2,4)]\n",
        "\n",
        "right - i = 7 - 4 = 3 <br>\n",
        "right - i > 1 <br>\n",
        "i + 1 = 5\n",
        "\n",
        "stack.append((5,7)) <br>\n",
        "stack = [(0,1), (2,4), (5,7)]\n",
        "\n",
        "--------------------------------------------------------------------------\n",
        "\n",
        "__iteration 3:__\n",
        "\n",
        "arr = [2,1,3,5,4,6,7,9]\n",
        "\n",
        "left, right = stack.pop() = (5,7) <br>\n",
        "stack = [(0,1), (2,4)]\n",
        "\n",
        "pivot = arr[7] = 9\n",
        "\n",
        "i = 5 - 1 = 4\n",
        "\n",
        "loop over the array from 5 to 6 with iterable j\n",
        "\n",
        "arr[j] = arr[5] = 6 <br>\n",
        "6 < 9 \n",
        "\n",
        "i += 1 <br>\n",
        "i = 5\n",
        "\n",
        "arr[5], arr[5] = arr[5], arr[5] <br>\n",
        "arr = [2,1,3,5,4,6,7,9]\n",
        "\n",
        "arr[j] = arr[6] = 7 <br>\n",
        "7 < 9 so we move on\n",
        "\n",
        "i += 1 <br>\n",
        "i = 6\n",
        "\n",
        "arr[6], arr[6] = arr[6], arr[6] <br>\n",
        "arr = [2,1,3,5,4,6,7,9]\n",
        "\n",
        "__we sorted till i = 6, so we swop the next element with the rightmost one__ <br>\n",
        "arr[6 + 1], arr[7] = arr[7], arr[6 + 1] <br>\n",
        "arr[7], arr[7] = arr[7], arr[7] <br>\n",
        "arr = [2,1,3,5,4,6,7,9]\n",
        "\n",
        "__add new_subarrays to the stack__\n",
        "\n",
        "i - left = 6 - 5 = 1 <br>\n",
        "i - left > 0\n",
        "\n",
        "stack.append((5,6)) <br>\n",
        "stack = [(0,1), (2,4), (5,6)]\n",
        "\n",
        "right - i = 7 - 6 = 1 <br>\n",
        "right - i = 1 <br>\n",
        "\n",
        "Thus, we move on and do not add to the stack.\n",
        "\n",
        "--------------------------------------------------------------------------\n",
        "\n",
        "__iteration 4:__\n",
        "\n",
        "arr = [2,1,3,5,4,6,7,9]\n",
        "\n",
        "left, right = stack.pop() = (5,6) <br>\n",
        "stack = [(0,1), (2,4)]\n",
        "\n",
        "pivot = arr[6] = 7\n",
        "\n",
        "i = 5 - 1 = 4\n",
        "\n",
        "loop over the array with just 5 with iterable j\n",
        "\n",
        "arr[j] = arr[5] = 6 <br>\n",
        "6 < 7 \n",
        "\n",
        "i += 1 <br>\n",
        "i = 5\n",
        "\n",
        "arr[5], arr[5] = arr[5], arr[5] <br>\n",
        "arr = [2,1,3,5,4,6,7,9]\n",
        "\n",
        "__we sorted till i = 5, so we swop the next element with the rightmost one__ <br>\n",
        "arr[5 + 1], arr[6] = arr[6], arr[5 + 1] <br>\n",
        "arr[6], arr[6] = arr[6], arr[6] <br>\n",
        "arr = [2,1,3,5,4,6,7,9]\n",
        "\n",
        "__add new_subarrays to the stack__\n",
        "\n",
        "i - left = 5 - 5 = 0 <br>\n",
        "i - left = 0\n",
        "\n",
        "right - i = 6 - 5 = 1 <br>\n",
        "right - i = 1 <br>\n",
        "\n",
        "Thus, we move on and do not add either to the stack.\n",
        "\n",
        "---------------------------------------------------------------------------\n",
        "\n",
        "__iteration 5:__\n",
        "\n",
        "arr = [2,1,3,5,4,6,7,9]\n",
        "\n",
        "left, right = stack.pop() = (2,4) <br>\n",
        "stack = [(0,1)]\n",
        "\n",
        "pivot = arr[4] = 4\n",
        "\n",
        "i = 2 - 1 = 1\n",
        "\n",
        "loop over the array from 2 to 3 with iterable j\n",
        "\n",
        "arr[j] = arr[2] = 3 <br>\n",
        "3 < 4 \n",
        "\n",
        "i += 1 <br>\n",
        "i = 2\n",
        "\n",
        "arr[2], arr[2] = arr[2], arr[2] <br>\n",
        "arr = [2,1,3,5,4,6,7,9]\n",
        "\n",
        "arr[j] = arr[3] = 5 <br>\n",
        "5 > 4 so we move on \n",
        "\n",
        "__we sorted till i = 2, so we swop the next element with the rightmost one__ <br>\n",
        "arr[2 + 1], arr[4] = arr[4], arr[2 + 1] <br>\n",
        "arr[3], arr[4] = arr[4], arr[3] <br>\n",
        "arr = [2,1,3,4,5,6,7,9]\n",
        "\n",
        "__add new_subarrays to the stack__\n",
        "\n",
        "i - left = 2 - 2 = 0 <br>\n",
        "i - left = 0\n",
        "\n",
        "right - i = 4 - 2 = 2 <br>\n",
        "right - i > 1 <br>\n",
        "\n",
        "stack.append((3,4)) <br>\n",
        "stack = [(0,1), (3,4)]\n",
        "\n",
        "--------------------------------------------------------------------------\n",
        "\n",
        "__iteration 6:__\n",
        "\n",
        "arr = [2,1,3,4,5,6,7,9]\n",
        "\n",
        "left, right = stack.pop() = (3,4) <br>\n",
        "stack = [(0,1)]\n",
        "\n",
        "pivot = arr[4] = 5\n",
        "\n",
        "i = 3 - 1 = 2\n",
        "\n",
        "loop over the array using just 3 with iterable j\n",
        "\n",
        "arr[j] = arr[3] = 4 <br>\n",
        "4 < 5\n",
        "\n",
        "i += 1 <br>\n",
        "i = 3\n",
        "\n",
        "arr[3], arr[3] = arr[3], arr[3] <br>\n",
        "arr = [2,1,3,4,5,6,7,9]\n",
        "\n",
        "__we sorted till i = 3, so we swop the next element with the rightmost one__ <br>\n",
        "arr[3 + 1], arr[4] = arr[4], arr[3 + 1] <br>\n",
        "arr[4], arr[4] = arr[4], arr[4] <br>\n",
        "arr = [2,1,3,4,5,6,7,9]\n",
        "\n",
        "__add new_subarrays to the stack__\n",
        "\n",
        "i - left = 3 - 3 = 0 <br>\n",
        "i - left = 0\n",
        "\n",
        "right - i = 4 - 3 = 1 <br>\n",
        "right - i = 1 <br>\n",
        "\n",
        "Thus, we do not add any more to the stack and move on.\n",
        "\n",
        "--------------------------------------------------------------------------\n",
        "\n",
        "__iteration 7:__\n",
        "\n",
        "arr = [2,1,3,4,5,6,7,9]\n",
        "\n",
        "left, right = stack.pop() = (0,1) <br>\n",
        "stack = []\n",
        "\n",
        "pivot = arr[1] = 1\n",
        "\n",
        "i = 0 - 1 = -1\n",
        "\n",
        "loop over the array using just 0 with iterable j\n",
        "\n",
        "arr[j] = arr[0] = 2 <br>\n",
        "2 > 1 so we move on\n",
        "\n",
        "__we sorted till i = -1, so we swop the next element with the rightmost one__ <br>\n",
        "arr[-1 + 1], arr[1] = arr[1], arr[-1 + 1] <br>\n",
        "arr[0], arr[1] = arr[1], arr[0] <br>\n",
        "arr = [1,2,3,4,5,6,7,9]\n",
        "\n",
        "__add new_subarrays to the stack__\n",
        "\n",
        "i - left = -1 - 0 = -1 <br>\n",
        "i - left < 0\n",
        "\n",
        "right - i = 1 - (-1) = 2 <br>\n",
        "right - i > 1 <br>\n",
        "\n",
        "stack.append((0,1))\n",
        "stack = [(0,1)]\n",
        "\n",
        "--------------------------------------------------------------------------\n",
        "\n",
        "__iteration 8:__\n",
        "\n",
        "arr = [1,2,3,4,5,6,7,9]\n",
        "\n",
        "left, right = stack.pop() = (0,1) <br>\n",
        "stack = []\n",
        "\n",
        "pivot = arr[1] = 2\n",
        "\n",
        "i = 0 - 1 = -1\n",
        "\n",
        "loop over the array using just 0 with iterable j\n",
        "\n",
        "arr[j] = arr[0] = 1 <br>\n",
        "1 < 2 \n",
        "\n",
        "i += 1 <br>\n",
        "i = 0\n",
        "\n",
        "arr[0], arr[0] = arr[0], arr[0] <br>\n",
        "arr = [1,2,3,4,5,6,7,9]\n",
        "\n",
        "__we sorted till i = 0, so we swop the next element with the rightmost one__ <br>\n",
        "arr[0 + 1], arr[1] = arr[1], arr[0 + 1] <br>\n",
        "arr[1], arr[1] = arr[1], arr[1] <br>\n",
        "arr = [1,2,3,4,5,6,7,9]\n",
        "\n",
        "__add new_subarrays to the stack__\n",
        "\n",
        "i - left = 0 - 0 = 0 <br>\n",
        "i - left = 0\n",
        "\n",
        "1 - 0 = 1 - 0 = 1 <br>\n",
        "right - i = 1 <br>\n",
        "\n",
        "Thus, we do not add any more solutions to the stack.\n",
        "\n",
        "---------------------------------------------------------------------------\n",
        "\n",
        "Now, the stack is empty so we return arr.\n",
        "\n",
        "arr = [1,2,3,4,5,6,7,9]"
      ],
      "metadata": {
        "id": "LPCJbE3L2-db"
      }
    },
    {
      "cell_type": "markdown",
      "source": [
        "---"
      ],
      "metadata": {
        "id": "1cfpHbjpglwG"
      }
    },
    {
      "cell_type": "markdown",
      "source": [
        "### Additional problems on recursion"
      ],
      "metadata": {
        "id": "lnRfDq8NgnBs"
      }
    },
    {
      "cell_type": "markdown",
      "source": [
        "### Determinants using recursion\n",
        "\n",
        "A sample example of how determinants are computed.\n",
        "\n",
        "A = $\\begin{bmatrix}1 & 2 & 4\\\\2 & -1 & 3\\\\0 & 5 & 1\\end{bmatrix}$\n",
        "\n",
        "det(A) = 1$\\begin{bmatrix}-1 & 3\\\\5 & 1\\end{bmatrix}$ - 2$\\begin{bmatrix}2 & 3\\\\0 & 1\\end{bmatrix}$ + 4$\\begin{bmatrix}2 & -1\\\\0 & 5\\end{bmatrix}$\n",
        "\n",
        "= 1[-1 * 1 - 3 * 5] - 2[2 * 1 - 3 * 0] + 4[2 * 5 - (-1) * 0] <br>\n",
        "= 1[-1 - 15] - 2[2 - 0] + 4[10 - 0] <br>\n",
        "= 1[-16] - 2[2] + 4[10] <br>\n",
        "= -16 - 4 + 40 <br>\n",
        "= 20\n",
        "\n",
        "\n",
        "-------------------------------------------------------------------------\n",
        "\n",
        "A = $\\begin{bmatrix}3 & 5 & 3\\\\2 & 2 & 5\\\\3 & 8 & 9\\end{bmatrix}$\n",
        "\n",
        "det(A) = 3$\\begin{bmatrix}2 & 5\\\\8 & 9\\end{bmatrix}$ - 5$\\begin{bmatrix}2 & 5\\\\3 & 9\\end{bmatrix}$ + 3$\\begin{bmatrix}2 & 2\\\\3 & 8\\end{bmatrix}$\n",
        "\n",
        "= 3[2 * 9 - 5 * 8] - 5[2 * 9 - 5 * 3] + 3[2 * 8 - 2 * 3] <br>\n",
        "= 3[18 - 40] - 5[18 - 15] + 3[16 - 6] <br>\n",
        "= 3[-22] - 5[3] + 3[10] <br>\n",
        "= -66 - 15 + 30 <br>\n",
        "= -51\n"
      ],
      "metadata": {
        "id": "Uh4FSDOm7qQN"
      }
    },
    {
      "cell_type": "code",
      "source": [
        "# calculates the determinant of a 2 by 2 matrix\n",
        "def det2D(mat):\n",
        "  return mat[0,0]*mat[1,1] - mat[0,1]*mat[1,0] \n",
        "\n",
        "# the concept of determinants requires extracting different 2 by 2 matrices. This function uses the idx argument to \n",
        "# extract 2 by 2 matrices\n",
        "def smaller_matrix(X, idx):\n",
        "  # all values are True initially\n",
        "  bool_matrix = np.ones(X.shape, dtype = bool)\n",
        "  \n",
        "  # first row will be false as we will be extracting matrices from row 2 onwards\n",
        "  bool_matrix[0,:] = False\n",
        "\n",
        "  # idx here means the column that will be set to false. So, for example we have a 3 by 3 matrix and we wish to extract\n",
        "  # a 2 by 2 matrix by extracting two rows from column 1 and two rows from column 3, then idx will be 2 to set column 2 \n",
        "  # as False\n",
        "  bool_matrix[:,idx] = False\n",
        "\n",
        "  # once extracted. Reshape them to len(X) - 1, len(X) - 1 so that the output is a matrix\n",
        "  return X[bool_matrix].reshape(len(X)-1,len(X)-1)\n",
        "\n",
        "def determinant(X):\n",
        "\n",
        "  # base case: if its a 2 by 2 matrix then we compute the simple determinant using the formula above\n",
        "  if len(X) == 2:\n",
        "    return det2D(X)\n",
        "\n",
        "  else:\n",
        "    det = 0\n",
        "    sign = -1 # first operation is positive followed by negative followed by positive and so on\n",
        "\n",
        "    # each value in row 1 will be multiplied by a 2 by 2 matrix that contain values from rows below \n",
        "    # belonging to other two columns\n",
        "    for col in range(X.shape[1]):\n",
        "        sign *= -1 # keep flipping the sign\n",
        "        det += ( X[0, col] * determinant(smaller_matrix(X, col)) )*sign\n",
        "    \n",
        "    return det"
      ],
      "metadata": {
        "id": "2ieAKaf8exud"
      },
      "execution_count": 74,
      "outputs": []
    },
    {
      "cell_type": "code",
      "source": [
        "import numpy as np"
      ],
      "metadata": {
        "id": "Jnt3d_qhDAyX"
      },
      "execution_count": 75,
      "outputs": []
    },
    {
      "cell_type": "code",
      "source": [
        "A = np.array([[1,2,4], [2,-1,3], [0,5,1]])\n",
        "A"
      ],
      "metadata": {
        "colab": {
          "base_uri": "https://localhost:8080/"
        },
        "id": "928Cyhrl-ShU",
        "outputId": "3b77ce36-43fb-4937-af1f-e0359f1d5b23"
      },
      "execution_count": 76,
      "outputs": [
        {
          "output_type": "execute_result",
          "data": {
            "text/plain": [
              "array([[ 1,  2,  4],\n",
              "       [ 2, -1,  3],\n",
              "       [ 0,  5,  1]])"
            ]
          },
          "metadata": {},
          "execution_count": 76
        }
      ]
    },
    {
      "cell_type": "code",
      "source": [
        "determinant(A)"
      ],
      "metadata": {
        "colab": {
          "base_uri": "https://localhost:8080/"
        },
        "id": "vIa4ulOnC_k3",
        "outputId": "ad7c5b0f-a346-4d66-9030-fa82c5b7538b"
      },
      "execution_count": 77,
      "outputs": [
        {
          "output_type": "execute_result",
          "data": {
            "text/plain": [
              "20"
            ]
          },
          "metadata": {},
          "execution_count": 77
        }
      ]
    },
    {
      "cell_type": "code",
      "source": [
        "# verifying with numpy\n",
        "np.linalg.det(A)"
      ],
      "metadata": {
        "colab": {
          "base_uri": "https://localhost:8080/"
        },
        "id": "9enWGI8vDDcI",
        "outputId": "8221da6b-8c95-4dbc-9c99-1960361d64b1"
      },
      "execution_count": 78,
      "outputs": [
        {
          "output_type": "execute_result",
          "data": {
            "text/plain": [
              "19.999999999999996"
            ]
          },
          "metadata": {},
          "execution_count": 78
        }
      ]
    },
    {
      "cell_type": "code",
      "source": [
        "A = np.array([[3,5,3], [2,2,5], [3,8,9]])\n",
        "A"
      ],
      "metadata": {
        "colab": {
          "base_uri": "https://localhost:8080/"
        },
        "id": "IfjYgLWkDLOw",
        "outputId": "2f8aecfb-745e-4b9f-df85-5677b0684a99"
      },
      "execution_count": 79,
      "outputs": [
        {
          "output_type": "execute_result",
          "data": {
            "text/plain": [
              "array([[3, 5, 3],\n",
              "       [2, 2, 5],\n",
              "       [3, 8, 9]])"
            ]
          },
          "metadata": {},
          "execution_count": 79
        }
      ]
    },
    {
      "cell_type": "code",
      "source": [
        "determinant(A)"
      ],
      "metadata": {
        "colab": {
          "base_uri": "https://localhost:8080/"
        },
        "id": "5DSy29jmDTeP",
        "outputId": "bd74697c-e955-4dd0-9403-d5c135a30010"
      },
      "execution_count": 80,
      "outputs": [
        {
          "output_type": "execute_result",
          "data": {
            "text/plain": [
              "-51"
            ]
          },
          "metadata": {},
          "execution_count": 80
        }
      ]
    },
    {
      "cell_type": "code",
      "source": [
        "np.linalg.det(A)"
      ],
      "metadata": {
        "colab": {
          "base_uri": "https://localhost:8080/"
        },
        "id": "crfwkd4KDWx_",
        "outputId": "b06f3d63-8eb1-4310-cf3b-3346f73bd642"
      },
      "execution_count": 81,
      "outputs": [
        {
          "output_type": "execute_result",
          "data": {
            "text/plain": [
              "-51.00000000000002"
            ]
          },
          "metadata": {},
          "execution_count": 81
        }
      ]
    },
    {
      "cell_type": "markdown",
      "source": [
        "__explaining the recursion__\n",
        "\n",
        "input: A = $\\begin{bmatrix}1 & 2 & 4\\\\2 & -1 & 3\\\\0 & 5 & 1\\end{bmatrix}$\n",
        "\n",
        "len(A) > 2\n",
        "\n",
        "det = 0 <br>\n",
        "sign = -1\n",
        "\n",
        "__we loop over columns of A, which in this case is 3.__\n",
        "\n",
        "__flipping the sign:__ <br>\n",
        "sign *= -1 <br>\n",
        "sign = 1\n",
        "\n",
        "col = 0 <br>\n",
        "det = det + A[0, 0] * determinant(smaller_matrix(A, 0)) ) * sign\n",
        "\n",
        "det = 0 + 1 * determinant(smaller_matrix(A, 0)) * 1\n",
        "\n",
        "now we wait for determinant(smaller_matrix(A, 0))\n",
        "\n",
        "smaller_matrix(A, 0) =  $\\begin{bmatrix}-1 & 3\\\\5 & 1\\end{bmatrix}$\n",
        "\n",
        "determinant(smaller_matrix(A, 0)) = -16\n",
        "\n",
        "__det = 1 * -16 * 1 = -16__\n",
        "\n",
        "---------------------------------------------------------------------------\n",
        "\n",
        "sign *= -1 <br>\n",
        "sign = -1\n",
        "\n",
        "col = 1 <br>\n",
        "det = det + A[0, 1] * determinant(smaller_matrix(A, 1)) ) * sign\n",
        "\n",
        "det = -16 + 2 * determinant(smaller_matrix(A, 1)) * -1\n",
        "\n",
        "now we wait for determinant(smaller_matrix(A, 1))\n",
        "\n",
        "smaller_matrix(A, 1) =  $\\begin{bmatrix}2 & 3\\\\0 & 1\\end{bmatrix}$\n",
        "\n",
        "determinant(smaller_matrix(A, 0)) = 2\n",
        "\n",
        "det = -16 + 2 * 2 * -1 = -20\n",
        "\n",
        "---------------------------------------------------------------------------\n",
        "\n",
        "sign *= -1 <br>\n",
        "sign = 1\n",
        "\n",
        "col = 2 <br>\n",
        "det = det + A[0, 2] * determinant(smaller_matrix(A, 2)) ) * sign\n",
        "\n",
        "det = -20 + 4 * determinant(smaller_matrix(A, 2)) * 1\n",
        "\n",
        "now we wait for determinant(smaller_matrix(A, 2))\n",
        "\n",
        "smaller_matrix(A, 2) =  $\\begin{bmatrix}2 & -1\\\\0 & 5\\end{bmatrix}$\n",
        "\n",
        "determinant(smaller_matrix(A, 2)) = 10\n",
        "\n",
        "det = -20 + 4 * 10 * 1 = 20\n",
        "\n",
        "__final answer: 20__\n"
      ],
      "metadata": {
        "id": "kDXVO6_kEHZn"
      }
    },
    {
      "cell_type": "markdown",
      "source": [
        "---"
      ],
      "metadata": {
        "id": "J2fpRRDdbKyC"
      }
    },
    {
      "cell_type": "markdown",
      "source": [
        "Given a number in Roman numeral format, convert it to decimal.\n",
        "\n",
        "The values of Roman numerals are as follows:\n",
        "\n",
        "<pre>\n",
        "{\n",
        "    'M': 1000,\n",
        "    'D': 500,\n",
        "    'C': 100,\n",
        "    'L': 50,\n",
        "    'X': 10,\n",
        "    'V': 5,\n",
        "    'I': 1\n",
        "}\n",
        "</pre>\n",
        "\n",
        "In addition, note that the Roman numeral system uses subtractive notation for numbers such as IV and XL.\n",
        "\n",
        "For the input XIV, for instance, you should return 14."
      ],
      "metadata": {
        "id": "mRlzVDHFbBfP"
      }
    },
    {
      "cell_type": "code",
      "source": [
        "# recursive solution for the problem\n",
        "\n",
        "PAIRS = {\n",
        "    'CM': 900,\n",
        "    'CD': 400,\n",
        "    'XC': 90,\n",
        "    'XL': 40,\n",
        "    'IX': 9,\n",
        "    'IV': 4\n",
        "}\n",
        "\n",
        "SINGLES = {\n",
        "    'M': 1000,\n",
        "    'D': 500,\n",
        "    'C': 100,\n",
        "    'L': 50,\n",
        "    'X': 10,\n",
        "    'V': 5,\n",
        "    'I': 1\n",
        "}\n",
        "\n",
        "def decimate(s, total=0):\n",
        "    if not s:\n",
        "        return total\n",
        "    if s[:2] in PAIRS:\n",
        "        total += PAIRS[s[:2]]\n",
        "        return decimate(s[2:], total)\n",
        "    else:\n",
        "        total += SINGLES[s[:1]]\n",
        "        return decimate(s[1:], total)"
      ],
      "metadata": {
        "id": "IvnNNQ1fDZ9G"
      },
      "execution_count": 82,
      "outputs": []
    },
    {
      "cell_type": "code",
      "source": [
        "decimate('XIV')"
      ],
      "metadata": {
        "colab": {
          "base_uri": "https://localhost:8080/"
        },
        "id": "gLkid8A6bUCl",
        "outputId": "58943201-f1f1-4895-be4f-e5754caa5a79"
      },
      "execution_count": 83,
      "outputs": [
        {
          "output_type": "execute_result",
          "data": {
            "text/plain": [
              "14"
            ]
          },
          "metadata": {},
          "execution_count": 83
        }
      ]
    },
    {
      "cell_type": "code",
      "source": [
        "decimate('DCCCXLI')"
      ],
      "metadata": {
        "colab": {
          "base_uri": "https://localhost:8080/"
        },
        "id": "JCzJKxcSbV6c",
        "outputId": "f6a131a1-60d5-473f-eccb-e554c1e6137c"
      },
      "execution_count": 84,
      "outputs": [
        {
          "output_type": "execute_result",
          "data": {
            "text/plain": [
              "841"
            ]
          },
          "metadata": {},
          "execution_count": 84
        }
      ]
    },
    {
      "cell_type": "markdown",
      "source": [
        "__explaining the recursion:__\n",
        "\n",
        "\n",
        "s: XIV <br>\n",
        "total = 0\n",
        "\n",
        "s is not an empty string so we move on\n",
        "\n",
        "s[:2] = 'XI'\n",
        "\n",
        "s[:2] is not in pairs as XI is not a pair for roman numbers and so we move to the eles block.\n",
        "\n",
        "SINGLES[s[:1]] = SINGLES['X'] = 10\n",
        "\n",
        "total = total + 10 <br>\n",
        "total = 0 + 10 = 10\n",
        "\n",
        "decimate(s[1:], total)\n",
        "\n",
        "decimate('IV', 10)\n",
        "\n",
        "---------------------------------------------------------------------------\n",
        "\n",
        "s: 'IV' <br>\n",
        "total = 10\n",
        "\n",
        "s is not an empty string so we move on.\n",
        "\n",
        "s[:2] is in pairs.\n",
        "\n",
        "PAIRS[s[:2]] = SINGLES['IV'] = 4\n",
        "\n",
        "total = total + 4 <br>\n",
        "total = 10 + 4 = 14\n",
        "\n",
        "decimate(s[2:], 14) <br>\n",
        "decimate('', 14)\n",
        "\n",
        "---------------------------------------------------------------------------\n",
        "\n",
        "s: '' <br>\n",
        "total = 14\n",
        "\n",
        "s is an empty string and so we return the total\n",
        "\n",
        "__total = 14__"
      ],
      "metadata": {
        "id": "cizipQ88bbl7"
      }
    }
  ]
}