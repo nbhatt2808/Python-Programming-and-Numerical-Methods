{
  "nbformat": 4,
  "nbformat_minor": 0,
  "metadata": {
    "colab": {
      "provenance": []
    },
    "kernelspec": {
      "name": "python3",
      "display_name": "Python 3"
    },
    "language_info": {
      "name": "python"
    }
  },
  "cells": [
    {
      "cell_type": "markdown",
      "source": [
        "These are the exercise problems from the book Python programming and Numerical methods book:\n",
        "\n",
        "https://pythonnumericalmethods.berkeley.edu/notebooks/Index.html\n",
        "\n",
        "# Chapter 11: Reading and Writing Data\n",
        "\n",
        "https://pythonnumericalmethods.berkeley.edu/notebooks/chapter11.06-Summary-and-Problems.html\n",
        "\n",
        "Only those problems that need to be solved in a notebook environment"
      ],
      "metadata": {
        "id": "ZjPq0nkXsspz"
      }
    },
    {
      "cell_type": "code",
      "source": [
        "from google.colab import drive\n",
        "drive.mount('gdrive')"
      ],
      "metadata": {
        "colab": {
          "base_uri": "https://localhost:8080/"
        },
        "id": "D9LkPPI0uInq",
        "outputId": "a8653195-f166-42e4-ca2d-ebe491d90a3e"
      },
      "execution_count": 1,
      "outputs": [
        {
          "output_type": "stream",
          "name": "stdout",
          "text": [
            "Mounted at gdrive\n"
          ]
        }
      ]
    },
    {
      "cell_type": "code",
      "source": [
        "cd gdrive/My Drive/Python practice/Python programming and Numerical methods"
      ],
      "metadata": {
        "colab": {
          "base_uri": "https://localhost:8080/"
        },
        "id": "w36KfIcQuL7v",
        "outputId": "ec77dc5f-f21a-4ede-eeda-c5c7b5182b42"
      },
      "execution_count": 2,
      "outputs": [
        {
          "output_type": "stream",
          "name": "stdout",
          "text": [
            "/content/gdrive/My Drive/Python practice/Python programming and Numerical methods\n"
          ]
        }
      ]
    },
    {
      "cell_type": "code",
      "source": [
        "!ls"
      ],
      "metadata": {
        "colab": {
          "base_uri": "https://localhost:8080/"
        },
        "id": "l9f6e8W9ulE8",
        "outputId": "131abfd2-8603-4797-950d-b9faf04d77a3"
      },
      "execution_count": 3,
      "outputs": [
        {
          "output_type": "stream",
          "name": "stdout",
          "text": [
            "Complexity.ipynb   exercise_2.ipynb  exercise_6.ipynb  lst1.txt\n",
            "Debugging.ipynb    exercise_3.ipynb  exercise_7.ipynb  Salary_Data.csv\n",
            "exercise_11.ipynb  exercise_4.ipynb  exercise_8.ipynb\n",
            "exercise_1.ipynb   exercise_5.ipynb  exercise_9.ipynb\n"
          ]
        }
      ]
    },
    {
      "cell_type": "markdown",
      "source": [
        "1. Create a list and save it in a text file that each of the item in the list will take one line."
      ],
      "metadata": {
        "id": "D0cAqUWQs6np"
      }
    },
    {
      "cell_type": "code",
      "execution_count": 4,
      "metadata": {
        "id": "LIOtbXl6smUY"
      },
      "outputs": [],
      "source": [
        "lst = ['I am fine.\\n','I will return home tomorrow.\\n','See you then.\\n']\n",
        "\n",
        "# first using writelines\n",
        "file1 = open('lst1.txt', 'w')\n",
        "file1.writelines(lst)\n",
        "file1.close()"
      ]
    },
    {
      "cell_type": "code",
      "source": [
        "# reading the file\n",
        "lst_read = open('lst1.txt', 'r')\n",
        "lst_read.readlines()"
      ],
      "metadata": {
        "colab": {
          "base_uri": "https://localhost:8080/"
        },
        "id": "0t74QXqjtoFS",
        "outputId": "4d57cf9b-7947-4ee6-cd28-24742cbe903f"
      },
      "execution_count": 5,
      "outputs": [
        {
          "output_type": "execute_result",
          "data": {
            "text/plain": [
              "['I am fine.\\n', 'I will return home tomorrow.\\n', 'See you then.\\n']"
            ]
          },
          "metadata": {},
          "execution_count": 5
        }
      ]
    },
    {
      "cell_type": "markdown",
      "source": [
        "writelines requires a separator like \\n after each element and only then it stores them one line at a time. But what if the separator was not provided. This is where we write lines one at a time\n",
        "\n"
      ],
      "metadata": {
        "id": "zwj9bOAijfed"
      }
    },
    {
      "cell_type": "code",
      "source": [
        "# writing one element at a time\n",
        "lst1 = ['I am fine.','I will return home tomorrow.','See you then.']\n",
        "\n",
        "with open('lst2.txt', 'w') as f:\n",
        "  for element in lst1:\n",
        "    f.write(f\"{element} \\n\")"
      ],
      "metadata": {
        "id": "dwTkYIMzj15n"
      },
      "execution_count": 9,
      "outputs": []
    },
    {
      "cell_type": "code",
      "source": [
        "# reading the file\n",
        "lst_read = open('lst2.txt', 'r')\n",
        "lst_read.readlines()"
      ],
      "metadata": {
        "colab": {
          "base_uri": "https://localhost:8080/"
        },
        "id": "Z0zlVMCckZuP",
        "outputId": "91d1af2c-5591-4192-a931-220520c56998"
      },
      "execution_count": 10,
      "outputs": [
        {
          "output_type": "execute_result",
          "data": {
            "text/plain": [
              "['I am fine. \\n', 'I will return home tomorrow. \\n', 'See you then. \\n']"
            ]
          },
          "metadata": {},
          "execution_count": 10
        }
      ]
    },
    {
      "cell_type": "markdown",
      "source": [
        "---"
      ],
      "metadata": {
        "id": "scw66k8mk7S5"
      }
    },
    {
      "cell_type": "markdown",
      "source": [
        "2. Save the same list in problem 1 to a CSV file."
      ],
      "metadata": {
        "id": "D2e0FTgTk8L9"
      }
    },
    {
      "cell_type": "code",
      "source": [
        "import pandas as pd\n",
        "\n",
        "pd.DataFrame(lst1).to_csv('lst1.csv', index = False)"
      ],
      "metadata": {
        "id": "iOwtqfUukd-m"
      },
      "execution_count": 17,
      "outputs": []
    },
    {
      "cell_type": "code",
      "source": [
        "# loading the file\n",
        "pd.read_csv('lst1.csv')"
      ],
      "metadata": {
        "colab": {
          "base_uri": "https://localhost:8080/",
          "height": 143
        },
        "id": "0KAeWEpLmPgZ",
        "outputId": "e27c7e0f-e429-4abe-8bdc-40c41931f4a5"
      },
      "execution_count": 18,
      "outputs": [
        {
          "output_type": "execute_result",
          "data": {
            "text/plain": [
              "                              0\n",
              "0                    I am fine.\n",
              "1  I will return home tomorrow.\n",
              "2                 See you then."
            ],
            "text/html": [
              "\n",
              "  <div id=\"df-47c42b1a-af5f-4054-b3af-ea7f772018ba\">\n",
              "    <div class=\"colab-df-container\">\n",
              "      <div>\n",
              "<style scoped>\n",
              "    .dataframe tbody tr th:only-of-type {\n",
              "        vertical-align: middle;\n",
              "    }\n",
              "\n",
              "    .dataframe tbody tr th {\n",
              "        vertical-align: top;\n",
              "    }\n",
              "\n",
              "    .dataframe thead th {\n",
              "        text-align: right;\n",
              "    }\n",
              "</style>\n",
              "<table border=\"1\" class=\"dataframe\">\n",
              "  <thead>\n",
              "    <tr style=\"text-align: right;\">\n",
              "      <th></th>\n",
              "      <th>0</th>\n",
              "    </tr>\n",
              "  </thead>\n",
              "  <tbody>\n",
              "    <tr>\n",
              "      <th>0</th>\n",
              "      <td>I am fine.</td>\n",
              "    </tr>\n",
              "    <tr>\n",
              "      <th>1</th>\n",
              "      <td>I will return home tomorrow.</td>\n",
              "    </tr>\n",
              "    <tr>\n",
              "      <th>2</th>\n",
              "      <td>See you then.</td>\n",
              "    </tr>\n",
              "  </tbody>\n",
              "</table>\n",
              "</div>\n",
              "      <button class=\"colab-df-convert\" onclick=\"convertToInteractive('df-47c42b1a-af5f-4054-b3af-ea7f772018ba')\"\n",
              "              title=\"Convert this dataframe to an interactive table.\"\n",
              "              style=\"display:none;\">\n",
              "        \n",
              "  <svg xmlns=\"http://www.w3.org/2000/svg\" height=\"24px\"viewBox=\"0 0 24 24\"\n",
              "       width=\"24px\">\n",
              "    <path d=\"M0 0h24v24H0V0z\" fill=\"none\"/>\n",
              "    <path d=\"M18.56 5.44l.94 2.06.94-2.06 2.06-.94-2.06-.94-.94-2.06-.94 2.06-2.06.94zm-11 1L8.5 8.5l.94-2.06 2.06-.94-2.06-.94L8.5 2.5l-.94 2.06-2.06.94zm10 10l.94 2.06.94-2.06 2.06-.94-2.06-.94-.94-2.06-.94 2.06-2.06.94z\"/><path d=\"M17.41 7.96l-1.37-1.37c-.4-.4-.92-.59-1.43-.59-.52 0-1.04.2-1.43.59L10.3 9.45l-7.72 7.72c-.78.78-.78 2.05 0 2.83L4 21.41c.39.39.9.59 1.41.59.51 0 1.02-.2 1.41-.59l7.78-7.78 2.81-2.81c.8-.78.8-2.07 0-2.86zM5.41 20L4 18.59l7.72-7.72 1.47 1.35L5.41 20z\"/>\n",
              "  </svg>\n",
              "      </button>\n",
              "      \n",
              "  <style>\n",
              "    .colab-df-container {\n",
              "      display:flex;\n",
              "      flex-wrap:wrap;\n",
              "      gap: 12px;\n",
              "    }\n",
              "\n",
              "    .colab-df-convert {\n",
              "      background-color: #E8F0FE;\n",
              "      border: none;\n",
              "      border-radius: 50%;\n",
              "      cursor: pointer;\n",
              "      display: none;\n",
              "      fill: #1967D2;\n",
              "      height: 32px;\n",
              "      padding: 0 0 0 0;\n",
              "      width: 32px;\n",
              "    }\n",
              "\n",
              "    .colab-df-convert:hover {\n",
              "      background-color: #E2EBFA;\n",
              "      box-shadow: 0px 1px 2px rgba(60, 64, 67, 0.3), 0px 1px 3px 1px rgba(60, 64, 67, 0.15);\n",
              "      fill: #174EA6;\n",
              "    }\n",
              "\n",
              "    [theme=dark] .colab-df-convert {\n",
              "      background-color: #3B4455;\n",
              "      fill: #D2E3FC;\n",
              "    }\n",
              "\n",
              "    [theme=dark] .colab-df-convert:hover {\n",
              "      background-color: #434B5C;\n",
              "      box-shadow: 0px 1px 3px 1px rgba(0, 0, 0, 0.15);\n",
              "      filter: drop-shadow(0px 1px 2px rgba(0, 0, 0, 0.3));\n",
              "      fill: #FFFFFF;\n",
              "    }\n",
              "  </style>\n",
              "\n",
              "      <script>\n",
              "        const buttonEl =\n",
              "          document.querySelector('#df-47c42b1a-af5f-4054-b3af-ea7f772018ba button.colab-df-convert');\n",
              "        buttonEl.style.display =\n",
              "          google.colab.kernel.accessAllowed ? 'block' : 'none';\n",
              "\n",
              "        async function convertToInteractive(key) {\n",
              "          const element = document.querySelector('#df-47c42b1a-af5f-4054-b3af-ea7f772018ba');\n",
              "          const dataTable =\n",
              "            await google.colab.kernel.invokeFunction('convertToInteractive',\n",
              "                                                     [key], {});\n",
              "          if (!dataTable) return;\n",
              "\n",
              "          const docLinkHtml = 'Like what you see? Visit the ' +\n",
              "            '<a target=\"_blank\" href=https://colab.research.google.com/notebooks/data_table.ipynb>data table notebook</a>'\n",
              "            + ' to learn more about interactive tables.';\n",
              "          element.innerHTML = '';\n",
              "          dataTable['output_type'] = 'display_data';\n",
              "          await google.colab.output.renderOutput(dataTable, element);\n",
              "          const docLink = document.createElement('div');\n",
              "          docLink.innerHTML = docLinkHtml;\n",
              "          element.appendChild(docLink);\n",
              "        }\n",
              "      </script>\n",
              "    </div>\n",
              "  </div>\n",
              "  "
            ]
          },
          "metadata": {},
          "execution_count": 18
        }
      ]
    },
    {
      "cell_type": "markdown",
      "source": [
        "---"
      ],
      "metadata": {
        "id": "0cfpjFHxmmTe"
      }
    },
    {
      "cell_type": "markdown",
      "source": [
        "3. Create a 2D numpy array, and save it to CSV file and read it back to a 2D array."
      ],
      "metadata": {
        "id": "9c1PH0FkmnJ5"
      }
    },
    {
      "cell_type": "code",
      "source": [
        "import numpy as np\n",
        "\n",
        "rand_mat = np.random.random((10,5))\n",
        "rand_mat"
      ],
      "metadata": {
        "colab": {
          "base_uri": "https://localhost:8080/"
        },
        "id": "-igLkjB9mT0f",
        "outputId": "580da5b1-fe57-45e4-bb2b-0ebda15724eb"
      },
      "execution_count": 19,
      "outputs": [
        {
          "output_type": "execute_result",
          "data": {
            "text/plain": [
              "array([[0.48042323, 0.00360611, 0.42158686, 0.99201286, 0.56607363],\n",
              "       [0.82252425, 0.69449276, 0.87974751, 0.49738096, 0.12114612],\n",
              "       [0.16501351, 0.83827627, 0.87911738, 0.34289859, 0.95583979],\n",
              "       [0.52101057, 0.86387205, 0.57449079, 0.53902586, 0.81277601],\n",
              "       [0.88368194, 0.28982131, 0.46917712, 0.4101232 , 0.51358602],\n",
              "       [0.96456011, 0.66662309, 0.03069778, 0.61739563, 0.77367028],\n",
              "       [0.29510422, 0.70848473, 0.13540602, 0.28487   , 0.48885038],\n",
              "       [0.73342718, 0.2473953 , 0.98560109, 0.30542319, 0.08569662],\n",
              "       [0.60068003, 0.68120704, 0.40702874, 0.6122194 , 0.19338678],\n",
              "       [0.878192  , 0.80998708, 0.85066035, 0.20369538, 0.21899771]])"
            ]
          },
          "metadata": {},
          "execution_count": 19
        }
      ]
    },
    {
      "cell_type": "code",
      "source": [
        "# saving with 6 decimal points\n",
        "np.savetxt('rand_mat.csv', rand_mat, fmt = '%.6f')"
      ],
      "metadata": {
        "id": "AZrYUnK-m1xv"
      },
      "execution_count": 22,
      "outputs": []
    },
    {
      "cell_type": "code",
      "source": [
        "# loading the saved file\n",
        "np.loadtxt('rand_mat.csv')"
      ],
      "metadata": {
        "colab": {
          "base_uri": "https://localhost:8080/"
        },
        "id": "PLG0eT0nnGIt",
        "outputId": "af4d4769-c50b-4ece-c8e2-4a5ded827796"
      },
      "execution_count": 23,
      "outputs": [
        {
          "output_type": "execute_result",
          "data": {
            "text/plain": [
              "array([[0.480423, 0.003606, 0.421587, 0.992013, 0.566074],\n",
              "       [0.822524, 0.694493, 0.879748, 0.497381, 0.121146],\n",
              "       [0.165014, 0.838276, 0.879117, 0.342899, 0.95584 ],\n",
              "       [0.521011, 0.863872, 0.574491, 0.539026, 0.812776],\n",
              "       [0.883682, 0.289821, 0.469177, 0.410123, 0.513586],\n",
              "       [0.96456 , 0.666623, 0.030698, 0.617396, 0.77367 ],\n",
              "       [0.295104, 0.708485, 0.135406, 0.28487 , 0.48885 ],\n",
              "       [0.733427, 0.247395, 0.985601, 0.305423, 0.085697],\n",
              "       [0.60068 , 0.681207, 0.407029, 0.612219, 0.193387],\n",
              "       [0.878192, 0.809987, 0.85066 , 0.203695, 0.218998]])"
            ]
          },
          "metadata": {},
          "execution_count": 23
        }
      ]
    },
    {
      "cell_type": "markdown",
      "source": [
        "---"
      ],
      "metadata": {
        "id": "N_bA9_bqnXvF"
      }
    },
    {
      "cell_type": "markdown",
      "source": [
        "4. Save the same array in problem 3 to a pickle file and load it back."
      ],
      "metadata": {
        "id": "ITcx8S8kn1Bp"
      }
    },
    {
      "cell_type": "code",
      "source": [
        "import pickle\n",
        "\n",
        "pickle.dump(rand_mat, open('rand_mat.pkl', 'wb'))"
      ],
      "metadata": {
        "id": "j4C3KphjnYQ1"
      },
      "execution_count": 24,
      "outputs": []
    },
    {
      "cell_type": "code",
      "source": [
        "pickle.load(open('rand_mat.pkl', 'rb'))"
      ],
      "metadata": {
        "colab": {
          "base_uri": "https://localhost:8080/"
        },
        "id": "Xz20C78aoTRN",
        "outputId": "1491c3be-413b-46f4-bab5-b2ed84c67e69"
      },
      "execution_count": 27,
      "outputs": [
        {
          "output_type": "execute_result",
          "data": {
            "text/plain": [
              "array([[0.48042323, 0.00360611, 0.42158686, 0.99201286, 0.56607363],\n",
              "       [0.82252425, 0.69449276, 0.87974751, 0.49738096, 0.12114612],\n",
              "       [0.16501351, 0.83827627, 0.87911738, 0.34289859, 0.95583979],\n",
              "       [0.52101057, 0.86387205, 0.57449079, 0.53902586, 0.81277601],\n",
              "       [0.88368194, 0.28982131, 0.46917712, 0.4101232 , 0.51358602],\n",
              "       [0.96456011, 0.66662309, 0.03069778, 0.61739563, 0.77367028],\n",
              "       [0.29510422, 0.70848473, 0.13540602, 0.28487   , 0.48885038],\n",
              "       [0.73342718, 0.2473953 , 0.98560109, 0.30542319, 0.08569662],\n",
              "       [0.60068003, 0.68120704, 0.40702874, 0.6122194 , 0.19338678],\n",
              "       [0.878192  , 0.80998708, 0.85066035, 0.20369538, 0.21899771]])"
            ]
          },
          "metadata": {},
          "execution_count": 27
        }
      ]
    },
    {
      "cell_type": "markdown",
      "source": [
        "---"
      ],
      "metadata": {
        "id": "S3CrrHSeouAF"
      }
    },
    {
      "cell_type": "markdown",
      "source": [
        "5. Create a dictionary and save it to a JSON file."
      ],
      "metadata": {
        "id": "FNKMqIVVovV6"
      }
    },
    {
      "cell_type": "code",
      "source": [
        "dict_a = {'a': 1, 'b': 2, 'c': 3, 'd': 4}\n",
        "\n",
        "import json\n",
        "\n",
        "json.dump(dict_a, open('my_dict.json', 'w'))"
      ],
      "metadata": {
        "id": "3KU8HZVfoaAO"
      },
      "execution_count": 28,
      "outputs": []
    },
    {
      "cell_type": "code",
      "source": [
        "json.load(open('my_dict.json', 'r'))"
      ],
      "metadata": {
        "colab": {
          "base_uri": "https://localhost:8080/"
        },
        "id": "UW8xe3BIpCzn",
        "outputId": "06e24dea-1f94-4819-da95-67783a6fec40"
      },
      "execution_count": 29,
      "outputs": [
        {
          "output_type": "execute_result",
          "data": {
            "text/plain": [
              "{'a': 1, 'b': 2, 'c': 3, 'd': 4}"
            ]
          },
          "metadata": {},
          "execution_count": 29
        }
      ]
    },
    {
      "cell_type": "markdown",
      "source": [
        "---"
      ],
      "metadata": {
        "id": "rbetzoTKpZXT"
      }
    },
    {
      "cell_type": "markdown",
      "source": [
        "6. Create a 1D numpy array, and save it to a JSON file with the key named ‘data’. Then load it back."
      ],
      "metadata": {
        "id": "fZKjB_pBpaSq"
      }
    },
    {
      "cell_type": "markdown",
      "source": [
        "numpy array cannot be directly stored as json object as it is deserializable. We need to first convert it to list and store it and then load it as a dictionary and convert to numpy array.\n",
        "\n",
        "This is one big benefit of pickle over json as we saw earlier, pickle could directly store numpy array."
      ],
      "metadata": {
        "id": "q7JL96OsqgwE"
      }
    },
    {
      "cell_type": "code",
      "source": [
        "data = np.array([1,2,3,4,5])\n",
        "data"
      ],
      "metadata": {
        "colab": {
          "base_uri": "https://localhost:8080/"
        },
        "id": "NqnOiM0WpKkX",
        "outputId": "f249527d-7305-4c67-b612-cac355462bb4"
      },
      "execution_count": 30,
      "outputs": [
        {
          "output_type": "execute_result",
          "data": {
            "text/plain": [
              "array([1, 2, 3, 4, 5])"
            ]
          },
          "metadata": {},
          "execution_count": 30
        }
      ]
    },
    {
      "cell_type": "code",
      "source": [
        "{'data': data.tolist()}"
      ],
      "metadata": {
        "colab": {
          "base_uri": "https://localhost:8080/"
        },
        "id": "WGH58L4Up0Ll",
        "outputId": "bc2998d8-1367-4f3f-c70b-596bd9730cc6"
      },
      "execution_count": 33,
      "outputs": [
        {
          "output_type": "execute_result",
          "data": {
            "text/plain": [
              "{'data': [1, 2, 3, 4, 5]}"
            ]
          },
          "metadata": {},
          "execution_count": 33
        }
      ]
    },
    {
      "cell_type": "code",
      "source": [
        "json.dump({'data': data.tolist()}, open('data.json', 'w'))"
      ],
      "metadata": {
        "id": "IJXjkad8pfSm"
      },
      "execution_count": 34,
      "outputs": []
    },
    {
      "cell_type": "code",
      "source": [
        "np.array(json.load(open('data.json', 'r'))['data'])"
      ],
      "metadata": {
        "colab": {
          "base_uri": "https://localhost:8080/"
        },
        "id": "29iudGZKpwRo",
        "outputId": "5937adbb-f26c-4dac-83b5-60bd9475db29"
      },
      "execution_count": 38,
      "outputs": [
        {
          "output_type": "execute_result",
          "data": {
            "text/plain": [
              "array([1, 2, 3, 4, 5])"
            ]
          },
          "metadata": {},
          "execution_count": 38
        }
      ]
    }
  ]
}