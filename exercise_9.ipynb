{
  "nbformat": 4,
  "nbformat_minor": 0,
  "metadata": {
    "colab": {
      "provenance": []
    },
    "kernelspec": {
      "name": "python3",
      "display_name": "Python 3"
    },
    "language_info": {
      "name": "python"
    }
  },
  "cells": [
    {
      "cell_type": "markdown",
      "source": [
        "These are the exercise problems from the book Python programming and Numerical methods book:\n",
        "\n",
        "https://pythonnumericalmethods.berkeley.edu/notebooks/Index.html\n",
        "\n",
        "# Chapter 9: Representation of numbers\n",
        "\n",
        "https://pythonnumericalmethods.berkeley.edu/notebooks/chapter09.04-Summary-and-Problems.html\n",
        "\n",
        "Only those problems that need to be solved in a notebook environment"
      ],
      "metadata": {
        "id": "5M7V9Pobgqii"
      }
    },
    {
      "cell_type": "markdown",
      "source": [
        "---"
      ],
      "metadata": {
        "id": "S8Hg0CzQg6xa"
      }
    },
    {
      "cell_type": "markdown",
      "source": [
        "1. Write a function my_bin_2_dec(b) where b is binary number represented by a list of ones and zeros. The last element of b represents the coefficient of 20\n",
        ", the second-to-last element of b represents the coefficient of 21\n",
        ", and so on. The output variable, d, should be the decimal representation of b. The test cases are provided below."
      ],
      "metadata": {
        "id": "0ShjUOV1g7li"
      }
    },
    {
      "cell_type": "code",
      "execution_count": 2,
      "metadata": {
        "id": "HHkGn02hj7LS"
      },
      "outputs": [],
      "source": [
        "def my_bin_2_dec(b):\n",
        "    \n",
        "    d = 0\n",
        "    idx = 0\n",
        "\n",
        "    # to convert a binary to a decimal, we simply keep multiplying each value with a power of 2 starting from n - 1 \n",
        "    # in reverse order ending at 0, where n is the total elements in the binary number.\n",
        "    # for e.g. 1011, we see there are 4 elements and so we start by multiplying with a power of 3 so the last element will be multiplied \n",
        "    # by 2^0. So, 1011 = 2^3 * 1 + 2^2 * 0 + 2^1 * 1 + 2^0 * 1 = 8 + 0 + 2 + 1 = 11.\n",
        "    for power in list(range(len(b)))[::-1]:\n",
        "        d += 2**power * b[idx]\n",
        "        idx += 1 \n",
        "\n",
        "    return d"
      ]
    },
    {
      "cell_type": "code",
      "source": [
        "# Output: 7\n",
        "my_bin_2_dec([1, 1, 1])"
      ],
      "metadata": {
        "colab": {
          "base_uri": "https://localhost:8080/"
        },
        "id": "XPNriKaD0KUf",
        "outputId": "61498dce-15fb-4278-e4e3-964ba1abb75c"
      },
      "execution_count": 3,
      "outputs": [
        {
          "output_type": "execute_result",
          "data": {
            "text/plain": [
              "7"
            ]
          },
          "metadata": {},
          "execution_count": 3
        }
      ]
    },
    {
      "cell_type": "code",
      "source": [
        "# Output: 85\n",
        "my_bin_2_dec([1, 0, 1, 0, 1, 0, 1])"
      ],
      "metadata": {
        "colab": {
          "base_uri": "https://localhost:8080/"
        },
        "id": "COp-0Tpt0NhN",
        "outputId": "2255dc57-8fa3-436b-e636-6e56a542fa52"
      },
      "execution_count": 4,
      "outputs": [
        {
          "output_type": "execute_result",
          "data": {
            "text/plain": [
              "85"
            ]
          },
          "metadata": {},
          "execution_count": 4
        }
      ]
    },
    {
      "cell_type": "code",
      "source": [
        "# Output: 33554431\n",
        "my_bin_2_dec([1]*25)"
      ],
      "metadata": {
        "colab": {
          "base_uri": "https://localhost:8080/"
        },
        "id": "1UpH_ukc0Qd8",
        "outputId": "62b85818-df00-437c-fef2-a22ed700efd8"
      },
      "execution_count": 5,
      "outputs": [
        {
          "output_type": "execute_result",
          "data": {
            "text/plain": [
              "33554431"
            ]
          },
          "metadata": {},
          "execution_count": 5
        }
      ]
    },
    {
      "cell_type": "markdown",
      "source": [
        "---"
      ],
      "metadata": {
        "id": "9q9Ioas71jlo"
      }
    },
    {
      "cell_type": "markdown",
      "source": [
        "2. Write a function my_dec_2_bin(d), where d is a positive integer in decimal, and b is the binary representation of d. The output b must be a list of ones and zeros, and the leading term must be a 1 unless the decimal input value is 0. The test cases are provided below."
      ],
      "metadata": {
        "id": "ZW5DIF--1hz6"
      }
    },
    {
      "cell_type": "code",
      "source": [
        "85 // 2"
      ],
      "metadata": {
        "colab": {
          "base_uri": "https://localhost:8080/"
        },
        "id": "1LQ3E73C3TGP",
        "outputId": "771214db-25eb-4271-e73e-a8580f5c700f"
      },
      "execution_count": 6,
      "outputs": [
        {
          "output_type": "execute_result",
          "data": {
            "text/plain": [
              "42"
            ]
          },
          "metadata": {},
          "execution_count": 6
        }
      ]
    },
    {
      "cell_type": "code",
      "source": [
        "85 % 2"
      ],
      "metadata": {
        "colab": {
          "base_uri": "https://localhost:8080/"
        },
        "id": "-il9bg3N3UH3",
        "outputId": "69d95b10-cb47-4f30-bce0-fabfcaf065bb"
      },
      "execution_count": 7,
      "outputs": [
        {
          "output_type": "execute_result",
          "data": {
            "text/plain": [
              "1"
            ]
          },
          "metadata": {},
          "execution_count": 7
        }
      ]
    },
    {
      "cell_type": "code",
      "source": [
        "1 % 2"
      ],
      "metadata": {
        "colab": {
          "base_uri": "https://localhost:8080/"
        },
        "id": "BRvpieQTdVs8",
        "outputId": "646407d1-ff5c-4334-8b7f-1112eb61ab36"
      },
      "execution_count": 8,
      "outputs": [
        {
          "output_type": "execute_result",
          "data": {
            "text/plain": [
              "1"
            ]
          },
          "metadata": {},
          "execution_count": 8
        }
      ]
    },
    {
      "cell_type": "code",
      "source": [
        "1 // 2"
      ],
      "metadata": {
        "colab": {
          "base_uri": "https://localhost:8080/"
        },
        "id": "C4dahKPddXUn",
        "outputId": "10e560af-94e4-4d58-e7ee-5569bbbf7add"
      },
      "execution_count": 9,
      "outputs": [
        {
          "output_type": "execute_result",
          "data": {
            "text/plain": [
              "0"
            ]
          },
          "metadata": {},
          "execution_count": 9
        }
      ]
    },
    {
      "cell_type": "code",
      "source": [
        "my_bin_2_dec([1,0,1,1])"
      ],
      "metadata": {
        "colab": {
          "base_uri": "https://localhost:8080/"
        },
        "id": "LmVTj56YdYDe",
        "outputId": "77635194-90ef-4c59-dfad-298cfdacf618"
      },
      "execution_count": 10,
      "outputs": [
        {
          "output_type": "execute_result",
          "data": {
            "text/plain": [
              "11"
            ]
          },
          "metadata": {},
          "execution_count": 10
        }
      ]
    },
    {
      "cell_type": "code",
      "source": [
        "def my_dec_2_bin(d):\n",
        "    \n",
        "    b = []\n",
        "\n",
        "    # here the operation is very simple. We take the number and keep reducing a number by taking its floor division with 2 till we get to below 1.\n",
        "    # each number will be divided by 2, where the remainder can either be 0 or 1. That remainder is the binary number.\n",
        "    # e.g. 7. 7 % 2 = 1; 7 // 2 = 3 (3.5 rounded down to 3). first element is 1. 3 % 2 = 1; 3 // 2 = 1. second element is 1. \n",
        "    # 1 % 2 = 1; 1 // 2 = 0. Third element is 1. we got to below 1 so we stop and the binary version of 7 is 111\n",
        "    while d >= 1:\n",
        "      b.append(d % 2) # remainder of b divided by 2\n",
        "      d = d // 2 # reduce number by half and round it down\n",
        "\n",
        "    if len(b) == 0: # if the original d itself is below 1 then return 0\n",
        "      b = [0]\n",
        "\n",
        "    # e.g. 11. 11 % 2 = 1; 11 // 2 = 5. first element is 1. \n",
        "    #           5 % 2 = 1;  5 // 2 = 2. second element is 1. \n",
        "    #           2 % 2 = 0;  2 // 2 = 1. Third element is 0.\n",
        "    #           1 % 2 = 1;  1 // 2 = 0. Fourth element is 1.\n",
        "    # we get 1101, whereas 11 should be 1011. in this method we started by reducing 11 to get to 0 in reverse order and thus to get to the c\n",
        "    # correct answer we need to flip the elements.\n",
        "    return b[::-1]"
      ],
      "metadata": {
        "id": "wX6JorLL1i_m"
      },
      "execution_count": 11,
      "outputs": []
    },
    {
      "cell_type": "code",
      "source": [
        "# Output: [0]\n",
        "my_dec_2_bin(0)"
      ],
      "metadata": {
        "colab": {
          "base_uri": "https://localhost:8080/"
        },
        "id": "3aUV7Bvv3v62",
        "outputId": "b0387e3a-8629-48c0-d2cd-1242f2f193a7"
      },
      "execution_count": 12,
      "outputs": [
        {
          "output_type": "execute_result",
          "data": {
            "text/plain": [
              "[0]"
            ]
          },
          "metadata": {},
          "execution_count": 12
        }
      ]
    },
    {
      "cell_type": "code",
      "source": [
        "# Output: [1, 0, 1, 1, 1]\n",
        "my_dec_2_bin(23)"
      ],
      "metadata": {
        "colab": {
          "base_uri": "https://localhost:8080/"
        },
        "id": "yi2-DaPZ3x9-",
        "outputId": "6cdf17d5-f0c1-40af-bd48-90faf2f82c59"
      },
      "execution_count": 13,
      "outputs": [
        {
          "output_type": "execute_result",
          "data": {
            "text/plain": [
              "[1, 0, 1, 1, 1]"
            ]
          },
          "metadata": {},
          "execution_count": 13
        }
      ]
    },
    {
      "cell_type": "code",
      "source": [
        "# Output: [1, 0, 0, 0, 0, 0, 1, 1, 0, 0, 0, 1]\n",
        "my_dec_2_bin(2097)"
      ],
      "metadata": {
        "colab": {
          "base_uri": "https://localhost:8080/"
        },
        "id": "bBmgFOTF4DE-",
        "outputId": "c50ccaaa-38c7-435f-fd1f-11065db75ca2"
      },
      "execution_count": 14,
      "outputs": [
        {
          "output_type": "execute_result",
          "data": {
            "text/plain": [
              "[1, 0, 0, 0, 0, 0, 1, 1, 0, 0, 0, 1]"
            ]
          },
          "metadata": {},
          "execution_count": 14
        }
      ]
    },
    {
      "cell_type": "markdown",
      "source": [
        "### Recursive implementation"
      ],
      "metadata": {
        "id": "eQ-99USa6sEN"
      }
    },
    {
      "cell_type": "code",
      "source": [
        "def my_dec_2_bin_rec(d):\n",
        "\n",
        "    # base case: if d is less than 1 then just return [0]\n",
        "    if d < 1:\n",
        "      return [0]\n",
        "\n",
        "    # if d == 1 then just return d % 2\n",
        "    if d == 1:\n",
        "      return [d % 2]\n",
        "    \n",
        "    # recursive loop: keep reducing the number by half and round down till we get to lower than 1.\n",
        "    else: \n",
        "      return  my_dec_2_bin_rec(d // 2) + [d % 2]"
      ],
      "metadata": {
        "id": "TghunUhT5dX9"
      },
      "execution_count": 15,
      "outputs": []
    },
    {
      "cell_type": "markdown",
      "source": [
        "__Playing out the recursion__\n",
        "\n",
        "input: d: 7\n",
        "\n",
        "d > 1\n",
        "\n",
        "d != 1\n",
        "\n",
        "my_dec_2_bin_rec(d // 2) + [d % 2] <br>\n",
        "= my_dec_2_bin_rec(7 // 2) + [7 % 2] <br>\n",
        "= my_dec_2_bin_rec(3) + [1]\n",
        "\n",
        "my_dec_2_bin_rec(3)\n",
        "\n",
        "d = 3\n",
        "\n",
        "d > 1\n",
        "\n",
        "d != 1\n",
        "\n",
        "my_dec_2_bin_rec(3 // 2) + [3 % 2] <br>\n",
        "= my_dec_2_bin_rec(1) + [1]\n",
        "\n",
        "my_dec_2_bin_rec(1)\n",
        "\n",
        "d = 1\n",
        "\n",
        "d == 1\n",
        "\n",
        "my_dec_2_bin_rec(1) = [1 % 2] = [1]\n",
        "\n",
        "my_dec_2_bin_rec(3) = [1] + [1]\n",
        "\n",
        "my_dec_2_bin_rec(7) = [1] + [1] + [1] = [1,1,1]"
      ],
      "metadata": {
        "id": "_AKVepX9hhsp"
      }
    },
    {
      "cell_type": "code",
      "source": [
        "# output: [1,1,1]\n",
        "my_dec_2_bin_rec(7)"
      ],
      "metadata": {
        "colab": {
          "base_uri": "https://localhost:8080/"
        },
        "id": "3E-VEFu-6nYd",
        "outputId": "15a3af82-da89-450b-c402-275934dd91c4"
      },
      "execution_count": 16,
      "outputs": [
        {
          "output_type": "execute_result",
          "data": {
            "text/plain": [
              "[1, 1, 1]"
            ]
          },
          "metadata": {},
          "execution_count": 16
        }
      ]
    },
    {
      "cell_type": "code",
      "source": [
        "# Output: [0]\n",
        "my_dec_2_bin_rec(0)"
      ],
      "metadata": {
        "colab": {
          "base_uri": "https://localhost:8080/"
        },
        "id": "UhSyu_AH6yYD",
        "outputId": "2163804d-d1a8-45de-e82a-a7eaeeb7f5e8"
      },
      "execution_count": 17,
      "outputs": [
        {
          "output_type": "execute_result",
          "data": {
            "text/plain": [
              "[0]"
            ]
          },
          "metadata": {},
          "execution_count": 17
        }
      ]
    },
    {
      "cell_type": "code",
      "source": [
        "# Output: [1, 0, 1, 1, 1]\n",
        "my_dec_2_bin_rec(23)"
      ],
      "metadata": {
        "colab": {
          "base_uri": "https://localhost:8080/"
        },
        "id": "oMuNZAM67ZpG",
        "outputId": "e694ade4-f033-4791-f206-f25f5333cba9"
      },
      "execution_count": 18,
      "outputs": [
        {
          "output_type": "execute_result",
          "data": {
            "text/plain": [
              "[1, 0, 1, 1, 1]"
            ]
          },
          "metadata": {},
          "execution_count": 18
        }
      ]
    },
    {
      "cell_type": "code",
      "source": [
        "# Output: [1, 0, 0, 0, 0, 0, 1, 1, 0, 0, 0, 1]\n",
        "my_dec_2_bin_rec(2097)"
      ],
      "metadata": {
        "colab": {
          "base_uri": "https://localhost:8080/"
        },
        "id": "BRJH7UOw7cVW",
        "outputId": "82a75a16-6d88-4aaf-ab35-b2d2ebf8ab5b"
      },
      "execution_count": 19,
      "outputs": [
        {
          "output_type": "execute_result",
          "data": {
            "text/plain": [
              "[1, 0, 0, 0, 0, 0, 1, 1, 0, 0, 0, 1]"
            ]
          },
          "metadata": {},
          "execution_count": 19
        }
      ]
    },
    {
      "cell_type": "markdown",
      "source": [
        "---"
      ],
      "metadata": {
        "id": "yus0ed9Aoq1_"
      }
    },
    {
      "cell_type": "markdown",
      "source": [
        "3. Use the two functions you wrote in problems 1 and 2 to compute d = my_bin_2_dec(my_dec_2_bin(12654)). Do you get the same number?"
      ],
      "metadata": {
        "id": "03s014gXAAsv"
      }
    },
    {
      "cell_type": "code",
      "source": [
        "my_bin_2_dec(my_dec_2_bin(12654))"
      ],
      "metadata": {
        "colab": {
          "base_uri": "https://localhost:8080/"
        },
        "id": "DYxvHqrl_5ns",
        "outputId": "68485fd5-a988-43d0-939c-8c1bbbaad2b1"
      },
      "execution_count": 20,
      "outputs": [
        {
          "output_type": "execute_result",
          "data": {
            "text/plain": [
              "12654"
            ]
          },
          "metadata": {},
          "execution_count": 20
        }
      ]
    },
    {
      "cell_type": "code",
      "source": [
        "my_bin_2_dec(my_dec_2_bin_rec(12654))"
      ],
      "metadata": {
        "colab": {
          "base_uri": "https://localhost:8080/"
        },
        "id": "CRJDYXxBAFOs",
        "outputId": "6dced60b-f8cd-4250-fdf4-7f54f6f55c13"
      },
      "execution_count": 21,
      "outputs": [
        {
          "output_type": "execute_result",
          "data": {
            "text/plain": [
              "12654"
            ]
          },
          "metadata": {},
          "execution_count": 21
        }
      ]
    },
    {
      "cell_type": "markdown",
      "source": [
        "---"
      ],
      "metadata": {
        "id": "nbK8TSNdouUa"
      }
    },
    {
      "cell_type": "markdown",
      "source": [
        "4. Write a function my_bin_adder(b1,b2), where b1, b2 and the output variable b are binary numbers represented as in problem 1. The output variable should be computed as b = b1 + b2. Do not use your functions from problems 1 and 2 to write this function (i.e., do not convert b1 and b2 to decimal; add them, and then convert the result back to binary). This function should be able to accept inputs b1 and b2 of any length (i.e., very long binary numbers), and b1 and b2 may not necessarily be the same length."
      ],
      "metadata": {
        "id": "snm3TElAom9e"
      }
    },
    {
      "cell_type": "code",
      "source": [
        "b1 = [1,1,1,1,1]\n",
        "b2 = [1]\n",
        "\n",
        "if len(b1) < len(b2):\n",
        "  b1 = [0]*(len(b2) - len(b1)) + b1\n",
        "else:\n",
        "  b2 = [0]*(len(b1) - len(b2)) + b2\n",
        "\n",
        "print(b1)\n",
        "print(b2)"
      ],
      "metadata": {
        "colab": {
          "base_uri": "https://localhost:8080/"
        },
        "id": "WwW0DBebvdcI",
        "outputId": "350d0e46-e7a9-40df-8933-c13928c8faee"
      },
      "execution_count": 22,
      "outputs": [
        {
          "output_type": "stream",
          "name": "stdout",
          "text": [
            "[1, 1, 1, 1, 1]\n",
            "[0, 0, 0, 0, 1]\n"
          ]
        }
      ]
    },
    {
      "cell_type": "code",
      "source": [
        "my_bin_2_dec(b1)"
      ],
      "metadata": {
        "colab": {
          "base_uri": "https://localhost:8080/"
        },
        "id": "Y6mXBzyo5V2a",
        "outputId": "023129a1-ff21-44c9-d633-ba3995a6cfa5"
      },
      "execution_count": 23,
      "outputs": [
        {
          "output_type": "execute_result",
          "data": {
            "text/plain": [
              "31"
            ]
          },
          "metadata": {},
          "execution_count": 23
        }
      ]
    },
    {
      "cell_type": "code",
      "source": [
        "my_bin_2_dec([1,1,1])"
      ],
      "metadata": {
        "colab": {
          "base_uri": "https://localhost:8080/"
        },
        "id": "xFFxIjL95bxZ",
        "outputId": "a87a15da-b483-4f60-cd37-cd9e7417a03d"
      },
      "execution_count": 24,
      "outputs": [
        {
          "output_type": "execute_result",
          "data": {
            "text/plain": [
              "7"
            ]
          },
          "metadata": {},
          "execution_count": 24
        }
      ]
    },
    {
      "cell_type": "code",
      "source": [
        "my_dec_2_bin(38)"
      ],
      "metadata": {
        "colab": {
          "base_uri": "https://localhost:8080/"
        },
        "id": "p9aH3zXk5mAI",
        "outputId": "97aeceb9-16e2-4ee9-f45e-53af435b55c8"
      },
      "execution_count": 25,
      "outputs": [
        {
          "output_type": "execute_result",
          "data": {
            "text/plain": [
              "[1, 0, 0, 1, 1, 0]"
            ]
          },
          "metadata": {},
          "execution_count": 25
        }
      ]
    },
    {
      "cell_type": "markdown",
      "source": [
        "e.g. \n",
        "\n",
        "31 in binary = [1,1,1,1,1] <br>\n",
        "7 in binary = [1,1,1] \n",
        "\n",
        "<pre>\n",
        "  1 1 1 1      carry forwards\n",
        "  1 1 1 1 1\n",
        "+ 0 0 1 1 1\n",
        "____________\n",
        "1 0 0 1 1 0\n",
        "\n",
        "This is the binary representation of 38\n",
        "\n",
        "note: 1 + 1 becomes 0 and 1 carry forward. 1 + 1 + 1 carried forward previously becomes 1 and 1 carry forward to next addition.\n",
        "\n",
        "</pre>\n"
      ],
      "metadata": {
        "id": "tTHp3XyJ6LWc"
      }
    },
    {
      "cell_type": "code",
      "source": [
        "list(range(5))[::-1]"
      ],
      "metadata": {
        "colab": {
          "base_uri": "https://localhost:8080/"
        },
        "id": "RgD9o7Z58DmB",
        "outputId": "ecbe25fa-c427-4c04-b411-40cbe1193033"
      },
      "execution_count": 26,
      "outputs": [
        {
          "output_type": "execute_result",
          "data": {
            "text/plain": [
              "[4, 3, 2, 1, 0]"
            ]
          },
          "metadata": {},
          "execution_count": 26
        }
      ]
    },
    {
      "cell_type": "code",
      "source": [
        "def my_bin_adder(b1, b2):\n",
        "\n",
        "    # we will use this to ensure both binary numbers are same length by padding the shorter one with 0's to match the longer one\n",
        "    max_len = max([len(b1), len(b2)])\n",
        "    b = []\n",
        "\n",
        "    # pad the shorter one with 0's till both have similar lengths.\n",
        "    if len(b1) < len(b2):\n",
        "      b1 = [0]*(len(b2) - len(b1)) + b1\n",
        "    else:\n",
        "      b2 = [0]*(len(b1) - len(b2)) + b2\n",
        "\n",
        "    # here we do high school level addition with a carry forward.  \n",
        "    carry = 0 # start with carry of 0\n",
        "    for idx in list(range(max_len))[::-1]:\n",
        "      if carry + b1[idx] + b2[idx] == 2: # if the sum of elementwise values + carry = 2 then append 0 to the result and carry 1\n",
        "        b.append(0)\n",
        "        carry = 1\n",
        "      elif carry + b1[idx] + b2[idx] == 3: # if the sum of elementwise values + carry = 3 then append 1 to the result and carry 1\n",
        "        b.append(1)\n",
        "        carry = 1\n",
        "      else: # the only combinarion left is carry = 0 and either b1 is 1 and b2 is 0 or b2 is 1 and b1 is 0. Either ways carry is 0 and\n",
        "            # append b1 + b2 to the result\n",
        "        b.append(carry + b1[idx] + b2[idx])\n",
        "        carry = 0\n",
        "\n",
        "    # if greater than 0 append carry at the beginning\n",
        "    if carry > 0:\n",
        "      b.append(carry)\n",
        "\n",
        "    # we start in reverse order and so we flip the result to account for the correct result\n",
        "    return b[::-1]"
      ],
      "metadata": {
        "id": "r-OLVeT5AK1M"
      },
      "execution_count": 27,
      "outputs": []
    },
    {
      "cell_type": "code",
      "source": [
        "# expected output: [1, 0, 0, 1, 1, 0]\n",
        "my_bin_adder([1,1,1,1,1], [1,1,1])"
      ],
      "metadata": {
        "colab": {
          "base_uri": "https://localhost:8080/"
        },
        "id": "vgXb0UCb8byb",
        "outputId": "4e2616c3-1976-4dd4-8686-216bcce0c271"
      },
      "execution_count": 28,
      "outputs": [
        {
          "output_type": "execute_result",
          "data": {
            "text/plain": [
              "[1, 0, 0, 1, 1, 0]"
            ]
          },
          "metadata": {},
          "execution_count": 28
        }
      ]
    },
    {
      "cell_type": "code",
      "source": [
        "# Output: [1, 0, 0, 0, 0, 0]\n",
        "my_bin_adder([1, 1, 1, 1, 1], [1])"
      ],
      "metadata": {
        "colab": {
          "base_uri": "https://localhost:8080/"
        },
        "id": "Kg9F35bn8qRt",
        "outputId": "39ed0278-e875-4247-d56f-f0af772bc45e"
      },
      "execution_count": 29,
      "outputs": [
        {
          "output_type": "execute_result",
          "data": {
            "text/plain": [
              "[1, 0, 0, 0, 0, 0]"
            ]
          },
          "metadata": {},
          "execution_count": 29
        }
      ]
    },
    {
      "cell_type": "code",
      "source": [
        "# Output: [1, 1, 1, 0, 0, 1, 1]\n",
        "my_bin_adder([1, 1, 1, 1, 1], [1, 0, 1, 0, 1, 0, 0])"
      ],
      "metadata": {
        "colab": {
          "base_uri": "https://localhost:8080/"
        },
        "id": "qjvqvy_P8s_D",
        "outputId": "a31219a4-0216-47f7-e389-229a8a6696b3"
      },
      "execution_count": 30,
      "outputs": [
        {
          "output_type": "execute_result",
          "data": {
            "text/plain": [
              "[1, 1, 1, 0, 0, 1, 1]"
            ]
          },
          "metadata": {},
          "execution_count": 30
        }
      ]
    },
    {
      "cell_type": "code",
      "source": [
        "my_bin_2_dec([1, 1, 1, 1, 1])"
      ],
      "metadata": {
        "colab": {
          "base_uri": "https://localhost:8080/"
        },
        "id": "I1XeFxtFFQv_",
        "outputId": "8968f89f-cf73-4ca2-d29a-9a9b6469aee0"
      },
      "execution_count": 31,
      "outputs": [
        {
          "output_type": "execute_result",
          "data": {
            "text/plain": [
              "31"
            ]
          },
          "metadata": {},
          "execution_count": 31
        }
      ]
    },
    {
      "cell_type": "code",
      "source": [
        "my_bin_2_dec([1, 0, 1, 0, 1, 0, 0])"
      ],
      "metadata": {
        "colab": {
          "base_uri": "https://localhost:8080/"
        },
        "id": "h1lww4zbFTgq",
        "outputId": "e0725a59-7bf7-43db-a2f8-03659b3b064e"
      },
      "execution_count": 32,
      "outputs": [
        {
          "output_type": "execute_result",
          "data": {
            "text/plain": [
              "84"
            ]
          },
          "metadata": {},
          "execution_count": 32
        }
      ]
    },
    {
      "cell_type": "code",
      "source": [
        "my_bin_2_dec([1, 1, 1, 0, 0, 1, 1])"
      ],
      "metadata": {
        "colab": {
          "base_uri": "https://localhost:8080/"
        },
        "id": "9yOEjinoFXde",
        "outputId": "d09fae4e-f36c-41ab-8306-81b263f7bd89"
      },
      "execution_count": 33,
      "outputs": [
        {
          "output_type": "execute_result",
          "data": {
            "text/plain": [
              "115"
            ]
          },
          "metadata": {},
          "execution_count": 33
        }
      ]
    },
    {
      "cell_type": "code",
      "source": [
        "# Output: [1, 0, 1, 1]\n",
        "my_bin_adder([1, 1, 0], [1, 0, 1])"
      ],
      "metadata": {
        "colab": {
          "base_uri": "https://localhost:8080/"
        },
        "id": "KmV8Z2RA8z7r",
        "outputId": "5b7d6912-f250-4cff-9026-2aceb5a16c43"
      },
      "execution_count": 34,
      "outputs": [
        {
          "output_type": "execute_result",
          "data": {
            "text/plain": [
              "[1, 0, 1, 1]"
            ]
          },
          "metadata": {},
          "execution_count": 34
        }
      ]
    },
    {
      "cell_type": "markdown",
      "source": [
        "5. What is the effect of allocating more bits to the fraction versus the characteristic and vice versa? What is the effect of allocating more bits to the sign?\n",
        "\n",
        "__My explanation:__\n",
        "\n",
        "If more bits are allocated to the characteristic (exponent) then it allows the computer to store more values. So, for example in a 32 bit system, 8 bits are kept for exponents, which can have 256 possible values. For a 64 bit system that number increases to 11 bits for exponents, which means 2048 possible values.\n",
        "\n",
        "Thus, if more bits are allocated to exponents it allows for larger numbers to be stored as exponent can take in more values. However, this means fraction gets lesser bits and thus the precision on the decimal value will be lower as lesser values can now be stored to represent a float value.\n",
        "\n",
        "If you're more interested in decimal values for accurate representation then you would want to increase fraction bits and if you're more interested in larger numbers than you should increase the exponent bit. Similarly, more bits can be added to exponent if we are more interested in representing larger numbers.\n",
        "\n",
        "__Great explanation of the above point:__ <br>\n",
        "https://www.quora.com/What-is-the-effect-of-allocating-more-bits-to-the-fraction-versus-the-characteristic-and-vice-versa-Suppose-that-were-talking-about-IEEE-754-64-bits-where-the-sign-is-1-bit-exponent-is-11-bits-and-the-fraction-is-52\n",
        "\n",
        "The sign bit just needs 0 or 1 to point out the sign of the float and thus uses only one bit. If more bits are allocated to it then it would still use one bit to represent the sign and other bits would be wasted and removing bits from exponent or fraction would impact the range of numbers we can store and decimal precision.\n",
        "\n",
        "\n",
        "\n",
        "\n"
      ],
      "metadata": {
        "id": "4DBnnHZoMasa"
      }
    },
    {
      "cell_type": "markdown",
      "source": [
        "---"
      ],
      "metadata": {
        "id": "aNFOtwkI9DL3"
      }
    },
    {
      "cell_type": "markdown",
      "source": [
        "6. Write a function my_ieee_2_dec(ieee), where ieee is a string contains 64 characters of ones and zeros representing a 64-bit IEEE754 number. The output should be d, the equivalent decimal representation of ieee. The input variable ieee will always be a 64-element string of ones and zeros defining a 64-bit float."
      ],
      "metadata": {
        "id": "niZMX0yz9Bk9"
      }
    },
    {
      "cell_type": "code",
      "source": [
        "# 10000000100\n",
        "my_bin_2_dec([1,0,0,0,0,0,0,0,1,0,0])"
      ],
      "metadata": {
        "colab": {
          "base_uri": "https://localhost:8080/"
        },
        "id": "UP_j6051k81T",
        "outputId": "31106d87-470f-4f70-ded5-184d55ed5bb8"
      },
      "execution_count": 35,
      "outputs": [
        {
          "output_type": "execute_result",
          "data": {
            "text/plain": [
              "1028"
            ]
          },
          "metadata": {},
          "execution_count": 35
        }
      ]
    },
    {
      "cell_type": "code",
      "source": [
        "1*(2**10) + 1*(2**2) - 1023"
      ],
      "metadata": {
        "colab": {
          "base_uri": "https://localhost:8080/"
        },
        "id": "w2eAI7c3AmOl",
        "outputId": "05679519-336e-4b7e-da0e-90d8e946fe7f"
      },
      "execution_count": 36,
      "outputs": [
        {
          "output_type": "execute_result",
          "data": {
            "text/plain": [
              "5"
            ]
          },
          "metadata": {},
          "execution_count": 36
        }
      ]
    },
    {
      "cell_type": "code",
      "source": [
        "(-1)**1 * (2**5) * (1 + 0.5)"
      ],
      "metadata": {
        "colab": {
          "base_uri": "https://localhost:8080/"
        },
        "id": "1hLN_acbA0Ci",
        "outputId": "71fc9c62-9418-4b58-9398-23be926967e2"
      },
      "execution_count": 37,
      "outputs": [
        {
          "output_type": "execute_result",
          "data": {
            "text/plain": [
              "-48.0"
            ]
          },
          "metadata": {},
          "execution_count": 37
        }
      ]
    },
    {
      "cell_type": "code",
      "source": [
        "ieee = '1100000001001000000000000000000000000000000000000000000000000000'\n",
        "\n",
        "print(len(ieee[12:]))\n",
        "ieee[12:]"
      ],
      "metadata": {
        "colab": {
          "base_uri": "https://localhost:8080/",
          "height": 52
        },
        "id": "tUz---IjF7qG",
        "outputId": "c865eb2d-d2f6-4344-da0e-620b6083e3b4"
      },
      "execution_count": 38,
      "outputs": [
        {
          "output_type": "stream",
          "name": "stdout",
          "text": [
            "52\n"
          ]
        },
        {
          "output_type": "execute_result",
          "data": {
            "text/plain": [
              "'1000000000000000000000000000000000000000000000000000'"
            ],
            "application/vnd.google.colaboratory.intrinsic+json": {
              "type": "string"
            }
          },
          "metadata": {},
          "execution_count": 38
        }
      ]
    },
    {
      "cell_type": "code",
      "source": [
        "print(len(ieee[1:12]))\n",
        "ieee[1:12]"
      ],
      "metadata": {
        "colab": {
          "base_uri": "https://localhost:8080/",
          "height": 52
        },
        "id": "sfXHdAgiGzNB",
        "outputId": "364a35a2-9585-4809-96a0-12117377668b"
      },
      "execution_count": 39,
      "outputs": [
        {
          "output_type": "stream",
          "name": "stdout",
          "text": [
            "11\n"
          ]
        },
        {
          "output_type": "execute_result",
          "data": {
            "text/plain": [
              "'10000000100'"
            ],
            "application/vnd.google.colaboratory.intrinsic+json": {
              "type": "string"
            }
          },
          "metadata": {},
          "execution_count": 39
        }
      ]
    },
    {
      "cell_type": "markdown",
      "source": [
        "__Resources for understanding IEEE to decimal conversion:__\n",
        "\n",
        "__exponent bias for different bits:__ <br>\n",
        "https://en.wikipedia.org/wiki/Exponent_bias\n",
        "\n",
        "__decimal to IEEE 754:__ <br>\n",
        "https://www.youtube.com/watch?v=8afbTaA-gOQ\n",
        "\n",
        "__IEEE 754 to decimal:__ <br>\n",
        "https://www.youtube.com/watch?v=LXF-wcoeT0o&list=PPSV\n"
      ],
      "metadata": {
        "id": "iT7X9T-RHpKj"
      }
    },
    {
      "cell_type": "code",
      "source": [
        "from decimal import *\n",
        "import numpy as np\n",
        "from numpy import double\n",
        "\n",
        "def my_ieee_2_dec(ieee):\n",
        "    \n",
        "    # first bit represents the sign\n",
        "    sign = int(ieee[0])\n",
        "\n",
        "    # next 11 bits in a 64 bit ieee number represent the exponent\n",
        "    exponent = ieee[1:12]\n",
        "    power = len(exponent) - 1 # highest power is total length - 1\n",
        "    exp_val = 0 \n",
        "\n",
        "    # similar to decimal to binary conversion we multiply 2^power by each value till we get to the end where power is 0\n",
        "    for s in exponent:      \n",
        "      exp_val += np.float64(s) * 2**(power)\n",
        "      power -= 1\n",
        "\n",
        "    # we subtract the exponent value by the exponent bias, which also allows us to represent negative values. check the above link for \n",
        "    # more details\n",
        "    exp_val = exp_val - 1023\n",
        "\n",
        "    # the remaining 52 bits represent the decimals\n",
        "    decimal = ieee[12:]\n",
        "    power = 1 # here we start with 1 \n",
        "    fraction = 0\n",
        "\n",
        "    # here we multiply each value by 1/(2^power) till we reach the end where the power is 52\n",
        "    for s in decimal:\n",
        "      fraction += np.float64(s) * (1/(2**power))\n",
        "      power += 1\n",
        "\n",
        "    # final decimal value is given by -1^(sign) * (2**(exp_val)) * (1 + fraction)\n",
        "    d = (-1)**(sign) * (2**(exp_val)) * (1 + fraction)\n",
        "\n",
        "    # python will not store more than a certain amount of precisions for decimal values. Decimal class from module decimal\n",
        "    # will allow us to store more precise values\n",
        "    return Decimal(d)"
      ],
      "metadata": {
        "id": "O2_ZgB6MBxJF"
      },
      "execution_count": 40,
      "outputs": []
    },
    {
      "cell_type": "code",
      "source": [
        "# Output: -48\n",
        "ieee = '1100000001001000000000000000000000000000000000000000000000000000'\n",
        "my_ieee_2_dec(ieee)"
      ],
      "metadata": {
        "colab": {
          "base_uri": "https://localhost:8080/"
        },
        "id": "SOzUA0OVKPON",
        "outputId": "fef160ca-2a8d-480b-e6af-3eba6d95d038"
      },
      "execution_count": 41,
      "outputs": [
        {
          "output_type": "execute_result",
          "data": {
            "text/plain": [
              "Decimal('-48')"
            ]
          },
          "metadata": {},
          "execution_count": 41
        }
      ]
    },
    {
      "cell_type": "markdown",
      "source": [
        "Using decimal to increase float precision"
      ],
      "metadata": {
        "id": "8kUODzA5QASe"
      }
    },
    {
      "cell_type": "code",
      "source": [
        "from decimal import *"
      ],
      "metadata": {
        "id": "7pygPyjSOzzg"
      },
      "execution_count": 42,
      "outputs": []
    },
    {
      "cell_type": "code",
      "source": [
        "getcontext().prec"
      ],
      "metadata": {
        "colab": {
          "base_uri": "https://localhost:8080/"
        },
        "id": "8BT-DN0OO0a7",
        "outputId": "769ae268-9b1a-4646-ade7-c5936d202ac4"
      },
      "execution_count": 43,
      "outputs": [
        {
          "output_type": "execute_result",
          "data": {
            "text/plain": [
              "28"
            ]
          },
          "metadata": {},
          "execution_count": 43
        }
      ]
    },
    {
      "cell_type": "code",
      "source": [
        "0.6999999999999993 + 1*(1/(2**51))"
      ],
      "metadata": {
        "colab": {
          "base_uri": "https://localhost:8080/"
        },
        "id": "KJuYZ_iGOYhT",
        "outputId": "deebb225-1f62-4e60-acec-3e248027f423"
      },
      "execution_count": 44,
      "outputs": [
        {
          "output_type": "execute_result",
          "data": {
            "text/plain": [
              "0.6999999999999997"
            ]
          },
          "metadata": {},
          "execution_count": 44
        }
      ]
    },
    {
      "cell_type": "code",
      "source": [
        "0.6999999999999997 + 1*(1/(2**52))"
      ],
      "metadata": {
        "colab": {
          "base_uri": "https://localhost:8080/"
        },
        "id": "ZSb33tcUOLgG",
        "outputId": "3f97d0d2-3b5d-4354-9c39-8ef5c73046d0"
      },
      "execution_count": 45,
      "outputs": [
        {
          "output_type": "execute_result",
          "data": {
            "text/plain": [
              "0.7"
            ]
          },
          "metadata": {},
          "execution_count": 45
        }
      ]
    },
    {
      "cell_type": "markdown",
      "source": [
        "Here, we see that for the power 52 the floating precisions cannot be increased beyond what we see with power 51 and thus it rounds the value to 0.7, which is not what we want. Using Decimal avoids that issue."
      ],
      "metadata": {
        "id": "mmzR0UCfMYmN"
      }
    },
    {
      "cell_type": "code",
      "source": [
        "Decimal(0.6999999999999997 + 1*(1/(2**52)))"
      ],
      "metadata": {
        "colab": {
          "base_uri": "https://localhost:8080/"
        },
        "id": "o_OEdOguPnwa",
        "outputId": "f2062fb6-679a-4932-c8cc-78fc7446feae"
      },
      "execution_count": 46,
      "outputs": [
        {
          "output_type": "execute_result",
          "data": {
            "text/plain": [
              "Decimal('0.6999999999999999555910790149937383830547332763671875')"
            ]
          },
          "metadata": {},
          "execution_count": 46
        }
      ]
    },
    {
      "cell_type": "code",
      "source": [
        "# Output: 3.39999999999999991118215802999\n",
        "ieee = '0100000000001011001100110011001100110011001100110011001100110011'\n",
        "my_ieee_2_dec(ieee)"
      ],
      "metadata": {
        "colab": {
          "base_uri": "https://localhost:8080/"
        },
        "id": "iqB4VpoiKV7M",
        "outputId": "affb0acd-0ce5-450f-d1e8-27da6d3aaf59"
      },
      "execution_count": 47,
      "outputs": [
        {
          "output_type": "execute_result",
          "data": {
            "text/plain": [
              "Decimal('3.399999999999999911182158029987476766109466552734375')"
            ]
          },
          "metadata": {},
          "execution_count": 47
        }
      ]
    },
    {
      "cell_type": "markdown",
      "source": [
        "---"
      ],
      "metadata": {
        "id": "vfZyBwcsMxRc"
      }
    },
    {
      "cell_type": "markdown",
      "source": [
        "7. Write a function my_dec_2_ieee(d), where d is a number in decimal and output variable ieee is a string with 64 characters of ones and zeros representing the 64-bit IEEE754 closest to d. You can assume that d will not cause an overflow for 64-bit ieee numbers."
      ],
      "metadata": {
        "id": "jX8SwOK58P50"
      }
    },
    {
      "cell_type": "code",
      "source": [
        "def my_dec_2_ieee(d):\n",
        "    \n",
        "    d = float(d)\n",
        "\n",
        "    ieee = ''\n",
        "\n",
        "    # get the sign. sign is 0 if value is positive else 1\n",
        "    if d < 0:\n",
        "      ieee += str(1)\n",
        "      # d_alt = int(str(d).split('.')[0][1:]) # if the value is negative then we need absolute\n",
        "    else:\n",
        "      ieee += str(0)\n",
        "      # d_alt = int(str(d).split('.')[0])\n",
        "\n",
        "    # extract the the number ignoring the decimals to get the exponent bit\n",
        "    d_alt = int(str(abs(d)).split('.')[0])\n",
        "\n",
        "    # first converting number to binary. same procedure as previuously seen\n",
        "    b = ''\n",
        "\n",
        "    while d_alt >= 1:\n",
        "      b += str(d_alt % 2)\n",
        "      d_alt = d_alt // 2\n",
        "\n",
        "    if len(b) == 0:\n",
        "      b = '0'\n",
        "\n",
        "    b = b[::-1]\n",
        "\n",
        "    # now we break the fraction\n",
        "    frac = ''\n",
        "    # dec = float('0.' + str(float(d)).split('.')[1])\n",
        "    dec = abs(d) - int(abs(d)) # extract the decimal component\n",
        "\n",
        "    # loop continues till we get 52 fraction bits\n",
        "    while len(frac) < 52:\n",
        "      dec *= 2 # keep multipkying by 2\n",
        "      frac += str(dec).split('.')[0] # add the value before the decimal either 0 or 1\n",
        "      # dec = float('0.' + str(dec).split('.')[1]) \n",
        "\n",
        "      # we want to ensure that value before the decimal is 0 or 1 and thus if it gets above 1 then we bring the value back to 0\n",
        "      # e.g. for 0.4 * 2 = 0.8 we store 0 and then multiply 0.8*2 = 1.6. Nowe store 1 and then instead of 1.6*2 we go back to 0.6*2 as \n",
        "      # we want to ensure its 0 or 1 that we store as bits. check the above youtibe video for more details \n",
        "      if dec >= 1:\n",
        "        dec -= 1 # subtract 1 and get the decimal back to 0. if value is above 1 \n",
        "    \n",
        "    # combine the exponent binary value by the decimal binary value using '.' to get the raw binary float \n",
        "    b_frac = b + '.' + frac \n",
        "\n",
        "    # converting to scientific notation\n",
        "\n",
        "    # adding the exponent bias\n",
        "    exponent = (len(b) - 1) + 1023\n",
        "    b_frac = b_frac[0] + '.' + ''.join(b_frac[1:].split('.')) # for scientific notation we take the first value and separate it with\n",
        "                                                              # all other values using '.' . For example, 1011.1111 becomes 1.0111111\n",
        "\n",
        "\n",
        "    # converting the exponent bias to binary form. same procedure as above\n",
        "    exp_b = ''\n",
        "\n",
        "    while exponent >= 1:\n",
        "      exp_b += str(exponent % 2)\n",
        "      exponent = exponent // 2\n",
        "\n",
        "    if len(exp_b) == 0:\n",
        "      exp_b = '0'\n",
        "\n",
        "    exp_b = exp_b[::-1]\n",
        "\n",
        "    # the first 11 bits are the actual exponent value\n",
        "    exp_b = exp_b[:11]\n",
        "\n",
        "    ieee += str(exp_b)\n",
        "\n",
        "    # the first 52 values after decimal point above are your resulting fraction bits\n",
        "    ieee += b_frac.split('.')[1][:52]\n",
        "\n",
        "    return ieee"
      ],
      "metadata": {
        "id": "WI7nmKJlKYis"
      },
      "execution_count": 48,
      "outputs": []
    },
    {
      "cell_type": "code",
      "source": [
        "my_dec_2_bin(48)"
      ],
      "metadata": {
        "colab": {
          "base_uri": "https://localhost:8080/"
        },
        "id": "256POHAT1Qbz",
        "outputId": "616a8b53-0598-4cb2-9589-421092869bdc"
      },
      "execution_count": 49,
      "outputs": [
        {
          "output_type": "execute_result",
          "data": {
            "text/plain": [
              "[1, 1, 0, 0, 0, 0]"
            ]
          },
          "metadata": {},
          "execution_count": 49
        }
      ]
    },
    {
      "cell_type": "code",
      "source": [
        "print(len(my_dec_2_ieee(-48)))\n",
        "my_dec_2_ieee(-48)"
      ],
      "metadata": {
        "colab": {
          "base_uri": "https://localhost:8080/",
          "height": 52
        },
        "id": "h4BHf6670ZCG",
        "outputId": "673340de-f9ff-46c5-b562-2ef7139067f7"
      },
      "execution_count": 50,
      "outputs": [
        {
          "output_type": "stream",
          "name": "stdout",
          "text": [
            "64\n"
          ]
        },
        {
          "output_type": "execute_result",
          "data": {
            "text/plain": [
              "'1100000001001000000000000000000000000000000000000000000000000000'"
            ],
            "application/vnd.google.colaboratory.intrinsic+json": {
              "type": "string"
            }
          },
          "metadata": {},
          "execution_count": 50
        }
      ]
    },
    {
      "cell_type": "code",
      "source": [
        "ieee48 = '1100000001001000000000000000000000000000000000000000000000000000'\n",
        "ieee48"
      ],
      "metadata": {
        "colab": {
          "base_uri": "https://localhost:8080/",
          "height": 35
        },
        "id": "GLsE6Fsc7UFL",
        "outputId": "a26466b2-c9fc-4273-a74e-e4610d826b08"
      },
      "execution_count": 51,
      "outputs": [
        {
          "output_type": "execute_result",
          "data": {
            "text/plain": [
              "'1100000001001000000000000000000000000000000000000000000000000000'"
            ],
            "application/vnd.google.colaboratory.intrinsic+json": {
              "type": "string"
            }
          },
          "metadata": {},
          "execution_count": 51
        }
      ]
    },
    {
      "cell_type": "code",
      "source": [
        "my_dec_2_ieee(-48) == ieee48"
      ],
      "metadata": {
        "colab": {
          "base_uri": "https://localhost:8080/"
        },
        "id": "lggWl0J67t0L",
        "outputId": "1a0b6266-ec82-4277-e95f-593827daff20"
      },
      "execution_count": 52,
      "outputs": [
        {
          "output_type": "execute_result",
          "data": {
            "text/plain": [
              "True"
            ]
          },
          "metadata": {},
          "execution_count": 52
        }
      ]
    },
    {
      "cell_type": "code",
      "source": [
        "ieee64 = '0100000001110000011101001100110011001100110011001100110011001100'\n",
        "my_ieee_2_dec(ieee64)"
      ],
      "metadata": {
        "colab": {
          "base_uri": "https://localhost:8080/"
        },
        "id": "tHaSxGkd76RV",
        "outputId": "6838dfcb-aa8f-4a6d-ebec-8b60a0617885"
      },
      "execution_count": 53,
      "outputs": [
        {
          "output_type": "execute_result",
          "data": {
            "text/plain": [
              "Decimal('263.299999999999954525264911353588104248046875')"
            ]
          },
          "metadata": {},
          "execution_count": 53
        }
      ]
    },
    {
      "cell_type": "code",
      "source": [
        "my_dec_2_ieee(263.3)"
      ],
      "metadata": {
        "colab": {
          "base_uri": "https://localhost:8080/",
          "height": 35
        },
        "id": "a9TUh03B2aQV",
        "outputId": "a189be91-9acc-4265-ab4b-f49c38b13c75"
      },
      "execution_count": 54,
      "outputs": [
        {
          "output_type": "execute_result",
          "data": {
            "text/plain": [
              "'0100000001110000011101001100110011001100110011001100110011001101'"
            ],
            "application/vnd.google.colaboratory.intrinsic+json": {
              "type": "string"
            }
          },
          "metadata": {},
          "execution_count": 54
        }
      ]
    },
    {
      "cell_type": "code",
      "source": [
        "ieee_tmp = '0100000000101110010111101010001110011100001100011010010001101000'\n",
        "my_ieee_2_dec(ieee_tmp)"
      ],
      "metadata": {
        "colab": {
          "base_uri": "https://localhost:8080/"
        },
        "id": "n78NiZ8X_sKe",
        "outputId": "b54f4c90-980f-4ea3-c20d-a5c4a2cedac6"
      },
      "execution_count": 55,
      "outputs": [
        {
          "output_type": "execute_result",
          "data": {
            "text/plain": [
              "Decimal('15.1848419962500003066452336497604846954345703125')"
            ]
          },
          "metadata": {},
          "execution_count": 55
        }
      ]
    },
    {
      "cell_type": "code",
      "source": [
        "# Output: '0100000000101110010111101010001110011100001100011010010001101000'\n",
        "\n",
        "d = 15.18484199625\n",
        "my_dec_2_ieee(d)"
      ],
      "metadata": {
        "colab": {
          "base_uri": "https://localhost:8080/",
          "height": 35
        },
        "id": "jjxrkXNF8DdP",
        "outputId": "8aca3908-a398-4469-cf3a-3e1fc90d5acf"
      },
      "execution_count": 56,
      "outputs": [
        {
          "output_type": "execute_result",
          "data": {
            "text/plain": [
              "'0100000000101110010111101010001110011100001100011010010001101000'"
            ],
            "application/vnd.google.colaboratory.intrinsic+json": {
              "type": "string"
            }
          },
          "metadata": {},
          "execution_count": 56
        }
      ]
    },
    {
      "cell_type": "code",
      "source": [
        "ieee_1518 = '0100000000101110010111101010001110011100001100011010010001101000'\n",
        "my_dec_2_ieee(d) == ieee_1518"
      ],
      "metadata": {
        "colab": {
          "base_uri": "https://localhost:8080/"
        },
        "id": "01_4R1OUJ_wN",
        "outputId": "c1ebc139-adaf-48c9-c35f-167216f5d0b5"
      },
      "execution_count": 57,
      "outputs": [
        {
          "output_type": "execute_result",
          "data": {
            "text/plain": [
              "True"
            ]
          },
          "metadata": {},
          "execution_count": 57
        }
      ]
    },
    {
      "cell_type": "markdown",
      "source": [
        "Comparing with the geeks for geek code taken from:\n",
        "\n",
        "https://www.geeksforgeeks.org/program-for-conversion-of-32-bits-single-precision-ieee-754-floating-point-representation/"
      ],
      "metadata": {
        "id": "bAREh1EqKcSR"
      }
    },
    {
      "cell_type": "code",
      "source": [
        "# Python program to convert a real value\n",
        "# to IEEE 754 Floating Point Representation.\n",
        "\n",
        "# Function to convert a\n",
        "# fraction to binary form.\n",
        "def binaryOfFraction(fraction):\n",
        "\n",
        "\t# Declaring an empty string\n",
        "\t# to store binary bits.\n",
        "\tbinary = str()\n",
        "\n",
        "\t# Iterating through\n",
        "\t# fraction until it\n",
        "\t# becomes Zero.\n",
        "\twhile (fraction):\n",
        "\t\t\n",
        "\t\t# Multiplying fraction by 2.\n",
        "\t\tfraction *= 2\n",
        "\n",
        "\t\t# Storing Integer Part of\n",
        "\t\t# Fraction in int_part.\n",
        "\t\tif (fraction >= 1):\n",
        "\t\t\tint_part = 1\n",
        "\t\t\tfraction -= 1\n",
        "\t\telse:\n",
        "\t\t\tint_part = 0\n",
        "\t\n",
        "\t\t# Adding int_part to binary\n",
        "\t\t# after every iteration.\n",
        "\t\tbinary += str(int_part)\n",
        "\n",
        "\t# Returning the binary string.\n",
        "\treturn binary\n",
        "\n",
        "# Function to get sign bit,\n",
        "# exp bits and mantissa bits,\n",
        "# from given real no.\n",
        "def floatingPoint(real_no):\n",
        "\n",
        "\t# Setting Sign bit\n",
        "\t# default to zero.\n",
        "\tsign_bit = 0\n",
        "\n",
        "\t# Sign bit will set to\n",
        "\t# 1 for negative no.\n",
        "\tif(real_no < 0):\n",
        "\t\tsign_bit = 1\n",
        "\n",
        "\t# converting given no. to\n",
        "\t# absolute value as we have\n",
        "\t# already set the sign bit.\n",
        "\treal_no = abs(real_no)\n",
        "\n",
        "\t# Converting Integer Part\n",
        "\t# of Real no to Binary\n",
        "\tint_str = bin(int(real_no))[2 : ]\n",
        "\n",
        "\t# Function call to convert\n",
        "\t# Fraction part of real no\n",
        "\t# to Binary.\n",
        "\tfraction_str = binaryOfFraction(real_no - int(real_no))\n",
        "\n",
        "\t# Getting the index where\n",
        "\t# Bit was high for the first\n",
        "\t# Time in binary repres\n",
        "\t# of Integer part of real no.\n",
        "\tind = int_str.index('1')\n",
        "\n",
        "\t# The Exponent is the no.\n",
        "\t# By which we have right\n",
        "\t# Shifted the decimal and\n",
        "\t# it is given below.\n",
        "\t# Also converting it to bias\n",
        "\t# exp by adding 127.\n",
        "\texp_str = bin((len(int_str) - ind - 1) + 127)[2 : ]\n",
        "\n",
        "\t# getting mantissa string\n",
        "\t# By adding int_str and fraction_str.\n",
        "\t# the zeroes in MSB of int_str\n",
        "\t# have no significance so they\n",
        "\t# are ignored by slicing.\n",
        "\tmant_str = int_str[ind + 1 : ] + fraction_str\n",
        "\n",
        "\t# Adding Zeroes in LSB of\n",
        "\t# mantissa string so as to make\n",
        "\t# it's length of 23 bits.\n",
        "\tmant_str = mant_str + ('0' * (23 - len(mant_str)))\n",
        "\n",
        "\t# Returning the sign, Exp\n",
        "\t# and Mantissa Bit strings.\n",
        "\treturn sign_bit, exp_str, mant_str\n",
        "\n",
        "floatingPoint(d)"
      ],
      "metadata": {
        "colab": {
          "base_uri": "https://localhost:8080/"
        },
        "id": "25yfLCPAHdTy",
        "outputId": "bc21581f-0fd3-4e3d-be67-06e857ec23fd"
      },
      "execution_count": 58,
      "outputs": [
        {
          "output_type": "execute_result",
          "data": {
            "text/plain": [
              "(0, '10000010', '1110010111101010001110011100001100011010010001101')"
            ]
          },
          "metadata": {},
          "execution_count": 58
        }
      ]
    },
    {
      "cell_type": "code",
      "source": [
        "# Output: '1100000001110011010100100100010010010001001010011000100010010000'\n",
        "\n",
        "d = -309.141740\n",
        "my_dec_2_ieee(d)"
      ],
      "metadata": {
        "colab": {
          "base_uri": "https://localhost:8080/",
          "height": 35
        },
        "id": "LJ2JyN9QAGvi",
        "outputId": "941ac278-b5ee-4368-c7a0-ccc131aac869"
      },
      "execution_count": 59,
      "outputs": [
        {
          "output_type": "execute_result",
          "data": {
            "text/plain": [
              "'1100000001110011010100100100010010010001001010011000100010010000'"
            ],
            "application/vnd.google.colaboratory.intrinsic+json": {
              "type": "string"
            }
          },
          "metadata": {},
          "execution_count": 59
        }
      ]
    },
    {
      "cell_type": "code",
      "source": [
        "ieee_309 = '1100000001110011010100100100010010010001001010011000100010010000'\n",
        "my_dec_2_ieee(d) == ieee_309"
      ],
      "metadata": {
        "colab": {
          "base_uri": "https://localhost:8080/"
        },
        "id": "eNWtP-m0Kkk4",
        "outputId": "303ce65a-a5ca-4749-ef79-2c149eb488ef"
      },
      "execution_count": 60,
      "outputs": [
        {
          "output_type": "execute_result",
          "data": {
            "text/plain": [
              "True"
            ]
          },
          "metadata": {},
          "execution_count": 60
        }
      ]
    },
    {
      "cell_type": "code",
      "source": [
        "# Output: '1100000011011000101010010000000000000000000000000000000000000000'\n",
        "\n",
        "d = -25252\n",
        "my_dec_2_ieee(d)"
      ],
      "metadata": {
        "colab": {
          "base_uri": "https://localhost:8080/",
          "height": 35
        },
        "id": "fLslMhM5MJJY",
        "outputId": "6ae13df3-d98a-48c8-c1d0-4f377ec415ec"
      },
      "execution_count": 61,
      "outputs": [
        {
          "output_type": "execute_result",
          "data": {
            "text/plain": [
              "'1100000011011000101010010000000000000000000000000000000000000000'"
            ],
            "application/vnd.google.colaboratory.intrinsic+json": {
              "type": "string"
            }
          },
          "metadata": {},
          "execution_count": 61
        }
      ]
    },
    {
      "cell_type": "code",
      "source": [
        "ieee_25252 = '1100000011011000101010010000000000000000000000000000000000000000'\n",
        "my_dec_2_ieee(d) == ieee_25252 "
      ],
      "metadata": {
        "colab": {
          "base_uri": "https://localhost:8080/"
        },
        "id": "6QH_k_V-Me_H",
        "outputId": "0d255d91-e1cd-4bed-ec43-92e744f60410"
      },
      "execution_count": 62,
      "outputs": [
        {
          "output_type": "execute_result",
          "data": {
            "text/plain": [
              "True"
            ]
          },
          "metadata": {},
          "execution_count": 62
        }
      ]
    },
    {
      "cell_type": "markdown",
      "source": [
        "---"
      ],
      "metadata": {
        "id": "45_6up7rSM6J"
      }
    },
    {
      "cell_type": "markdown",
      "source": [
        "8. Define ieee_baby to be a representation of numbers using 6 bits where the first bit is the sign bit, the second and third bits are allocated to the characteristic, and the fourth, fifth, and sixth bits are allocated to the fraction. The normalization for the characteristic is 1.\n",
        "\n",
        "Write all the decimal numbers that can be represented by ieee_baby. What is the largest/smallest gap in ieee_baby?\n",
        "\n",
        "__All decimals that can be represented by ieee_baby:__\n",
        "\n",
        "__lowest possible value__ <br>\n",
        "1 11 111\n",
        "\n",
        "converting to decimal:\n",
        "\n",
        "1 means negative\n",
        "\n",
        "$2^1 * 1 + 2^0 * 1 = 2 + 1 = 3$\n",
        "\n",
        "exponent value is 3\n",
        "\n",
        "__subtracting exponent bias 1__\n",
        "\n",
        "3 - 1 = 2\n",
        "\n",
        "__fraction component__\n",
        "\n",
        "$\\frac{1}{2^1}*1 + \\frac{1}{2^2}*1 + \\frac{1}{2^3}*1 = \\frac{1}{2^1} + \\frac{1}{2^2} + \\frac{1}{2^3} = 0.875$\n",
        "\n",
        "__calculating the 6 bit float__\n",
        "\n",
        "$(-1)^1 * 2^{2} * (1 + 0.875) = -1 * 4 * 1.875 = -7.5$\n",
        "\n",
        "<br> <br> <br>\n",
        "\n",
        "__largest possible value__ <br>\n",
        "0 11 111\n",
        "\n",
        "converting to decimal:\n",
        "\n",
        "0 means positive\n",
        "\n",
        "using the same conversion as above we get __7.5__\n",
        "\n",
        "<br> <br> <br>\n",
        "\n",
        "\n",
        "__all possible values between -7.5 and 7.5__\n",
        "\n",
        "__1 11 111 -> largest value: -7.5__\n",
        "\n",
        "1 11 110 <br>\n",
        "1 11 101 <br>\n",
        "1 11 100 <br>\n",
        "1 11 011 <br>\n",
        "1 11 010 <br>\n",
        "1 11 001 <br>\n",
        "1 11 000 <br>\n",
        "<br>\n",
        "1 10 111 <br>\n",
        "1 10 110 <br>\n",
        "1 10 101 <br>\n",
        "1 10 100 <br>\n",
        "1 10 011 <br>\n",
        "1 10 010 <br>\n",
        "1 10 001 <br>\n",
        "1 10 000 <br>\n",
        "<br>\n",
        "1 00 111 <br>\n",
        "1 00 110 <br>\n",
        "1 00 101 <br>\n",
        "1 00 100 <br>\n",
        "1 00 011 <br>\n",
        "1 00 010 <br>\n",
        "1 00 001 <br>\n",
        "1 00 000  -> -0.5 <br>  \n",
        "<br>\n",
        "0 00 000  -> +0.5 <br>\n",
        "0 00 001 <br>\n",
        "0 00 010 <br>\n",
        "0 00 011 <br>\n",
        "0 00 100 <br>\n",
        "0 00 101 <br>\n",
        "0 00 110 <br>\n",
        "0 00 111 <br>\n",
        "<br>\n",
        "0 01 000 <br>\n",
        "0 01 001 <br>\n",
        "0 01 010 <br>\n",
        "0 01 011 <br>\n",
        "0 01 100 <br>\n",
        "0 01 101 <br>\n",
        "0 01 110 <br>\n",
        "0 01 111 <br>\n",
        "<br>\n",
        "0 11 000 <br>\n",
        "0 11 001 <br>\n",
        "0 11 010 <br>\n",
        "0 11 011 <br>\n",
        "0 11 100 <br>\n",
        "0 11 101 <br>\n",
        "0 11 110 <br>\n",
        "\n",
        "__0 11 111 -> largest value: +7.5__\n",
        "\n",
        "the largest possible gap is between the largest and the smallest value, which is __1 11 111__ (-7.5) and __0 11 111__ (7.5). The smallest possible gap would occur between __1 00 000__ (-0.5) and __0 00 000__ (0.5).\n",
        "\n",
        "\n",
        "\n"
      ],
      "metadata": {
        "id": "j-jHCFkpSNqN"
      }
    },
    {
      "cell_type": "code",
      "source": [
        "ieee_baby = [\n",
        "'1 11 111',\n",
        "'1 11 110',\n",
        "'1 11 101',\n",
        "'1 11 100',\n",
        "'1 11 011',\n",
        "'1 11 010',\n",
        "'1 11 001',\n",
        "'1 11 000',\n",
        "'1 10 111',\n",
        "'1 10 110',\n",
        "'1 10 101',\n",
        "'1 10 100',\n",
        "'1 10 011',\n",
        "'1 10 010',\n",
        "'1 10 001',\n",
        "'1 10 000',\n",
        "'1 00 111',\n",
        "'1 00 110',\n",
        "'1 00 101',\n",
        "'1 00 100',\n",
        "'1 00 011',\n",
        "'1 00 010',\n",
        "'1 00 001',\n",
        "'1 00 000',\n",
        "'0 00 000',\n",
        "'0 00 001',\n",
        "'0 00 010',\n",
        "'0 00 011',\n",
        "'0 00 100',\n",
        "'0 00 101',\n",
        "'0 00 110',\n",
        "'0 00 111',\n",
        "'0 01 000',\n",
        "'0 01 001',\n",
        "'0 01 010',\n",
        "'0 01 011',\n",
        "'0 01 100',\n",
        "'0 01 101',\n",
        "'0 01 110',\n",
        "'0 01 111',\n",
        "'0 11 000',\n",
        "'0 11 001',\n",
        "'0 11 010',\n",
        "'0 11 011',\n",
        "'0 11 100',\n",
        "'0 11 101',\n",
        "'0 11 110',\n",
        "'0 11 111',\n",
        "]\n",
        "\n",
        "ieee_baby[0]"
      ],
      "metadata": {
        "id": "IMB8rXFDSLJY",
        "colab": {
          "base_uri": "https://localhost:8080/",
          "height": 35
        },
        "outputId": "b1a40bf2-796d-4eb8-b03a-8a3910bcc001"
      },
      "execution_count": 63,
      "outputs": [
        {
          "output_type": "execute_result",
          "data": {
            "text/plain": [
              "'1 11 111'"
            ],
            "application/vnd.google.colaboratory.intrinsic+json": {
              "type": "string"
            }
          },
          "metadata": {},
          "execution_count": 63
        }
      ]
    },
    {
      "cell_type": "code",
      "source": [
        "for val in ieee_baby:\n",
        "\n",
        "  bin_val = int(val.split(' ')[0])\n",
        "\n",
        "  exp_str = val.split(' ')[1]\n",
        "  exp = 2**1 * int(exp_str[0]) + 2**0 * int(exp_str[1])\n",
        "  exp_norm = exp - 1\n",
        "\n",
        "  dec_str = val.split(' ')[2]\n",
        "  dec = 1/(2**1) * int(dec_str[0]) + 1/(2**2) * int(dec_str[1]) + 1/(2**3) * int(dec_str[2])\n",
        "\n",
        "  flt = ((-1)**bin_val) * (2**(exp_norm)) * (1 + dec)\n",
        "  print(flt)\n",
        "  print()"
      ],
      "metadata": {
        "colab": {
          "base_uri": "https://localhost:8080/"
        },
        "id": "JY7VMfYdoGiy",
        "outputId": "40453ee4-d30b-4e22-afd7-1e8c9bcebbd7"
      },
      "execution_count": 64,
      "outputs": [
        {
          "output_type": "stream",
          "name": "stdout",
          "text": [
            "-7.5\n",
            "\n",
            "-7.0\n",
            "\n",
            "-6.5\n",
            "\n",
            "-6.0\n",
            "\n",
            "-5.5\n",
            "\n",
            "-5.0\n",
            "\n",
            "-4.5\n",
            "\n",
            "-4.0\n",
            "\n",
            "-3.75\n",
            "\n",
            "-3.5\n",
            "\n",
            "-3.25\n",
            "\n",
            "-3.0\n",
            "\n",
            "-2.75\n",
            "\n",
            "-2.5\n",
            "\n",
            "-2.25\n",
            "\n",
            "-2.0\n",
            "\n",
            "-0.9375\n",
            "\n",
            "-0.875\n",
            "\n",
            "-0.8125\n",
            "\n",
            "-0.75\n",
            "\n",
            "-0.6875\n",
            "\n",
            "-0.625\n",
            "\n",
            "-0.5625\n",
            "\n",
            "-0.5\n",
            "\n",
            "0.5\n",
            "\n",
            "0.5625\n",
            "\n",
            "0.625\n",
            "\n",
            "0.6875\n",
            "\n",
            "0.75\n",
            "\n",
            "0.8125\n",
            "\n",
            "0.875\n",
            "\n",
            "0.9375\n",
            "\n",
            "1.0\n",
            "\n",
            "1.125\n",
            "\n",
            "1.25\n",
            "\n",
            "1.375\n",
            "\n",
            "1.5\n",
            "\n",
            "1.625\n",
            "\n",
            "1.75\n",
            "\n",
            "1.875\n",
            "\n",
            "4.0\n",
            "\n",
            "4.5\n",
            "\n",
            "5.0\n",
            "\n",
            "5.5\n",
            "\n",
            "6.0\n",
            "\n",
            "6.5\n",
            "\n",
            "7.0\n",
            "\n",
            "7.5\n",
            "\n"
          ]
        }
      ]
    },
    {
      "cell_type": "markdown",
      "source": [
        "---"
      ],
      "metadata": {
        "id": "dapIPlABydGQ"
      }
    },
    {
      "cell_type": "markdown",
      "source": [
        "9. Use the np.spacing function to determine the smallest number such that the gap is 1.\n",
        "\n",
        "gap means the distance between the number and the closest value based on the numerical precision."
      ],
      "metadata": {
        "id": "7Fdp3ryOyeFN"
      }
    },
    {
      "cell_type": "markdown",
      "source": [
        "what we're looking for is the smallest number when added to 1 results in 1."
      ],
      "metadata": {
        "id": "I-UJUu7vMCoN"
      }
    },
    {
      "cell_type": "code",
      "source": [
        "# from the np.spacing documentation\n",
        "# https://numpy.org/doc/stable/reference/generated/numpy.spacing.html\n",
        "np.spacing(1) == np.finfo(np.float64).eps"
      ],
      "metadata": {
        "colab": {
          "base_uri": "https://localhost:8080/"
        },
        "id": "0ZQqegdYzE14",
        "outputId": "41b62df8-970a-436f-87fd-15782f9c4b87"
      },
      "execution_count": 65,
      "outputs": [
        {
          "output_type": "execute_result",
          "data": {
            "text/plain": [
              "True"
            ]
          },
          "metadata": {},
          "execution_count": 65
        }
      ]
    },
    {
      "cell_type": "code",
      "source": [
        "np.spacing(1)/2 "
      ],
      "metadata": {
        "colab": {
          "base_uri": "https://localhost:8080/"
        },
        "id": "ouR2H7u13F2j",
        "outputId": "cd2d6e25-7587-4317-de3b-7473081de1ca"
      },
      "execution_count": 66,
      "outputs": [
        {
          "output_type": "execute_result",
          "data": {
            "text/plain": [
              "1.1102230246251565e-16"
            ]
          },
          "metadata": {},
          "execution_count": 66
        }
      ]
    },
    {
      "cell_type": "code",
      "source": [
        "np.finfo(np.float64).eps"
      ],
      "metadata": {
        "colab": {
          "base_uri": "https://localhost:8080/"
        },
        "id": "tFWfqwEi3Geg",
        "outputId": "472293fe-81da-4189-81ef-263a3c91049e"
      },
      "execution_count": 67,
      "outputs": [
        {
          "output_type": "execute_result",
          "data": {
            "text/plain": [
              "2.220446049250313e-16"
            ]
          },
          "metadata": {},
          "execution_count": 67
        }
      ]
    },
    {
      "cell_type": "markdown",
      "source": [
        "we already know that any number >= np.spacing(1)/2 when addedc to 1 will result in 1. That's how we get the closest number to 1."
      ],
      "metadata": {
        "id": "6UlD2CZrMWDZ"
      }
    },
    {
      "cell_type": "code",
      "source": [
        "print(1 == np.spacing(1)/2 + 1)\n",
        "print(1 == np.spacing(1)/3 + 1)\n",
        "print(1 == np.spacing(1)/4 + 1)"
      ],
      "metadata": {
        "colab": {
          "base_uri": "https://localhost:8080/"
        },
        "id": "bhqTbuQeMhXo",
        "outputId": "2aa3d18e-bfa0-4fa6-b5dc-6c1b88066312"
      },
      "execution_count": 68,
      "outputs": [
        {
          "output_type": "stream",
          "name": "stdout",
          "text": [
            "True\n",
            "True\n",
            "True\n"
          ]
        }
      ]
    },
    {
      "cell_type": "code",
      "source": [
        "import sys\n",
        "sys.float_info.max"
      ],
      "metadata": {
        "colab": {
          "base_uri": "https://localhost:8080/"
        },
        "id": "v5lF35MHMqan",
        "outputId": "854ebfc8-24a8-409a-a2b5-98252c30a921"
      },
      "execution_count": 69,
      "outputs": [
        {
          "output_type": "execute_result",
          "data": {
            "text/plain": [
              "1.7976931348623157e+308"
            ]
          },
          "metadata": {},
          "execution_count": 69
        }
      ]
    },
    {
      "cell_type": "code",
      "source": [
        "str(0.0000000000000000000000000000001)"
      ],
      "metadata": {
        "colab": {
          "base_uri": "https://localhost:8080/",
          "height": 35
        },
        "id": "LvbRa9OL4BVk",
        "outputId": "0122234f-d336-4bf0-872b-bc8a280fb1ee"
      },
      "execution_count": 70,
      "outputs": [
        {
          "output_type": "execute_result",
          "data": {
            "text/plain": [
              "'1e-31'"
            ],
            "application/vnd.google.colaboratory.intrinsic+json": {
              "type": "string"
            }
          },
          "metadata": {},
          "execution_count": 70
        }
      ]
    },
    {
      "cell_type": "code",
      "source": [
        "str(0.00000000000000000000000000000001)"
      ],
      "metadata": {
        "colab": {
          "base_uri": "https://localhost:8080/",
          "height": 35
        },
        "id": "SzZVxv0Z37aa",
        "outputId": "f282b948-70c8-4df7-abd9-5dfd4cf33fbd"
      },
      "execution_count": 71,
      "outputs": [
        {
          "output_type": "execute_result",
          "data": {
            "text/plain": [
              "'1e-32'"
            ],
            "application/vnd.google.colaboratory.intrinsic+json": {
              "type": "string"
            }
          },
          "metadata": {},
          "execution_count": 71
        }
      ]
    },
    {
      "cell_type": "markdown",
      "source": [
        "if we add 1e-31 to the eps value we get false, whci hindicates that 1e-31 + eps is the largest value that when added to 1 gives 1 and thus is the closest to np.spacing(1)/2. if we go with 1e-32, we get true as we cross the floating precision limit of 31."
      ],
      "metadata": {
        "id": "0zO7HTZP4GZD"
      }
    },
    {
      "cell_type": "code",
      "source": [
        "np.spacing(1) == np.finfo(np.float64).eps + (0.0000000000000000000000000000001)"
      ],
      "metadata": {
        "colab": {
          "base_uri": "https://localhost:8080/"
        },
        "id": "JaxbUGtf3Sxh",
        "outputId": "b03003b9-b9a3-4900-ae0e-6a12f3f8ba62"
      },
      "execution_count": 72,
      "outputs": [
        {
          "output_type": "execute_result",
          "data": {
            "text/plain": [
              "False"
            ]
          },
          "metadata": {},
          "execution_count": 72
        }
      ]
    },
    {
      "cell_type": "code",
      "source": [
        "np.spacing(1) == np.finfo(np.float64).eps + (0.00000000000000000000000000000001)"
      ],
      "metadata": {
        "colab": {
          "base_uri": "https://localhost:8080/"
        },
        "id": "TxhfkGETOBRj",
        "outputId": "81912e90-afe6-43f2-902f-37ab59a8f689"
      },
      "execution_count": 73,
      "outputs": [
        {
          "output_type": "execute_result",
          "data": {
            "text/plain": [
              "True"
            ]
          },
          "metadata": {},
          "execution_count": 73
        }
      ]
    },
    {
      "cell_type": "markdown",
      "source": [
        "---"
      ],
      "metadata": {
        "id": "M7LuP5PmQCL0"
      }
    },
    {
      "cell_type": "markdown",
      "source": [
        "10. What are some of the advantages and disadvantages of using binary versus decimal?\n",
        "\n",
        "__Advantages of binary system:__\n",
        "\n",
        "Let's break down each advantage mentioned in the following post: <br>\n",
        "source: https://www.quora.com/What-are-the-advantages-and-disadvantages-of-a-binary-number-system\n",
        "\n",
        "- Binary system allows computers to perform complex calculations very easily as each calculation is between 0 and 1. For example, a calculation with lots of decimal values in loats like 3.142865 + 7.132456 in a 64 bit double floating precision is simply an addition of 0's and 1's and thus very easy for computers to perform. With decimals with higher precision it becomes very difficult even for humans to perform the calculations.\n",
        "\n",
        "- A simple 0/1 binary system allows us to work with any logical gates such as __AND__ (1 and 1), __OR__ (1 or 0, 1 or 1, 0 or 1), __XOR__ (01 or 10).\n",
        "\n",
        "__Disadvantages of binary system__\n",
        "\n",
        "- Too complex to understand for humans. For e.g. a simple number like 1.5 would be represented in a 64 bit ieee system as 011111111111000000000000000000000000000000000000000000000000000.\n",
        "\n",
        "\n",
        "\n",
        "\n",
        "\n"
      ],
      "metadata": {
        "id": "J3SwlExAOqOM"
      }
    },
    {
      "cell_type": "code",
      "source": [
        "False or True"
      ],
      "metadata": {
        "colab": {
          "base_uri": "https://localhost:8080/"
        },
        "id": "x8bwJfLqiClC",
        "outputId": "09cf63b1-e1f9-4f30-e0ce-5763ac9c388b"
      },
      "execution_count": 74,
      "outputs": [
        {
          "output_type": "execute_result",
          "data": {
            "text/plain": [
              "True"
            ]
          },
          "metadata": {},
          "execution_count": 74
        }
      ]
    },
    {
      "cell_type": "code",
      "source": [
        "# 64 bit conversion\n",
        "my_dec_2_ieee(1.5)"
      ],
      "metadata": {
        "colab": {
          "base_uri": "https://localhost:8080/",
          "height": 35
        },
        "id": "obt7G3E-P3lK",
        "outputId": "974889f2-0db3-4929-a558-b55aeba6c9ea"
      },
      "execution_count": 75,
      "outputs": [
        {
          "output_type": "execute_result",
          "data": {
            "text/plain": [
              "'011111111111000000000000000000000000000000000000000000000000000'"
            ],
            "application/vnd.google.colaboratory.intrinsic+json": {
              "type": "string"
            }
          },
          "metadata": {},
          "execution_count": 75
        }
      ]
    },
    {
      "cell_type": "code",
      "source": [
        "# 32 bit conversion\n",
        "floatingPoint(1.5)"
      ],
      "metadata": {
        "colab": {
          "base_uri": "https://localhost:8080/"
        },
        "id": "ikIeLEBs5LOY",
        "outputId": "d3fe6ed7-7432-4629-d269-0663f193be71"
      },
      "execution_count": 76,
      "outputs": [
        {
          "output_type": "execute_result",
          "data": {
            "text/plain": [
              "(0, '1111111', '10000000000000000000000')"
            ]
          },
          "metadata": {},
          "execution_count": 76
        }
      ]
    },
    {
      "cell_type": "code",
      "source": [
        "my_dec_2_ieee(22.5)"
      ],
      "metadata": {
        "colab": {
          "base_uri": "https://localhost:8080/",
          "height": 35
        },
        "id": "Mh-L-cG9gyhd",
        "outputId": "09971b04-a9b1-45d7-be47-03df8455093e"
      },
      "execution_count": 77,
      "outputs": [
        {
          "output_type": "execute_result",
          "data": {
            "text/plain": [
              "'0100000000110110100000000000000000000000000000000000000000000000'"
            ],
            "application/vnd.google.colaboratory.intrinsic+json": {
              "type": "string"
            }
          },
          "metadata": {},
          "execution_count": 77
        }
      ]
    },
    {
      "cell_type": "code",
      "source": [
        "my_dec_2_ieee(24.0)"
      ],
      "metadata": {
        "colab": {
          "base_uri": "https://localhost:8080/",
          "height": 35
        },
        "id": "07ZmiL3Bg0q_",
        "outputId": "8e1bd3c5-e062-4947-a36c-d568c76c40b3"
      },
      "execution_count": 78,
      "outputs": [
        {
          "output_type": "execute_result",
          "data": {
            "text/plain": [
              "'0100000000111000000000000000000000000000000000000000000000000000'"
            ],
            "application/vnd.google.colaboratory.intrinsic+json": {
              "type": "string"
            }
          },
          "metadata": {},
          "execution_count": 78
        }
      ]
    },
    {
      "cell_type": "markdown",
      "source": [
        "11. Write the number 13 (base10) in base1. How would you do addition and multiplication in base1?\n",
        "\n",
        "base1 refers to unary system where each number N in base 10 is represented by n 1's. For e.g. 1 is 1, 2 is 11, 3 is 111, 4 is 1111,.....\n",
        "\n",
        "source: https://en.wikipedia.org/wiki/Unary_numeral_system\n",
        "\n",
        "addition and multiplication in unary system is just string concatenation.\n",
        "\n",
        "source: https://www.uh.edu/engines/epi2535.htm#:~:text=Multiplication%20in%20unary%20is%20easy,the%20number%20fifteen%20in%20unary.\n",
        "\n",
        "from the post:\n",
        "\n",
        "<pre>\n",
        "  5                 |||||\n",
        "X 3              X    |||\n",
        "______      _________________________\n",
        " 15          |||||   |||||   |||||\n",
        "</pre>\n",
        "\n",
        "addition example:\n",
        "\n",
        "<pre>\n",
        "  5                 |||||\n",
        "+ 3              +    |||\n",
        "______      _________________________\n",
        "  8                 |||||  |||\n",
        "</pre>"
      ],
      "metadata": {
        "id": "AV7GgCU6Svvo"
      }
    },
    {
      "cell_type": "markdown",
      "source": [
        "---"
      ],
      "metadata": {
        "id": "gTseyGMDZL_G"
      }
    },
    {
      "cell_type": "markdown",
      "source": [
        "12. How high can you count on your fingers if you count in binary?\n",
        "\n",
        "\n",
        "Let's say we have are using the first 6 powers\n",
        "\n",
        "<pre>\n",
        "\n",
        " 32     16     8     4     2     1 \n",
        "2^5    2^4    2^3   2^2   2^1   2^0\n",
        "\n",
        "</pre>\n",
        "\n",
        "lets say I'm counting 31 then I know the first bit is 0 as 32 > 31.\n",
        "\n",
        "second bit is 1 so we get 16\n",
        "\n",
        "third bit is 1 so we get 24\n",
        "\n",
        "fourth bit is 1 so we get 28\n",
        "\n",
        "fifth bit is 1 so we get 30\n",
        "\n",
        "sixth bit is 1 so w e get 31\n",
        "\n",
        "__binary number is 11111__\n",
        "\n",
        "_______________________________________________________________________\n",
        "\n",
        "now lets say I'm doing 17\n",
        "\n",
        "here I know I cant take 32.\n",
        "\n",
        "I can take 16.\n",
        "\n",
        "I can't take 8, 4, 2\n",
        "\n",
        "I can take 1\n",
        "\n",
        "16 + 1 = 17\n",
        "\n",
        "__binary number is 10001__\n",
        "\n",
        "Similarly I can think of adding 6 and 2^6 = 64. After that it gets harder to keep track of all the bits but by hand using similar logic I can go as high as 1024, which would be 2^10 = 1024.\n",
        "\n",
        "Lets give it a shot.\n",
        "\n",
        "<pre>\n",
        "\n",
        "1024    512    256   128    64    32     16     8     4     2     1 \n",
        "2^10    2^9    2^8   2^7   2^6    2^5    2^4    2^3   2^2   2^1   2^0\n",
        "\n",
        "</pre>\n",
        "\n",
        "lets say we pick 991. \n",
        "\n",
        "cant use 10 so 0 <br>\n",
        "can  use  9 so 1 <br>\n",
        "can  use  8 so 1 <br> \n",
        "can  use  7 so 1 <br>\n",
        "can  use  6 so 1 <br>\n",
        "cant use  5 so 0 <br>\n",
        "can  use  4 so 1 <br>\n",
        "can  use  3 so 1 <br>\n",
        "can  use  2 so 1 <br>\n",
        "can  use  1 so 1 <br>\n",
        "can  use  0 so 1 <br>\n",
        "\n",
        "__final number:__ 1111011111\n",
        "\n",
        "\n"
      ],
      "metadata": {
        "id": "4_pYj1zVVL_u"
      }
    },
    {
      "cell_type": "code",
      "source": [
        "my_dec_2_bin(31)"
      ],
      "metadata": {
        "colab": {
          "base_uri": "https://localhost:8080/"
        },
        "id": "gF6BZsZc6F-x",
        "outputId": "e42b72e7-33f9-4537-d258-0473c96d49f5"
      },
      "execution_count": 79,
      "outputs": [
        {
          "output_type": "execute_result",
          "data": {
            "text/plain": [
              "[1, 1, 1, 1, 1]"
            ]
          },
          "metadata": {},
          "execution_count": 79
        }
      ]
    },
    {
      "cell_type": "code",
      "source": [
        "my_dec_2_bin(17)"
      ],
      "metadata": {
        "colab": {
          "base_uri": "https://localhost:8080/"
        },
        "id": "cq8xG5ZEYv3m",
        "outputId": "59209d03-69fb-495b-af39-8f9275817eba"
      },
      "execution_count": 80,
      "outputs": [
        {
          "output_type": "execute_result",
          "data": {
            "text/plain": [
              "[1, 0, 0, 0, 1]"
            ]
          },
          "metadata": {},
          "execution_count": 80
        }
      ]
    },
    {
      "cell_type": "code",
      "source": [
        "my_dec_2_bin(991)"
      ],
      "metadata": {
        "colab": {
          "base_uri": "https://localhost:8080/"
        },
        "id": "3E87Qs3UY_Bc",
        "outputId": "3b5628ba-3abd-4498-d3cd-907f385c2225"
      },
      "execution_count": 81,
      "outputs": [
        {
          "output_type": "execute_result",
          "data": {
            "text/plain": [
              "[1, 1, 1, 1, 0, 1, 1, 1, 1, 1]"
            ]
          },
          "metadata": {},
          "execution_count": 81
        }
      ]
    },
    {
      "cell_type": "markdown",
      "source": [
        "---"
      ],
      "metadata": {
        "id": "12PhuWfsZJfi"
      }
    },
    {
      "cell_type": "markdown",
      "source": [
        "13. Let b be a binary number having n digits. Can you think of ways to multiply and divide b by 2 that does not involve any arithmetic? Hint: Think about how you multiply and divide a decimal number by 10.\n",
        "\n",
        "dividing by 2 means in binary terms dividing by 10. This means all we have to do is remove the last 0 (we assume the binary numbers represent even values where the last bit is 0). \n",
        "\n",
        "we want to divide binary 6 by binary 2\n",
        "\n",
        "binary 6 is 110 <br>\n",
        "binary 2 is  10 <br>\n",
        "binary 3 is the result, which is 11.\n",
        "\n",
        "110/10 = 11\n",
        "\n",
        "-------------------------------------------------------------------------\n",
        "\n",
        "lets try 16 by 2\n",
        "\n",
        "binary 16 is 10000 <br>\n",
        "binary  2 is    10 <br>\n",
        "binary  8 is the result, which is 1000.\n",
        "\n",
        "10000/10 = 1000\n",
        "\n",
        "lets take 24.\n",
        "\n",
        "binary 24 is 11000 <br>\n",
        "binary  2 is    10 <br>\n",
        "binary  12 is the result, which is 1100.\n",
        "\n",
        "11000/10 = 1000\n",
        "\n",
        "__Multiplying by 2 simply involves adding a 0 at the end.__\n",
        "\n",
        "Let's take 12 * 2\n",
        "\n",
        "1100 * 10 = 11000 (24)\n",
        "\n",
        "\n",
        "Let's take 16 * 2\n",
        "\n",
        "10000 * 10 = 100000 (32)\n"
      ],
      "metadata": {
        "id": "R1lJp_m-ZDXy"
      }
    },
    {
      "cell_type": "code",
      "source": [
        "my_dec_2_bin(32)"
      ],
      "metadata": {
        "colab": {
          "base_uri": "https://localhost:8080/"
        },
        "id": "FBNmdYN3ZI00",
        "outputId": "f2c5ac32-8929-432f-886e-837ceb83ca90"
      },
      "execution_count": 87,
      "outputs": [
        {
          "output_type": "execute_result",
          "data": {
            "text/plain": [
              "[1, 0, 0, 0, 0, 0]"
            ]
          },
          "metadata": {},
          "execution_count": 87
        }
      ]
    },
    {
      "cell_type": "code",
      "source": [],
      "metadata": {
        "id": "AW6l5dSpaZH1"
      },
      "execution_count": null,
      "outputs": []
    }
  ]
}