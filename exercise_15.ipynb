{
  "nbformat": 4,
  "nbformat_minor": 0,
  "metadata": {
    "colab": {
      "provenance": []
    },
    "kernelspec": {
      "name": "python3",
      "display_name": "Python 3"
    },
    "language_info": {
      "name": "python"
    }
  },
  "cells": [
    {
      "cell_type": "markdown",
      "source": [
        "These are the exercise problems from the book Python programming and Numerical methods book:\n",
        "\n",
        "https://pythonnumericalmethods.berkeley.edu/notebooks/Index.html\n",
        "\n",
        "# Chapter 15: EIGENVALUES AND EIGENVECTORS\n",
        "\n",
        "https://pythonnumericalmethods.berkeley.edu/notebooks/chapter15.05-Summary-and-Problems.html#problems\n",
        "\n",
        "Only those problems that need to be solved in a notebook environment"
      ],
      "metadata": {
        "id": "dFf9sf7ziKub"
      }
    },
    {
      "cell_type": "markdown",
      "source": [
        "---"
      ],
      "metadata": {
        "id": "ZBhH8PfejTxZ"
      }
    },
    {
      "cell_type": "markdown",
      "source": [
        "1. Write down the characteristic equation for matrix A = $\\begin{bmatrix}3 & 2\\\\5 & 3\\end{bmatrix}$\n",
        "\n",
        "det(A - λI) = 0\n",
        "\n",
        "det($\\begin{bmatrix}3-λ & 2\\\\5 & 3-λ\\end{bmatrix}$) = 0\n",
        "\n",
        "$(3 - λ)(3 - λ) - 2*5 = 0$\n",
        "\n",
        "$(3 - λ)^2 - 10 = 0$\n",
        "\n",
        "$[9 - 6λ + λ^2] - 10 = 0$\n",
        "\n",
        "$λ^2 - 6λ + 9 - 10 = 0$\n",
        "\n",
        "$λ^2 - 6λ - 1 = 0$\n",
        "\n",
        "--------------------------------------------------------------------\n",
        "\n",
        "alternate way:\n",
        "\n",
        "for a 2 by 2 matrix characteristic equation can be written as: <br>\n",
        "λ^2 - trace(A)λ + det(A) = 0\n",
        "\n",
        "trace(A) = sum of diagonal elements\n",
        "\n",
        "trace(A) = 3 + 3 = 6\n",
        "\n",
        "det(A) = 3 * 3 - 2 * 5 = 9 - 10 = -1\n",
        "\n",
        "$λ^2 - 6λ - 1 = 0$"
      ],
      "metadata": {
        "id": "wnPpnMN6jUou"
      }
    },
    {
      "cell_type": "markdown",
      "source": [
        "---"
      ],
      "metadata": {
        "id": "mrR71mrYuMBQ"
      }
    },
    {
      "cell_type": "markdown",
      "source": [
        "2. Using the above characteristic equation to solve for eigenvalues and eigenvectors for matrix A.\n",
        "\n",
        "$λ^2 - 6λ - 1 = 0$\n",
        "\n",
        "we must use the roots of a quadratic equation formula to solve this:\n",
        "\n",
        "λ = $\\frac{-b ± \\sqrt{b^2 - 4ac}}{2a}$\n",
        "\n",
        "a = 1, b = -6, c = -1\n",
        "\n",
        "λ = $\\frac{-(-6) ± \\sqrt{(-6)^2 - 4(1)(-1)}}{2(1)}$\n",
        "\n",
        "λ = $\\frac{6 ± \\sqrt{36 + 4}}{2}$\n",
        "\n",
        "λ = $\\frac{6 ± \\sqrt{40}}{2}$\n",
        "\n",
        "λ = [$\\frac{6 + \\sqrt{40}}{2}, \\frac{6 - \\sqrt{40}}{2}$]\n",
        "\n",
        "λ = [6.162278, -0.16227766]\n",
        "\n",
        "\n",
        "----------------------------------------------------------------------\n",
        "\n",
        "eigenvectors\n",
        "\n",
        "eigenvectors would be the vectors that are in the null space of A - λI.\n",
        "\n",
        "__note:__ Because A - λI is singular, there are many solutions to this problem.\n",
        "\n",
        "\n",
        "At eigenvalue 6.162278, eigenvector is:\n",
        "\n",
        "$\\begin{bmatrix}3-6.162278 & 2\\\\5 & 3-6.162278\\end{bmatrix}$\n",
        "\n",
        "<br>\n",
        "\n",
        "$\\begin{bmatrix}-3.162278 & 2\\\\5 & -3.162278\\end{bmatrix}$$\\begin{bmatrix}v1\\\\v2\\end{bmatrix}$ = $\\begin{bmatrix}0\\\\0\\end{bmatrix}$\n",
        "\n",
        "Any v1 and v2 that can solve this are our potential eigenvectors for eigenvalue. One simple answer could be:\n",
        "\n",
        "\n",
        "v = $\\begin{bmatrix}1\\\\1.581139\\end{bmatrix}$\n",
        "\n",
        "note: col 1 in A - λI can be created as a linear combination of col 2.\n",
        "\n",
        "So, if we divide -3.162278/2, we get -1.581139.\n",
        "\n",
        "if we take positive 1 and positive 1.581139 then we get:\n",
        "\n",
        "-3.162278(1) + 2(1.581139) = 0\n",
        "\n",
        "Any v1 and v2 with a similar relationship can be the eigenvector. We can use a similar process with the other eigenvalue. We'll use numpy to get the eigenvectors.\n"
      ],
      "metadata": {
        "id": "9VHKYpqiuMvX"
      }
    },
    {
      "cell_type": "code",
      "execution_count": 1,
      "metadata": {
        "id": "u3jOHU9CiHyY"
      },
      "outputs": [],
      "source": [
        "import numpy as np\n",
        "import sympy as sym"
      ]
    },
    {
      "cell_type": "code",
      "source": [
        "print((6 + np.sqrt(40))/2)\n",
        "print((6 - np.sqrt(40))/2)"
      ],
      "metadata": {
        "colab": {
          "base_uri": "https://localhost:8080/"
        },
        "id": "9PzaQVkSzUHK",
        "outputId": "09c467da-5b7b-4b70-dea6-1b8e3c4a9b87"
      },
      "execution_count": 2,
      "outputs": [
        {
          "output_type": "stream",
          "name": "stdout",
          "text": [
            "6.16227766016838\n",
            "-0.16227766016837952\n"
          ]
        }
      ]
    },
    {
      "cell_type": "code",
      "source": [
        "A = np.array([[3, 2], [5, 3]])\n",
        "np.linalg.eigvals(A)"
      ],
      "metadata": {
        "colab": {
          "base_uri": "https://localhost:8080/"
        },
        "id": "qPBMkvufzjIz",
        "outputId": "9c8bb89c-0ff9-40e7-c765-47bc54f72374"
      },
      "execution_count": 3,
      "outputs": [
        {
          "output_type": "execute_result",
          "data": {
            "text/plain": [
              "array([ 6.16227766, -0.16227766])"
            ]
          },
          "metadata": {},
          "execution_count": 3
        }
      ]
    },
    {
      "cell_type": "code",
      "source": [
        "np.linalg.eig(A)[1]"
      ],
      "metadata": {
        "colab": {
          "base_uri": "https://localhost:8080/"
        },
        "id": "QFVNh_8QCEHG",
        "outputId": "008dea15-c8f6-4ca2-fddd-b48d722ba266"
      },
      "execution_count": 4,
      "outputs": [
        {
          "output_type": "execute_result",
          "data": {
            "text/plain": [
              "array([[ 0.53452248, -0.53452248],\n",
              "       [ 0.84515425,  0.84515425]])"
            ]
          },
          "metadata": {},
          "execution_count": 4
        }
      ]
    },
    {
      "cell_type": "code",
      "source": [
        "# np.diag(np.linalg.eigvals(A))\n",
        "np.linalg.eigvals(A)[0]*np.eye(2)"
      ],
      "metadata": {
        "colab": {
          "base_uri": "https://localhost:8080/"
        },
        "id": "0Tby2NWsCXnp",
        "outputId": "e2984be4-729f-4642-9ded-bef4bd59e307"
      },
      "execution_count": 5,
      "outputs": [
        {
          "output_type": "execute_result",
          "data": {
            "text/plain": [
              "array([[6.16227766, 0.        ],\n",
              "       [0.        , 6.16227766]])"
            ]
          },
          "metadata": {},
          "execution_count": 5
        }
      ]
    },
    {
      "cell_type": "markdown",
      "source": [
        "verifying if (A - λI)v = [0,0]"
      ],
      "metadata": {
        "id": "sm0e-cAfDY5_"
      }
    },
    {
      "cell_type": "code",
      "source": [
        "A_lambI = A - np.linalg.eigvals(A)[0]*np.eye(2)\n",
        "A_lambI"
      ],
      "metadata": {
        "colab": {
          "base_uri": "https://localhost:8080/"
        },
        "id": "qPRkA8q1CN8c",
        "outputId": "769780e8-f3bb-4393-f23c-9c82b57964c9"
      },
      "execution_count": 6,
      "outputs": [
        {
          "output_type": "execute_result",
          "data": {
            "text/plain": [
              "array([[-3.16227766,  2.        ],\n",
              "       [ 5.        , -3.16227766]])"
            ]
          },
          "metadata": {},
          "execution_count": 6
        }
      ]
    },
    {
      "cell_type": "code",
      "source": [
        "# eigenvector associated with first eigenvalue\n",
        "np.linalg.eig(A)[1][:,0]"
      ],
      "metadata": {
        "colab": {
          "base_uri": "https://localhost:8080/"
        },
        "id": "nkymMraODRb8",
        "outputId": "b885fae6-a76c-42ba-d4d2-6d4ec8418d1d"
      },
      "execution_count": 7,
      "outputs": [
        {
          "output_type": "execute_result",
          "data": {
            "text/plain": [
              "array([0.53452248, 0.84515425])"
            ]
          },
          "metadata": {},
          "execution_count": 7
        }
      ]
    },
    {
      "cell_type": "code",
      "source": [
        "np.round(A_lambI @ np.linalg.eig(A)[1][:,0], 3)"
      ],
      "metadata": {
        "colab": {
          "base_uri": "https://localhost:8080/"
        },
        "id": "kLVE3a4qCxdj",
        "outputId": "8e685d58-6d7c-4e7a-f9e9-76029ca1154e"
      },
      "execution_count": 8,
      "outputs": [
        {
          "output_type": "execute_result",
          "data": {
            "text/plain": [
              "array([-0., -0.])"
            ]
          },
          "metadata": {},
          "execution_count": 8
        }
      ]
    },
    {
      "cell_type": "markdown",
      "source": [
        "---"
      ],
      "metadata": {
        "id": "iRMwzGOb0Mob"
      }
    },
    {
      "cell_type": "markdown",
      "source": [
        "3. Using the first eigenvector that derived from problem 2 to verify that Ax = λx."
      ],
      "metadata": {
        "id": "QbwjaGYo0NgC"
      }
    },
    {
      "cell_type": "code",
      "source": [
        "v1 = np.linalg.eig(A)[1][:,0]\n",
        "lamb1 = np.linalg.eigvals(A)[0]\n",
        "\n",
        "# Ax - λx = [0,0]\n",
        "np.round(A @ v1 - lamb1 * v1, 3)"
      ],
      "metadata": {
        "colab": {
          "base_uri": "https://localhost:8080/"
        },
        "id": "jNXj4QlL0NIh",
        "outputId": "20bbcdc3-cdd9-4d6b-fb1f-a1c5d8794329"
      },
      "execution_count": 9,
      "outputs": [
        {
          "output_type": "execute_result",
          "data": {
            "text/plain": [
              "array([-0.,  0.])"
            ]
          },
          "metadata": {},
          "execution_count": 9
        }
      ]
    },
    {
      "cell_type": "markdown",
      "source": [
        "---"
      ],
      "metadata": {
        "id": "JERyingOD9NK"
      }
    },
    {
      "cell_type": "markdown",
      "source": [
        "4. Get the largest eigenvalue and eigenvector for matrix A = $\\begin{bmatrix}2 & 1 & 2\\\\1 & 3 & 2\\\\2 & 4 & 1\\end{bmatrix}$ using the power method. You can start with initial vector [1, 1, 1], see what you will get after 8 iterations.\n",
        "\n",
        "\n",
        "By hand:\n",
        "\n",
        "__iteration 1:__\n",
        "\n",
        "$\\begin{bmatrix}2 & 1 & 2\\\\1 & 3 & 2\\\\2 & 4 & 1\\end{bmatrix}$$\\begin{bmatrix}1\\\\1\\\\1\\end{bmatrix}$ = $\\begin{bmatrix}5\\\\6\\\\9\\end{bmatrix}$\n",
        "\n",
        "largest value 9\n",
        "\n",
        "$\\begin{bmatrix}2 & 1 & 2\\\\1 & 3 & 2\\\\2 & 4 & 1\\end{bmatrix}$$\\begin{bmatrix}1\\\\1\\\\1\\end{bmatrix}$ = 9$\\begin{bmatrix}5/9\\\\6/9\\\\9/9\\end{bmatrix}$\n",
        "\n",
        "__iteration 2:__\n",
        "\n",
        "$\\begin{bmatrix}2 & 1 & 2\\\\1 & 3 & 2\\\\2 & 4 & 1\\end{bmatrix}$$\\begin{bmatrix}5/9\\\\6/9\\\\9/9\\end{bmatrix}$ = $\\begin{bmatrix}3.778\\\\4.556\\\\4.778\\end{bmatrix}$\n",
        "\n",
        "largest value 4.778\n",
        "\n",
        "$\\begin{bmatrix}2 & 1 & 2\\\\1 & 3 & 2\\\\2 & 4 & 1\\end{bmatrix}$$\\begin{bmatrix}5/9\\\\6/9\\\\9/9\\end{bmatrix}$ = 4.778$\\begin{bmatrix}0.791\\\\0.954\\\\1\\end{bmatrix}$\n",
        "\n",
        "__iteration 3:__\n",
        "\n",
        "$\\begin{bmatrix}2 & 1 & 2\\\\1 & 3 & 2\\\\2 & 4 & 1\\end{bmatrix}$$\\begin{bmatrix}0.791\\\\0.954\\\\1\\end{bmatrix}$ = $\\begin{bmatrix}4.536\\\\5.653\\\\6.398\\end{bmatrix}$\n",
        "\n",
        "largest value 6.398\n",
        "\n",
        "$\\begin{bmatrix}2 & 1 & 2\\\\1 & 3 & 2\\\\2 & 4 & 1\\end{bmatrix}$$\\begin{bmatrix}5/9\\\\6/9\\\\9/9\\end{bmatrix}$ = 6.398$\\begin{bmatrix}0.709\\\\0.884\\\\1\\end{bmatrix}$\n",
        "\n",
        "__iteration 4:__\n",
        "\n",
        "$\\begin{bmatrix}2 & 1 & 2\\\\1 & 3 & 2\\\\2 & 4 & 1\\end{bmatrix}$$\\begin{bmatrix}0.709\\\\0.884\\\\1\\end{bmatrix}$ = $\\begin{bmatrix}4.302\\\\5.361\\\\5.954\\end{bmatrix}$\n",
        "\n",
        "largest value 5.954\n",
        "\n",
        "$\\begin{bmatrix}2 & 1 & 2\\\\1 & 3 & 2\\\\2 & 4 & 1\\end{bmatrix}$$\\begin{bmatrix}5/9\\\\6/9\\\\9/9\\end{bmatrix}$ = 5.954$\\begin{bmatrix}0.723\\\\0.900\\\\1\\end{bmatrix}$\n",
        "\n",
        "__iteration 5:__\n",
        "\n",
        "$\\begin{bmatrix}2 & 1 & 2\\\\1 & 3 & 2\\\\2 & 4 & 1\\end{bmatrix}$$\\begin{bmatrix}0.723\\\\0.900\\\\1\\end{bmatrix}$ = $\\begin{bmatrix}4.346\\\\5.423\\\\6.046\\end{bmatrix}$\n",
        "\n",
        "largest value 6.046\n",
        "\n",
        "$\\begin{bmatrix}2 & 1 & 2\\\\1 & 3 & 2\\\\2 & 4 & 1\\end{bmatrix}$$\\begin{bmatrix}5/9\\\\6/9\\\\9/9\\end{bmatrix}$ = 6.046$\\begin{bmatrix}0.719\\\\0.897\\\\1\\end{bmatrix}$\n",
        "\n",
        "__iteration 6:__\n",
        "\n",
        "$\\begin{bmatrix}2 & 1 & 2\\\\1 & 3 & 2\\\\2 & 4 & 1\\end{bmatrix}$$\\begin{bmatrix}0.719\\\\0.897\\\\1\\end{bmatrix}$ = $\\begin{bmatrix}4.335\\\\5.410\\\\6.026\\end{bmatrix}$\n",
        "\n",
        "largest value 6.026\n",
        "\n",
        "$\\begin{bmatrix}2 & 1 & 2\\\\1 & 3 & 2\\\\2 & 4 & 1\\end{bmatrix}$$\\begin{bmatrix}5/9\\\\6/9\\\\9/9\\end{bmatrix}$ = 6.026$\\begin{bmatrix}0.719\\\\0.898\\\\1\\end{bmatrix}$\n",
        "\n",
        "__iteration 7:__\n",
        "\n",
        "$\\begin{bmatrix}2 & 1 & 2\\\\1 & 3 & 2\\\\2 & 4 & 1\\end{bmatrix}$$\\begin{bmatrix}0.719\\\\0.898\\\\1\\end{bmatrix}$ = $\\begin{bmatrix}4.336\\\\5.413\\\\6.030\\end{bmatrix}$\n",
        "\n",
        "largest value 6.030\n",
        "\n",
        "$\\begin{bmatrix}2 & 1 & 2\\\\1 & 3 & 2\\\\2 & 4 & 1\\end{bmatrix}$$\\begin{bmatrix}5/9\\\\6/9\\\\9/9\\end{bmatrix}$ = 6.030$\\begin{bmatrix}0.719\\\\0.898\\\\1\\end{bmatrix}$\n",
        "\n",
        "__iteration 8:__\n",
        "\n",
        "$\\begin{bmatrix}2 & 1 & 2\\\\1 & 3 & 2\\\\2 & 4 & 1\\end{bmatrix}$$\\begin{bmatrix}0.719\\\\0.898\\\\1\\end{bmatrix}$ = $\\begin{bmatrix}4.336\\\\5.413\\\\6.030\\end{bmatrix}$\n",
        "\n",
        "largest value 6.030\n",
        "\n",
        "$\\begin{bmatrix}2 & 1 & 2\\\\1 & 3 & 2\\\\2 & 4 & 1\\end{bmatrix}$$\\begin{bmatrix}5/9\\\\6/9\\\\9/9\\end{bmatrix}$ = 6.030$\\begin{bmatrix}0.719\\\\0.898\\\\1\\end{bmatrix}$\n",
        "\n",
        "The results might wary in the program due to rounding errors.\n",
        "\n",
        "largest eigenvalue = 0.719\n",
        "\n",
        "eigenvector associated with the largest eigenvalue = $\\begin{bmatrix}0.719\\\\0.898\\\\1\\end{bmatrix}$"
      ],
      "metadata": {
        "id": "osFzywt9D-Eu"
      }
    },
    {
      "cell_type": "markdown",
      "source": [
        "Iteration 2 calc"
      ],
      "metadata": {
        "id": "vwrcigjarS00"
      }
    },
    {
      "cell_type": "code",
      "source": [
        "print(2*(5/9) + 1*(6/9) + 2*(9/9))\n",
        "print(1*(5/9) + 3*(6/9) + 2*(9/9))\n",
        "print(2*(5/9) + 4*(6/9) + 1*(9/9))"
      ],
      "metadata": {
        "colab": {
          "base_uri": "https://localhost:8080/"
        },
        "id": "O5xKVFBZD9oh",
        "outputId": "ca468079-b553-4123-c4b2-ebec8aaaf9d9"
      },
      "execution_count": 10,
      "outputs": [
        {
          "output_type": "stream",
          "name": "stdout",
          "text": [
            "3.7777777777777777\n",
            "4.555555555555555\n",
            "4.777777777777778\n"
          ]
        }
      ]
    },
    {
      "cell_type": "code",
      "source": [
        "print(3.778/4.778)\n",
        "print(4.556/4.778)"
      ],
      "metadata": {
        "colab": {
          "base_uri": "https://localhost:8080/"
        },
        "id": "ZZoxcc3thMVE",
        "outputId": "bec99fd3-1119-4d59-8387-d3668a26963d"
      },
      "execution_count": 11,
      "outputs": [
        {
          "output_type": "stream",
          "name": "stdout",
          "text": [
            "0.790707408957723\n",
            "0.9535370447886146\n"
          ]
        }
      ]
    },
    {
      "cell_type": "markdown",
      "source": [
        "Iteration 3 calc"
      ],
      "metadata": {
        "id": "T0VyIjhArXIh"
      }
    },
    {
      "cell_type": "code",
      "source": [
        "print(2*(0.791) + 1*(0.954) + 2*(1))\n",
        "print(1*(0.791) + 3*(0.954) + 2*(1))\n",
        "print(2*(0.791) + 4*(0.954) + 1*(1))"
      ],
      "metadata": {
        "colab": {
          "base_uri": "https://localhost:8080/"
        },
        "id": "HSkgcTKVkObr",
        "outputId": "301d7f92-55ac-4a0c-aba6-4d4a95a7cbd7"
      },
      "execution_count": 12,
      "outputs": [
        {
          "output_type": "stream",
          "name": "stdout",
          "text": [
            "4.536\n",
            "5.6530000000000005\n",
            "6.398\n"
          ]
        }
      ]
    },
    {
      "cell_type": "code",
      "source": [
        "print(4.536/6.398)\n",
        "print(5.653/6.398)"
      ],
      "metadata": {
        "colab": {
          "base_uri": "https://localhost:8080/"
        },
        "id": "KnoyEg60k60_",
        "outputId": "f54a45b2-fe5f-4292-94e9-80a91c82c1e6"
      },
      "execution_count": 13,
      "outputs": [
        {
          "output_type": "stream",
          "name": "stdout",
          "text": [
            "0.7089715536105032\n",
            "0.8835573616755236\n"
          ]
        }
      ]
    },
    {
      "cell_type": "markdown",
      "source": [
        "Iteration 4 calc"
      ],
      "metadata": {
        "id": "BXZCRTo4rYr8"
      }
    },
    {
      "cell_type": "code",
      "source": [
        "print(2*(0.709) + 1*(0.884) + 2*(1))\n",
        "print(1*(0.709) + 3*(0.884) + 2*(1))\n",
        "print(2*(0.709) + 4*(0.884) + 1*(1))"
      ],
      "metadata": {
        "colab": {
          "base_uri": "https://localhost:8080/"
        },
        "id": "Yq-C-JUXmoeP",
        "outputId": "2682a6e0-5a19-4634-c5f2-db24144ba59c"
      },
      "execution_count": 14,
      "outputs": [
        {
          "output_type": "stream",
          "name": "stdout",
          "text": [
            "4.302\n",
            "5.361000000000001\n",
            "5.954\n"
          ]
        }
      ]
    },
    {
      "cell_type": "code",
      "source": [
        "print(4.302/5.954)\n",
        "print(5.361/5.954)"
      ],
      "metadata": {
        "colab": {
          "base_uri": "https://localhost:8080/"
        },
        "id": "DB2EKx9woDGQ",
        "outputId": "f80b26e6-254c-4098-a144-9ad6637c6fb5"
      },
      "execution_count": 15,
      "outputs": [
        {
          "output_type": "stream",
          "name": "stdout",
          "text": [
            "0.7225394692643601\n",
            "0.9004030903594222\n"
          ]
        }
      ]
    },
    {
      "cell_type": "markdown",
      "source": [
        "Iteration 5 calc"
      ],
      "metadata": {
        "id": "s6ppDgcwraRn"
      }
    },
    {
      "cell_type": "code",
      "source": [
        "print(2*(0.723) + 1*(0.900) + 2*(1))\n",
        "print(1*(0.723) + 3*(0.900) + 2*(1))\n",
        "print(2*(0.723) + 4*(0.900) + 1*(1))"
      ],
      "metadata": {
        "colab": {
          "base_uri": "https://localhost:8080/"
        },
        "id": "iLiZfJEAo0R2",
        "outputId": "e8ca9dec-a048-4cf8-e1ed-1979a8773e66"
      },
      "execution_count": 16,
      "outputs": [
        {
          "output_type": "stream",
          "name": "stdout",
          "text": [
            "4.346\n",
            "5.423\n",
            "6.046\n"
          ]
        }
      ]
    },
    {
      "cell_type": "code",
      "source": [
        "print(4.346/6.046)\n",
        "print(5.423/6.046)"
      ],
      "metadata": {
        "colab": {
          "base_uri": "https://localhost:8080/"
        },
        "id": "FqBfBeXOpNsj",
        "outputId": "d6f974a0-b8f9-4c50-8520-3d141e2c9c5c"
      },
      "execution_count": 17,
      "outputs": [
        {
          "output_type": "stream",
          "name": "stdout",
          "text": [
            "0.7188223618921601\n",
            "0.8969566655640092\n"
          ]
        }
      ]
    },
    {
      "cell_type": "markdown",
      "source": [
        "Iteration 6 calc"
      ],
      "metadata": {
        "id": "YMBhP_Ssrbwv"
      }
    },
    {
      "cell_type": "code",
      "source": [
        "print(2*(0.719) + 1*(0.897) + 2*(1))\n",
        "print(1*(0.719) + 3*(0.897) + 2*(1))\n",
        "print(2*(0.719) + 4*(0.897) + 1*(1))"
      ],
      "metadata": {
        "colab": {
          "base_uri": "https://localhost:8080/"
        },
        "id": "HqqTLY6BppVE",
        "outputId": "f4800d78-596e-4f0e-c6be-41f22aaeb3da"
      },
      "execution_count": 18,
      "outputs": [
        {
          "output_type": "stream",
          "name": "stdout",
          "text": [
            "4.335\n",
            "5.41\n",
            "6.026\n"
          ]
        }
      ]
    },
    {
      "cell_type": "code",
      "source": [
        "print(4.335/6.026)\n",
        "print(5.41/6.026)"
      ],
      "metadata": {
        "colab": {
          "base_uri": "https://localhost:8080/"
        },
        "id": "RdY3w0Mtpv2w",
        "outputId": "ab0ab096-a9e4-4ee9-bafd-c3beec8c0663"
      },
      "execution_count": 19,
      "outputs": [
        {
          "output_type": "stream",
          "name": "stdout",
          "text": [
            "0.7193826750746765\n",
            "0.8977763026883505\n"
          ]
        }
      ]
    },
    {
      "cell_type": "markdown",
      "source": [
        "Iteration 7 calc"
      ],
      "metadata": {
        "id": "sPYTY-_RrdQo"
      }
    },
    {
      "cell_type": "code",
      "source": [
        "print(2*(0.719) + 1*(0.898) + 2*(1))\n",
        "print(1*(0.719) + 3*(0.898) + 2*(1))\n",
        "print(2*(0.719) + 4*(0.898) + 1*(1))"
      ],
      "metadata": {
        "colab": {
          "base_uri": "https://localhost:8080/"
        },
        "id": "eruRXQw6qQfI",
        "outputId": "2e0d399e-05ed-4b2e-f5e6-fbfff602062e"
      },
      "execution_count": 20,
      "outputs": [
        {
          "output_type": "stream",
          "name": "stdout",
          "text": [
            "4.336\n",
            "5.413\n",
            "6.03\n"
          ]
        }
      ]
    },
    {
      "cell_type": "code",
      "source": [
        "print(4.336/6.030)\n",
        "print(5.413/6.030)"
      ],
      "metadata": {
        "colab": {
          "base_uri": "https://localhost:8080/"
        },
        "id": "Oken-PJbqSt7",
        "outputId": "654a8422-80aa-44e0-9d21-62fa4a466d0f"
      },
      "execution_count": 21,
      "outputs": [
        {
          "output_type": "stream",
          "name": "stdout",
          "text": [
            "0.7190713101160863\n",
            "0.8976782752902156\n"
          ]
        }
      ]
    },
    {
      "cell_type": "markdown",
      "source": [
        "Doing the same with code"
      ],
      "metadata": {
        "id": "nxIoUuC_rfMK"
      }
    },
    {
      "cell_type": "markdown",
      "source": [
        "The formula provided on pg.271 of the textbook is incorrect. you must divide the vector by the highest absolute value to normalize it instead of maximum value."
      ],
      "metadata": {
        "id": "ZxXfiaSTrg32"
      }
    },
    {
      "cell_type": "code",
      "source": [
        "def normalize_vector(v):\n",
        "\n",
        "  largest_val = np.abs(v).max()\n",
        "  v_norm = v/largest_val\n",
        "\n",
        "  return largest_val, v_norm"
      ],
      "metadata": {
        "id": "kUV851karhoG"
      },
      "execution_count": 22,
      "outputs": []
    },
    {
      "cell_type": "code",
      "source": [
        "normalize_vector(np.array([4.336, 5.413, 6.030]))"
      ],
      "metadata": {
        "colab": {
          "base_uri": "https://localhost:8080/"
        },
        "id": "umh_rBSOsYi2",
        "outputId": "112890eb-a1a2-4269-a69d-5093b5ca9c4a"
      },
      "execution_count": 23,
      "outputs": [
        {
          "output_type": "execute_result",
          "data": {
            "text/plain": [
              "(6.03, array([0.71907131, 0.89767828, 1.        ]))"
            ]
          },
          "metadata": {},
          "execution_count": 23
        }
      ]
    },
    {
      "cell_type": "code",
      "source": [
        "A = np.array([[2,1,2],[1,3,2],[2,4,1]])\n",
        "A"
      ],
      "metadata": {
        "colab": {
          "base_uri": "https://localhost:8080/"
        },
        "id": "aogvJ9wks3ho",
        "outputId": "398b07df-3889-4012-b039-14fcaa91064c"
      },
      "execution_count": 24,
      "outputs": [
        {
          "output_type": "execute_result",
          "data": {
            "text/plain": [
              "array([[2, 1, 2],\n",
              "       [1, 3, 2],\n",
              "       [2, 4, 1]])"
            ]
          },
          "metadata": {},
          "execution_count": 24
        }
      ]
    },
    {
      "cell_type": "code",
      "source": [
        "n_iterations = 8\n",
        "x_new = [1,1,1]\n",
        "\n",
        "for iter in range(n_iterations):\n",
        "  x_new = A @ x_new\n",
        "  largest_eigval, x_new = normalize_vector(x_new)\n",
        "\n",
        "  print(f'eigenvalue at iteration: {iter+1}')\n",
        "  print(f'largest eigenvalue: {largest_eigval}')\n",
        "  print(f'eigenvector: {x_new}')\n",
        "  print('='*50)\n",
        "\n",
        "print(f'eigenvalue at iteration: {iter+1}')\n",
        "print(f'largest eigenvalue (final): {largest_eigval}')\n",
        "print(f'eigenvector: {x_new}')"
      ],
      "metadata": {
        "colab": {
          "base_uri": "https://localhost:8080/"
        },
        "id": "dyvz2E2wsgMN",
        "outputId": "35a53c17-7ff3-4987-8894-b730526253cb"
      },
      "execution_count": 25,
      "outputs": [
        {
          "output_type": "stream",
          "name": "stdout",
          "text": [
            "eigenvalue at iteration: 1\n",
            "largest eigenvalue: 7\n",
            "eigenvector: [0.71428571 0.85714286 1.        ]\n",
            "==================================================\n",
            "eigenvalue at iteration: 2\n",
            "largest eigenvalue: 5.857142857142857\n",
            "eigenvector: [0.73170732 0.90243902 1.        ]\n",
            "==================================================\n",
            "eigenvalue at iteration: 3\n",
            "largest eigenvalue: 6.073170731707317\n",
            "eigenvector: [0.7188755  0.89558233 1.        ]\n",
            "==================================================\n",
            "eigenvalue at iteration: 4\n",
            "largest eigenvalue: 6.020080321285141\n",
            "eigenvector: [0.71981321 0.89793195 1.        ]\n",
            "==================================================\n",
            "eigenvalue at iteration: 5\n",
            "largest eigenvalue: 6.031354236157438\n",
            "eigenvector: [0.71916823 0.8975777  1.        ]\n",
            "==================================================\n",
            "eigenvalue at iteration: 6\n",
            "largest eigenvalue: 6.028647273531689\n",
            "eigenvector: [0.71921842 0.89769746 1.        ]\n",
            "==================================================\n",
            "eigenvalue at iteration: 7\n",
            "largest eigenvalue: 6.029226676451701\n",
            "eigenvector: [0.71918581 0.8976791  1.        ]\n",
            "==================================================\n",
            "eigenvalue at iteration: 8\n",
            "largest eigenvalue: 6.029088043137578\n",
            "eigenvector: [0.71918849 0.8976852  1.        ]\n",
            "==================================================\n",
            "eigenvalue at iteration: 8\n",
            "largest eigenvalue (final): 6.029088043137578\n",
            "eigenvector: [0.71918849 0.8976852  1.        ]\n"
          ]
        }
      ]
    },
    {
      "cell_type": "markdown",
      "source": [
        "verifying the solution with numpy linalg"
      ],
      "metadata": {
        "id": "slUwuz1ftf3L"
      }
    },
    {
      "cell_type": "code",
      "source": [
        "np.linalg.eigvals(A)[0]"
      ],
      "metadata": {
        "colab": {
          "base_uri": "https://localhost:8080/"
        },
        "id": "-ZzKSGkitexu",
        "outputId": "9aa3a55e-659c-4001-e7ef-753e4b254c56"
      },
      "execution_count": 26,
      "outputs": [
        {
          "output_type": "execute_result",
          "data": {
            "text/plain": [
              "6.029111920025985"
            ]
          },
          "metadata": {},
          "execution_count": 26
        }
      ]
    },
    {
      "cell_type": "code",
      "source": [
        "# verifying Ax - λx = [0,0,0]\n",
        "A_lambI = A - largest_eigval*np.eye(3)\n",
        "np.round(A_lambI @ x_new, 3)"
      ],
      "metadata": {
        "colab": {
          "base_uri": "https://localhost:8080/"
        },
        "id": "JXmrCpUxtz0O",
        "outputId": "1d91e3f8-69c0-48d0-e03a-958f6c1c065d"
      },
      "execution_count": 27,
      "outputs": [
        {
          "output_type": "execute_result",
          "data": {
            "text/plain": [
              "array([0., 0., 0.])"
            ]
          },
          "metadata": {},
          "execution_count": 27
        }
      ]
    },
    {
      "cell_type": "markdown",
      "source": [
        "---"
      ],
      "metadata": {
        "id": "rjr5QavruhBt"
      }
    },
    {
      "cell_type": "markdown",
      "source": [
        "For the smallest eigenvalue, we use the inverse of A. An example below goes over it."
      ],
      "metadata": {
        "id": "IBfgMeYdy7m-"
      }
    },
    {
      "cell_type": "markdown",
      "source": [
        "Another example with step by step walkthrough:\n",
        "\n",
        "Reference video: <br>\n",
        "https://www.youtube.com/watch?v=U_0hHhM06B0"
      ],
      "metadata": {
        "id": "2wGiOufz-iXs"
      }
    },
    {
      "cell_type": "code",
      "source": [
        "A = np.array([[1,2,3],\n",
        "              [0,1,4],\n",
        "              [5,6,0]])\n",
        "\n",
        "A"
      ],
      "metadata": {
        "colab": {
          "base_uri": "https://localhost:8080/"
        },
        "id": "_aXUrK8vrlwH",
        "outputId": "a55b2d44-2163-4121-dad3-5959c28a5ade"
      },
      "execution_count": 28,
      "outputs": [
        {
          "output_type": "execute_result",
          "data": {
            "text/plain": [
              "array([[1, 2, 3],\n",
              "       [0, 1, 4],\n",
              "       [5, 6, 0]])"
            ]
          },
          "metadata": {},
          "execution_count": 28
        }
      ]
    },
    {
      "cell_type": "code",
      "source": [
        "A_inv = np.linalg.inv(A)\n",
        "A_inv"
      ],
      "metadata": {
        "colab": {
          "base_uri": "https://localhost:8080/"
        },
        "id": "1GVe3ZbD0uNc",
        "outputId": "9c684302-32f9-4090-9b80-79aaa553ac28"
      },
      "execution_count": 29,
      "outputs": [
        {
          "output_type": "execute_result",
          "data": {
            "text/plain": [
              "array([[-24.,  18.,   5.],\n",
              "       [ 20., -15.,  -4.],\n",
              "       [ -5.,   4.,   1.]])"
            ]
          },
          "metadata": {},
          "execution_count": 29
        }
      ]
    },
    {
      "cell_type": "markdown",
      "source": [
        "Iteration 1"
      ],
      "metadata": {
        "id": "WNn5EtGP6Ig7"
      }
    },
    {
      "cell_type": "code",
      "source": [
        "x_new = [1,1,1]\n",
        "\n",
        "x_new = A_inv @ x_new\n",
        "np.round(x_new, 4)"
      ],
      "metadata": {
        "colab": {
          "base_uri": "https://localhost:8080/"
        },
        "id": "MdPmP6rY6HIH",
        "outputId": "c6da5834-4045-4174-e8ac-3a9f6718a2b1"
      },
      "execution_count": 30,
      "outputs": [
        {
          "output_type": "execute_result",
          "data": {
            "text/plain": [
              "array([-1.,  1., -0.])"
            ]
          },
          "metadata": {},
          "execution_count": 30
        }
      ]
    },
    {
      "cell_type": "code",
      "source": [
        "normalize_vector(x_new)[0]"
      ],
      "metadata": {
        "colab": {
          "base_uri": "https://localhost:8080/"
        },
        "id": "h89f0ITS6qWJ",
        "outputId": "0a2a4b4c-9a18-4376-d63c-571c8d9708d6"
      },
      "execution_count": 31,
      "outputs": [
        {
          "output_type": "execute_result",
          "data": {
            "text/plain": [
              "1.0000000000000036"
            ]
          },
          "metadata": {},
          "execution_count": 31
        }
      ]
    },
    {
      "cell_type": "code",
      "source": [
        "np.round(normalize_vector(x_new)[1], 4)"
      ],
      "metadata": {
        "colab": {
          "base_uri": "https://localhost:8080/"
        },
        "id": "65UuuqpB6ORS",
        "outputId": "44ca853f-807d-4bdb-8130-6cb16cdcc3a2"
      },
      "execution_count": 32,
      "outputs": [
        {
          "output_type": "execute_result",
          "data": {
            "text/plain": [
              "array([-1.,  1., -0.])"
            ]
          },
          "metadata": {},
          "execution_count": 32
        }
      ]
    },
    {
      "cell_type": "code",
      "source": [
        "smallest_eigval, x_new = normalize_vector(x_new)\n",
        "print(round(smallest_eigval, 4))\n",
        "print(np.round(x_new, 4))"
      ],
      "metadata": {
        "colab": {
          "base_uri": "https://localhost:8080/"
        },
        "id": "rLV7032c7ltE",
        "outputId": "1d51ce31-8ab9-4fec-de51-e3a69d90ba79"
      },
      "execution_count": 33,
      "outputs": [
        {
          "output_type": "stream",
          "name": "stdout",
          "text": [
            "1.0\n",
            "[-1.  1. -0.]\n"
          ]
        }
      ]
    },
    {
      "cell_type": "markdown",
      "source": [
        "Iteration 2"
      ],
      "metadata": {
        "id": "TzVLtBqT628e"
      }
    },
    {
      "cell_type": "code",
      "source": [
        "x_new = A_inv @ x_new\n",
        "np.round(x_new, 3)"
      ],
      "metadata": {
        "colab": {
          "base_uri": "https://localhost:8080/"
        },
        "id": "-La5WXCU6ReH",
        "outputId": "d58379b0-0a5f-409d-ede8-a90453b45191"
      },
      "execution_count": 34,
      "outputs": [
        {
          "output_type": "execute_result",
          "data": {
            "text/plain": [
              "array([ 42., -35.,   9.])"
            ]
          },
          "metadata": {},
          "execution_count": 34
        }
      ]
    },
    {
      "cell_type": "code",
      "source": [
        "smallest_eigval, x_new = normalize_vector(x_new)\n",
        "print(round(smallest_eigval, 4))\n",
        "print(np.round(x_new, 4))"
      ],
      "metadata": {
        "colab": {
          "base_uri": "https://localhost:8080/"
        },
        "id": "oT4SPI8N70ow",
        "outputId": "79f37631-1e1f-4aa1-c43d-3dac5b2aa61d"
      },
      "execution_count": 35,
      "outputs": [
        {
          "output_type": "stream",
          "name": "stdout",
          "text": [
            "42.0\n",
            "[ 1.     -0.8333  0.2143]\n"
          ]
        }
      ]
    },
    {
      "cell_type": "markdown",
      "source": [
        "Iteration 3"
      ],
      "metadata": {
        "id": "0QkqckeA8FpO"
      }
    },
    {
      "cell_type": "code",
      "source": [
        "x_new = A_inv @ x_new\n",
        "np.round(x_new, 4)"
      ],
      "metadata": {
        "colab": {
          "base_uri": "https://localhost:8080/"
        },
        "id": "J58urdJg77L4",
        "outputId": "de26f7d3-d840-4c55-fe96-0c9b4e45e6a3"
      },
      "execution_count": 36,
      "outputs": [
        {
          "output_type": "execute_result",
          "data": {
            "text/plain": [
              "array([-37.9286,  31.6429,  -8.119 ])"
            ]
          },
          "metadata": {},
          "execution_count": 36
        }
      ]
    },
    {
      "cell_type": "code",
      "source": [
        "smallest_eigval, x_new = normalize_vector(x_new)\n",
        "print(round(smallest_eigval,4))\n",
        "print(np.round(x_new, 4))"
      ],
      "metadata": {
        "colab": {
          "base_uri": "https://localhost:8080/"
        },
        "id": "quHYCkv88QNn",
        "outputId": "a9e4b189-8d9e-439a-b43a-e66af3f61e83"
      },
      "execution_count": 37,
      "outputs": [
        {
          "output_type": "stream",
          "name": "stdout",
          "text": [
            "37.9286\n",
            "[-1.      0.8343 -0.2141]\n"
          ]
        }
      ]
    },
    {
      "cell_type": "markdown",
      "source": [
        "Iteration 4"
      ],
      "metadata": {
        "id": "PAYpss8A9sEd"
      }
    },
    {
      "cell_type": "code",
      "source": [
        "x_new = A_inv @ x_new\n",
        "np.round(x_new, 4)"
      ],
      "metadata": {
        "colab": {
          "base_uri": "https://localhost:8080/"
        },
        "id": "_thdEmQ49tJe",
        "outputId": "c92f9913-ae69-4b47-90d7-b31773ebb78e"
      },
      "execution_count": 38,
      "outputs": [
        {
          "output_type": "execute_result",
          "data": {
            "text/plain": [
              "array([ 37.9466, -31.6579,   8.123 ])"
            ]
          },
          "metadata": {},
          "execution_count": 38
        }
      ]
    },
    {
      "cell_type": "code",
      "source": [
        "smallest_eigval, x_new = normalize_vector(x_new)\n",
        "print(round(smallest_eigval,4))\n",
        "print(np.round(x_new, 4))"
      ],
      "metadata": {
        "colab": {
          "base_uri": "https://localhost:8080/"
        },
        "id": "kOm5dfGn9uiP",
        "outputId": "c0720169-6b97-49ce-b79f-739028099493"
      },
      "execution_count": 39,
      "outputs": [
        {
          "output_type": "stream",
          "name": "stdout",
          "text": [
            "37.9466\n",
            "[ 1.     -0.8343  0.2141]\n"
          ]
        }
      ]
    },
    {
      "cell_type": "markdown",
      "source": [
        "Iteration 5"
      ],
      "metadata": {
        "id": "SBIILnyg98n_"
      }
    },
    {
      "cell_type": "code",
      "source": [
        "x_new = A_inv @ x_new\n",
        "np.round(x_new, 4)"
      ],
      "metadata": {
        "colab": {
          "base_uri": "https://localhost:8080/"
        },
        "id": "wIUxh6qW99r2",
        "outputId": "b151208b-f7bb-41bf-bb2d-d36719c36d5a"
      },
      "execution_count": 40,
      "outputs": [
        {
          "output_type": "execute_result",
          "data": {
            "text/plain": [
              "array([-37.9466,  31.6578,  -8.123 ])"
            ]
          },
          "metadata": {},
          "execution_count": 40
        }
      ]
    },
    {
      "cell_type": "code",
      "source": [
        "smallest_eigval, x_new = normalize_vector(x_new)\n",
        "print(round(smallest_eigval,4))\n",
        "print(np.round(x_new, 4))"
      ],
      "metadata": {
        "colab": {
          "base_uri": "https://localhost:8080/"
        },
        "id": "g255WG3J-BMe",
        "outputId": "7519f52b-5a20-4d9b-a759-be31465cfad4"
      },
      "execution_count": 41,
      "outputs": [
        {
          "output_type": "stream",
          "name": "stdout",
          "text": [
            "37.9466\n",
            "[-1.      0.8343 -0.2141]\n"
          ]
        }
      ]
    },
    {
      "cell_type": "code",
      "source": [
        "smallest_eigval"
      ],
      "metadata": {
        "colab": {
          "base_uri": "https://localhost:8080/"
        },
        "id": "WWNkmeuW-EY8",
        "outputId": "8f82863e-1fd0-4bb2-8d6c-e4c1f1f7cdc6"
      },
      "execution_count": 42,
      "outputs": [
        {
          "output_type": "execute_result",
          "data": {
            "text/plain": [
              "37.94659961289696"
            ]
          },
          "metadata": {},
          "execution_count": 42
        }
      ]
    },
    {
      "cell_type": "code",
      "source": [
        "1/smallest_eigval"
      ],
      "metadata": {
        "colab": {
          "base_uri": "https://localhost:8080/"
        },
        "id": "3-RRGjWn-GQd",
        "outputId": "3c05780d-3b19-4404-8b15-a6ba8ec4657c"
      },
      "execution_count": 43,
      "outputs": [
        {
          "output_type": "execute_result",
          "data": {
            "text/plain": [
              "0.026352822392553158"
            ]
          },
          "metadata": {},
          "execution_count": 43
        }
      ]
    },
    {
      "cell_type": "markdown",
      "source": [
        "verifying with np.linalg.eigvals"
      ],
      "metadata": {
        "id": "aTh4KfzN_-_F"
      }
    },
    {
      "cell_type": "code",
      "source": [
        "np.linalg.eigvals(A)"
      ],
      "metadata": {
        "colab": {
          "base_uri": "https://localhost:8080/"
        },
        "id": "F2Q51WWL-H8k",
        "outputId": "1d79666b-58da-45ce-d5a2-290991675878"
      },
      "execution_count": 44,
      "outputs": [
        {
          "output_type": "execute_result",
          "data": {
            "text/plain": [
              "array([-5.2296696 , -0.02635282,  7.25602242])"
            ]
          },
          "metadata": {},
          "execution_count": 44
        }
      ]
    },
    {
      "cell_type": "markdown",
      "source": [
        "---"
      ],
      "metadata": {
        "id": "8gl1UpTy8PI-"
      }
    },
    {
      "cell_type": "code",
      "source": [
        "n_iterations = 8\n",
        "x_new = [1,1,1]\n",
        "\n",
        "for iter in range(n_iterations):\n",
        "  x_new = A_inv @ x_new\n",
        "  smallest_eigval, x_new = normalize_vector(x_new)\n",
        "\n",
        "  print(f'eigenvalue at iteration: {iter+1}')\n",
        "  print(f'eigenvalue: {smallest_eigval}')\n",
        "  print(f'eigenvector: {x_new}')\n",
        "  print('='*50)\n",
        "\n",
        "print(f'eigenvalue at iteration: {iter+1}')\n",
        "print(f'smallest eigenvalue (final): {smallest_eigval}')\n",
        "print(f'eigenvector: {x_new}')"
      ],
      "metadata": {
        "colab": {
          "base_uri": "https://localhost:8080/"
        },
        "id": "Acr6IhsMz3LM",
        "outputId": "e17056a6-2a33-44b5-e281-17dd84d0df5a"
      },
      "execution_count": 45,
      "outputs": [
        {
          "output_type": "stream",
          "name": "stdout",
          "text": [
            "eigenvalue at iteration: 1\n",
            "eigenvalue: 1.0000000000000036\n",
            "eigenvector: [-1.0000000e+00  1.0000000e+00 -8.8817842e-16]\n",
            "==================================================\n",
            "eigenvalue at iteration: 2\n",
            "eigenvalue: 42.00000000000014\n",
            "eigenvector: [ 1.         -0.83333333  0.21428571]\n",
            "==================================================\n",
            "eigenvalue at iteration: 3\n",
            "eigenvalue: 37.928571428571566\n",
            "eigenvector: [-1.          0.83427495 -0.21406152]\n",
            "==================================================\n",
            "eigenvalue at iteration: 4\n",
            "eigenvalue: 37.94664155681118\n",
            "eigenvector: [ 1.         -0.83427352  0.21406475]\n",
            "==================================================\n",
            "eigenvalue at iteration: 5\n",
            "eigenvalue: 37.94659961289696\n",
            "eigenvector: [-1.          0.83427354 -0.21406475]\n",
            "==================================================\n",
            "eigenvalue at iteration: 6\n",
            "eigenvalue: 37.9465998847346\n",
            "eigenvector: [ 1.         -0.83427354  0.21406475]\n",
            "==================================================\n",
            "eigenvalue at iteration: 7\n",
            "eigenvalue: 37.94659988434952\n",
            "eigenvector: [-1.          0.83427354 -0.21406475]\n",
            "==================================================\n",
            "eigenvalue at iteration: 8\n",
            "eigenvalue: 37.94659988435395\n",
            "eigenvector: [ 1.         -0.83427354  0.21406475]\n",
            "==================================================\n",
            "eigenvalue at iteration: 8\n",
            "smallest eigenvalue (final): 37.94659988435395\n",
            "eigenvector: [ 1.         -0.83427354  0.21406475]\n"
          ]
        }
      ]
    },
    {
      "cell_type": "code",
      "source": [
        "1/smallest_eigval"
      ],
      "metadata": {
        "colab": {
          "base_uri": "https://localhost:8080/"
        },
        "id": "GS9j_py401LF",
        "outputId": "00af7c33-cdc4-4243-9ce4-a05a06cdb4f2"
      },
      "execution_count": 46,
      "outputs": [
        {
          "output_type": "execute_result",
          "data": {
            "text/plain": [
              "0.026352822204034083"
            ]
          },
          "metadata": {},
          "execution_count": 46
        }
      ]
    },
    {
      "cell_type": "markdown",
      "source": [
        "This one converged very quickly at about 6 iterations."
      ],
      "metadata": {
        "id": "_5qrtE2W1abs"
      }
    },
    {
      "cell_type": "markdown",
      "source": [
        "---"
      ],
      "metadata": {
        "id": "g0HxVMYqAQ_K"
      }
    },
    {
      "cell_type": "markdown",
      "source": [
        "5. Using the inverse power method to get the smallest eigenvalue and eigenvector for the matrix in problem 4. See how many iterations do you need for it to converge to the smallest eigenvalue."
      ],
      "metadata": {
        "id": "DQbYygPSuh-y"
      }
    },
    {
      "cell_type": "code",
      "source": [
        "A = np.array([[2,1,2],[1,3,2],[2,4,1]])\n",
        "A"
      ],
      "metadata": {
        "colab": {
          "base_uri": "https://localhost:8080/"
        },
        "id": "oZF4xLVp_Mgf",
        "outputId": "f5b50a25-8e57-4a8a-d449-24579e24f218"
      },
      "execution_count": 47,
      "outputs": [
        {
          "output_type": "execute_result",
          "data": {
            "text/plain": [
              "array([[2, 1, 2],\n",
              "       [1, 3, 2],\n",
              "       [2, 4, 1]])"
            ]
          },
          "metadata": {},
          "execution_count": 47
        }
      ]
    },
    {
      "cell_type": "code",
      "source": [
        "A_inv = np.linalg.inv(A)\n",
        "A_inv"
      ],
      "metadata": {
        "colab": {
          "base_uri": "https://localhost:8080/"
        },
        "id": "VLj7u7aqvlv-",
        "outputId": "224e24df-ae01-4cc1-b66b-1a950e2f3749"
      },
      "execution_count": 48,
      "outputs": [
        {
          "output_type": "execute_result",
          "data": {
            "text/plain": [
              "array([[ 0.45454545, -0.63636364,  0.36363636],\n",
              "       [-0.27272727,  0.18181818,  0.18181818],\n",
              "       [ 0.18181818,  0.54545455, -0.45454545]])"
            ]
          },
          "metadata": {},
          "execution_count": 48
        }
      ]
    },
    {
      "cell_type": "markdown",
      "source": [
        "---"
      ],
      "metadata": {
        "id": "x2yrtWtjATZp"
      }
    },
    {
      "cell_type": "code",
      "source": [
        "n_iterations = 300\n",
        "x_new = [1,1,1]\n",
        "\n",
        "for iter in range(n_iterations):\n",
        "  x_new = A_inv @ x_new\n",
        "  smallest_eigval, x_new = normalize_vector(x_new)\n",
        "\n",
        "  if iter % 10 == 0:\n",
        "    print(f'eigenvalue at iteration: {iter+1}')\n",
        "    print(f'eigenvalue: {smallest_eigval}')\n",
        "    print(f'eigenvector: {x_new}')\n",
        "    print('='*50)\n",
        "\n",
        "print(f'smallest eigenvalue (final): {smallest_eigval}')\n",
        "print(f'eigenvector: {x_new}')"
      ],
      "metadata": {
        "colab": {
          "base_uri": "https://localhost:8080/"
        },
        "id": "qw-GUl8nuhdV",
        "outputId": "62842803-5715-4434-d147-81eae1395916"
      },
      "execution_count": 49,
      "outputs": [
        {
          "output_type": "stream",
          "name": "stdout",
          "text": [
            "eigenvalue at iteration: 1\n",
            "eigenvalue: 0.2727272727272727\n",
            "eigenvector: [0.66666667 0.33333333 1.        ]\n",
            "==================================================\n",
            "eigenvalue at iteration: 11\n",
            "eigenvalue: 0.4182699952648921\n",
            "eigenvector: [ 0.76749256 -1.          0.92790755]\n",
            "==================================================\n",
            "eigenvalue at iteration: 21\n",
            "eigenvalue: 0.4125512107069618\n",
            "eigenvector: [ 0.92947152 -1.          0.78249923]\n",
            "==================================================\n",
            "eigenvalue at iteration: 31\n",
            "eigenvalue: 0.43944296842306196\n",
            "eigenvector: [ 1.         -0.92713322  0.60137068]\n",
            "==================================================\n",
            "eigenvalue at iteration: 41\n",
            "eigenvalue: 0.4888388129660573\n",
            "eigenvector: [ 1.         -0.82419206  0.43492807]\n",
            "==================================================\n",
            "eigenvalue at iteration: 51\n",
            "eigenvalue: 0.5317959198084429\n",
            "eigenvector: [ 1.         -0.75021601  0.3153183 ]\n",
            "==================================================\n",
            "eigenvalue at iteration: 61\n",
            "eigenvalue: 0.568688665614859\n",
            "eigenvector: [ 1.         -0.69560399  0.22701769]\n",
            "==================================================\n",
            "eigenvalue at iteration: 71\n",
            "eigenvalue: 0.6000339311729763\n",
            "eigenvector: [ 1.         -0.65448065  0.16052653]\n",
            "==================================================\n",
            "eigenvalue at iteration: 81\n",
            "eigenvalue: 0.6264232211883579\n",
            "eigenvector: [ 1.         -0.62305018  0.1097075 ]\n",
            "==================================================\n",
            "eigenvalue at iteration: 91\n",
            "eigenvalue: 0.6484694514677339\n",
            "eigenvector: [ 1.         -0.59875367  0.07042318]\n",
            "==================================================\n",
            "eigenvalue at iteration: 101\n",
            "eigenvalue: 0.6667690376129409\n",
            "eigenvector: [ 1.         -0.57980656  0.03978813]\n",
            "==================================================\n",
            "eigenvalue at iteration: 111\n",
            "eigenvalue: 0.6818775956142091\n",
            "eigenvector: [ 1.         -0.56492981  0.01573434]\n",
            "==================================================\n",
            "eigenvalue at iteration: 121\n",
            "eigenvalue: 0.6942965246902593\n",
            "eigenvector: [ 1.         -0.55318625 -0.00325348]\n",
            "==================================================\n",
            "eigenvalue at iteration: 131\n",
            "eigenvalue: 0.7044675784082007\n",
            "eigenvector: [ 1.         -0.54387675 -0.01830576]\n",
            "==================================================\n",
            "eigenvalue at iteration: 141\n",
            "eigenvalue: 0.712772850387472\n",
            "eigenvector: [ 1.         -0.53647203 -0.03027823]\n",
            "==================================================\n",
            "eigenvalue at iteration: 151\n",
            "eigenvalue: 0.7195381174223723\n",
            "eigenvector: [ 1.         -0.53056666 -0.03982645]\n",
            "==================================================\n",
            "eigenvalue at iteration: 161\n",
            "eigenvalue: 0.725038019648189\n",
            "eigenvector: [ 1.         -0.52584704 -0.04745747]\n",
            "==================================================\n",
            "eigenvalue at iteration: 171\n",
            "eigenvalue: 0.7295020265438205\n",
            "eigenvector: [ 1.         -0.52206867 -0.05356661]\n",
            "==================================================\n",
            "eigenvalue at iteration: 181\n",
            "eigenvalue: 0.7331205083252554\n",
            "eigenvector: [ 1.         -0.51903973 -0.05846402]\n",
            "==================================================\n",
            "eigenvalue at iteration: 191\n",
            "eigenvalue: 0.7360505052477779\n",
            "eigenvector: [ 1.         -0.51660892 -0.06239433]\n",
            "==================================================\n",
            "eigenvalue at iteration: 201\n",
            "eigenvalue: 0.738420977134051\n",
            "eigenvector: [ 1.         -0.51465642 -0.06555126]\n",
            "==================================================\n",
            "eigenvalue at iteration: 211\n",
            "eigenvalue: 0.7403374406426082\n",
            "eigenvector: [ 1.         -0.51308702 -0.06808878]\n",
            "==================================================\n",
            "eigenvalue at iteration: 221\n",
            "eigenvalue: 0.7418859798495727\n",
            "eigenvector: [ 1.         -0.51182484 -0.07012957]\n",
            "==================================================\n",
            "eigenvalue at iteration: 231\n",
            "eigenvalue: 0.7431366610266688\n",
            "eigenvector: [ 1.         -0.51080927 -0.07177161]\n",
            "==================================================\n",
            "eigenvalue at iteration: 241\n",
            "eigenvalue: 0.7441464060257473\n",
            "eigenvector: [ 1.         -0.50999184 -0.07309329]\n",
            "==================================================\n",
            "eigenvalue at iteration: 251\n",
            "eigenvalue: 0.7449613883375439\n",
            "eigenvector: [ 1.         -0.50933369 -0.07415743]\n",
            "==================================================\n",
            "eigenvalue at iteration: 261\n",
            "eigenvalue: 0.7456190171561058\n",
            "eigenvector: [ 1.         -0.50880367 -0.07501441]\n",
            "==================================================\n",
            "eigenvalue at iteration: 271\n",
            "eigenvalue: 0.7461495713044081\n",
            "eigenvector: [ 1.         -0.50837674 -0.0757047 ]\n",
            "==================================================\n",
            "eigenvalue at iteration: 281\n",
            "eigenvalue: 0.7465775390152761\n",
            "eigenvector: [ 1.         -0.50803281 -0.0762608 ]\n",
            "==================================================\n",
            "eigenvalue at iteration: 291\n",
            "eigenvalue: 0.7469227127743476\n",
            "eigenvector: [ 1.         -0.5077557  -0.07670885]\n",
            "==================================================\n",
            "smallest eigenvalue (final): 0.7495452667030331\n",
            "eigenvector: [ 1.         -0.5056586  -0.08009958]\n"
          ]
        }
      ]
    },
    {
      "cell_type": "code",
      "source": [
        "smallest_eigval"
      ],
      "metadata": {
        "colab": {
          "base_uri": "https://localhost:8080/"
        },
        "id": "aRNyiy8U_Z9r",
        "outputId": "5a3f5900-503f-40a2-f419-7c3fa39823ed"
      },
      "execution_count": 50,
      "outputs": [
        {
          "output_type": "execute_result",
          "data": {
            "text/plain": [
              "0.7495452667030331"
            ]
          },
          "metadata": {},
          "execution_count": 50
        }
      ]
    },
    {
      "cell_type": "code",
      "source": [
        "1/smallest_eigval"
      ],
      "metadata": {
        "colab": {
          "base_uri": "https://localhost:8080/"
        },
        "id": "RIQM4C1k_dmO",
        "outputId": "820ef614-5e6c-4f46-df8d-58b3cd58bc48"
      },
      "execution_count": 51,
      "outputs": [
        {
          "output_type": "execute_result",
          "data": {
            "text/plain": [
              "1.334142238531667"
            ]
          },
          "metadata": {},
          "execution_count": 51
        }
      ]
    },
    {
      "cell_type": "markdown",
      "source": [
        "verifying the solution with numpy linalg"
      ],
      "metadata": {
        "id": "JDrIdYo9wG6D"
      }
    },
    {
      "cell_type": "code",
      "source": [
        "np.linalg.eigvals(A)"
      ],
      "metadata": {
        "colab": {
          "base_uri": "https://localhost:8080/"
        },
        "outputId": "c693f82f-cdcb-40f5-b650-bf2e4da8db98",
        "id": "aQqzIwiKwG6J"
      },
      "execution_count": 52,
      "outputs": [
        {
          "output_type": "execute_result",
          "data": {
            "text/plain": [
              "array([ 6.02911192,  1.33625596, -1.36536788])"
            ]
          },
          "metadata": {},
          "execution_count": 52
        }
      ]
    },
    {
      "cell_type": "markdown",
      "source": [
        "We can observe that in the first few itertions the optimal value had very high variation deviating from about 0.40 to 1.26. The optimal value is around 0.748. As we increase the no of iterations we see the value starts revolving around that optimal value. However, even after 300 iterations we are still a little off."
      ],
      "metadata": {
        "id": "zTyNOXf51o8P"
      }
    },
    {
      "cell_type": "code",
      "source": [
        "# what the optimum value from inverse power iteration should be (reciprocal of the absolute lowest eigval of A derived from inbuilt)\n",
        "1/1.33625596"
      ],
      "metadata": {
        "colab": {
          "base_uri": "https://localhost:8080/"
        },
        "id": "TrMTzTsuFjBn",
        "outputId": "ca029e87-47f9-4c00-ed0c-331ea1dce80d"
      },
      "execution_count": 53,
      "outputs": [
        {
          "output_type": "execute_result",
          "data": {
            "text/plain": [
              "0.7483596181677649"
            ]
          },
          "metadata": {},
          "execution_count": 53
        }
      ]
    },
    {
      "cell_type": "markdown",
      "source": [
        "In this case we ran 300 iterations to get to the absolute highest eigenvalue of $A^-1$. There will be matrices like these where convergance woule take a lot of iterations. One way to do it better is to use a tolerance like 0.001 between iterations to see when variation is minimal."
      ],
      "metadata": {
        "id": "80VQPtOfDtA-"
      }
    },
    {
      "cell_type": "markdown",
      "source": [
        "Using tolerance"
      ],
      "metadata": {
        "id": "D7F0HWwoEEcM"
      }
    },
    {
      "cell_type": "markdown",
      "source": [
        "---"
      ],
      "metadata": {
        "id": "edL-BVYKEHgw"
      }
    },
    {
      "cell_type": "code",
      "source": [
        "x_new = [1,1,1]\n",
        "tol = 0.00000001\n",
        "prev_val = 0\n",
        "next_val = 0\n",
        "iter = 1\n",
        "\n",
        "while True:\n",
        "  x_new = A_inv @ x_new\n",
        "  next_val, x_new = normalize_vector(x_new)\n",
        "\n",
        "  if iter % 50 == 0:\n",
        "    print(f'eigenvalue at iteration: {iter}')\n",
        "    print(f'eigenvalue: {next_val}')\n",
        "    print(f'eigenvector: {x_new}')\n",
        "    print('='*50)\n",
        "\n",
        "  if abs(next_val - prev_val) < tol:\n",
        "    break\n",
        "\n",
        "  prev_val = next_val\n",
        "  iter += 1\n",
        "\n",
        "print(f'Total iterations for convergance: {iter}')\n",
        "print(f'optimum eigenvalue (final): {next_val}')\n",
        "print(f'eigenvector: {x_new}')"
      ],
      "metadata": {
        "colab": {
          "base_uri": "https://localhost:8080/"
        },
        "id": "BpXBaY_WEGGY",
        "outputId": "5fa5d0b5-bbab-4e8f-f329-6d957f0f4737"
      },
      "execution_count": 54,
      "outputs": [
        {
          "output_type": "stream",
          "name": "stdout",
          "text": [
            "eigenvalue at iteration: 50\n",
            "eigenvalue: 1.06254160389295\n",
            "eigenvector: [ 1.         -0.32971954 -0.36457042]\n",
            "==================================================\n",
            "eigenvalue at iteration: 100\n",
            "eigenvalue: 0.8421793717826448\n",
            "eigenvector: [ 1.         -0.43996316 -0.18632067]\n",
            "==================================================\n",
            "eigenvalue at iteration: 150\n",
            "eigenvalue: 0.7790153902834122\n",
            "eigenvector: [ 1.         -0.48306399 -0.11663216]\n",
            "==================================================\n",
            "eigenvalue at iteration: 200\n",
            "eigenvalue: 0.7586544809092398\n",
            "eigenvector: [ 1.         -0.49848717 -0.09169486]\n",
            "==================================================\n",
            "eigenvalue at iteration: 250\n",
            "eigenvalue: 0.7518480646370544\n",
            "eigenvector: [ 1.         -0.50382926 -0.08305739]\n",
            "==================================================\n",
            "eigenvalue at iteration: 300\n",
            "eigenvalue: 0.7495452667030331\n",
            "eigenvector: [ 1.         -0.5056586  -0.08009958]\n",
            "==================================================\n",
            "eigenvalue at iteration: 350\n",
            "eigenvalue: 0.7487630071678574\n",
            "eigenvector: [ 1.         -0.50628259 -0.07909067]\n",
            "==================================================\n",
            "eigenvalue at iteration: 400\n",
            "eigenvalue: 0.7484969088091529\n",
            "eigenvector: [ 1.         -0.50649515 -0.078747  ]\n",
            "==================================================\n",
            "eigenvalue at iteration: 450\n",
            "eigenvalue: 0.7484063488383206\n",
            "eigenvector: [ 1.         -0.50656752 -0.07862998]\n",
            "==================================================\n",
            "eigenvalue at iteration: 500\n",
            "eigenvalue: 0.748375524104028\n",
            "eigenvector: [ 1.         -0.50659216 -0.07859014]\n",
            "==================================================\n",
            "eigenvalue at iteration: 550\n",
            "eigenvalue: 0.7483650314370115\n",
            "eigenvector: [ 1.         -0.50660054 -0.07857658]\n",
            "==================================================\n",
            "eigenvalue at iteration: 600\n",
            "eigenvalue: 0.7483614596921158\n",
            "eigenvector: [ 1.         -0.5066034  -0.07857196]\n",
            "==================================================\n",
            "eigenvalue at iteration: 650\n",
            "eigenvalue: 0.7483602438485644\n",
            "eigenvector: [ 1.         -0.50660437 -0.07857039]\n",
            "==================================================\n",
            "eigenvalue at iteration: 700\n",
            "eigenvalue: 0.7483598299671881\n",
            "eigenvector: [ 1.         -0.5066047  -0.07856986]\n",
            "==================================================\n",
            "eigenvalue at iteration: 750\n",
            "eigenvalue: 0.7483596890790634\n",
            "eigenvector: [ 1.         -0.50660481 -0.07856968]\n",
            "==================================================\n",
            "eigenvalue at iteration: 800\n",
            "eigenvalue: 0.7483596411197454\n",
            "eigenvector: [ 1.         -0.50660485 -0.07856961]\n",
            "==================================================\n",
            "eigenvalue at iteration: 850\n",
            "eigenvalue: 0.7483596247940514\n",
            "eigenvector: [ 1.         -0.50660487 -0.07856959]\n",
            "==================================================\n",
            "Total iterations for convergance: 875\n",
            "optimum eigenvalue (final): 0.7483596114527826\n",
            "eigenvector: [ 1.         -0.50660488 -0.07856958]\n"
          ]
        }
      ]
    },
    {
      "cell_type": "code",
      "source": [
        "next_val"
      ],
      "metadata": {
        "colab": {
          "base_uri": "https://localhost:8080/"
        },
        "id": "Xe8PQualJBq3",
        "outputId": "60cc4232-4535-4cf8-80f6-80aed5810d5e"
      },
      "execution_count": 55,
      "outputs": [
        {
          "output_type": "execute_result",
          "data": {
            "text/plain": [
              "0.7483596114527826"
            ]
          },
          "metadata": {},
          "execution_count": 55
        }
      ]
    },
    {
      "cell_type": "code",
      "source": [
        "1/next_val"
      ],
      "metadata": {
        "colab": {
          "base_uri": "https://localhost:8080/"
        },
        "id": "5psTXTiRJEZZ",
        "outputId": "06f3fed6-a799-4511-b358-06c332a01cdd"
      },
      "execution_count": 56,
      "outputs": [
        {
          "output_type": "execute_result",
          "data": {
            "text/plain": [
              "1.336255971990138"
            ]
          },
          "metadata": {},
          "execution_count": 56
        }
      ]
    },
    {
      "cell_type": "code",
      "source": [
        "np.abs(np.linalg.eigvals(A)).min()"
      ],
      "metadata": {
        "colab": {
          "base_uri": "https://localhost:8080/"
        },
        "id": "uBVvq9Mq2ceW",
        "outputId": "66e4391b-2ca8-4f42-f1dd-40315f77c73c"
      },
      "execution_count": 57,
      "outputs": [
        {
          "output_type": "execute_result",
          "data": {
            "text/plain": [
              "1.3362559632125934"
            ]
          },
          "metadata": {},
          "execution_count": 57
        }
      ]
    },
    {
      "cell_type": "code",
      "source": [
        "# verifying Ax - λx = [0,0,0]\n",
        "smallest_eigval = (1/next_val)\n",
        "A_lambI = A - smallest_eigval*np.eye(3)\n",
        "np.round(A_lambI @ x_new, 6)"
      ],
      "metadata": {
        "colab": {
          "base_uri": "https://localhost:8080/"
        },
        "id": "L_NwL2XA-8gJ",
        "outputId": "a8ac447e-1580-47dd-b5ab-e6213b34f2ee"
      },
      "execution_count": 58,
      "outputs": [
        {
          "output_type": "execute_result",
          "data": {
            "text/plain": [
              "array([ 0.,  0., -0.])"
            ]
          },
          "metadata": {},
          "execution_count": 58
        }
      ]
    },
    {
      "cell_type": "markdown",
      "source": [
        "We played around with the tolerance and it took an extremely low tolerance of 0.00000001 with 875 iterations to converge. This could be problematic with larger matrices."
      ],
      "metadata": {
        "id": "CjGrccmNJk-b"
      }
    },
    {
      "cell_type": "markdown",
      "source": [
        "---"
      ],
      "metadata": {
        "id": "mO_FrJ_oEGn5"
      }
    },
    {
      "cell_type": "markdown",
      "source": [
        "verifying our results match the textbook example on pg 272.\n",
        "\n",
        "__note:__ Our results will match the power iteration for the largest eigenvalue but the solution for smallest in the textbook is inaccurate as it uses max(v) to normalize v instead of absolute(max(v)). Our solution is the correct one as we verified it with inbuilt method."
      ],
      "metadata": {
        "id": "f45yO45tzg3u"
      }
    },
    {
      "cell_type": "markdown",
      "source": [
        "Power"
      ],
      "metadata": {
        "id": "METcJyamzoFB"
      }
    },
    {
      "cell_type": "code",
      "source": [
        "n_iterations = 8\n",
        "x_new = [1,1]\n",
        "A = np.array([[0, 2],\n",
        "              [2, 3]])\n",
        "\n",
        "for iter in range(n_iterations):\n",
        "  x_new = A @ x_new\n",
        "  largest_eigval, x_new = normalize_vector(x_new)\n",
        "\n",
        "  print(f'eigenvalue at iteration: {iter+1}')\n",
        "  print(f'largest eigenvalue: {largest_eigval}')\n",
        "  print(f'eigenvector: {x_new}')\n",
        "  print('='*50)\n",
        "\n",
        "print(f'eigenvalue at iteration: {iter+1}')\n",
        "print(f'largest eigenvalue (final): {largest_eigval}')\n",
        "print(f'eigenvector: {x_new}')"
      ],
      "metadata": {
        "colab": {
          "base_uri": "https://localhost:8080/"
        },
        "id": "tDKCfGOyzf0L",
        "outputId": "dfc19ede-f98f-4a0d-ed4d-7523d3d95132"
      },
      "execution_count": 59,
      "outputs": [
        {
          "output_type": "stream",
          "name": "stdout",
          "text": [
            "eigenvalue at iteration: 1\n",
            "largest eigenvalue: 5\n",
            "eigenvector: [0.4 1. ]\n",
            "==================================================\n",
            "eigenvalue at iteration: 2\n",
            "largest eigenvalue: 3.8\n",
            "eigenvector: [0.52631579 1.        ]\n",
            "==================================================\n",
            "eigenvalue at iteration: 3\n",
            "largest eigenvalue: 4.052631578947368\n",
            "eigenvector: [0.49350649 1.        ]\n",
            "==================================================\n",
            "eigenvalue at iteration: 4\n",
            "largest eigenvalue: 3.987012987012987\n",
            "eigenvector: [0.50162866 1.        ]\n",
            "==================================================\n",
            "eigenvalue at iteration: 5\n",
            "largest eigenvalue: 4.0032573289902285\n",
            "eigenvector: [0.49959317 1.        ]\n",
            "==================================================\n",
            "eigenvalue at iteration: 6\n",
            "largest eigenvalue: 3.999186330349878\n",
            "eigenvector: [0.50010173 1.        ]\n",
            "==================================================\n",
            "eigenvalue at iteration: 7\n",
            "largest eigenvalue: 4.000203458799593\n",
            "eigenvector: [0.49997457 1.        ]\n",
            "==================================================\n",
            "eigenvalue at iteration: 8\n",
            "largest eigenvalue: 3.999949137887188\n",
            "eigenvector: [0.50000636 1.        ]\n",
            "==================================================\n",
            "eigenvalue at iteration: 8\n",
            "largest eigenvalue (final): 3.999949137887188\n",
            "eigenvector: [0.50000636 1.        ]\n"
          ]
        }
      ]
    },
    {
      "cell_type": "markdown",
      "source": [
        "Inverse power"
      ],
      "metadata": {
        "id": "xuJVKLd3zplH"
      }
    },
    {
      "cell_type": "code",
      "source": [
        "n_iterations = 8\n",
        "A_inv = np.linalg.inv(A)\n",
        "x_new = [1,1]\n",
        "\n",
        "for iter in range(n_iterations):\n",
        "  x_new = A_inv @ x_new\n",
        "  smallest_eigval, x_new = normalize_vector(x_new)\n",
        "\n",
        "  print(f'eigenvalue at iteration: {iter+1}')\n",
        "  print(f'eigenvalue: {smallest_eigval}')\n",
        "  print(f'eigenvector: {x_new}')\n",
        "  print('='*50)\n",
        "\n",
        "print(f'eigenvalue at iteration: {iter+1}')\n",
        "print(f'smallest eigenvalue (final): {smallest_eigval}')\n",
        "print(f'eigenvector: {x_new}')"
      ],
      "metadata": {
        "colab": {
          "base_uri": "https://localhost:8080/"
        },
        "id": "pfV1HUQFxQPX",
        "outputId": "b2cdd7d7-e9a2-4d4c-ade5-b8eadc863442"
      },
      "execution_count": 60,
      "outputs": [
        {
          "output_type": "stream",
          "name": "stdout",
          "text": [
            "eigenvalue at iteration: 1\n",
            "eigenvalue: 0.5\n",
            "eigenvector: [-0.5  1. ]\n",
            "==================================================\n",
            "eigenvalue at iteration: 2\n",
            "eigenvalue: 0.875\n",
            "eigenvector: [ 1.         -0.28571429]\n",
            "==================================================\n",
            "eigenvalue at iteration: 3\n",
            "eigenvalue: 0.8928571428571428\n",
            "eigenvector: [-1.    0.56]\n",
            "==================================================\n",
            "eigenvalue at iteration: 4\n",
            "eigenvalue: 1.03\n",
            "eigenvector: [ 1.         -0.48543689]\n",
            "==================================================\n",
            "eigenvalue at iteration: 5\n",
            "eigenvalue: 0.9927184466019418\n",
            "eigenvector: [-1.          0.50366748]\n",
            "==================================================\n",
            "eigenvalue at iteration: 6\n",
            "eigenvalue: 1.0018337408312958\n",
            "eigenvector: [ 1.         -0.49908481]\n",
            "==================================================\n",
            "eigenvalue at iteration: 7\n",
            "eigenvalue: 0.99954240390482\n",
            "eigenvector: [-1.         0.5002289]\n",
            "==================================================\n",
            "eigenvalue at iteration: 8\n",
            "eigenvalue: 1.000114451396307\n",
            "eigenvector: [ 1.         -0.49994278]\n",
            "==================================================\n",
            "eigenvalue at iteration: 8\n",
            "smallest eigenvalue (final): 1.000114451396307\n",
            "eigenvector: [ 1.         -0.49994278]\n"
          ]
        }
      ]
    },
    {
      "cell_type": "code",
      "source": [
        "1/smallest_eigval"
      ],
      "metadata": {
        "colab": {
          "base_uri": "https://localhost:8080/"
        },
        "id": "F5aMwEl53LZv",
        "outputId": "687b2bd7-91ff-4dc5-851c-10abb2f3cf59"
      },
      "execution_count": 61,
      "outputs": [
        {
          "output_type": "execute_result",
          "data": {
            "text/plain": [
              "0.9998855617013162"
            ]
          },
          "metadata": {},
          "execution_count": 61
        }
      ]
    },
    {
      "cell_type": "code",
      "source": [
        "np.abs(np.linalg.eigvals(A)).min()"
      ],
      "metadata": {
        "colab": {
          "base_uri": "https://localhost:8080/"
        },
        "id": "9a0M9WeNrMWp",
        "outputId": "924a7d71-39e8-42fd-eaec-3f9d676a820a"
      },
      "execution_count": 62,
      "outputs": [
        {
          "output_type": "execute_result",
          "data": {
            "text/plain": [
              "1.0"
            ]
          },
          "metadata": {},
          "execution_count": 62
        }
      ]
    },
    {
      "cell_type": "markdown",
      "source": [
        "---"
      ],
      "metadata": {
        "id": "MX0515gUJmVD"
      }
    },
    {
      "cell_type": "markdown",
      "source": [
        "6. Do a QR decomposition for matrix 𝐴\n",
        " in problem 4, and verify that 𝐴=𝑄𝑅\n",
        " and 𝑄\n",
        " is an orthogonal matrix."
      ],
      "metadata": {
        "id": "iEttMUxK3RPl"
      }
    },
    {
      "cell_type": "code",
      "source": [
        "A = np.array([[2,1,2],[1,3,2],[2,4,1]])\n",
        "A"
      ],
      "metadata": {
        "colab": {
          "base_uri": "https://localhost:8080/"
        },
        "id": "-iV2mIor3T5s",
        "outputId": "3499ac1f-22ed-45e9-84e0-fa00c98e147c"
      },
      "execution_count": 63,
      "outputs": [
        {
          "output_type": "execute_result",
          "data": {
            "text/plain": [
              "array([[2, 1, 2],\n",
              "       [1, 3, 2],\n",
              "       [2, 4, 1]])"
            ]
          },
          "metadata": {},
          "execution_count": 63
        }
      ]
    },
    {
      "cell_type": "code",
      "source": [
        "# verifying A = QR\n",
        "Q, R = np.linalg.qr(A)\n",
        "\n",
        "Q @ R\n",
        "print(np.array_equal(np.round(A), np.round(Q @ R)))"
      ],
      "metadata": {
        "colab": {
          "base_uri": "https://localhost:8080/"
        },
        "id": "ePkCely43wWO",
        "outputId": "5ad4c37a-7c6b-46f2-e66b-ade853ceaef2"
      },
      "execution_count": 64,
      "outputs": [
        {
          "output_type": "stream",
          "name": "stdout",
          "text": [
            "True\n"
          ]
        }
      ]
    },
    {
      "cell_type": "markdown",
      "source": [
        "verifying that Q is an Orthonormal matrix\n",
        "\n",
        "Orthonormal means all columns are orthogonal to each other (dot product = 0) and each column has unit norm (magnitude = 1)."
      ],
      "metadata": {
        "id": "jk_VtqjrG7Ww"
      }
    },
    {
      "cell_type": "code",
      "source": [
        "# orthogonal\n",
        "for i in range(3):\n",
        "  for j in range(3):\n",
        "    if j > i:\n",
        "       print(f'Q[{i}] @ Q[{j}] = {round(np.abs(Q[i] @ Q[j]), 8)}')\n",
        "\n",
        "print()\n",
        "\n",
        "# unit norm\n",
        "for i in range(3):\n",
        "  print(f'norm of Q[{i}] = {round(np.linalg.norm(Q[i]), 4)}')"
      ],
      "metadata": {
        "colab": {
          "base_uri": "https://localhost:8080/"
        },
        "id": "UwgB_xKFG_ZU",
        "outputId": "8401d7c8-64b0-495a-9fac-ed6a85f9c8a3"
      },
      "execution_count": 65,
      "outputs": [
        {
          "output_type": "stream",
          "name": "stdout",
          "text": [
            "Q[0] @ Q[1] = 0.0\n",
            "Q[0] @ Q[2] = 0.0\n",
            "Q[1] @ Q[2] = 0.0\n",
            "\n",
            "norm of Q[0] = 1.0\n",
            "norm of Q[1] = 1.0\n",
            "norm of Q[2] = 1.0\n"
          ]
        }
      ]
    },
    {
      "cell_type": "markdown",
      "source": [
        "---"
      ],
      "metadata": {
        "id": "yrY9-JnI4yxV"
      }
    },
    {
      "cell_type": "markdown",
      "source": [
        "7. Use the QR method to get all the eigenvalues for matrix 𝐴\n",
        " in problem 4."
      ],
      "metadata": {
        "id": "Brfx7L3w44Ix"
      }
    },
    {
      "cell_type": "code",
      "source": [
        "n_iterations = 800\n",
        "A_eig = A.copy()\n",
        "\n",
        "for iter in range(n_iterations):\n",
        "  Q, R = np.linalg.qr(A_eig)\n",
        "  A_eig = R @ Q\n",
        "\n",
        "  if (iter + 1) % 50 == 0:\n",
        "    print(f'At iteration {iter + 1} matrix is:')\n",
        "    print(A_eig)\n",
        "    print('='*50)\n",
        "\n",
        "print('Final matrix:')\n",
        "print(A_eig)"
      ],
      "metadata": {
        "colab": {
          "base_uri": "https://localhost:8080/"
        },
        "id": "JStrezY94Vpr",
        "outputId": "4159aeb2-d7e1-4eda-a38e-f1676a26cf25"
      },
      "execution_count": 66,
      "outputs": [
        {
          "output_type": "stream",
          "name": "stdout",
          "text": [
            "At iteration 50 matrix is:\n",
            "[[ 6.02911192e+00  8.95264315e-01 -1.51917865e+00]\n",
            " [ 1.74024844e-32  1.40239528e+00 -2.72881277e-01]\n",
            " [ 2.90117065e-32  6.70833747e-01 -1.43150720e+00]]\n",
            "==================================================\n",
            "At iteration 100 matrix is:\n",
            "[[ 6.02911192e+00  1.48403262e+00 -9.52391268e-01]\n",
            " [-2.94764115e-65  6.66217235e-01  7.86669492e-01]\n",
            " [ 1.52810544e-64  1.73038452e+00 -6.95329155e-01]]\n",
            "==================================================\n",
            "At iteration 150 matrix is:\n",
            "[[ 6.02911192e+00 -1.74913347e+00 -2.23459264e-01]\n",
            " [ 6.96919559e-97 -1.13484844e+00  4.18247611e-01]\n",
            " [-4.44611609e-97  1.36196263e+00  1.10573652e+00]]\n",
            "==================================================\n",
            "At iteration 200 matrix is:\n",
            "[[ 6.02911192e+000 -1.57546140e+000 -7.92037449e-001]\n",
            " [ 4.48987577e-129 -1.44538274e+000 -4.80637377e-001]\n",
            " [-8.50239544e-130  4.63077647e-001  1.41627082e+000]]\n",
            "==================================================\n",
            "At iteration 250 matrix is:\n",
            "[[ 6.02911192e+000 -1.47856699e+000 -9.60854622e-001]\n",
            " [ 2.55001485e-161 -1.40869640e+000 -7.93905348e-001]\n",
            " [-1.58599025e-162  1.49809676e-001  1.37958448e+000]]\n",
            "==================================================\n",
            "At iteration 300 matrix is:\n",
            "[[ 6.02911192e+000 -1.44284639e+000 -1.01370423e+000]\n",
            " [ 1.43328061e-193 -1.38176772e+000 -8.93846112e-001]\n",
            " [-3.00097043e-195  4.98689120e-002  1.35265580e+000]]\n",
            "==================================================\n",
            "At iteration 350 matrix is:\n",
            "[[ 6.02911192e+000 -1.43044824e+000 -1.03112549e+000]\n",
            " [ 8.05326237e-226 -1.37113243e+000 -9.26876895e-001]\n",
            " [-5.71886544e-228  1.68381293e-002  1.34202051e+000]]\n",
            "==================================================\n",
            "At iteration 400 matrix is:\n",
            "[[ 6.02911192e+000 -1.42620325e+000 -1.03698903e+000]\n",
            " [ 4.52595238e-258 -1.36735088e+000 -9.37999401e-001]\n",
            " [-1.09272517e-260  5.71562331e-003  1.33823896e+000]]\n",
            "==================================================\n",
            "At iteration 450 matrix is:\n",
            "[[ 6.02911192e+000 -1.42475550e+000 -1.03897725e+000]\n",
            " [ 2.54388743e-290 -1.36604529e+000 -9.41771271e-001]\n",
            " [-2.08985347e-293  1.94375266e-003  1.33693337e+000]]\n",
            "==================================================\n",
            "At iteration 500 matrix is:\n",
            "[[ 6.02911192e+000 -1.42426236e+000 -1.03965316e+000]\n",
            " [ 1.48219694e-322 -1.36559875e+000 -9.43053576e-001]\n",
            " [ 0.00000000e+000  6.61448336e-004  1.33648683e+000]]\n",
            "==================================================\n",
            "At iteration 550 matrix is:\n",
            "[[ 6.02911192e+00 -1.42409446e+00 -1.03988313e+00]\n",
            " [ 0.00000000e+00 -1.36544651e+00 -9.43489888e-01]\n",
            " [ 0.00000000e+00  2.25136353e-04  1.33633459e+00]]\n",
            "==================================================\n",
            "At iteration 600 matrix is:\n",
            "[[ 6.02911192e+00 -1.42403730e+00 -1.03996141e+00]\n",
            " [ 0.00000000e+00 -1.36539465e+00 -9.43638389e-01]\n",
            " [ 0.00000000e+00  7.66350807e-05  1.33628273e+00]]\n",
            "==================================================\n",
            "At iteration 650 matrix is:\n",
            "[[ 6.02911192e+00 -1.42401784e+00 -1.03998805e+00]\n",
            " [ 0.00000000e+00 -1.36537700e+00 -9.43688937e-01]\n",
            " [ 0.00000000e+00  2.60867880e-05  1.33626508e+00]]\n",
            "==================================================\n",
            "At iteration 700 matrix is:\n",
            "[[ 6.02911192e+00 -1.42401122e+00 -1.03999712e+00]\n",
            " [ 0.00000000e+00 -1.36537099e+00 -9.43706144e-01]\n",
            " [ 0.00000000e+00  8.88008952e-06  1.33625907e+00]]\n",
            "==================================================\n",
            "At iteration 750 matrix is:\n",
            "[[ 6.02911192e+00 -1.42400896e+00 -1.04000021e+00]\n",
            " [ 0.00000000e+00 -1.36536894e+00 -9.43712001e-01]\n",
            " [ 0.00000000e+00  3.02284134e-06  1.33625702e+00]]\n",
            "==================================================\n",
            "At iteration 800 matrix is:\n",
            "[[ 6.02911192e+00 -1.42400819e+00 -1.04000126e+00]\n",
            " [ 0.00000000e+00 -1.36536824e+00 -9.43713995e-01]\n",
            " [ 0.00000000e+00  1.02899626e-06  1.33625632e+00]]\n",
            "==================================================\n",
            "Final matrix:\n",
            "[[ 6.02911192e+00 -1.42400819e+00 -1.04000126e+00]\n",
            " [ 0.00000000e+00 -1.36536824e+00 -9.43713995e-01]\n",
            " [ 0.00000000e+00  1.02899626e-06  1.33625632e+00]]\n"
          ]
        }
      ]
    },
    {
      "cell_type": "code",
      "source": [
        "np.diagonal(A_eig)"
      ],
      "metadata": {
        "colab": {
          "base_uri": "https://localhost:8080/"
        },
        "id": "qsjZQ_aI6NpN",
        "outputId": "1d7f5a3e-d6b1-40e1-c294-68054c29ba00"
      },
      "execution_count": 67,
      "outputs": [
        {
          "output_type": "execute_result",
          "data": {
            "text/plain": [
              "array([ 6.02911192, -1.36536824,  1.33625632])"
            ]
          },
          "metadata": {},
          "execution_count": 67
        }
      ]
    },
    {
      "cell_type": "markdown",
      "source": [
        "---"
      ],
      "metadata": {
        "id": "W5QLjGW26hp-"
      }
    },
    {
      "cell_type": "markdown",
      "source": [
        "8. Get the eigenvalues and eigenvectors for the matrix 𝐴\n",
        " in problem 4 using the Python built-in function"
      ],
      "metadata": {
        "id": "SZ4BTgzP6dt0"
      }
    },
    {
      "cell_type": "code",
      "source": [
        "eigvals, eigvecs = np.linalg.eig(A)\n",
        "\n",
        "print('Eigenvalues: ')\n",
        "print(eigvals)\n",
        "\n",
        "print('='*50)\n",
        "\n",
        "print('Eigenvectors: ')\n",
        "print(eigvecs)\n",
        "print('='*50)\n"
      ],
      "metadata": {
        "colab": {
          "base_uri": "https://localhost:8080/"
        },
        "id": "7eneepKu6gzO",
        "outputId": "3f67e683-89db-4012-8d46-a33c9d015cbd"
      },
      "execution_count": 68,
      "outputs": [
        {
          "output_type": "stream",
          "name": "stdout",
          "text": [
            "Eigenvalues: \n",
            "[ 6.02911192  1.33625596 -1.36536788]\n",
            "==================================================\n",
            "Eigenvectors: \n",
            "[[-0.47185751 -0.88987496 -0.42138925]\n",
            " [-0.58896955  0.45081499 -0.29617582]\n",
            " [-0.65609859  0.0699171   0.85715284]]\n",
            "==================================================\n"
          ]
        }
      ]
    },
    {
      "cell_type": "markdown",
      "source": [
        "Bonus: How to get question 7 closer to convergance"
      ],
      "metadata": {
        "id": "JfkD4Aw972k2"
      }
    },
    {
      "cell_type": "code",
      "source": [
        "a = np.sort(eigvals)\n",
        "a"
      ],
      "metadata": {
        "colab": {
          "base_uri": "https://localhost:8080/"
        },
        "id": "KqyrtfHG7snm",
        "outputId": "fa1c0468-b130-429b-a196-0702724b5936"
      },
      "execution_count": 69,
      "outputs": [
        {
          "output_type": "execute_result",
          "data": {
            "text/plain": [
              "array([-1.36536788,  1.33625596,  6.02911192])"
            ]
          },
          "metadata": {},
          "execution_count": 69
        }
      ]
    },
    {
      "cell_type": "code",
      "source": [
        "b = np.sort(np.diagonal(A_eig))\n",
        "b"
      ],
      "metadata": {
        "colab": {
          "base_uri": "https://localhost:8080/"
        },
        "id": "m8u8YdW87v6L",
        "outputId": "122fa283-683f-49ab-9b75-7b77de2eb8e8"
      },
      "execution_count": 70,
      "outputs": [
        {
          "output_type": "execute_result",
          "data": {
            "text/plain": [
              "array([-1.36536824,  1.33625632,  6.02911192])"
            ]
          },
          "metadata": {},
          "execution_count": 70
        }
      ]
    },
    {
      "cell_type": "code",
      "source": [
        "np.round(np.abs(a - b).sum(), 7)"
      ],
      "metadata": {
        "colab": {
          "base_uri": "https://localhost:8080/"
        },
        "id": "iH-pep387STC",
        "outputId": "e68aa461-368b-4551-865a-4aed3586ca0e"
      },
      "execution_count": 71,
      "outputs": [
        {
          "output_type": "execute_result",
          "data": {
            "text/plain": [
              "7e-07"
            ]
          },
          "metadata": {},
          "execution_count": 71
        }
      ]
    },
    {
      "cell_type": "markdown",
      "source": [
        "This will take lots of iterations as we will use a very very small tolerance level for each of the three eigenvalues"
      ],
      "metadata": {
        "id": "pL8_ZLhH8R5O"
      }
    },
    {
      "cell_type": "code",
      "source": [
        "tol = 0.000000000001\n",
        "A_eig = A.copy()\n",
        "prev_val = np.zeros(3)\n",
        "iter = 1\n",
        "\n",
        "while True:\n",
        "  Q, R = np.linalg.qr(A_eig)\n",
        "  A_eig = R @ Q\n",
        "\n",
        "  if (iter + 1) % 100 == 0:\n",
        "    print(f'At iteration {iter + 1} matrix is:')\n",
        "    print(A_eig)\n",
        "    print('='*50)\n",
        "\n",
        "  if np.abs(np.diagonal(A_eig) - prev_val).sum() < tol:\n",
        "    break\n",
        "\n",
        "  prev_val = np.diagonal(A_eig)\n",
        "  iter += 1\n",
        "\n",
        "print(f'Total iterations to full convergence: {iter}')\n",
        "print('Final matrix:')\n",
        "print(A_eig)"
      ],
      "metadata": {
        "colab": {
          "base_uri": "https://localhost:8080/"
        },
        "id": "z7DH5izW8M_-",
        "outputId": "d33dfa8b-f593-463c-e2da-041c47abc36c"
      },
      "execution_count": 72,
      "outputs": [
        {
          "output_type": "stream",
          "name": "stdout",
          "text": [
            "At iteration 100 matrix is:\n",
            "[[ 6.02911192e+00 -3.30379243e-01  1.73212341e+00]\n",
            " [-3.45694831e-64  3.64784196e-01  1.85151088e+00]\n",
            " [ 4.94037353e-64  9.07795854e-01 -3.93896116e-01]]\n",
            "==================================================\n",
            "At iteration 200 matrix is:\n",
            "[[ 6.02911192e+000 -1.25129956e+000  1.24243767e+000]\n",
            " [-1.95624099e-128 -1.16380720e+000  1.32424472e+000]\n",
            " [ 3.44026853e-129  3.80529693e-001  1.13469528e+000]]\n",
            "==================================================\n",
            "At iteration 300 matrix is:\n",
            "[[ 6.02911192e+000 -1.40451955e+000  1.06617390e+000]\n",
            " [-6.31739506e-193 -1.34698310e+000  9.93374798e-001]\n",
            " [ 1.33669652e-194  4.96597744e-002  1.31787118e+000]]\n",
            "==================================================\n",
            "At iteration 400 matrix is:\n",
            "[[ 6.02911192e+000 -1.42176130e+000  1.04307083e+000]\n",
            " [-1.99811961e-257 -1.36331982e+000  9.49537768e-001]\n",
            " [ 4.92296401e-260  5.82274372e-003  1.33420790e+000]]\n",
            "==================================================\n",
            "At iteration 500 matrix is:\n",
            "[[ 6.02911192e+000 -1.42374765e+000  1.04035792e+000]\n",
            " [-6.32404027e-322 -1.36513169e+000  9.44390649e-001]\n",
            " [ 0.00000000e+000  6.75625125e-004  1.33601977e+000]]\n",
            "==================================================\n",
            "At iteration 600 matrix is:\n",
            "[[ 6.02911192e+00  1.42397765e+00 -1.04004307e+00]\n",
            " [ 0.00000000e+00 -1.36534053e+00  9.43793325e-01]\n",
            " [ 0.00000000e+00  7.83015295e-05  1.33622861e+00]]\n",
            "==================================================\n",
            "At iteration 700 matrix is:\n",
            "[[ 6.02911192e+00  1.42400430e+00 -1.04000658e+00]\n",
            " [ 0.00000000e+00 -1.36536471e+00  9.43724097e-01]\n",
            " [ 0.00000000e+00  9.07351067e-06  1.33625279e+00]]\n",
            "==================================================\n",
            "At iteration 800 matrix is:\n",
            "[[ 6.02911192e+00  1.42400739e+00 -1.04000236e+00]\n",
            " [ 0.00000000e+00 -1.36536752e+00  9.43716075e-01]\n",
            " [ 0.00000000e+00  1.05141360e-06  1.33625560e+00]]\n",
            "==================================================\n",
            "At iteration 900 matrix is:\n",
            "[[ 6.02911192e+00  1.42400775e+00 -1.04000187e+00]\n",
            " [ 0.00000000e+00 -1.36536784e+00  9.43715146e-01]\n",
            " [ 0.00000000e+00  1.21834708e-07  1.33625592e+00]]\n",
            "==================================================\n",
            "At iteration 1000 matrix is:\n",
            "[[ 6.02911192e+00  1.42400779e+00 -1.04000181e+00]\n",
            " [ 0.00000000e+00 -1.36536788e+00  9.43715038e-01]\n",
            " [ 0.00000000e+00  1.41178438e-08  1.33625596e+00]]\n",
            "==================================================\n",
            "At iteration 1100 matrix is:\n",
            "[[ 6.02911192e+00  1.42400780e+00 -1.04000180e+00]\n",
            " [ 0.00000000e+00 -1.36536788e+00  9.43715026e-01]\n",
            " [ 0.00000000e+00  1.63593374e-09  1.33625596e+00]]\n",
            "==================================================\n",
            "At iteration 1200 matrix is:\n",
            "[[ 6.02911192e+00  1.42400780e+00 -1.04000180e+00]\n",
            " [ 0.00000000e+00 -1.36536788e+00  9.43715024e-01]\n",
            " [ 0.00000000e+00  1.89567133e-10  1.33625596e+00]]\n",
            "==================================================\n",
            "At iteration 1300 matrix is:\n",
            "[[ 6.02911192e+00  1.42400780e+00 -1.04000180e+00]\n",
            " [ 0.00000000e+00 -1.36536788e+00  9.43715024e-01]\n",
            " [ 0.00000000e+00  2.19664753e-11  1.33625596e+00]]\n",
            "==================================================\n",
            "At iteration 1400 matrix is:\n",
            "[[ 6.02911192e+00  1.42400780e+00 -1.04000180e+00]\n",
            " [ 0.00000000e+00 -1.36536788e+00  9.43715024e-01]\n",
            " [ 0.00000000e+00  2.54540979e-12  1.33625596e+00]]\n",
            "==================================================\n",
            "Total iterations to full convergence: 1459\n",
            "Final matrix:\n",
            "[[ 6.02911192e+00  1.42400780e+00 -1.04000180e+00]\n",
            " [ 0.00000000e+00 -1.36536788e+00  9.43715024e-01]\n",
            " [ 0.00000000e+00  6.98483435e-13  1.33625596e+00]]\n"
          ]
        }
      ]
    },
    {
      "cell_type": "code",
      "source": [
        "np.sort(np.diagonal(A_eig))"
      ],
      "metadata": {
        "colab": {
          "base_uri": "https://localhost:8080/"
        },
        "id": "k2ykE3ks9PpG",
        "outputId": "08833f50-930f-4d5b-e3ee-0d31a543d6a5"
      },
      "execution_count": 73,
      "outputs": [
        {
          "output_type": "execute_result",
          "data": {
            "text/plain": [
              "array([-1.36536788,  1.33625596,  6.02911192])"
            ]
          },
          "metadata": {},
          "execution_count": 73
        }
      ]
    },
    {
      "cell_type": "code",
      "source": [
        "np.sort(eigvals)"
      ],
      "metadata": {
        "colab": {
          "base_uri": "https://localhost:8080/"
        },
        "id": "ewMVeWFm9Pni",
        "outputId": "e7ca5dec-2b58-46e6-f4d3-f4cef9d9cf9c"
      },
      "execution_count": 74,
      "outputs": [
        {
          "output_type": "execute_result",
          "data": {
            "text/plain": [
              "array([-1.36536788,  1.33625596,  6.02911192])"
            ]
          },
          "metadata": {},
          "execution_count": 74
        }
      ]
    }
  ]
}