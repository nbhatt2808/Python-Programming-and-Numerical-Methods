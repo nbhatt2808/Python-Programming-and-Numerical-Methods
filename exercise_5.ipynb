{
  "nbformat": 4,
  "nbformat_minor": 0,
  "metadata": {
    "colab": {
      "provenance": []
    },
    "kernelspec": {
      "name": "python3",
      "display_name": "Python 3"
    },
    "language_info": {
      "name": "python"
    }
  },
  "cells": [
    {
      "cell_type": "markdown",
      "source": [
        "These are the exercise problems from the book Python programming and Numerical methods book:\n",
        "\n",
        "https://pythonnumericalmethods.berkeley.edu/notebooks/Index.html\n",
        "\n",
        "# Chapter 5: Iteration\n",
        "\n",
        "https://pythonnumericalmethods.berkeley.edu/notebooks/chapter05.04-Summary-and-Problems.html#problems\n",
        "\n",
        "Only those problems that need to be solved in a notebook environment"
      ],
      "metadata": {
        "id": "fanN3M1dB1Ex"
      }
    },
    {
      "cell_type": "markdown",
      "source": [
        "1. What will the value of y be after the following code is executed?"
      ],
      "metadata": {
        "id": "ESi7YJTzFWdD"
      }
    },
    {
      "cell_type": "code",
      "execution_count": 1,
      "metadata": {
        "id": "O5JKR1MBBoQX"
      },
      "outputs": [],
      "source": [
        "# my estimate before executing the code is 1000 as a double loop looks at all possible iter values of the inner loop\n",
        "# with each value in the outer loop and thus only one value at each run in outer loop will be equal to the inner loop \n",
        "y = 0\n",
        "for i in range(1000):\n",
        "    for j in range(1000):\n",
        "        if i == j:\n",
        "            y += 1"
      ]
    },
    {
      "cell_type": "code",
      "source": [
        "y"
      ],
      "metadata": {
        "colab": {
          "base_uri": "https://localhost:8080/"
        },
        "id": "7UITN_f7Fs3I",
        "outputId": "7267c161-cc7d-4d05-f0d7-e714135f34fa"
      },
      "execution_count": 2,
      "outputs": [
        {
          "output_type": "execute_result",
          "data": {
            "text/plain": [
              "1000"
            ]
          },
          "metadata": {},
          "execution_count": 2
        }
      ]
    },
    {
      "cell_type": "markdown",
      "source": [
        "2. Write a function my_max(x) to return the maximum (largest) value in x. Don’t use the built-in Python function max."
      ],
      "metadata": {
        "id": "E1IArKXCFzqr"
      }
    },
    {
      "cell_type": "code",
      "source": [
        "def my_max(x):\n",
        "\n",
        "  largest_val = x[0]\n",
        "\n",
        "  for val in x[1:]:\n",
        "    if val > largest_val:\n",
        "      largest_val = val\n",
        "  \n",
        "  return largest_val"
      ],
      "metadata": {
        "id": "adVtYXx2FuN2"
      },
      "execution_count": 3,
      "outputs": []
    },
    {
      "cell_type": "code",
      "source": [
        "# test case 1\n",
        "print(my_max([4,8,9,10,1,4]))\n",
        "print(max([4,8,9,10,1,4]))"
      ],
      "metadata": {
        "colab": {
          "base_uri": "https://localhost:8080/"
        },
        "id": "ix1h0gH2H3hN",
        "outputId": "ea110e04-bc4b-427c-87fc-db555b5ad6c7"
      },
      "execution_count": 4,
      "outputs": [
        {
          "output_type": "stream",
          "name": "stdout",
          "text": [
            "10\n",
            "10\n"
          ]
        }
      ]
    },
    {
      "cell_type": "markdown",
      "source": [
        "3. Write a function my_n_max(x, n) to return a list consisting of the n largest elements of x. You may use Python’s max function. You may also assume that x is a one-dimensional list with no duplicate entries, and that n is strictly positive integer smaller than the length of x."
      ],
      "metadata": {
        "id": "apcdB_lNIf7v"
      }
    },
    {
      "cell_type": "code",
      "source": [
        "def my_n_max(x, n):\n",
        "\n",
        "  n_max = []\n",
        "\n",
        "  while len(n_max) < n:\n",
        "    n_max.append(max(x))\n",
        "    x.remove(max(x))\n",
        "\n",
        "  return n_max"
      ],
      "metadata": {
        "id": "PQD--9REIFNG"
      },
      "execution_count": 5,
      "outputs": []
    },
    {
      "cell_type": "code",
      "source": [
        "# test case 1\n",
        "# Output = [10, 9, 8]\n",
        "x = [7, 9, 10, 5, 8, 3, 4, 6, 2, 1]\n",
        "out = my_n_max(x, 3)\n",
        "print(out)"
      ],
      "metadata": {
        "colab": {
          "base_uri": "https://localhost:8080/"
        },
        "id": "_pQI63oxKCZ2",
        "outputId": "3d7b07b0-3cf8-475b-e6e2-a673ef16c1d8"
      },
      "execution_count": 6,
      "outputs": [
        {
          "output_type": "stream",
          "name": "stdout",
          "text": [
            "[10, 9, 8]\n"
          ]
        }
      ]
    },
    {
      "cell_type": "markdown",
      "source": [
        "4. Let m be a matrix of positive integers. Write a function my_trig_odd_even(m) to return an array q, where q[i, j] = sin (m[i, j]) if m[i, j] is even, and q[i, j] = cos (m[i, j]) if m[i, j] is odd."
      ],
      "metadata": {
        "id": "PGSlNLw2V7rW"
      }
    },
    {
      "cell_type": "code",
      "source": [
        "import numpy as np\n",
        "\n",
        "def my_trig_odd_even(m):\n",
        "  \n",
        "  m = np.array(m, dtype = np.float64)\n",
        "\n",
        "  sin_idxs = list(zip(np.where(m % 2 == 0)[0], np.where(m % 2 == 0)[1]))\n",
        "  cos_idxs = list(zip(np.where(m % 2 == 1)[0], np.where(m % 2 == 1)[1]))\n",
        "  \n",
        "  for idx in sin_idxs:\n",
        "    m[idx] = np.sin(m[idx])\n",
        "  \n",
        "  for idx in cos_idxs:\n",
        "    m[idx] = np.cos(m[idx])\n",
        "\n",
        "  return m"
      ],
      "metadata": {
        "id": "ETxVtUJGV-Jg"
      },
      "execution_count": 7,
      "outputs": []
    },
    {
      "cell_type": "code",
      "source": [
        "A = np.array([[1,3,2],[4,5,6],[7,8,9]])\n",
        "my_trig_odd_even(A)"
      ],
      "metadata": {
        "colab": {
          "base_uri": "https://localhost:8080/"
        },
        "id": "CE3prfvZZXnP",
        "outputId": "24c60857-5e9c-4b61-f77e-d45bd70d8407"
      },
      "execution_count": 8,
      "outputs": [
        {
          "output_type": "execute_result",
          "data": {
            "text/plain": [
              "array([[ 0.54030231, -0.9899925 ,  0.90929743],\n",
              "       [-0.7568025 ,  0.28366219, -0.2794155 ],\n",
              "       [ 0.75390225,  0.98935825, -0.91113026]])"
            ]
          },
          "metadata": {},
          "execution_count": 8
        }
      ]
    },
    {
      "cell_type": "markdown",
      "source": [
        "5. Let P be an mxp array and Q be a pxn array. As you will find later in this book, M=PxQ is defined as $M[i,j] = 𝝨_{k=1}^{p}P[i,k]*Q[k,j]$. Write a function my_mat_mult(P, Q) that uses for-loops to compute M, the matrix product of P and Q. \n",
        "\n",
        "__Hint:__ You may need up to three nested for-loops. Do not use the function np.dot."
      ],
      "metadata": {
        "id": "MUCvTDmg7QhB"
      }
    },
    {
      "cell_type": "code",
      "source": [
        "# helper function for dot products\n",
        "def dot_product(p, q):\n",
        "  \n",
        "  dot_prod = 0\n",
        "\n",
        "  for idx in range(len(p)):\n",
        "    dot_prod += p[idx]*q[idx]\n",
        "\n",
        "  return dot_prod\n",
        "\n",
        "def my_mat_mult(P,Q):\n",
        "\n",
        "  # first we need to check whther no of columns of P equal the no of rows in Q for this to be a valid matrix multiplication\n",
        "  if P.shape[1] != Q.shape[0]:\n",
        "    print('Matrices cannot be multiplied.')\n",
        "  \n",
        "  else:\n",
        "\n",
        "    # result of multiplying and m by n matrix to an n by p matrix is m by p\n",
        "    # where m are the no of rows of first matrix and p are the no of columns in the second matrix\n",
        "    final_mat = np.zeros((P.shape[0], Q.shape[1]))\n",
        "\n",
        "    # we need to perform a dot product of each row in P with each column in Q\n",
        "    for row in range(P.shape[0]):\n",
        "      for col in range(Q.shape[1]):\n",
        "        final_mat[row,col] = dot_product(P[row,:], Q[:,col])\n",
        "\n",
        "    return final_mat"
      ],
      "metadata": {
        "id": "f_wOQ8IM8fd8"
      },
      "execution_count": 9,
      "outputs": []
    },
    {
      "cell_type": "code",
      "source": [
        "# test case 1\n",
        "# Output:\n",
        "#  array([[3., 3., 3.],\n",
        "#        [3., 3., 3.],\n",
        "#        [3., 3., 3.]])\n",
        "\n",
        "P = np.ones((3, 3))\n",
        "my_mat_mult(P, P)"
      ],
      "metadata": {
        "colab": {
          "base_uri": "https://localhost:8080/"
        },
        "id": "aUZEttI4_-kk",
        "outputId": "bee4f4c4-ac29-42f0-83b3-831fe3253bc0"
      },
      "execution_count": 10,
      "outputs": [
        {
          "output_type": "execute_result",
          "data": {
            "text/plain": [
              "array([[3., 3., 3.],\n",
              "       [3., 3., 3.],\n",
              "       [3., 3., 3.]])"
            ]
          },
          "metadata": {},
          "execution_count": 10
        }
      ]
    },
    {
      "cell_type": "code",
      "source": [
        "# test case 2\n",
        "# Output:\n",
        "# array([[30, 30, 30],\n",
        "#       [70, 70, 70]])\n",
        "\n",
        "P = np.array([[1, 2, 3, 4], [5, 6, 7, 8]])\n",
        "Q = np.array([[1, 1, 1], [2, 2, 2], [3, 3, 3], [4, 4, 4]])\n",
        "my_mat_mult(P, Q)"
      ],
      "metadata": {
        "colab": {
          "base_uri": "https://localhost:8080/"
        },
        "id": "IdT2A7GcCDTr",
        "outputId": "972e30f1-ecce-4629-bc43-cf36663d04fa"
      },
      "execution_count": 11,
      "outputs": [
        {
          "output_type": "execute_result",
          "data": {
            "text/plain": [
              "array([[30., 30., 30.],\n",
              "       [70., 70., 70.]])"
            ]
          },
          "metadata": {},
          "execution_count": 11
        }
      ]
    },
    {
      "cell_type": "markdown",
      "source": [
        "6. The interest, i, on a principle, PO, is a payment for allowing the bank to use your money. Compound interest is accumulated according to the formula $𝑃_n = (1+i) P_{n−1}$, where n is the compounding period, usually in months or years. Write a function my_saving_plan(P0, i, goal) where the output is the number of years it will take 𝑃0 to become goal at i% interest compounded annually."
      ],
      "metadata": {
        "id": "tDQ3CnPmObIo"
      }
    },
    {
      "cell_type": "code",
      "source": [
        "def my_saving_plan(P0, i, goal):\n",
        "    \n",
        "    years = 0\n",
        "\n",
        "    while P0 < goal:\n",
        "      P0 *= (1 + i)\n",
        "      years += 1\n",
        "    \n",
        "    return years"
      ],
      "metadata": {
        "id": "naxJiLmMCIg8"
      },
      "execution_count": 12,
      "outputs": []
    },
    {
      "cell_type": "code",
      "source": [
        "# test case 1\n",
        "# Output: 15\n",
        "my_saving_plan(1000, 0.05, 2000)"
      ],
      "metadata": {
        "colab": {
          "base_uri": "https://localhost:8080/"
        },
        "id": "OtRHgkIFXMKV",
        "outputId": "dd7a81d7-ec5f-4c72-b1ca-29fe824b7684"
      },
      "execution_count": 13,
      "outputs": [
        {
          "output_type": "execute_result",
          "data": {
            "text/plain": [
              "15"
            ]
          },
          "metadata": {},
          "execution_count": 13
        }
      ]
    },
    {
      "cell_type": "code",
      "source": [
        "# test case 2\n",
        "# Output: 11\n",
        "my_saving_plan(1000, 0.07, 2000)"
      ],
      "metadata": {
        "colab": {
          "base_uri": "https://localhost:8080/"
        },
        "id": "w1fxe71HXPJC",
        "outputId": "185af50a-d49b-43a4-d900-f811c77293ad"
      },
      "execution_count": 14,
      "outputs": [
        {
          "output_type": "execute_result",
          "data": {
            "text/plain": [
              "11"
            ]
          },
          "metadata": {},
          "execution_count": 14
        }
      ]
    },
    {
      "cell_type": "code",
      "source": [
        "# test case 3\n",
        "# Output: 21\n",
        "my_saving_plan(500, 0.07, 2000)"
      ],
      "metadata": {
        "colab": {
          "base_uri": "https://localhost:8080/"
        },
        "id": "3euGdPiAXfpT",
        "outputId": "cda34bf8-6c68-4796-ff4e-2ee2ec4b9b98"
      },
      "execution_count": 15,
      "outputs": [
        {
          "output_type": "execute_result",
          "data": {
            "text/plain": [
              "21"
            ]
          },
          "metadata": {},
          "execution_count": 15
        }
      ]
    },
    {
      "cell_type": "markdown",
      "source": [
        "7. Write a function with my_find(M), where output is a list of indices i where M[i] is 1. You may assume that M is a list of only ones and zeros. Do not use the built-in Python function find."
      ],
      "metadata": {
        "id": "2zLubXmRXjZ2"
      }
    },
    {
      "cell_type": "code",
      "source": [
        "def my_find(M):\n",
        "\n",
        "  return [idx for idx in range(len(M)) if M[idx] == 1]"
      ],
      "metadata": {
        "id": "cBfCSkouXin0"
      },
      "execution_count": 16,
      "outputs": []
    },
    {
      "cell_type": "code",
      "source": [
        "# test case 1\n",
        "# Output: [0, 2, 3]\n",
        "M = [1, 0, 1, 1, 0]\n",
        "\n",
        "my_find(M)"
      ],
      "metadata": {
        "colab": {
          "base_uri": "https://localhost:8080/"
        },
        "id": "KtVWV3bUZsGk",
        "outputId": "07437784-5025-427e-dbed-526d756241aa"
      },
      "execution_count": 17,
      "outputs": [
        {
          "output_type": "execute_result",
          "data": {
            "text/plain": [
              "[0, 2, 3]"
            ]
          },
          "metadata": {},
          "execution_count": 17
        }
      ]
    },
    {
      "cell_type": "markdown",
      "source": [
        "8. Assume you are rolling two six-sided dice, each side having an equal chance of occurring. Write a function my_monopoly_dice(), where the output is the sum of the values of the two dice thrown but with the following extra rule: if the two dice rolls are the same, then another roll is made, and the new sum added to the running total. For example, if the two dice show 3 and 4, then the running total should be 7. If the two dice show 1 and 1, then the running total should be 2 plus the total of another throw. Rolls stop when the dice rolls are different."
      ],
      "metadata": {
        "id": "x-qQfoX_Z3L9"
      }
    },
    {
      "cell_type": "code",
      "source": [
        "def my_monopoly_dice():\n",
        "\n",
        "  dice1 = np.random.randint(1,7)\n",
        "  dice2 = np.random.randint(1,7)\n",
        "\n",
        "  n_runs = 1\n",
        "  running_total = dice1 + dice2\n",
        "  print(f'First run: dice 1: {dice1}, dice 2: {dice2}. Running total: {running_total}')\n",
        "\n",
        "  while dice1 == dice2:\n",
        "    \n",
        "    dice1 = np.random.randint(1,7)\n",
        "    dice2 = np.random.randint(1,7)\n",
        "\n",
        "    running_total += dice1 + dice2\n",
        "    n_runs += 1\n",
        "    print(f'Run {n_runs}: dice 1: {dice1}, dice 2: {dice2}. Running total: {running_total}')\n",
        "\n",
        "  # if n_runs > 1:\n",
        "  #   running_total += dice1 + dice2\n",
        "  #   print(f'Final Run {n_runs}: dice 1 - {dice1}, dice 2 - {dice2}. Running total: {running_total}')"
      ],
      "metadata": {
        "id": "DO_7jZwdZvTU"
      },
      "execution_count": 18,
      "outputs": []
    },
    {
      "cell_type": "code",
      "source": [
        "my_monopoly_dice()"
      ],
      "metadata": {
        "colab": {
          "base_uri": "https://localhost:8080/"
        },
        "id": "MXCOcHvuib2l",
        "outputId": "5bd33186-9d52-4a96-b8a3-0969ae88346f"
      },
      "execution_count": null,
      "outputs": [
        {
          "output_type": "stream",
          "name": "stdout",
          "text": [
            "First run: dice 1: 1, dice 2: 1. Running total: 2\n",
            "Run 2: dice 1: 1, dice 2: 4. Running total: 7\n"
          ]
        }
      ]
    },
    {
      "cell_type": "markdown",
      "source": [
        "9. A number is prime if it is divisible without remainder only by itself and 1. The number 1 is not prime. Write a function my_is_prime(n), where output is 1 if n is prime and 0 otherwise. Assume that n is a strictly positive integer."
      ],
      "metadata": {
        "id": "X0_Hhz_hlgN6"
      }
    },
    {
      "cell_type": "markdown",
      "source": [
        "https://stackoverflow.com/questions/5811151/why-do-we-check-up-to-the-square-root-of-a-number-to-determine-if-the-number-is#:~:text=To%20test%20whether%20a%20number,square%20root%20of%20that%20number%3F&text=because%20if%20n%20%3D%20a*b,%3D%20a*b%20%3D%20n%20.&text=To%20clarify%2C%20this%20means%20we,floor(sqrt(n))%20."
      ],
      "metadata": {
        "id": "ZoHG6wY9nzB0"
      }
    },
    {
      "cell_type": "code",
      "source": [
        "import math\n",
        "\n",
        "def my_is_prime(n):\n",
        "\n",
        "  if n == 1:\n",
        "    return 0\n",
        "\n",
        "  # we only need to check till square root of n as if a number n has factors a and b both greater than 1 then\n",
        "  # they cannot be both greater than square root of n as sqrt(n) * sqrt(n) = n. Thus, if both are greater than \n",
        "  # sqrt(n) then the number becomes bigger than n. So, a non prime number or composite number will have atleast \n",
        "  # one factor greater than 1 that is below or equal to sqrt(n)\n",
        "  # link: stack overflow link provided above\n",
        "  for num in range(2, math.floor(math.sqrt(n)) + 1):\n",
        "    if n % num == 0:\n",
        "      return 0\n",
        "\n",
        "  return 1"
      ],
      "metadata": {
        "id": "PB_i_I6LlkG7"
      },
      "execution_count": 19,
      "outputs": []
    },
    {
      "cell_type": "code",
      "source": [
        "# test case 1\n",
        "# expected output: 1\n",
        "my_is_prime(19)"
      ],
      "metadata": {
        "colab": {
          "base_uri": "https://localhost:8080/"
        },
        "id": "XREIIGLLnrYe",
        "outputId": "e7bb979a-8181-4251-8372-05b28d04e4b5"
      },
      "execution_count": 20,
      "outputs": [
        {
          "output_type": "execute_result",
          "data": {
            "text/plain": [
              "1"
            ]
          },
          "metadata": {},
          "execution_count": 20
        }
      ]
    },
    {
      "cell_type": "code",
      "source": [
        "# test case 2\n",
        "# expected output: 1\n",
        "my_is_prime(17)"
      ],
      "metadata": {
        "colab": {
          "base_uri": "https://localhost:8080/"
        },
        "id": "6GsBO85-n9GD",
        "outputId": "56b31649-e9fd-43b8-b4c3-8d42ce6b3a35"
      },
      "execution_count": 21,
      "outputs": [
        {
          "output_type": "execute_result",
          "data": {
            "text/plain": [
              "1"
            ]
          },
          "metadata": {},
          "execution_count": 21
        }
      ]
    },
    {
      "cell_type": "code",
      "source": [
        "# test case 3\n",
        "# expected output: 0\n",
        "my_is_prime(25)"
      ],
      "metadata": {
        "colab": {
          "base_uri": "https://localhost:8080/"
        },
        "id": "d68rYXM5oI05",
        "outputId": "6c20e42e-ab39-4eba-bd5c-96f6a38397fe"
      },
      "execution_count": 22,
      "outputs": [
        {
          "output_type": "execute_result",
          "data": {
            "text/plain": [
              "0"
            ]
          },
          "metadata": {},
          "execution_count": 22
        }
      ]
    },
    {
      "cell_type": "markdown",
      "source": [
        "10. Write a function my_n_primes(n) where primes is a list of the first n primes. Assume that n is a strictly positive integer."
      ],
      "metadata": {
        "id": "3Ws1VPrGUI6O"
      }
    },
    {
      "cell_type": "code",
      "source": [
        "def my_n_primes(n):\n",
        "\n",
        "  prime_list = []\n",
        "\n",
        "  for num in range(2,n):\n",
        "    if my_is_prime(num):\n",
        "      prime_list.append(num)\n",
        "\n",
        "  return prime_list"
      ],
      "metadata": {
        "id": "4XvnU3CkoKob"
      },
      "execution_count": 23,
      "outputs": []
    },
    {
      "cell_type": "code",
      "source": [
        "my_n_primes(25)"
      ],
      "metadata": {
        "colab": {
          "base_uri": "https://localhost:8080/"
        },
        "id": "JieO-KTjVN11",
        "outputId": "af76643c-6529-4d57-9b4e-462f54a8c46d"
      },
      "execution_count": 24,
      "outputs": [
        {
          "output_type": "execute_result",
          "data": {
            "text/plain": [
              "[2, 3, 5, 7, 11, 13, 17, 19, 23]"
            ]
          },
          "metadata": {},
          "execution_count": 24
        }
      ]
    },
    {
      "cell_type": "code",
      "source": [
        "my_n_primes(100)"
      ],
      "metadata": {
        "colab": {
          "base_uri": "https://localhost:8080/"
        },
        "id": "sLvXrzFTVUi9",
        "outputId": "3cb7847b-5f77-4eaa-fca9-0bd8fb9eb168"
      },
      "execution_count": 25,
      "outputs": [
        {
          "output_type": "execute_result",
          "data": {
            "text/plain": [
              "[2,\n",
              " 3,\n",
              " 5,\n",
              " 7,\n",
              " 11,\n",
              " 13,\n",
              " 17,\n",
              " 19,\n",
              " 23,\n",
              " 29,\n",
              " 31,\n",
              " 37,\n",
              " 41,\n",
              " 43,\n",
              " 47,\n",
              " 53,\n",
              " 59,\n",
              " 61,\n",
              " 67,\n",
              " 71,\n",
              " 73,\n",
              " 79,\n",
              " 83,\n",
              " 89,\n",
              " 97]"
            ]
          },
          "metadata": {},
          "execution_count": 25
        }
      ]
    },
    {
      "cell_type": "markdown",
      "source": [
        "11. Write a function my_n_fib_primes(n), where the output fib_primes is a list of the first n numbers that are both a Fibonacci number and prime. Note: 1 is not prime. Hint: Do not use the recursive implementation of Fibonacci numbers. A function to compute Fibonacci numbers is presented in Section 6.1. You may use the code freely."
      ],
      "metadata": {
        "id": "j_b5GzI5Viii"
      }
    },
    {
      "cell_type": "code",
      "source": [
        "# code for getting fibonacci number without recursion from Page 109 section 6.1 of the book.\n",
        "def iter_fib(n):\n",
        "\n",
        "  fib = np.ones(n)\n",
        "\n",
        "  for i in range(2,n):\n",
        "    fib[i] = fib[i-1] + fib[i-2]\n",
        "\n",
        "  return fib"
      ],
      "metadata": {
        "id": "pG6e0BtwVaf9"
      },
      "execution_count": 26,
      "outputs": []
    },
    {
      "cell_type": "markdown",
      "source": [
        "Testing the function"
      ],
      "metadata": {
        "id": "QI4Xo8ekws6y"
      }
    },
    {
      "cell_type": "code",
      "source": [
        "iter_fib(3)"
      ],
      "metadata": {
        "colab": {
          "base_uri": "https://localhost:8080/"
        },
        "id": "0iQ-KwmZyWaz",
        "outputId": "69aacfda-ea61-41ff-8ca0-8141f36a4956"
      },
      "execution_count": 27,
      "outputs": [
        {
          "output_type": "execute_result",
          "data": {
            "text/plain": [
              "array([1., 1., 2.])"
            ]
          },
          "metadata": {},
          "execution_count": 27
        }
      ]
    },
    {
      "cell_type": "code",
      "source": [
        "iter_fib(5)"
      ],
      "metadata": {
        "colab": {
          "base_uri": "https://localhost:8080/"
        },
        "id": "cfnxKs0CwmKg",
        "outputId": "56a033ef-290c-4b93-f6cb-305042f1d6b9"
      },
      "execution_count": 28,
      "outputs": [
        {
          "output_type": "execute_result",
          "data": {
            "text/plain": [
              "array([1., 1., 2., 3., 5.])"
            ]
          },
          "metadata": {},
          "execution_count": 28
        }
      ]
    },
    {
      "cell_type": "code",
      "source": [
        "iter_fib(10)"
      ],
      "metadata": {
        "colab": {
          "base_uri": "https://localhost:8080/"
        },
        "id": "iqKyNTtTxY4O",
        "outputId": "51f94dd6-1835-4776-8d78-53f63ebdfe5b"
      },
      "execution_count": 29,
      "outputs": [
        {
          "output_type": "execute_result",
          "data": {
            "text/plain": [
              "array([ 1.,  1.,  2.,  3.,  5.,  8., 13., 21., 34., 55.])"
            ]
          },
          "metadata": {},
          "execution_count": 29
        }
      ]
    },
    {
      "cell_type": "code",
      "source": [
        "def my_n_fib_primes(n):\n",
        "    \n",
        "    fib_primes = []\n",
        "    n_fibonacci = n\n",
        "\n",
        "    while len(fib_primes) < n:\n",
        "      fib_numbers = np.array(iter_fib(3 + n_fibonacci)[3:], dtype = np.int64)\n",
        "      primes = my_n_primes(fib_numbers[-1])\n",
        "      fib_primes = fib_primes + list(set(fib_numbers).intersection(set(primes)))\n",
        "      fib_primes = list(set(fib_primes))\n",
        "      n_fibonacci += 1\n",
        "\n",
        "    return sorted(fib_primes)"
      ],
      "metadata": {
        "id": "z7X0NQ4OxaOM"
      },
      "execution_count": 30,
      "outputs": []
    },
    {
      "cell_type": "code",
      "source": [
        "# test case 1\n",
        "# Output: [3, 5, 13, 89, 233, 1597, 28657, 514229]\n",
        "my_n_fib_primes(8)"
      ],
      "metadata": {
        "colab": {
          "base_uri": "https://localhost:8080/"
        },
        "id": "mpEQNb4HyDod",
        "outputId": "3f68710a-e652-4050-8953-48c5977ea782"
      },
      "execution_count": 31,
      "outputs": [
        {
          "output_type": "execute_result",
          "data": {
            "text/plain": [
              "[3, 5, 13, 89, 233, 1597, 28657, 514229]"
            ]
          },
          "metadata": {},
          "execution_count": 31
        }
      ]
    },
    {
      "cell_type": "code",
      "source": [
        "# Output: [3, 5, 13]\n",
        "my_n_fib_primes(3)"
      ],
      "metadata": {
        "colab": {
          "base_uri": "https://localhost:8080/"
        },
        "id": "x8zmXI71yIkk",
        "outputId": "ae5eff98-fab7-4259-8e7a-aa9f5f2e0d7e"
      },
      "execution_count": 32,
      "outputs": [
        {
          "output_type": "execute_result",
          "data": {
            "text/plain": [
              "[3, 5, 13]"
            ]
          },
          "metadata": {},
          "execution_count": 32
        }
      ]
    },
    {
      "cell_type": "markdown",
      "source": [
        "12. Write a function my_trig_odd_even(M), where the output Q[i,j] = sin(π/M[i,j]) if M[i,j] is odd, and Q[i,j] = cos(π/M[i,j]) if M[i,j] is even. Assume that M is a two-dimensional array of strictly positive integers."
      ],
      "metadata": {
        "id": "gR7WjtXCU3L8"
      }
    },
    {
      "cell_type": "code",
      "source": [
        "def my_trig_odd_even(m):\n",
        "  \n",
        "  m = np.array(m, dtype = np.float64)\n",
        "\n",
        "  sin_idxs = list(zip(np.where(m % 2 == 1)[0], np.where(m % 2 == 1)[1]))\n",
        "  cos_idxs = list(zip(np.where(m % 2 == 0)[0], np.where(m % 2 == 0)[1]))\n",
        "  \n",
        "  for idx in sin_idxs:\n",
        "    m[idx] = np.sin(np.pi/m[idx])\n",
        "  \n",
        "  for idx in cos_idxs:\n",
        "    m[idx] = np.cos(np.pi/m[idx])\n",
        "\n",
        "  return m"
      ],
      "metadata": {
        "id": "TVmLUEqB1VAw"
      },
      "execution_count": 35,
      "outputs": []
    },
    {
      "cell_type": "code",
      "source": [
        "# test case\n",
        "# Output: [[0.8660, 0.7071], [0.8660, 0.4339]]\n",
        "M = [[3, 4], [6, 7]]\n",
        "my_trig_odd_even(M)"
      ],
      "metadata": {
        "colab": {
          "base_uri": "https://localhost:8080/"
        },
        "id": "_B71xrIVWDF3",
        "outputId": "83e436b1-16a3-4d69-ec5c-7cead16eaf88"
      },
      "execution_count": 36,
      "outputs": [
        {
          "output_type": "execute_result",
          "data": {
            "text/plain": [
              "array([[0.8660254 , 0.70710678],\n",
              "       [0.8660254 , 0.43388374]])"
            ]
          },
          "metadata": {},
          "execution_count": 36
        }
      ]
    },
    {
      "cell_type": "markdown",
      "source": [
        "13. Let 𝐶 be a square connectivity array containing zeros and ones. We say that point 𝑖 has a connection to point 𝑗, or 𝑖 is connected to 𝑗, if 𝐶[𝑖,𝑗]=1. Note that connections in this context are one-directional, meaning 𝐶[𝑖,𝑗] is not necessarily the same as 𝐶[𝑗,𝑖]. For example, think of a one-way street from point A to point B. If A is connected to B, then B is not necessarily connected to A.\n",
        "\n",
        "Write a function my_connectivity_mat_2_dict(C, names), where C is a connectivity array and names is a list of strings that denote the name of a point. That is, names[i] is the name of the name of the i-th point.\n",
        "\n",
        "The output variable node should be a dict with the key as the string in names and value is a vector containing the indices, j, such that 𝐶[𝑖,𝑗]=1. In other words, it is a list of points that point i is connected to."
      ],
      "metadata": {
        "id": "wi7H7bRxWYFv"
      }
    },
    {
      "cell_type": "code",
      "source": [
        "C = [[0, 1, 0, 1], [1, 0, 0, 1], [0, 0, 0, 1], [1, 1, 1, 0]]\n",
        "names = ['Los Angeles', 'New York', 'Miami', 'Dallas']"
      ],
      "metadata": {
        "id": "GkJDUA41Wnuy"
      },
      "execution_count": 37,
      "outputs": []
    },
    {
      "cell_type": "code",
      "source": [
        "def my_connectivity_mat_2_dict(C, names):\n",
        "  # we use idx + 1 as python is zero indexed and we want the exact location of connectivity\n",
        "    node = {names[val]: [idx+1 for idx in range(len(C[val])) if C[val][idx] == 1] for val in range(len(names))}\n",
        "    return node"
      ],
      "metadata": {
        "id": "3QseTG-KZU6S"
      },
      "execution_count": 46,
      "outputs": []
    },
    {
      "cell_type": "code",
      "source": [
        "# test case\n",
        "# Output: node['Los Angeles'] = [2, 4]\n",
        "#         node['New York'] = [1, 4]\n",
        "#         node['Miami'] = [4]\n",
        "#         node['Dallas'] = [1, 2, 3]\n",
        "\n",
        "node = my_connectivity_mat_2_dict(C, names)\n",
        "node"
      ],
      "metadata": {
        "colab": {
          "base_uri": "https://localhost:8080/"
        },
        "id": "RnHkhmV3a6tX",
        "outputId": "80974ea7-f310-4475-be9a-288eb154ee5f"
      },
      "execution_count": 47,
      "outputs": [
        {
          "output_type": "execute_result",
          "data": {
            "text/plain": [
              "{'Los Angeles': [2, 4], 'New York': [1, 4], 'Miami': [4], 'Dallas': [1, 2, 3]}"
            ]
          },
          "metadata": {},
          "execution_count": 47
        }
      ]
    },
    {
      "cell_type": "markdown",
      "source": [
        "14. Turn the list words of lower case characters to upper case using list comprehension."
      ],
      "metadata": {
        "id": "-X3pOpS2bcsG"
      }
    },
    {
      "cell_type": "code",
      "source": [
        "words = ['test', 'data', 'analyze']\n",
        "[word.upper() for word in words]"
      ],
      "metadata": {
        "colab": {
          "base_uri": "https://localhost:8080/"
        },
        "id": "8Tu5XBi7bGEW",
        "outputId": "75f36e27-63ad-407f-8026-71bfbebfb802"
      },
      "execution_count": 48,
      "outputs": [
        {
          "output_type": "execute_result",
          "data": {
            "text/plain": [
              "['TEST', 'DATA', 'ANALYZE']"
            ]
          },
          "metadata": {},
          "execution_count": 48
        }
      ]
    },
    {
      "cell_type": "code",
      "source": [],
      "metadata": {
        "id": "OrmKorzobpOn"
      },
      "execution_count": null,
      "outputs": []
    }
  ]
}