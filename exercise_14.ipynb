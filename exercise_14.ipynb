{
  "nbformat": 4,
  "nbformat_minor": 0,
  "metadata": {
    "colab": {
      "provenance": []
    },
    "kernelspec": {
      "name": "python3",
      "display_name": "Python 3"
    },
    "language_info": {
      "name": "python"
    }
  },
  "cells": [
    {
      "cell_type": "markdown",
      "source": [
        "These are the exercise problems from the book Python programming and Numerical methods book:\n",
        "\n",
        "https://pythonnumericalmethods.berkeley.edu/notebooks/Index.html\n",
        "\n",
        "# Chapter 14: LINEAR ALGEBRA AND SYSTEMS OF LINEAR EQUATIONS\n",
        "\n",
        "https://pythonnumericalmethods.berkeley.edu/notebooks/chapter14.07-Summary-and-Problems.html#problems\n",
        "\n",
        "Only those problems that need to be solved in a notebook environment"
      ],
      "metadata": {
        "id": "iNbrzu1ACi-E"
      }
    },
    {
      "cell_type": "code",
      "execution_count": 1,
      "metadata": {
        "id": "XMO5LiM7B1-K"
      },
      "outputs": [],
      "source": [
        "import numpy as np"
      ]
    },
    {
      "cell_type": "markdown",
      "source": [
        "1. Show that matrix multiplication distributes over matrix addition: show 𝐴(𝐵+𝐶)=𝐴𝐵+𝐴𝐶\n",
        " assuming that 𝐴,𝐵\n",
        ", and 𝐶\n",
        " are matrices of compatible size."
      ],
      "metadata": {
        "id": "pxq5aKTsC4Xo"
      }
    },
    {
      "cell_type": "code",
      "source": [
        "np.random.seed(123)\n",
        "A = np.random.randint(10, size=(3, 3))\n",
        "B = np.random.randint(10, size=(3, 4))\n",
        "C = np.random.randint(10, size=(3, 4))\n",
        "\n",
        "print(A.shape)\n",
        "print(A)\n",
        "print()\n",
        "print(B.shape)\n",
        "print(B)\n",
        "print()\n",
        "print(C.shape)\n",
        "print(C)\n",
        "print()\n",
        "\n",
        "print('AB')\n",
        "print(A@B)\n",
        "print()\n",
        "\n",
        "print('AC')\n",
        "print(A@C)\n",
        "print()\n",
        "\n",
        "print('AB + AC')\n",
        "print(A@B + A@C)\n",
        "print()\n",
        "\n",
        "print('A(B+C)')\n",
        "print(A@(B+C))\n",
        "print()\n",
        "\n",
        "print(np.array_equal(A@B + A@C, A@(B+C)))"
      ],
      "metadata": {
        "colab": {
          "base_uri": "https://localhost:8080/"
        },
        "id": "_QuEbiGTC1l-",
        "outputId": "752fd4bd-90c0-4e8c-aeff-6033502b8cb8"
      },
      "execution_count": 2,
      "outputs": [
        {
          "output_type": "stream",
          "name": "stdout",
          "text": [
            "(3, 3)\n",
            "[[2 2 6]\n",
            " [1 3 9]\n",
            " [6 1 0]]\n",
            "\n",
            "(3, 4)\n",
            "[[1 9 0 0]\n",
            " [9 3 4 0]\n",
            " [0 4 1 7]]\n",
            "\n",
            "(3, 4)\n",
            "[[3 2 4 7]\n",
            " [2 4 8 0]\n",
            " [7 9 3 4]]\n",
            "\n",
            "AB\n",
            "[[20 48 14 42]\n",
            " [28 54 21 63]\n",
            " [15 57  4  0]]\n",
            "\n",
            "AC\n",
            "[[52 66 42 38]\n",
            " [72 95 55 43]\n",
            " [20 16 32 42]]\n",
            "\n",
            "AB + AC\n",
            "[[ 72 114  56  80]\n",
            " [100 149  76 106]\n",
            " [ 35  73  36  42]]\n",
            "\n",
            "A(B+C)\n",
            "[[ 72 114  56  80]\n",
            " [100 149  76 106]\n",
            " [ 35  73  36  42]]\n",
            "\n",
            "True\n"
          ]
        }
      ]
    },
    {
      "cell_type": "markdown",
      "source": [
        "---"
      ],
      "metadata": {
        "id": "Fd_5Bu40EWCe"
      }
    },
    {
      "cell_type": "markdown",
      "source": [
        "2. Write a function my_is_orthogonal(v1,v2, tol), where 𝑣1\n",
        " and 𝑣2\n",
        " are column vectors of the same size and 𝑡𝑜𝑙\n",
        " is a scalar value strictly larger than 0. The output should be 1 if the angle between 𝑣1\n",
        " and 𝑣2\n",
        " is within tol of 𝜋/2\n",
        "; that is, |𝜋/2−𝜃|<tol\n",
        ", and 0 otherwise. You may assume that 𝑣1\n",
        " and 𝑣2\n",
        " are column vectors of the same size, and that 𝑡𝑜𝑙\n",
        " is a positive scalar."
      ],
      "metadata": {
        "id": "UHM_Bm_QEW4U"
      }
    },
    {
      "cell_type": "code",
      "source": [
        "def my_is_orthogonal(v1, v2, tol):\n",
        "\n",
        "  dot_prod = (v1.T@v2)[0,0]\n",
        "  mag_v1 = np.linalg.norm(v1)\n",
        "  mag_v2 = np.linalg.norm(v2)\n",
        "\n",
        "  angle = np.arccos(dot_prod/(mag_v1*mag_v2))\n",
        "\n",
        "  print(angle)\n",
        "  if np.abs(np.pi/2 - angle) < tol:\n",
        "    return 1\n",
        "  else:\n",
        "    return 0"
      ],
      "metadata": {
        "id": "2kgb_NWIEUul"
      },
      "execution_count": 3,
      "outputs": []
    },
    {
      "cell_type": "code",
      "source": [
        "# Test cases for problem 2\n",
        "a = np.array([[1], [0.001]])\n",
        "b = np.array([[0.001], [1]])\n",
        "\n",
        "# output: 1\n",
        "my_is_orthogonal(a,b, 0.01)"
      ],
      "metadata": {
        "colab": {
          "base_uri": "https://localhost:8080/"
        },
        "id": "-2l29CogFWGX",
        "outputId": "449fc5a9-5d85-438d-fdce-3d2d178108f2"
      },
      "execution_count": 4,
      "outputs": [
        {
          "output_type": "stream",
          "name": "stdout",
          "text": [
            "1.5687963274615628\n"
          ]
        },
        {
          "output_type": "execute_result",
          "data": {
            "text/plain": [
              "1"
            ]
          },
          "metadata": {},
          "execution_count": 4
        }
      ]
    },
    {
      "cell_type": "code",
      "source": [
        "# output: 0\n",
        "my_is_orthogonal(a,b, 0.001)"
      ],
      "metadata": {
        "colab": {
          "base_uri": "https://localhost:8080/"
        },
        "id": "FvgnzDHSFZQE",
        "outputId": "122f24bb-2991-4baa-e130-58a2f9e49db4"
      },
      "execution_count": 5,
      "outputs": [
        {
          "output_type": "stream",
          "name": "stdout",
          "text": [
            "1.5687963274615628\n"
          ]
        },
        {
          "output_type": "execute_result",
          "data": {
            "text/plain": [
              "0"
            ]
          },
          "metadata": {},
          "execution_count": 5
        }
      ]
    },
    {
      "cell_type": "code",
      "source": [
        "# output: 0\n",
        "a = np.array([[1], [0.001]])\n",
        "b = np.array([[1], [1]])\n",
        "my_is_orthogonal(a,b, 0.01)"
      ],
      "metadata": {
        "colab": {
          "base_uri": "https://localhost:8080/"
        },
        "id": "_9otKBMdGw6d",
        "outputId": "82e57347-8012-445b-a9a3-4b25d1582d8f"
      },
      "execution_count": 6,
      "outputs": [
        {
          "output_type": "stream",
          "name": "stdout",
          "text": [
            "0.7843981637307818\n"
          ]
        },
        {
          "output_type": "execute_result",
          "data": {
            "text/plain": [
              "0"
            ]
          },
          "metadata": {},
          "execution_count": 6
        }
      ]
    },
    {
      "cell_type": "code",
      "source": [
        "# output: 1\n",
        "a = np.array([[1], [1]])\n",
        "b = np.array([[-1], [1]])\n",
        "my_is_orthogonal(a,b, 1e-10)"
      ],
      "metadata": {
        "colab": {
          "base_uri": "https://localhost:8080/"
        },
        "id": "HuVp9TV0Gy_E",
        "outputId": "81a88025-ed1d-4d08-8bea-fa4bae69e3c0"
      },
      "execution_count": 7,
      "outputs": [
        {
          "output_type": "stream",
          "name": "stdout",
          "text": [
            "1.5707963267948966\n"
          ]
        },
        {
          "output_type": "execute_result",
          "data": {
            "text/plain": [
              "1"
            ]
          },
          "metadata": {},
          "execution_count": 7
        }
      ]
    },
    {
      "cell_type": "code",
      "source": [
        "# additional example\n",
        "# expected answer: angle: 0.97992471, output: 0\n",
        "v1 = np.array([[10],[9],[3]])\n",
        "v2 = np.array([[2],[5],[12]])\n",
        "\n",
        "print(v1.shape)\n",
        "print(v2.shape)\n",
        "\n",
        "print(my_is_orthogonal(v1,v2, 1e-10))"
      ],
      "metadata": {
        "colab": {
          "base_uri": "https://localhost:8080/"
        },
        "id": "b78qK9TbHpyM",
        "outputId": "5b74470f-576c-441c-9531-4472b65f748e"
      },
      "execution_count": 8,
      "outputs": [
        {
          "output_type": "stream",
          "name": "stdout",
          "text": [
            "(3, 1)\n",
            "(3, 1)\n",
            "0.979924710443726\n",
            "0\n"
          ]
        }
      ]
    },
    {
      "cell_type": "markdown",
      "source": [
        "---"
      ],
      "metadata": {
        "id": "Li_yazm3Ipif"
      }
    },
    {
      "cell_type": "markdown",
      "source": [
        "3. Write a function my_is_similar(s1,s2,tol) where 𝑠1\n",
        " and 𝑠2\n",
        " are strings, not necessarily the same size, and 𝑡𝑜𝑙\n",
        " is a scalar value strictly larger than 0. From 𝑠1\n",
        " and 𝑠2\n",
        ", the function should construct two vectors, 𝑣1\n",
        " and 𝑣2\n",
        ", where 𝑣1[0]\n",
        " is the number of ‘a’s in 𝑠1\n",
        ", 𝑣1[1]\n",
        " is the number ‘b’s in 𝑠1\n",
        ", and so on until 𝑣1[25]\n",
        ", which is the number of ‘z’s in 𝑣1\n",
        ". The vector 𝑣2\n",
        " should be similarly constructed from 𝑠2\n",
        ". The output should be 1 if the absolute value of the angle between 𝑣1\n",
        " and 𝑣2\n",
        " is less than tol; that is, |𝜃|<tol\n",
        ".\n",
        "\n"
      ],
      "metadata": {
        "id": "Tj8YF14XIqZV"
      }
    },
    {
      "cell_type": "code",
      "source": [
        "def my_is_similar(s1,s2,tol):\n",
        "\n",
        "    s1_count = []\n",
        "    s2_count = []\n",
        "\n",
        "    alphabets = ['a','b','c','d','e','f','g','h','i','j','k','l','m','n','o','p','q','r','s','t','u','v','w','x','y','z']\n",
        "\n",
        "    for alpha in alphabets:\n",
        "      s1_count.append(s1.count(alpha))\n",
        "      s2_count.append(s2.count(alpha))\n",
        "\n",
        "    s1_count = np.expand_dims(np.array(s1_count), axis = 1)\n",
        "    s2_count = np.expand_dims(np.array(s2_count), axis = 1)\n",
        "\n",
        "    dot_prod = s1_count.T @ s2_count\n",
        "    mag_s1 = np.linalg.norm(s1_count)\n",
        "    mag_s2 = np.linalg.norm(s2_count)\n",
        "\n",
        "    angle = np.arccos(dot_prod/(mag_s1*mag_s2))\n",
        "\n",
        "    if np.abs(angle) < tol:\n",
        "      return 1\n",
        "    else:\n",
        "      return 0\n"
      ],
      "metadata": {
        "id": "o8DEFBsTIlzd"
      },
      "execution_count": 9,
      "outputs": []
    },
    {
      "cell_type": "code",
      "source": [
        "s1 = 'strictly'\n",
        "s2 = 'onomatopoeia'\n",
        "tol = 1.5\n",
        "\n",
        "# expected answer: 1\n",
        "my_is_similar(s1, s2, tol)"
      ],
      "metadata": {
        "colab": {
          "base_uri": "https://localhost:8080/"
        },
        "id": "4xbTitNkLLvV",
        "outputId": "7e4c47dc-c691-4755-b90d-5d034a27863d"
      },
      "execution_count": 10,
      "outputs": [
        {
          "output_type": "execute_result",
          "data": {
            "text/plain": [
              "1"
            ]
          },
          "metadata": {},
          "execution_count": 10
        }
      ]
    },
    {
      "cell_type": "markdown",
      "source": [
        "---"
      ],
      "metadata": {
        "id": "ZSccojd-Lqw_"
      }
    },
    {
      "cell_type": "markdown",
      "source": [
        "4. Write a function my_make_lin_ind(A), where 𝐴\n",
        " and 𝐵\n",
        " are matrices. Let the 𝑟𝑎𝑛𝑘(𝐴)=𝑛\n",
        ". Then 𝐵\n",
        " should be a matrix containing the first 𝑛\n",
        " columns of 𝐴\n",
        " that are all linearly independent. Note that this implies that 𝐵\n",
        " is full rank."
      ],
      "metadata": {
        "id": "1WNiZ_0GLr2V"
      }
    },
    {
      "cell_type": "markdown",
      "source": [
        "The simple way to find all linearly independent columns is performing a reduced row echolon form. All of the pivot columns are linearly independent."
      ],
      "metadata": {
        "id": "iBxD9BFRX_pK"
      }
    },
    {
      "cell_type": "markdown",
      "source": [
        "Breaking down the steps using sympy.\n",
        "\n",
        "https://docs.sympy.org/latest/tutorials/intro-tutorial/matrices.html\n",
        "\n",
        "Matrix function from sympy converts a numpy matrix to a sympy object and then the rref method returns to elements, first the matrix in reduced row echolon form and second the pivot column indices."
      ],
      "metadata": {
        "id": "uT0XWcmPj7sO"
      }
    },
    {
      "cell_type": "code",
      "source": [
        "from sympy import *"
      ],
      "metadata": {
        "id": "2FTtsZ-qLnz8"
      },
      "execution_count": 11,
      "outputs": []
    },
    {
      "cell_type": "code",
      "source": [
        "A = np.array([[12,24,0,11,-24,18,15],\n",
        "              [19,38,0,10,-31,25,9],\n",
        "              [1,2,0,21,-5,3,20],\n",
        "              [6,12,0,13,-10,8,5],\n",
        "              [22,44,0,2,-12,17,23]])\n",
        "\n",
        "Matrix(A).rref()"
      ],
      "metadata": {
        "colab": {
          "base_uri": "https://localhost:8080/"
        },
        "id": "aYRxJIo9jQff",
        "outputId": "23b368c6-5b29-4a4f-8740-1cbc60561d80"
      },
      "execution_count": 12,
      "outputs": [
        {
          "output_type": "execute_result",
          "data": {
            "text/plain": [
              "(Matrix([\n",
              " [1, 2, 0, 0, 0,  1/2, 0],\n",
              " [0, 0, 0, 1, 0,    0, 0],\n",
              " [0, 0, 0, 0, 1, -1/2, 0],\n",
              " [0, 0, 0, 0, 0,    0, 1],\n",
              " [0, 0, 0, 0, 0,    0, 0]]),\n",
              " (0, 3, 4, 6))"
            ]
          },
          "metadata": {},
          "execution_count": 12
        }
      ]
    },
    {
      "cell_type": "code",
      "source": [
        "Matrix(A).rref()[0]"
      ],
      "metadata": {
        "colab": {
          "base_uri": "https://localhost:8080/",
          "height": 119
        },
        "id": "c5M9gKYojeLH",
        "outputId": "3988e31b-3ea7-4207-e4b1-358fcdeb283f"
      },
      "execution_count": 13,
      "outputs": [
        {
          "output_type": "execute_result",
          "data": {
            "text/plain": [
              "Matrix([\n",
              "[1, 2, 0, 0, 0,  1/2, 0],\n",
              "[0, 0, 0, 1, 0,    0, 0],\n",
              "[0, 0, 0, 0, 1, -1/2, 0],\n",
              "[0, 0, 0, 0, 0,    0, 1],\n",
              "[0, 0, 0, 0, 0,    0, 0]])"
            ],
            "text/latex": "$\\displaystyle \\left[\\begin{matrix}1 & 2 & 0 & 0 & 0 & \\frac{1}{2} & 0\\\\0 & 0 & 0 & 1 & 0 & 0 & 0\\\\0 & 0 & 0 & 0 & 1 & - \\frac{1}{2} & 0\\\\0 & 0 & 0 & 0 & 0 & 0 & 1\\\\0 & 0 & 0 & 0 & 0 & 0 & 0\\end{matrix}\\right]$"
          },
          "metadata": {},
          "execution_count": 13
        }
      ]
    },
    {
      "cell_type": "code",
      "source": [
        "Matrix(A).rref()[1]"
      ],
      "metadata": {
        "colab": {
          "base_uri": "https://localhost:8080/"
        },
        "id": "ArpUwLwvjzpJ",
        "outputId": "1ae8db80-31f7-4a0e-ba1f-fa08c1cbd5a8"
      },
      "execution_count": 14,
      "outputs": [
        {
          "output_type": "execute_result",
          "data": {
            "text/plain": [
              "(0, 3, 4, 6)"
            ]
          },
          "metadata": {},
          "execution_count": 14
        }
      ]
    },
    {
      "cell_type": "code",
      "source": [
        "A[:,Matrix(A).rref()[1]]"
      ],
      "metadata": {
        "colab": {
          "base_uri": "https://localhost:8080/"
        },
        "id": "qa_VtTAzj0z3",
        "outputId": "fa1fa672-a77d-4d3f-a266-8d584c446453"
      },
      "execution_count": 15,
      "outputs": [
        {
          "output_type": "execute_result",
          "data": {
            "text/plain": [
              "array([[ 12,  11, -24,  15],\n",
              "       [ 19,  10, -31,   9],\n",
              "       [  1,  21,  -5,  20],\n",
              "       [  6,  13, -10,   5],\n",
              "       [ 22,   2, -12,  23]])"
            ]
          },
          "metadata": {},
          "execution_count": 15
        }
      ]
    },
    {
      "cell_type": "markdown",
      "source": [
        "converting to a function"
      ],
      "metadata": {
        "id": "nDlkWL-mkjt1"
      }
    },
    {
      "cell_type": "code",
      "source": [
        "def my_make_lin_ind(A):\n",
        "\n",
        "  B = A[:, Matrix(A).rref()[1]]\n",
        "  return B"
      ],
      "metadata": {
        "id": "Cd_6E8XwklE4"
      },
      "execution_count": 16,
      "outputs": []
    },
    {
      "cell_type": "code",
      "source": [
        "## Test cases for problem 4\n",
        "\n",
        "A = np.array([[12,24,0,11,-24,18,15],\n",
        "              [19,38,0,10,-31,25,9],\n",
        "              [1,2,0,21,-5,3,20],\n",
        "              [6,12,0,13,-10,8,5],\n",
        "              [22,44,0,2,-12,17,23]])\n",
        "\n",
        "B = my_make_lin_ind(A)\n",
        "B\n",
        "# B = [[12,11,-24,15],\n",
        "#      [19,10,-31,9],\n",
        "#      [1,21,-5,20],\n",
        "#      [6,13,-10,5],\n",
        "#      [22,2,-12,23]]"
      ],
      "metadata": {
        "colab": {
          "base_uri": "https://localhost:8080/"
        },
        "id": "PyGKM8cekxl_",
        "outputId": "51e2d22c-c1bc-4a8c-9e47-0a77a73a8dd6"
      },
      "execution_count": 17,
      "outputs": [
        {
          "output_type": "execute_result",
          "data": {
            "text/plain": [
              "array([[ 12,  11, -24,  15],\n",
              "       [ 19,  10, -31,   9],\n",
              "       [  1,  21,  -5,  20],\n",
              "       [  6,  13, -10,   5],\n",
              "       [ 22,   2, -12,  23]])"
            ]
          },
          "metadata": {},
          "execution_count": 17
        }
      ]
    },
    {
      "cell_type": "markdown",
      "source": [
        "---"
      ],
      "metadata": {
        "id": "5EDqyDcbltik"
      }
    },
    {
      "cell_type": "markdown",
      "source": [
        "5. Cramer’s rule is a method of computing the determinant of a matrix. Consider an 𝑛×𝑛\n",
        " square matrix 𝑀\n",
        ". Let 𝑀(𝑖,𝑗)\n",
        " be the element of 𝑀\n",
        " in the 𝑖-th row and 𝑗-th column of 𝑀\n",
        ", and let 𝑚𝑖,𝑗\n",
        " be the minor of 𝑀\n",
        " created by removing the 𝑖-th row and 𝑗-th column from 𝑀\n",
        ". Cramer’s rule says that $det(M)=∑_{i=1}^{n}(−1)^{𝑖−1}𝑀(1,𝑖)det(𝑚_{𝑖,𝑗}).$\n",
        "\n",
        "Write a function my_rec_det(M), where the output is 𝑑𝑒𝑡(𝑀)\n",
        ". The function should use Cramer’s rule to compute the determinant, not Numpy’s function."
      ],
      "metadata": {
        "id": "6jdQgY3cluY6"
      }
    },
    {
      "cell_type": "code",
      "source": [
        "A = np.array([[1, 1, 2],\n",
        "              [4, 3, 0],\n",
        "              [2, 2, 1]])\n",
        "\n",
        "A"
      ],
      "metadata": {
        "colab": {
          "base_uri": "https://localhost:8080/"
        },
        "id": "vIoECu5Klt8v",
        "outputId": "93a3c9b0-c1ce-4458-99e4-9251768f9798"
      },
      "execution_count": 18,
      "outputs": [
        {
          "output_type": "execute_result",
          "data": {
            "text/plain": [
              "array([[1, 1, 2],\n",
              "       [4, 3, 0],\n",
              "       [2, 2, 1]])"
            ]
          },
          "metadata": {},
          "execution_count": 18
        }
      ]
    },
    {
      "cell_type": "code",
      "source": [
        "np.linalg.det(A)"
      ],
      "metadata": {
        "colab": {
          "base_uri": "https://localhost:8080/"
        },
        "id": "GBoxBfeOqAdx",
        "outputId": "8b12d3c2-1feb-44f4-df13-391983176dd5"
      },
      "execution_count": 19,
      "outputs": [
        {
          "output_type": "execute_result",
          "data": {
            "text/plain": [
              "2.9999999999999996"
            ]
          },
          "metadata": {},
          "execution_count": 19
        }
      ]
    },
    {
      "cell_type": "code",
      "source": [
        "# helper function to eliminate rows and columns. We implemented this exercise_6.\n",
        "\n",
        "def smaller_matrix(X, idx):\n",
        "  # all values are True initially\n",
        "  bool_matrix = np.ones(X.shape, dtype = bool)\n",
        "\n",
        "  # first row will be false as we will be extracting matrices from row 2 onwards\n",
        "  bool_matrix[0,:] = False\n",
        "\n",
        "  # idx here means the column that will be set to false. So, for example we have a 3 by 3 matrix and we wish to extract\n",
        "  # a 2 by 2 matrix by extracting two rows from column 1 and two rows from column 3, then idx will be 2 to set column 2\n",
        "  # as False\n",
        "  bool_matrix[:,idx] = False\n",
        "\n",
        "  # once extracted. Reshape them to len(X) - 1, len(X) - 1 so that the output is a matrix\n",
        "  return X[bool_matrix].reshape(len(X)-1,len(X)-1)"
      ],
      "metadata": {
        "id": "40y_hfoptvhP"
      },
      "execution_count": 20,
      "outputs": []
    },
    {
      "cell_type": "code",
      "source": [
        "smaller_matrix(A, 0)"
      ],
      "metadata": {
        "colab": {
          "base_uri": "https://localhost:8080/"
        },
        "id": "a1o9opicwK6Q",
        "outputId": "6a731974-4eef-44dc-b60a-6656061e73be"
      },
      "execution_count": 21,
      "outputs": [
        {
          "output_type": "execute_result",
          "data": {
            "text/plain": [
              "array([[3, 0],\n",
              "       [2, 1]])"
            ]
          },
          "metadata": {},
          "execution_count": 21
        }
      ]
    },
    {
      "cell_type": "code",
      "source": [
        "def determinant(A):\n",
        "\n",
        "  if len(A) == 2:\n",
        "    return A[0,0]*A[1,1] - A[0,1]*A[1,0]\n",
        "\n",
        "  else:\n",
        "    det = 0\n",
        "\n",
        "    for idx in range(len(A)):\n",
        "      det += ((-1)**((idx+1) - 1)) * A[0,idx] * determinant(smaller_matrix(A, idx))\n",
        "\n",
        "    return det"
      ],
      "metadata": {
        "id": "oAak1qL7rNsg"
      },
      "execution_count": 22,
      "outputs": []
    },
    {
      "cell_type": "code",
      "source": [
        "determinant(A)"
      ],
      "metadata": {
        "colab": {
          "base_uri": "https://localhost:8080/"
        },
        "id": "mkOvP7rgudSQ",
        "outputId": "6817933c-980b-465c-8908-24fb675c43a3"
      },
      "execution_count": 23,
      "outputs": [
        {
          "output_type": "execute_result",
          "data": {
            "text/plain": [
              "3"
            ]
          },
          "metadata": {},
          "execution_count": 23
        }
      ]
    },
    {
      "cell_type": "code",
      "source": [
        "A = np.array([[1, 2, 4],\n",
        "              [1, 2, 3],\n",
        "              [2, 1, 0]])\n",
        "\n",
        "A"
      ],
      "metadata": {
        "colab": {
          "base_uri": "https://localhost:8080/"
        },
        "id": "hTSzoB6IwPsn",
        "outputId": "9e73bf3d-0338-4820-ccc6-2f007f3be537"
      },
      "execution_count": 24,
      "outputs": [
        {
          "output_type": "execute_result",
          "data": {
            "text/plain": [
              "array([[1, 2, 4],\n",
              "       [1, 2, 3],\n",
              "       [2, 1, 0]])"
            ]
          },
          "metadata": {},
          "execution_count": 24
        }
      ]
    },
    {
      "cell_type": "code",
      "source": [
        "np.linalg.det(A)"
      ],
      "metadata": {
        "colab": {
          "base_uri": "https://localhost:8080/"
        },
        "id": "OgCOwpYcwocG",
        "outputId": "c6df8141-6c2b-4dd4-fe70-121c5a0b5562"
      },
      "execution_count": 25,
      "outputs": [
        {
          "output_type": "execute_result",
          "data": {
            "text/plain": [
              "-2.9999999999999996"
            ]
          },
          "metadata": {},
          "execution_count": 25
        }
      ]
    },
    {
      "cell_type": "code",
      "source": [
        "determinant(A)"
      ],
      "metadata": {
        "colab": {
          "base_uri": "https://localhost:8080/"
        },
        "id": "bKgYa6kawrnP",
        "outputId": "8782b9df-cf20-4830-bcae-1a4022693953"
      },
      "execution_count": 26,
      "outputs": [
        {
          "output_type": "execute_result",
          "data": {
            "text/plain": [
              "-3"
            ]
          },
          "metadata": {},
          "execution_count": 26
        }
      ]
    },
    {
      "cell_type": "markdown",
      "source": [
        "---"
      ],
      "metadata": {
        "id": "Mn1DMwXfyCmZ"
      }
    },
    {
      "cell_type": "markdown",
      "source": [
        "6. What is the complexity of my_rec_det in the previous problem? Do you think this is an effective way of determining if a matrix is singular or not?\n",
        "\n",
        "For a matrix of size n we have to compute determinants of n-1 matrix for each of the n values in row 1 and then for each n-1 matrix we do the same with n-2 matrices till we get to 2 where we compute the determinant. This is clearly O(n!) time complexity.\n",
        "\n",
        "Even though getting the determinant helps estimate whether a matrix is singular, given it's time complexity it is not the most effective way to determine if a matrix is singular as for larger matrices, it is computationally expensive."
      ],
      "metadata": {
        "id": "QPkvW16FyD_w"
      }
    },
    {
      "cell_type": "markdown",
      "source": [
        "---"
      ],
      "metadata": {
        "id": "x9On8ozC77GC"
      }
    },
    {
      "cell_type": "markdown",
      "source": [
        "7. Let 𝑝\n",
        " be a vector with length 𝐿\n",
        " containing the coefficients of a polynomial of order 𝐿−1\n",
        ". For example, the vector 𝑝=[1,0,2]\n",
        " is a representation of the polynomial $𝑓(𝑥)=1𝑥^2+0𝑥+2$\n",
        ". Write a function my_poly_der_mat(p), where 𝑝\n",
        " is the aforementioned vector, and the output 𝐷\n",
        " is the matrix that will return the coefficients of the derivative of 𝑝\n",
        " when 𝑝\n",
        " is left multiplied by 𝐷\n",
        ". For example, the derivative of 𝑓(𝑥)\n",
        " is 𝑓′(𝑥)=2𝑥\n",
        ", and therefore, 𝑑=𝐷𝑝\n",
        " should yield 𝑑=[2,0]\n",
        ". Note this implies that the dimension of 𝐷\n",
        " is 𝐿−1×𝐿\n",
        ". The point of this problem is to show that integrating polynomials is actually a linear transformation."
      ],
      "metadata": {
        "id": "JykFhiGo78Gn"
      }
    },
    {
      "cell_type": "markdown",
      "source": [
        "Lets think through the solutions to some of the problems by hand.\n",
        "\n",
        "f(x) = $x^2 + 2$\n",
        "\n",
        "e.g. 1: we can put this as: $x^2 + 0x + 2$\n",
        "\n",
        "coeffs are: [1, 0, 2]\n",
        "\n",
        "derivative is: 2x + 0 (technically derivative of 0x is 0)\n",
        "\n",
        "coeffs are: [2, 0]\n",
        "\n",
        "\n",
        "e.g. 2: $x^3 + 2x + 2$\n",
        "\n",
        "coeffs are: [1, 0, 2, 2]\n",
        "\n",
        "derivative: $3x^2 + 0x + 2$\n",
        "\n",
        "coeffs are: [3, 0, 2]\n",
        "\n",
        "input is size L and output is size L - 1.\n",
        "\n",
        "if the highest power is 2 then there are 3 elements in the input list and if the highest power is 3 then there are elements in the input list.\n",
        "\n",
        "one possible solution is:\n",
        "\n",
        "we can creat a matrix of 0's of size (L-1, L) and fill the diagonal elements with the inputs till we reach L - 1.\n",
        "\n",
        "e.g. 1 p = [1,0,2]\n",
        "\n",
        "L = 3, L - 1 = 2\n",
        "\n",
        "D = $\\begin{bmatrix}0 & 0 & 0\\\\0 & 0 & 0\\end{bmatrix}$\n",
        "\n",
        "power = L - 1 = 2\n",
        "\n",
        "i in range(2):\n",
        "\n",
        "i = 0\n",
        "\n",
        "D[0,0] = 2\n",
        "\n",
        "D = $\\begin{bmatrix}2 & 0 & 0\\\\0 & 0 & 0\\end{bmatrix}$\n",
        "\n",
        "power - 1 = 1\n",
        "\n",
        "i = 1\n",
        "\n",
        "D[1,1] = 1\n",
        "\n",
        "D = $\\begin{bmatrix}2 & 0 & 0\\\\0 & 1 & 0\\end{bmatrix}$\n",
        "\n",
        "for e.g. 2:\n",
        "\n",
        "p = [1,0,2,2]\n",
        "\n",
        "L = 4, L - 1 = 3\n",
        "\n",
        "D = $\\begin{bmatrix}0 & 0 & 0 & 0\\\\0 & 0 & 0 & 0\\\\0 & 0 & 0 & 0\\end{bmatrix}$\n",
        "\n",
        "power = L - 1 = 3\n",
        "\n",
        "i in range(3):\n",
        "\n",
        "i = 0\n",
        "\n",
        "D[0,0] = 3\n",
        "\n",
        "D = $\\begin{bmatrix}3 & 0 & 0 & 0\\\\0 & 0 & 0 & 0\\\\0 & 0 & 0 & 0\\end{bmatrix}$\n",
        "\n",
        "\n",
        "power - 1 = 2\n",
        "\n",
        "\n",
        "i = 1\n",
        "\n",
        "D[1,1] = 2\n",
        "\n",
        "D = $\\begin{bmatrix}3 & 0 & 0 & 0\\\\0 & 2 & 0 & 0\\\\0 & 0 & 0 & 0\\end{bmatrix}$\n",
        "\n",
        "power - 1 = 1\n",
        "\n",
        "i = 2\n",
        "\n",
        "D[2,2] = 1\n",
        "\n",
        "D = $\\begin{bmatrix}3 & 0 & 0 & 0\\\\0 & 2 & 0 & 0\\\\0 & 0 & 1 & 0\\end{bmatrix}$\n",
        "\n",
        "\n",
        "\n",
        "\n",
        "\n"
      ],
      "metadata": {
        "id": "jd8rhvKPivcv"
      }
    },
    {
      "cell_type": "code",
      "source": [
        "import numpy as np\n",
        "\n",
        "def my_poly_der_mat(p):\n",
        "    L = len(p)  # Length of the polynomial vector p\n",
        "    D = np.zeros((L - 1, L))\n",
        "    highest_power = L - 1\n",
        "\n",
        "    for i in range(L - 1):\n",
        "        D[i, i] = highest_power\n",
        "        highest_power -= 1\n",
        "\n",
        "    return D"
      ],
      "metadata": {
        "id": "tT3J8WnXyO6Q"
      },
      "execution_count": 27,
      "outputs": []
    },
    {
      "cell_type": "code",
      "source": [
        "p = [1,0,2]\n",
        "my_poly_der_mat(p)"
      ],
      "metadata": {
        "colab": {
          "base_uri": "https://localhost:8080/"
        },
        "id": "RLDL-dxrydix",
        "outputId": "5298c1f4-78eb-4f6f-9d07-3733e587bff6"
      },
      "execution_count": 28,
      "outputs": [
        {
          "output_type": "execute_result",
          "data": {
            "text/plain": [
              "array([[2., 0., 0.],\n",
              "       [0., 1., 0.]])"
            ]
          },
          "metadata": {},
          "execution_count": 28
        }
      ]
    },
    {
      "cell_type": "code",
      "source": [
        "my_poly_der_mat(p) @ np.array(p)"
      ],
      "metadata": {
        "colab": {
          "base_uri": "https://localhost:8080/"
        },
        "id": "_yyU708cyi_q",
        "outputId": "c7cc9a41-ba0d-4a64-e5bd-be2be3bbcae9"
      },
      "execution_count": 29,
      "outputs": [
        {
          "output_type": "execute_result",
          "data": {
            "text/plain": [
              "array([2., 0.])"
            ]
          },
          "metadata": {},
          "execution_count": 29
        }
      ]
    },
    {
      "cell_type": "code",
      "source": [
        "p = [1,0,2,2]\n",
        "my_poly_der_mat(p)"
      ],
      "metadata": {
        "colab": {
          "base_uri": "https://localhost:8080/"
        },
        "id": "sThjPH2ZyqEN",
        "outputId": "1debd8d2-9d87-4649-a19b-394a2faa1113"
      },
      "execution_count": 30,
      "outputs": [
        {
          "output_type": "execute_result",
          "data": {
            "text/plain": [
              "array([[3., 0., 0., 0.],\n",
              "       [0., 2., 0., 0.],\n",
              "       [0., 0., 1., 0.]])"
            ]
          },
          "metadata": {},
          "execution_count": 30
        }
      ]
    },
    {
      "cell_type": "code",
      "source": [
        "my_poly_der_mat(p) @ np.array(p)"
      ],
      "metadata": {
        "colab": {
          "base_uri": "https://localhost:8080/"
        },
        "id": "h3EMN3YkyxtM",
        "outputId": "420bdf9f-ace0-4b52-cdd9-71f402f09bf5"
      },
      "execution_count": 31,
      "outputs": [
        {
          "output_type": "execute_result",
          "data": {
            "text/plain": [
              "array([3., 0., 2.])"
            ]
          },
          "metadata": {},
          "execution_count": 31
        }
      ]
    },
    {
      "cell_type": "markdown",
      "source": [
        "example with more polynomials\n",
        "\n",
        "f(x) = $6x^5 + 7x^3 + 3x^2 + 5$\n",
        "\n",
        "f'(x) = $30x^4 + 21x^2 + 6x$\n",
        "\n",
        "p: [6, 0, 7, 3, 0, 5]\n",
        "\n",
        "d: [30, 0, 21, 6, 0]  (even though there is no $x^4$ and x we have 0's for them)\n",
        "\n"
      ],
      "metadata": {
        "id": "HDT_FX5ry9QZ"
      }
    },
    {
      "cell_type": "code",
      "source": [
        "p = [6,0,7,3,0,5] #p vector\n",
        "my_poly_der_mat(p)"
      ],
      "metadata": {
        "colab": {
          "base_uri": "https://localhost:8080/"
        },
        "id": "LKGiqeZJed-1",
        "outputId": "e74f8091-26a3-4d07-f135-c07a68a00ebe"
      },
      "execution_count": 32,
      "outputs": [
        {
          "output_type": "execute_result",
          "data": {
            "text/plain": [
              "array([[5., 0., 0., 0., 0., 0.],\n",
              "       [0., 4., 0., 0., 0., 0.],\n",
              "       [0., 0., 3., 0., 0., 0.],\n",
              "       [0., 0., 0., 2., 0., 0.],\n",
              "       [0., 0., 0., 0., 1., 0.]])"
            ]
          },
          "metadata": {},
          "execution_count": 32
        }
      ]
    },
    {
      "cell_type": "code",
      "source": [
        "my_poly_der_mat(p) @ np.array(p)"
      ],
      "metadata": {
        "colab": {
          "base_uri": "https://localhost:8080/"
        },
        "id": "VJR4yoKA0p_Z",
        "outputId": "b4abdc22-fcc2-4898-8622-4af84e8451c6"
      },
      "execution_count": 33,
      "outputs": [
        {
          "output_type": "execute_result",
          "data": {
            "text/plain": [
              "array([30.,  0., 21.,  6.,  0.])"
            ]
          },
          "metadata": {},
          "execution_count": 33
        }
      ]
    },
    {
      "cell_type": "markdown",
      "source": [
        "So, a vector representing the coefficients of a function's polynomials times diagnolaized matrix of the highest power - 1 till 1 results in a vector of coefficients of the derivative's polynomial."
      ],
      "metadata": {
        "id": "KUuyajbUGGBY"
      }
    },
    {
      "cell_type": "markdown",
      "source": [
        "---"
      ],
      "metadata": {
        "id": "v0MK-n7pGi37"
      }
    },
    {
      "cell_type": "markdown",
      "source": [
        "8. Use Gauss Elimination to solve the following equations.\n",
        "\n",
        "$3x_1 - x_2 + 4x_3 = 2$\n",
        "\n",
        "$17x_1 + 2x_2 + x_3 = 14$\n",
        "\n",
        "$x_1 + 12x_2 - 7x_3 = 54$\n",
        "\n",
        "Gauss Elimination:\n",
        "\n",
        "Getting in augmented matrix form:\n",
        "\n",
        "$\\begin{bmatrix}3 & -1 & 4\\\\17 & 2 & 1\\\\1 & 12 & -7\\end{bmatrix}$$\\begin{bmatrix}2\\\\14\\\\54\\end{bmatrix}$\n",
        "\n",
        "R2 - (17/3)R1 <br>\n",
        "R3 - (1/3)R1\n",
        "\n",
        "$\\begin{bmatrix}3 & -1 & 4\\\\0 & 23/3 & -65/3\\\\0 & 37/3 & -25/3\\end{bmatrix}$$\\begin{bmatrix}2\\\\8/3\\\\160/3\\end{bmatrix}$\n",
        "\n",
        "R2*3 <br>\n",
        "R3 + (-37/69)R2\n",
        "\n",
        "$\\begin{bmatrix}3 & -1 & 4\\\\0 & 23 & -65\\\\0 & 0 & 1830/69\\end{bmatrix}$$\\begin{bmatrix}2\\\\8\\\\3384/69\\end{bmatrix}$\n",
        "\n",
        "R3 * 69\n",
        "\n",
        "$\\begin{bmatrix}3 & -1 & 4\\\\0 & 23 & -65\\\\0 & 0 & 1830\\end{bmatrix}$$\\begin{bmatrix}2\\\\8\\\\3384\\end{bmatrix}$\n",
        "\n",
        "1830x3 = 3384\n",
        "\n",
        "__x3 = 1.849__ (rounded)\n",
        "\n",
        "23x2 - 65x3 = 8\n",
        "\n",
        "23x2 - 65(1.849) = 8\n",
        "\n",
        "23x2 = 128.1967\n",
        "\n",
        "__x2 = 5.574__ (rounded)\n",
        "\n",
        "3x1 - x2 + 4x3 = 2\n",
        "\n",
        "3x1 - 5.574 + 4(1.849) = 2\n",
        "\n",
        "3x1 = 0.178\n",
        "\n",
        "__x1 = 0.0593__ (rounded)\n",
        "\n"
      ],
      "metadata": {
        "id": "9eihqg6iGj6a"
      }
    },
    {
      "cell_type": "code",
      "source": [
        "65*37"
      ],
      "metadata": {
        "colab": {
          "base_uri": "https://localhost:8080/"
        },
        "id": "9rKAKNBZPid5",
        "outputId": "19383cab-0b6d-433d-817f-af32b769ead4"
      },
      "execution_count": 34,
      "outputs": [
        {
          "output_type": "execute_result",
          "data": {
            "text/plain": [
              "2405"
            ]
          },
          "metadata": {},
          "execution_count": 34
        }
      ]
    },
    {
      "cell_type": "code",
      "source": [
        "23*25"
      ],
      "metadata": {
        "colab": {
          "base_uri": "https://localhost:8080/"
        },
        "id": "u8Nvf5tVPmx8",
        "outputId": "ed431cdd-92df-4180-e911-e78b41672573"
      },
      "execution_count": 35,
      "outputs": [
        {
          "output_type": "execute_result",
          "data": {
            "text/plain": [
              "575"
            ]
          },
          "metadata": {},
          "execution_count": 35
        }
      ]
    },
    {
      "cell_type": "code",
      "source": [
        "-575+2405"
      ],
      "metadata": {
        "colab": {
          "base_uri": "https://localhost:8080/"
        },
        "id": "_ZODJgHxPuSi",
        "outputId": "5e784136-3cfd-4f82-b911-bb0f25431f34"
      },
      "execution_count": 36,
      "outputs": [
        {
          "output_type": "execute_result",
          "data": {
            "text/plain": [
              "1830"
            ]
          },
          "metadata": {},
          "execution_count": 36
        }
      ]
    },
    {
      "cell_type": "code",
      "source": [
        "A = np.array([[3,-1,4,2],[17,2,1,14],[1,12,-7,54]])\n",
        "A"
      ],
      "metadata": {
        "colab": {
          "base_uri": "https://localhost:8080/"
        },
        "id": "Dnt6ilhiF_UM",
        "outputId": "017ede06-287d-4299-cbcd-d7474d46ade4"
      },
      "execution_count": 37,
      "outputs": [
        {
          "output_type": "execute_result",
          "data": {
            "text/plain": [
              "array([[ 3, -1,  4,  2],\n",
              "       [17,  2,  1, 14],\n",
              "       [ 1, 12, -7, 54]])"
            ]
          },
          "metadata": {},
          "execution_count": 37
        }
      ]
    },
    {
      "cell_type": "code",
      "source": [
        "Matrix(A).echelon_form()"
      ],
      "metadata": {
        "colab": {
          "base_uri": "https://localhost:8080/",
          "height": 78
        },
        "id": "2-TI34Z7Ll4E",
        "outputId": "5f3db021-fbfc-4cc0-83f5-2c6756619639"
      },
      "execution_count": 38,
      "outputs": [
        {
          "output_type": "execute_result",
          "data": {
            "text/plain": [
              "Matrix([\n",
              "[3, -1,    4,    2],\n",
              "[0, 23,  -65,    8],\n",
              "[0,  0, 1830, 3384]])"
            ],
            "text/latex": "$\\displaystyle \\left[\\begin{matrix}3 & -1 & 4 & 2\\\\0 & 23 & -65 & 8\\\\0 & 0 & 1830 & 3384\\end{matrix}\\right]$"
          },
          "metadata": {},
          "execution_count": 38
        }
      ]
    },
    {
      "cell_type": "code",
      "source": [
        "A = np.array([[3,-1,4],[17,2,1],[1,12,-7]])\n",
        "y = np.array([2,14,54])\n",
        "\n",
        "np.linalg.solve(A,y)"
      ],
      "metadata": {
        "colab": {
          "base_uri": "https://localhost:8080/"
        },
        "id": "EphtFTprRj3E",
        "outputId": "1c8627d5-5da5-478e-eb29-f0eee7485c0e"
      },
      "execution_count": 39,
      "outputs": [
        {
          "output_type": "execute_result",
          "data": {
            "text/plain": [
              "array([0.05901639, 5.57377049, 1.84918033])"
            ]
          },
          "metadata": {},
          "execution_count": 39
        }
      ]
    },
    {
      "cell_type": "markdown",
      "source": [
        "we see some difference in our solution due to rounding errors"
      ],
      "metadata": {
        "id": "4Tya_6t2SRdK"
      }
    },
    {
      "cell_type": "markdown",
      "source": [
        "---"
      ],
      "metadata": {
        "id": "Q4bG2VCfSVrd"
      }
    },
    {
      "cell_type": "markdown",
      "source": [
        "9. Use Gauss-Jordan Elimination to solve the above equations in problem 8."
      ],
      "metadata": {
        "id": "QPBQxKYuSWn9"
      }
    },
    {
      "cell_type": "markdown",
      "source": [
        "Gauss Jordan Elimination (reduced row echolon form):\n",
        "\n",
        "Getting in augmented matrix form:\n",
        "\n",
        "$\\begin{bmatrix}3 & -1 & 4\\\\17 & 2 & 1\\\\1 & 12 & -7\\end{bmatrix}$$\\begin{bmatrix}2\\\\14\\\\54\\end{bmatrix}$\n",
        "\n",
        "swapping R1 and R3\n",
        "\n",
        "$\\begin{bmatrix}1 & 12 & -7\\\\17 & 2 & 1\\\\3 & -1 & 4\\end{bmatrix}$$\\begin{bmatrix}54\\\\14\\\\2\\end{bmatrix}$\n",
        "\n",
        "R2 - 17R1 <br>\n",
        "R3 - 3R1\n",
        "\n",
        "$\\begin{bmatrix}1 & 12 & -7\\\\0 & -202 & 120\\\\0 & -37 & 25\\end{bmatrix}$$\\begin{bmatrix}54\\\\-904\\\\-160\\end{bmatrix}$\n",
        "\n",
        "R2 * -1/202 <br>\n",
        "R3 + 37R2 <br>\n",
        "R1 - 12R2\n",
        "\n",
        "$\\begin{bmatrix}1 & 0 & 26/202\\\\0 & 1 & -120/202\\\\0 & 0 & 610/202\\end{bmatrix}$$\\begin{bmatrix}60/202\\\\904/202\\\\1128/202\\end{bmatrix}$\n",
        "\n",
        "R3 * 202/610 <br>\n",
        "R1 - (26/202)R3 <br>\n",
        "R2 + (120/202)R3\n",
        "\n",
        "$\\begin{bmatrix}1 & 0 & 0\\\\0 & 1 & 0\\\\0 & 0 & 1\\end{bmatrix}$$\\begin{bmatrix}7272/123220\\\\686800/123220\\\\1128/610\\end{bmatrix}$\n",
        "\n"
      ],
      "metadata": {
        "id": "PVWUmG6tMXKE"
      }
    },
    {
      "cell_type": "code",
      "source": [
        "7272/123220"
      ],
      "metadata": {
        "colab": {
          "base_uri": "https://localhost:8080/"
        },
        "id": "x3x-6qpekf3W",
        "outputId": "137028a4-1a46-4a50-acff-5d8fe7972c9e"
      },
      "execution_count": 40,
      "outputs": [
        {
          "output_type": "execute_result",
          "data": {
            "text/plain": [
              "0.05901639344262295"
            ]
          },
          "metadata": {},
          "execution_count": 40
        }
      ]
    },
    {
      "cell_type": "code",
      "source": [
        "686800/123220"
      ],
      "metadata": {
        "colab": {
          "base_uri": "https://localhost:8080/"
        },
        "id": "oQCyqZpQlT-E",
        "outputId": "7ad214c4-c894-49f1-d287-3e0279e7496b"
      },
      "execution_count": 41,
      "outputs": [
        {
          "output_type": "execute_result",
          "data": {
            "text/plain": [
              "5.573770491803279"
            ]
          },
          "metadata": {},
          "execution_count": 41
        }
      ]
    },
    {
      "cell_type": "code",
      "source": [
        "1128/610"
      ],
      "metadata": {
        "colab": {
          "base_uri": "https://localhost:8080/"
        },
        "id": "eHxrx15ol0ip",
        "outputId": "90848a92-928d-42e8-f7e0-845f236b4801"
      },
      "execution_count": 42,
      "outputs": [
        {
          "output_type": "execute_result",
          "data": {
            "text/plain": [
              "1.8491803278688526"
            ]
          },
          "metadata": {},
          "execution_count": 42
        }
      ]
    },
    {
      "cell_type": "markdown",
      "source": [
        "---"
      ],
      "metadata": {
        "id": "rCh4OiD5mLH_"
      }
    },
    {
      "cell_type": "markdown",
      "source": [
        "10. Get the lower triangular matrix 𝐿\n",
        " and upper triangular matrix 𝑈\n",
        " from the equations in problem 8."
      ],
      "metadata": {
        "id": "XN8sUrSgmLzu"
      }
    },
    {
      "cell_type": "code",
      "source": [
        "# matrix from problem 8\n",
        "A = np.array([[3,-1,4],[17,2,1],[1,12,-7]])\n",
        "A"
      ],
      "metadata": {
        "colab": {
          "base_uri": "https://localhost:8080/"
        },
        "id": "3aOYUY6Ol-W5",
        "outputId": "99af1f43-cefc-4a8f-eaab-68f4ffb81730"
      },
      "execution_count": 43,
      "outputs": [
        {
          "output_type": "execute_result",
          "data": {
            "text/plain": [
              "array([[ 3, -1,  4],\n",
              "       [17,  2,  1],\n",
              "       [ 1, 12, -7]])"
            ]
          },
          "metadata": {},
          "execution_count": 43
        }
      ]
    },
    {
      "cell_type": "code",
      "source": [
        "from scipy.linalg import lu"
      ],
      "metadata": {
        "id": "ChJehq2WmTIH"
      },
      "execution_count": 44,
      "outputs": []
    },
    {
      "cell_type": "code",
      "source": [
        "P, L, U = lu(A)\n",
        "\n",
        "print('Permutation Matrix:')\n",
        "print(P)\n",
        "print()\n",
        "\n",
        "print('L:')\n",
        "print(L)\n",
        "print()\n",
        "\n",
        "print('U:')\n",
        "print(U)\n",
        "print()"
      ],
      "metadata": {
        "colab": {
          "base_uri": "https://localhost:8080/"
        },
        "id": "3czTYPetoD44",
        "outputId": "d5c5419b-7645-436e-e81c-17d70c40ec55"
      },
      "execution_count": 45,
      "outputs": [
        {
          "output_type": "stream",
          "name": "stdout",
          "text": [
            "Permutation Matrix:\n",
            "[[0. 0. 1.]\n",
            " [1. 0. 0.]\n",
            " [0. 1. 0.]]\n",
            "\n",
            "L:\n",
            "[[ 1.          0.          0.        ]\n",
            " [ 0.05882353  1.          0.        ]\n",
            " [ 0.17647059 -0.11386139  1.        ]]\n",
            "\n",
            "U:\n",
            "[[17.          2.          1.        ]\n",
            " [ 0.         11.88235294 -7.05882353]\n",
            " [ 0.          0.          3.01980198]]\n",
            "\n"
          ]
        }
      ]
    },
    {
      "cell_type": "code",
      "source": [
        "L @ U"
      ],
      "metadata": {
        "colab": {
          "base_uri": "https://localhost:8080/"
        },
        "id": "zelkpg6robAm",
        "outputId": "d1a41538-6cb6-4899-a5bb-263456000c30"
      },
      "execution_count": 46,
      "outputs": [
        {
          "output_type": "execute_result",
          "data": {
            "text/plain": [
              "array([[17.,  2.,  1.],\n",
              "       [ 1., 12., -7.],\n",
              "       [ 3., -1.,  4.]])"
            ]
          },
          "metadata": {},
          "execution_count": 46
        }
      ]
    },
    {
      "cell_type": "code",
      "source": [
        "P @ L @ U"
      ],
      "metadata": {
        "colab": {
          "base_uri": "https://localhost:8080/"
        },
        "id": "3f4db3HVoTCU",
        "outputId": "6b3e5b5f-0886-4bd0-d166-a221ff797e73"
      },
      "execution_count": 47,
      "outputs": [
        {
          "output_type": "execute_result",
          "data": {
            "text/plain": [
              "array([[ 3., -1.,  4.],\n",
              "       [17.,  2.,  1.],\n",
              "       [ 1., 12., -7.]])"
            ]
          },
          "metadata": {},
          "execution_count": 47
        }
      ]
    },
    {
      "cell_type": "markdown",
      "source": [
        "---"
      ],
      "metadata": {
        "id": "kdUULaOWLtfQ"
      }
    },
    {
      "cell_type": "markdown",
      "source": [
        "11. Show that the dot product distributes across vector addition, that is, show that 𝑢⋅(𝑣+𝑤)=𝑢⋅𝑣+𝑢⋅𝑤."
      ],
      "metadata": {
        "id": "mfkjv372Luft"
      }
    },
    {
      "cell_type": "code",
      "source": [
        "np.random.seed(1)\n",
        "u = np.random.randint(10, size = (10,))\n",
        "v = np.random.randint(10, size = (10,))\n",
        "w = np.random.randint(10, size = (10,))\n",
        "\n",
        "print('u.(v+w)')\n",
        "print(u @ (v + w))\n",
        "print()\n",
        "\n",
        "print('u.v + u.w)')\n",
        "print(u @ v + u @ w)"
      ],
      "metadata": {
        "colab": {
          "base_uri": "https://localhost:8080/"
        },
        "id": "CcsgqFj2Lt_R",
        "outputId": "5df2ffdf-1817-41e1-82ee-00af5f1e7677"
      },
      "execution_count": 48,
      "outputs": [
        {
          "output_type": "stream",
          "name": "stdout",
          "text": [
            "u.(v+w)\n",
            "476\n",
            "\n",
            "u.v + u.w)\n",
            "476\n"
          ]
        }
      ]
    },
    {
      "cell_type": "markdown",
      "source": [
        "---"
      ],
      "metadata": {
        "id": "dsszB2fxNE6N"
      }
    },
    {
      "cell_type": "markdown",
      "source": [
        "12. Consider the following network consisting of two power supply stations denoted by 𝑆1\n",
        " and 𝑆2\n",
        " and five power recipient nodes denoted by 𝑁1\n",
        " to 𝑁5\n",
        ". The nodes are connected by power lines, which are denoted by arrows, and power can flow between nodes along these lines in both directions.\n",
        "\n",
        "Let 𝑑𝑖\n",
        " be a positive scalar denoting the power demands for node 𝑖\n",
        ", and assume that this demand must be met exactly. The capacity of the power supply stations is denoted by 𝑆\n",
        ". Power supply stations must run at their capacity. For each arrow, let 𝑓𝑗\n",
        " be the power flow along that arrow. Negative flow implies that power is running in the opposite direction of the arrow.\n",
        "\n",
        " ![Graph_problem12.png](data:image/png;base64,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)\n",
        "\n",
        " Write a function my_flow_calculator(S, d), where 𝑆\n",
        " is a 1×2\n",
        " vector representing the capacity of each power supply station, and 𝑑\n",
        " is a 1×5\n",
        " row vector representing the demands at each node (i.e., 𝑑[0]\n",
        " is the demand at node 1). The output argument, 𝑓\n",
        ", should be a 1×7\n",
        " row vector denoting the flows in the network (i.e., 𝑓[0]=𝑓1\n",
        " in the diagram). The flows contained in 𝑓\n",
        " should satisfy all constraints of the system, like power generation and demands. Note that there may be more than one solution to the system of equations.\n",
        "\n",
        "The total flow into a node must equal the total flow out of the node plus the demand; that is, for each node $𝑖,𝑓_{inflow}=𝑓_{outflow}+𝑑_𝑖$. You may assume that $Σ𝑆_𝑗=Σ𝑑_𝑖$\n",
        "."
      ],
      "metadata": {
        "id": "Y_AOR_O4NGKo"
      }
    },
    {
      "cell_type": "markdown",
      "source": [
        "__Solution approach:__\n",
        "\n",
        "There are 7 edges in total between each of the 7 nodes (stations or recipents)\n",
        "\n",
        "When it comes to flow between nodes, a flow could either be an inflow, outflow, or no connection.\n",
        "\n",
        "We can construct a matrix 7 by 7 denoting an adjacency matrix created for graphs where the entries can be the following:\n",
        "\n",
        "__0:__ no connection between the nodes\n",
        "\n",
        "__1:__ flow in to node i\n",
        "\n",
        "__-1:__ flow out of node i\n",
        "\n",
        "<pre>\n",
        "     f1    f2    f3    f4    f5    f6    f7  \n",
        "N1    0     0    -1     1     0    -1     0  \n",
        "\n",
        "N2    0     0     0     0     1     0    -1\n",
        "\n",
        "N3    0     1     0     0     0     0     0\n",
        "\n",
        "N4    1    -1     1     0     0     0     0\n",
        "\n",
        "N5    0     0     0     0     0     1     1\n",
        "\n",
        "S1    1     0     0     0     0     0     0\n",
        "\n",
        "S2    0     0     0     1     1     0     0\n",
        "</pre>\n",
        "\n",
        "__What each row represents:__\n",
        "\n",
        "rows represent the 5 nodes and 2 stations and columns are the flows. N1 has no connection to f1 and f2 in the question graph so we have 0's for those two columns. The only arrows connected to N1 are f3, f4, f6. So, all other columns are 0's. f3, f6 represent an outflow from N1 whereas f4 represents an inflow into N1 and thus columns for f3 and f6 have -1 and column for f4 has 1. Similarly we fill all rows till N5\n",
        "\n",
        "__note:__  for S1 and S2 the only question is whether there is a connection or not with a particular flow, which is a binary outcome. So, we only need to fill in 0 or 1. S1 is connected to f1 only and hence column f1 is a 1 and rest all 0's. Similarly, S2 is commected to f4 and f5 and hence those columns are 1 with rest all 0's.\n",
        "\n",
        "For the nodes, there were two questions, first whether there is a connection and if so which way (inflow or outflow) and hence we needed 0, 1, -1.\n",
        "\n",
        "<br><br>\n",
        "\n",
        "__Constrainsts:__ <br>\n",
        "we need to satisfy the constaraint where $f_{in} = f_{out} + d_i$\n",
        "\n",
        "This means that an inflow into a node must equal the outflow from the node plus the demand at the node.\n",
        "\n",
        "we have a matrix that records an inflow or outflow.\n",
        "\n",
        "So, the matrix of inflows and outflows times the value in the output must result in the demand or the capacity.\n",
        "\n",
        "Since, we have the flows for all the nodes in a matrix, we can also organize the demand (d) and capacity (s) from the stations in a single 7 dimensional vector and call it b.\n",
        "\n",
        "Now, the output of the function f multiplied by A should result in b.\n",
        "\n",
        "Thus, we solve for Af = b.\n",
        "\n",
        "f would contain the flows in such a way where the result is the total demand per node and the total capacity in each station. In other words, this will ensure we use up all of the available capacity from both the stations and meet the demands in each node by satisfying the inflow = outflow + demand criteria.\n",
        "\n",
        "------------------------------------------------------------------------\n",
        "\n",
        "However, if A is a singular matrix then we cannot solve this directly using system of equations as there can be infinitely many solutions.\n",
        "\n",
        "Per the textbook pg.247\n",
        "\n",
        "In Ax = b system of equations:\n",
        "\n",
        "if rank([A,b]) = rank(A) then b is linearly dependent on A and there is atleast one unique solution.\n",
        "\n",
        "However, if rank([A,b]) = rank(A) and rank(A) is < n, where n are the number of columns in A (singular matrix) then there are inifinitely many solutions to the problem (below is an example).\n",
        "\n",
        "if rank([A,b]) = rank(A) and rank(A) = n (full rank matrix) then there is one unique solution for x to the system of equations.\n",
        "\n",
        "However, if rank([A, b]) = rank(A) + 1 then b is linearly independent of A and there is no solution for x.\n"
      ],
      "metadata": {
        "id": "0_b_MdSPDzyD"
      }
    },
    {
      "cell_type": "markdown",
      "source": [
        "Why singular matrices can have inifinitely many solutions.\n",
        "\n",
        "<pre>\n",
        "\n",
        " a + 2b +   3c =  8\n",
        "3a + 3b + 4.5c = 15\n",
        "\n",
        "3R1 - 2R2\n",
        "\n",
        "3a + 6b +  9c = 24\n",
        "6a + 6b +  9c = 30\n",
        "-  -    -       -\n",
        "\n",
        "-3a = -6\n",
        "\n",
        "a = 2\n",
        "\n",
        "any b and c that satisfy this equation can be true. Thus there are infinitely many solutions.\n",
        "\n",
        "\n",
        "</pre>"
      ],
      "metadata": {
        "id": "tcJWXAIt9cD6"
      }
    },
    {
      "cell_type": "code",
      "source": [
        "# here is a matrix 3 by 3 that had unique solutions in an above problem. its rank is 3 (full rank)\n",
        "A = np.array([[3,-1,4],[17,2,1],[1,12,-7]])\n",
        "np.linalg.matrix_rank(A)"
      ],
      "metadata": {
        "colab": {
          "base_uri": "https://localhost:8080/"
        },
        "id": "9ArFDNJ77bBQ",
        "outputId": "7aa8998c-dd57-47a1-ce15-f71aa8885bb1"
      },
      "execution_count": 49,
      "outputs": [
        {
          "output_type": "execute_result",
          "data": {
            "text/plain": [
              "3"
            ]
          },
          "metadata": {},
          "execution_count": 49
        }
      ]
    },
    {
      "cell_type": "markdown",
      "source": [
        "Step by step solution:"
      ],
      "metadata": {
        "id": "nQ0BBKjCMOex"
      }
    },
    {
      "cell_type": "code",
      "source": [
        "# position vector\n",
        "A = [0, 0,-1, 1, 0,-1, 0,\n",
        "     0, 0, 0, 0, 1, 0, -1,\n",
        "     0, 1, 0, 0, 0, 0, 0,\n",
        "     1,-1, 1, 0, 0, 0, 0,\n",
        "     0, 0, 0, 0, 0, 1, 1,\n",
        "     1, 0, 0, 0, 0, 0, 0,\n",
        "     0, 0, 0, 1, 1, 0, 0]\n",
        "\n",
        "# Converting A into 7x7 numpy matrix\n",
        "A = np.array(A).reshape((7,7))\n",
        "A"
      ],
      "metadata": {
        "colab": {
          "base_uri": "https://localhost:8080/"
        },
        "id": "wfOHBNFHM1f5",
        "outputId": "dd742b2e-ead5-47cf-8657-f3dcd09097fe"
      },
      "execution_count": 50,
      "outputs": [
        {
          "output_type": "execute_result",
          "data": {
            "text/plain": [
              "array([[ 0,  0, -1,  1,  0, -1,  0],\n",
              "       [ 0,  0,  0,  0,  1,  0, -1],\n",
              "       [ 0,  1,  0,  0,  0,  0,  0],\n",
              "       [ 1, -1,  1,  0,  0,  0,  0],\n",
              "       [ 0,  0,  0,  0,  0,  1,  1],\n",
              "       [ 1,  0,  0,  0,  0,  0,  0],\n",
              "       [ 0,  0,  0,  1,  1,  0,  0]])"
            ]
          },
          "metadata": {},
          "execution_count": 50
        }
      ]
    },
    {
      "cell_type": "code",
      "source": [
        "s = np.array([[10, 10]])\n",
        "d = np.array([[3, 4, 5, 4, 4]])\n",
        "\n",
        "b = np.append(d, s)\n",
        "b"
      ],
      "metadata": {
        "colab": {
          "base_uri": "https://localhost:8080/"
        },
        "id": "u4Wpa7_GFGXa",
        "outputId": "f1f28afc-e88c-4264-8e96-cc2c9aae945b"
      },
      "execution_count": 51,
      "outputs": [
        {
          "output_type": "execute_result",
          "data": {
            "text/plain": [
              "array([ 3,  4,  5,  4,  4, 10, 10])"
            ]
          },
          "metadata": {},
          "execution_count": 51
        }
      ]
    },
    {
      "cell_type": "code",
      "source": [
        "b = b.reshape((len(b),1))\n",
        "print(b.shape)\n",
        "b"
      ],
      "metadata": {
        "colab": {
          "base_uri": "https://localhost:8080/"
        },
        "id": "eHiExhWw7KPJ",
        "outputId": "a4ebbf3b-26fa-4846-ee87-010ff30d204d"
      },
      "execution_count": 52,
      "outputs": [
        {
          "output_type": "stream",
          "name": "stdout",
          "text": [
            "(7, 1)\n"
          ]
        },
        {
          "output_type": "execute_result",
          "data": {
            "text/plain": [
              "array([[ 3],\n",
              "       [ 4],\n",
              "       [ 5],\n",
              "       [ 4],\n",
              "       [ 4],\n",
              "       [10],\n",
              "       [10]])"
            ]
          },
          "metadata": {},
          "execution_count": 52
        }
      ]
    },
    {
      "cell_type": "markdown",
      "source": [
        "can we solve for this?"
      ],
      "metadata": {
        "id": "CBIPmfilBzpi"
      }
    },
    {
      "cell_type": "code",
      "source": [
        "np.linalg.matrix_rank(A)"
      ],
      "metadata": {
        "colab": {
          "base_uri": "https://localhost:8080/"
        },
        "id": "RUxP4QNhB_HG",
        "outputId": "41750fdc-3904-4708-e395-07d4125f4dfb"
      },
      "execution_count": 53,
      "outputs": [
        {
          "output_type": "execute_result",
          "data": {
            "text/plain": [
              "6"
            ]
          },
          "metadata": {},
          "execution_count": 53
        }
      ]
    },
    {
      "cell_type": "markdown",
      "source": [
        "size of A is 7 by 7 and rank is 6. This indicates its a singular matrix."
      ],
      "metadata": {
        "id": "zOwpDAi0CE0P"
      }
    },
    {
      "cell_type": "code",
      "source": [
        "# will thrown an error as A is a singular matrix\n",
        "# np.linalg.solve(A, b)"
      ],
      "metadata": {
        "id": "DIhWAKuTB3QB"
      },
      "execution_count": 54,
      "outputs": []
    },
    {
      "cell_type": "markdown",
      "source": [
        "Is b linearly dependent on A?"
      ],
      "metadata": {
        "id": "LXsqtz_ICNFk"
      }
    },
    {
      "cell_type": "code",
      "source": [
        "np.linalg.matrix_rank(np.append(A, b, axis = 1))"
      ],
      "metadata": {
        "colab": {
          "base_uri": "https://localhost:8080/"
        },
        "id": "t99qh_1UCL_N",
        "outputId": "43e3e747-d73a-4415-a02b-53ccb4b278f9"
      },
      "execution_count": 55,
      "outputs": [
        {
          "output_type": "execute_result",
          "data": {
            "text/plain": [
              "6"
            ]
          },
          "metadata": {},
          "execution_count": 55
        }
      ]
    },
    {
      "cell_type": "markdown",
      "source": [
        "rank([A,b]) = rank(A) and thus b is linearly dependent on columns of A and thus there is atleast one solution to the problem. However, since rank(A) < n (A is singular) there are infinitely many solutions to the problem."
      ],
      "metadata": {
        "id": "dOv4n8NFDQBu"
      }
    },
    {
      "cell_type": "markdown",
      "source": [
        "One way to solve it is to isolate the x on one side of the equation.\n",
        "\n",
        "In simple algebra,\n",
        "\n",
        "ax = b  -->   x = a/b\n",
        "\n",
        "we can't divide matrices and so we can take a pseudoinverse (used for singular matrix.\n",
        "\n",
        "For Ax = b\n",
        "\n",
        "Left multiplying both sides by $A^{-1}$ we get:\n",
        "\n",
        "$A^{-1}Ax = A^{-1}b$ --> $x = A^{-1}b$\n",
        "\n"
      ],
      "metadata": {
        "id": "gJNen1lZDsDH"
      }
    },
    {
      "cell_type": "code",
      "source": [
        "x = np.linalg.pinv(A) @ b\n",
        "x"
      ],
      "metadata": {
        "colab": {
          "base_uri": "https://localhost:8080/"
        },
        "id": "25BEH2W7EbpW",
        "outputId": "fb0b36f7-0c31-4aaf-ac7b-a5557a020ccd"
      },
      "execution_count": 56,
      "outputs": [
        {
          "output_type": "execute_result",
          "data": {
            "text/plain": [
              "array([[10. ],\n",
              "       [ 5. ],\n",
              "       [-1. ],\n",
              "       [ 4.5],\n",
              "       [ 5.5],\n",
              "       [ 2.5],\n",
              "       [ 1.5]])"
            ]
          },
          "metadata": {},
          "execution_count": 56
        }
      ]
    },
    {
      "cell_type": "markdown",
      "source": [
        "Converting to a function"
      ],
      "metadata": {
        "id": "DrxNYrBSFwn4"
      }
    },
    {
      "cell_type": "code",
      "source": [
        "def my_flow_calculator(s, d):\n",
        "\n",
        "  # matrix containing relationship of flows with the nodes\n",
        "  A = [0, 0,-1, 1, 0,-1, 0,\n",
        "       0, 0, 0, 0, 1, 0, -1,\n",
        "       0, 1, 0, 0, 0, 0, 0,\n",
        "       1,-1, 1, 0, 0, 0, 0,\n",
        "       0, 0, 0, 0, 0, 1, 1,\n",
        "       1, 0, 0, 0, 0, 0, 0,\n",
        "       0, 0, 0, 1, 1, 0, 0]\n",
        "\n",
        "  # Converting A into 7x7 numpy matrix\n",
        "  A = np.array(A).reshape((7,7))\n",
        "\n",
        "  # solution vector: concatenate d and s\n",
        "  b = np.append(d, s)\n",
        "  b = b.reshape((len(b),1))\n",
        "\n",
        "  # solving for x\n",
        "\n",
        "  # checking if rank([A,b]) = rank(A): i.e. b is linearly dependent on columns of A\n",
        "  if np.linalg.matrix_rank(np.append(A, b, axis = 1)) == np.linalg.matrix_rank(A):\n",
        "\n",
        "    # check if A is singular\n",
        "    if np.linalg.matrix_rank(A) < A.shape[1]:\n",
        "        x = np.linalg.pinv(A) @ b\n",
        "\n",
        "    # if A is full rank then we can use solve to get x\n",
        "    elif np.linalg.matrix_rank(A) == A.shape[1]:\n",
        "        x = np.linalg.solve(A, b)\n",
        "\n",
        "  # checking if rank([A,b]) = rank(A) + 1. If so then b is independent of the columns of A and thus there is no soln.\n",
        "  elif np.linalg.matrix_rank(np.append(A, b, axis = 1)) == np.linalg.matrix_rank(A) + 1:\n",
        "     print('b is independent of the columns of A and thus there is no solution.')\n",
        "     x = []\n",
        "\n",
        "  return x"
      ],
      "metadata": {
        "id": "X1LeqCcJFyU3"
      },
      "execution_count": 57,
      "outputs": []
    },
    {
      "cell_type": "code",
      "source": [
        "## test cases\n",
        "\n",
        "s = np.array([[10, 10]])\n",
        "d = np.array([[4, 4, 4, 4, 4]])\n",
        "\n",
        "# f = [[10.0, 4.0, -2.0, 4.5, 5.5, 2.5, 1.5]]\n",
        "f = my_flow_calculator(s, d)\n",
        "f"
      ],
      "metadata": {
        "colab": {
          "base_uri": "https://localhost:8080/"
        },
        "id": "Eu4n5BHbLflg",
        "outputId": "5546fcc8-cb5b-4277-957a-7591812e5437"
      },
      "execution_count": 58,
      "outputs": [
        {
          "output_type": "execute_result",
          "data": {
            "text/plain": [
              "array([[10. ],\n",
              "       [ 4. ],\n",
              "       [-2. ],\n",
              "       [ 4.5],\n",
              "       [ 5.5],\n",
              "       [ 2.5],\n",
              "       [ 1.5]])"
            ]
          },
          "metadata": {},
          "execution_count": 58
        }
      ]
    },
    {
      "cell_type": "code",
      "source": [
        "s = np.array([[10, 10]])\n",
        "d = np.array([[3, 4, 5, 4, 4]])\n",
        "\n",
        "# f = [[10.0, 5.0, -1.0, 4.5, 5.5, 2.5, 1.5]]\n",
        "f = my_flow_calculator(s, d)\n",
        "f"
      ],
      "metadata": {
        "colab": {
          "base_uri": "https://localhost:8080/"
        },
        "id": "_zApZV4JLmsO",
        "outputId": "f2394ea9-672c-4b10-c5f1-f24583cdd82f"
      },
      "execution_count": 59,
      "outputs": [
        {
          "output_type": "execute_result",
          "data": {
            "text/plain": [
              "array([[10. ],\n",
              "       [ 5. ],\n",
              "       [-1. ],\n",
              "       [ 4.5],\n",
              "       [ 5.5],\n",
              "       [ 2.5],\n",
              "       [ 1.5]])"
            ]
          },
          "metadata": {},
          "execution_count": 59
        }
      ]
    }
  ]
}