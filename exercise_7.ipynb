{
  "nbformat": 4,
  "nbformat_minor": 0,
  "metadata": {
    "colab": {
      "provenance": []
    },
    "kernelspec": {
      "name": "python3",
      "display_name": "Python 3"
    },
    "language_info": {
      "name": "python"
    }
  },
  "cells": [
    {
      "cell_type": "markdown",
      "source": [
        "These are the exercise problems from the book Python programming and Numerical methods book:\n",
        "\n",
        "https://pythonnumericalmethods.berkeley.edu/notebooks/Index.html\n",
        "\n",
        "# Chapter 7: Object-Oriented Programming\n",
        "\n",
        "https://pythonnumericalmethods.berkeley.edu/notebooks/chapter07.04-Summary-and-Problems.html#problems\n",
        "\n",
        "Only those problems that need to be solved in a notebook environment"
      ],
      "metadata": {
        "id": "45KY29AMuVCV"
      }
    },
    {
      "cell_type": "markdown",
      "source": [
        "1. Describe what are the differences of classes versus objects."
      ],
      "metadata": {
        "id": "sBkeKFHkuz6x"
      }
    },
    {
      "cell_type": "code",
      "execution_count": null,
      "metadata": {
        "id": "Ggsd4_anuJTi"
      },
      "outputs": [],
      "source": [
        "class Employee:\n",
        "  pass\n",
        "\n",
        "emp = Employee()"
      ]
    },
    {
      "cell_type": "markdown",
      "source": [
        "Here, Employee is the class and emp is the object, which is an instance of the class. The same class can be used to create multiple such objects. So, think of class as a blue print that can be used to create multiple similar objects."
      ],
      "metadata": {
        "id": "7vKVvrB2vu0l"
      }
    },
    {
      "cell_type": "code",
      "source": [
        "emp1 = Employee()\n",
        "emp2 = Employee()"
      ],
      "metadata": {
        "id": "xFc0g6iQvnaH"
      },
      "execution_count": null,
      "outputs": []
    },
    {
      "cell_type": "markdown",
      "source": [
        "---"
      ],
      "metadata": {
        "id": "2eF1Gl0IaD7n"
      }
    },
    {
      "cell_type": "markdown",
      "source": [
        "2. Describe why we use self as the first argument in the methods.\n",
        "\n",
        "Passing self as the first argument gives each method access to the class. This allows us to all class attributes and objects created previously. \n"
      ],
      "metadata": {
        "id": "vtPqQDnswFhM"
      }
    },
    {
      "cell_type": "code",
      "source": [
        "class Introduction:\n",
        "\n",
        "  def __init__(self, name, lastname, age):\n",
        "    self.name = name\n",
        "    self.lastname = lastname\n",
        "    self.age = age\n",
        "\n",
        "  def wish(self):\n",
        "    print(f'My name is {self.name} {self.lastname} and my age is {self.age}. How are you doing?')"
      ],
      "metadata": {
        "id": "bdBxRKdXwEKN"
      },
      "execution_count": null,
      "outputs": []
    },
    {
      "cell_type": "code",
      "source": [
        "intro = Introduction('Neeraj', 'Bhatt', 32)\n",
        "intro.wish()"
      ],
      "metadata": {
        "colab": {
          "base_uri": "https://localhost:8080/"
        },
        "id": "Hvauf1bnymOP",
        "outputId": "18e2cdc0-c037-4d3b-e4c3-3742ee35e1f4"
      },
      "execution_count": null,
      "outputs": [
        {
          "output_type": "stream",
          "name": "stdout",
          "text": [
            "My name is Neeraj Bhatt and my age is 32. How are you doing?\n"
          ]
        }
      ]
    },
    {
      "cell_type": "markdown",
      "source": [
        "Here, object intro was initialized using arguments Neeraj, Bhatt, 32. By using self as the first argument, method wish already had access to attributes Neeraj, Bhatt, 32 that were defined while creating object intro."
      ],
      "metadata": {
        "id": "achGRH14ysoi"
      }
    },
    {
      "cell_type": "code",
      "source": [
        "# what happens in the background\n",
        "Introduction.wish(intro)"
      ],
      "metadata": {
        "colab": {
          "base_uri": "https://localhost:8080/"
        },
        "id": "ihgHPo2ryrfz",
        "outputId": "54ccd7cb-2759-4e77-d603-22f666d00531"
      },
      "execution_count": null,
      "outputs": [
        {
          "output_type": "stream",
          "name": "stdout",
          "text": [
            "My name is Neeraj Bhatt and my age is 32. How are you doing?\n"
          ]
        }
      ]
    },
    {
      "cell_type": "markdown",
      "source": [
        "What happens if we don't use self?"
      ],
      "metadata": {
        "id": "bUxN2JE3zuro"
      }
    },
    {
      "cell_type": "code",
      "source": [
        "class Introduction:\n",
        "\n",
        "  def __init__(self, name, lastname, age):\n",
        "    self.name = name\n",
        "    self.lastname = lastname\n",
        "    self.age = age\n",
        "\n",
        "  def wish():\n",
        "    print('Nothing')"
      ],
      "metadata": {
        "id": "dU5PVlsIzxHK"
      },
      "execution_count": null,
      "outputs": []
    },
    {
      "cell_type": "code",
      "source": [
        "intro = Introduction('Neeraj', 'Bhatt', 32)\n",
        "intro.wish()"
      ],
      "metadata": {
        "colab": {
          "base_uri": "https://localhost:8080/",
          "height": 183
        },
        "id": "UvkVmgOR1rfk",
        "outputId": "949fd902-7bac-490b-844b-979406673c19"
      },
      "execution_count": null,
      "outputs": [
        {
          "output_type": "error",
          "ename": "TypeError",
          "evalue": "ignored",
          "traceback": [
            "\u001b[0;31m---------------------------------------------------------------------------\u001b[0m",
            "\u001b[0;31mTypeError\u001b[0m                                 Traceback (most recent call last)",
            "\u001b[0;32m<ipython-input-7-f197248b699d>\u001b[0m in \u001b[0;36m<cell line: 2>\u001b[0;34m()\u001b[0m\n\u001b[1;32m      1\u001b[0m \u001b[0mintro\u001b[0m \u001b[0;34m=\u001b[0m \u001b[0mIntroduction\u001b[0m\u001b[0;34m(\u001b[0m\u001b[0;34m'Neeraj'\u001b[0m\u001b[0;34m,\u001b[0m \u001b[0;34m'Bhatt'\u001b[0m\u001b[0;34m,\u001b[0m \u001b[0;36m32\u001b[0m\u001b[0;34m)\u001b[0m\u001b[0;34m\u001b[0m\u001b[0;34m\u001b[0m\u001b[0m\n\u001b[0;32m----> 2\u001b[0;31m \u001b[0mintro\u001b[0m\u001b[0;34m.\u001b[0m\u001b[0mwish\u001b[0m\u001b[0;34m(\u001b[0m\u001b[0;34m)\u001b[0m\u001b[0;34m\u001b[0m\u001b[0;34m\u001b[0m\u001b[0m\n\u001b[0m",
            "\u001b[0;31mTypeError\u001b[0m: wish() takes 0 positional arguments but 1 was given"
          ]
        }
      ]
    },
    {
      "cell_type": "markdown",
      "source": [
        "By default each method of a class expects the self as the first argument to have access to instance attributes created using the class."
      ],
      "metadata": {
        "id": "2CM-arkC13qI"
      }
    },
    {
      "cell_type": "markdown",
      "source": [
        "3. What is a constructor? And why do we use it?\n",
        "\n",
        "In the above example def __init__ is the class constructor. This is what initializes the class instance or object. If we don't use it then we would manually have to enter arguments for each method that wishes to use the particular class attributes.\n",
        "\n",
        "Let's look at an example."
      ],
      "metadata": {
        "id": "cbjUyrCK2K2W"
      }
    },
    {
      "cell_type": "markdown",
      "source": [
        "---"
      ],
      "metadata": {
        "id": "MNM5WpISZ-_K"
      }
    },
    {
      "cell_type": "code",
      "source": [
        "# example without init\n",
        "class Introduction:\n",
        "\n",
        "  def set_name(self, name, lastname):\n",
        "    self.name = name\n",
        "    self.lastname = lastname\n",
        "\n",
        "  def set_age(self, age):\n",
        "    self.age = age\n",
        "\n",
        "  def wish(self):\n",
        "    print(f'My name is {self.name} {self.lastname} and my age is {self.age}. How are you doing?')"
      ],
      "metadata": {
        "id": "O2JVNH-K1yXC"
      },
      "execution_count": null,
      "outputs": []
    },
    {
      "cell_type": "code",
      "source": [
        "intro = Introduction()"
      ],
      "metadata": {
        "id": "RoV78GSe4HeE"
      },
      "execution_count": null,
      "outputs": []
    },
    {
      "cell_type": "code",
      "source": [
        "intro.wish()"
      ],
      "metadata": {
        "colab": {
          "base_uri": "https://localhost:8080/",
          "height": 253
        },
        "id": "N5nKYUNN5FBy",
        "outputId": "cea90d17-075c-464c-991e-7b36afc4f89e"
      },
      "execution_count": null,
      "outputs": [
        {
          "output_type": "error",
          "ename": "AttributeError",
          "evalue": "ignored",
          "traceback": [
            "\u001b[0;31m---------------------------------------------------------------------------\u001b[0m",
            "\u001b[0;31mAttributeError\u001b[0m                            Traceback (most recent call last)",
            "\u001b[0;32m<ipython-input-10-a845e10a421b>\u001b[0m in \u001b[0;36m<cell line: 1>\u001b[0;34m()\u001b[0m\n\u001b[0;32m----> 1\u001b[0;31m \u001b[0mintro\u001b[0m\u001b[0;34m.\u001b[0m\u001b[0mwish\u001b[0m\u001b[0;34m(\u001b[0m\u001b[0;34m)\u001b[0m\u001b[0;34m\u001b[0m\u001b[0;34m\u001b[0m\u001b[0m\n\u001b[0m",
            "\u001b[0;32m<ipython-input-8-34608b8f94ed>\u001b[0m in \u001b[0;36mwish\u001b[0;34m(self)\u001b[0m\n\u001b[1;32m     10\u001b[0m \u001b[0;34m\u001b[0m\u001b[0m\n\u001b[1;32m     11\u001b[0m   \u001b[0;32mdef\u001b[0m \u001b[0mwish\u001b[0m\u001b[0;34m(\u001b[0m\u001b[0mself\u001b[0m\u001b[0;34m)\u001b[0m\u001b[0;34m:\u001b[0m\u001b[0;34m\u001b[0m\u001b[0;34m\u001b[0m\u001b[0m\n\u001b[0;32m---> 12\u001b[0;31m     \u001b[0mprint\u001b[0m\u001b[0;34m(\u001b[0m\u001b[0;34mf'My name is {self.name} {self.lastname} and my age is {self.age}. How are you doing?'\u001b[0m\u001b[0;34m)\u001b[0m\u001b[0;34m\u001b[0m\u001b[0;34m\u001b[0m\u001b[0m\n\u001b[0m",
            "\u001b[0;31mAttributeError\u001b[0m: 'Introduction' object has no attribute 'name'"
          ]
        }
      ]
    },
    {
      "cell_type": "code",
      "source": [
        "intro.set_name('Neeraj', 'Bhatt')\n",
        "intro.wish()"
      ],
      "metadata": {
        "colab": {
          "base_uri": "https://localhost:8080/",
          "height": 270
        },
        "id": "5uarn6S_5IKw",
        "outputId": "20e1054e-bb19-43a9-a301-c558f8a64aa8"
      },
      "execution_count": null,
      "outputs": [
        {
          "output_type": "error",
          "ename": "AttributeError",
          "evalue": "ignored",
          "traceback": [
            "\u001b[0;31m---------------------------------------------------------------------------\u001b[0m",
            "\u001b[0;31mAttributeError\u001b[0m                            Traceback (most recent call last)",
            "\u001b[0;32m<ipython-input-11-2ef4b12de1fd>\u001b[0m in \u001b[0;36m<cell line: 2>\u001b[0;34m()\u001b[0m\n\u001b[1;32m      1\u001b[0m \u001b[0mintro\u001b[0m\u001b[0;34m.\u001b[0m\u001b[0mset_name\u001b[0m\u001b[0;34m(\u001b[0m\u001b[0;34m'Neeraj'\u001b[0m\u001b[0;34m,\u001b[0m \u001b[0;34m'Bhatt'\u001b[0m\u001b[0;34m)\u001b[0m\u001b[0;34m\u001b[0m\u001b[0;34m\u001b[0m\u001b[0m\n\u001b[0;32m----> 2\u001b[0;31m \u001b[0mintro\u001b[0m\u001b[0;34m.\u001b[0m\u001b[0mwish\u001b[0m\u001b[0;34m(\u001b[0m\u001b[0;34m)\u001b[0m\u001b[0;34m\u001b[0m\u001b[0;34m\u001b[0m\u001b[0m\n\u001b[0m",
            "\u001b[0;32m<ipython-input-8-34608b8f94ed>\u001b[0m in \u001b[0;36mwish\u001b[0;34m(self)\u001b[0m\n\u001b[1;32m     10\u001b[0m \u001b[0;34m\u001b[0m\u001b[0m\n\u001b[1;32m     11\u001b[0m   \u001b[0;32mdef\u001b[0m \u001b[0mwish\u001b[0m\u001b[0;34m(\u001b[0m\u001b[0mself\u001b[0m\u001b[0;34m)\u001b[0m\u001b[0;34m:\u001b[0m\u001b[0;34m\u001b[0m\u001b[0;34m\u001b[0m\u001b[0m\n\u001b[0;32m---> 12\u001b[0;31m     \u001b[0mprint\u001b[0m\u001b[0;34m(\u001b[0m\u001b[0;34mf'My name is {self.name} {self.lastname} and my age is {self.age}. How are you doing?'\u001b[0m\u001b[0;34m)\u001b[0m\u001b[0;34m\u001b[0m\u001b[0;34m\u001b[0m\u001b[0m\n\u001b[0m",
            "\u001b[0;31mAttributeError\u001b[0m: 'Introduction' object has no attribute 'age'"
          ]
        }
      ]
    },
    {
      "cell_type": "code",
      "source": [
        "intro.set_age(32)\n",
        "intro.wish()"
      ],
      "metadata": {
        "colab": {
          "base_uri": "https://localhost:8080/"
        },
        "id": "h1syffyU5L5T",
        "outputId": "2a5eef95-7566-4c22-8603-567095ebbfd2"
      },
      "execution_count": null,
      "outputs": [
        {
          "output_type": "stream",
          "name": "stdout",
          "text": [
            "My name is Neeraj Bhatt and my age is 32. How are you doing?\n"
          ]
        }
      ]
    },
    {
      "cell_type": "markdown",
      "source": [
        "Here, we had to manually pass the arguments to each method and run all of the methods to use method wish that needed access to name, lastname, and age to print out the greeting message. Thus, to make the process more efficient a constructor allows us to define all attributes while initializing the object so that each subsequent methods will have access to them."
      ],
      "metadata": {
        "id": "uS9SYqrT4cmJ"
      }
    },
    {
      "cell_type": "markdown",
      "source": [
        "---"
      ],
      "metadata": {
        "id": "NTFRtatiZ9MQ"
      }
    },
    {
      "cell_type": "markdown",
      "source": [
        "4. Describe the differences between class and instance attributes.\n",
        "\n",
        "class attributes are available to all objects created using the class whereas instance attributes are restricted to specific objects."
      ],
      "metadata": {
        "id": "AIeUbrui6HGT"
      }
    },
    {
      "cell_type": "code",
      "source": [
        "# example class car. Each car has a single wheel and 4 tires regardless of make, model, and year \n",
        "class Car:\n",
        "    \n",
        "    n_wheels = 1\n",
        "    n_tires = 4\n",
        "    \n",
        "    def __init__(self, make, model, year):\n",
        "        self.make = make\n",
        "        self.model = model\n",
        "        self.year = year"
      ],
      "metadata": {
        "id": "KZS9WFgh4THb"
      },
      "execution_count": null,
      "outputs": []
    },
    {
      "cell_type": "code",
      "source": [
        "nissan = Car('Nissan', 'Altima', 2021)\n",
        "print(nissan.make)\n",
        "print(nissan.model)\n",
        "print(nissan.year)\n",
        "print(nissan.n_wheels)\n",
        "print(nissan.n_tires)"
      ],
      "metadata": {
        "colab": {
          "base_uri": "https://localhost:8080/"
        },
        "id": "_BEnHxod4IgI",
        "outputId": "830df1d6-eeeb-4160-a529-ae62d07f6084"
      },
      "execution_count": null,
      "outputs": [
        {
          "output_type": "stream",
          "name": "stdout",
          "text": [
            "Nissan\n",
            "Altima\n",
            "2021\n",
            "1\n",
            "4\n"
          ]
        }
      ]
    },
    {
      "cell_type": "code",
      "source": [
        "camry = Car('Toyota', 'Camry', 2011)\n",
        "print(camry.make)\n",
        "print(camry.model)\n",
        "print(camry.year)\n",
        "print(camry.n_wheels)\n",
        "print(camry.n_tires)"
      ],
      "metadata": {
        "colab": {
          "base_uri": "https://localhost:8080/"
        },
        "id": "Pvan7yfP4LC2",
        "outputId": "05961396-30f9-4d4f-acb9-688a7c510f4b"
      },
      "execution_count": null,
      "outputs": [
        {
          "output_type": "stream",
          "name": "stdout",
          "text": [
            "Toyota\n",
            "Camry\n",
            "2011\n",
            "1\n",
            "4\n"
          ]
        }
      ]
    },
    {
      "cell_type": "markdown",
      "source": [
        "Here, make, model, and year are all instance attributes as they are specific to a car object. n_wheels and n_tires are class attributes as they are constant regardless of object."
      ],
      "metadata": {
        "id": "MwCokGd64Ow1"
      }
    },
    {
      "cell_type": "markdown",
      "source": [
        "---"
      ],
      "metadata": {
        "id": "1doH2vyEZ74v"
      }
    },
    {
      "cell_type": "markdown",
      "source": [
        "5. The following is a definition of the class Point that takes in the coordinate x, y. Add a method plot_point that plot the position of point."
      ],
      "metadata": {
        "id": "MwO0JSy64nrz"
      }
    },
    {
      "cell_type": "code",
      "source": [
        "import matplotlib.pyplot as plt\n",
        "\n",
        "class Point():\n",
        "   def __init__(self, x, y):\n",
        "       self.x = x\n",
        "       self.y = y\n",
        "\n",
        "   def plot_point(self):\n",
        "     plt.plot([self.x], [self.y], 'o')\n",
        "     plt.show()"
      ],
      "metadata": {
        "id": "7AqLRPgU4N4m"
      },
      "execution_count": null,
      "outputs": []
    },
    {
      "cell_type": "code",
      "source": [
        "pt = Point(3,4)\n",
        "pt.plot_point()"
      ],
      "metadata": {
        "colab": {
          "base_uri": "https://localhost:8080/",
          "height": 430
        },
        "id": "I40grkz642sF",
        "outputId": "5e29d6e6-7365-4cbb-9c57-15a5dec632a0"
      },
      "execution_count": null,
      "outputs": [
        {
          "output_type": "display_data",
          "data": {
            "text/plain": [
              "<Figure size 640x480 with 1 Axes>"
            ],
            "image/png": "[encoded data removed]"
          },
          "metadata": {}
        }
      ]
    },
    {
      "cell_type": "markdown",
      "source": [
        "---"
      ],
      "metadata": {
        "id": "ljYvxI7SZ6F9"
      }
    },
    {
      "cell_type": "markdown",
      "source": [
        "6. Use the class from problem 5, add a method calculate_dist which takes in x and y from another point, and returns the distance calculated between the two points."
      ],
      "metadata": {
        "id": "eim0CtQd7baY"
      }
    },
    {
      "cell_type": "code",
      "source": [
        "import numpy as np\n",
        "\n",
        "class Point():\n",
        "   def __init__(self, x, y):\n",
        "       self.x = x\n",
        "       self.y = y\n",
        "\n",
        "   def plot_point(self):\n",
        "     plt.plot([self.x], [self.y], 'o')\n",
        "     plt.show()\n",
        "\n",
        "   def calculate_dist(self, x, y):\n",
        "     return np.math.sqrt( (self.x - x)**2 + (self.y - y)**2 )"
      ],
      "metadata": {
        "id": "aQxmm8ke5HyO"
      },
      "execution_count": null,
      "outputs": []
    },
    {
      "cell_type": "code",
      "source": [
        "pt1 = Point(3,4)\n",
        "\n",
        "pt1.calculate_dist(1,2)"
      ],
      "metadata": {
        "colab": {
          "base_uri": "https://localhost:8080/"
        },
        "id": "GbXHcKCz7EUl",
        "outputId": "f4767dd7-5baa-4537-f1d4-c3fde0eaefb3"
      },
      "execution_count": null,
      "outputs": [
        {
          "output_type": "execute_result",
          "data": {
            "text/plain": [
              "2.8284271247461903"
            ]
          },
          "metadata": {},
          "execution_count": 22
        }
      ]
    },
    {
      "cell_type": "code",
      "source": [
        "np.linalg.norm([3-1, 4-2])"
      ],
      "metadata": {
        "colab": {
          "base_uri": "https://localhost:8080/"
        },
        "id": "-SNWz5sJ7_6W",
        "outputId": "a7140dc7-d0c4-48cc-bc31-f5ddd1ea5ec5"
      },
      "execution_count": null,
      "outputs": [
        {
          "output_type": "execute_result",
          "data": {
            "text/plain": [
              "2.8284271247461903"
            ]
          },
          "metadata": {},
          "execution_count": 23
        }
      ]
    },
    {
      "cell_type": "markdown",
      "source": [
        "---"
      ],
      "metadata": {
        "id": "gUkSTw_HZ29g"
      }
    },
    {
      "cell_type": "markdown",
      "source": [
        "7. What’s inheritance?\n",
        "\n",
        "Inheritance refers to the process of creating a child class that has all of the functionalities and attributes of the parent class."
      ],
      "metadata": {
        "id": "uP_u--8J6xfj"
      }
    },
    {
      "cell_type": "code",
      "source": [
        "class Car:\n",
        "    \n",
        "    n_wheels = 1\n",
        "    n_tires = 4\n",
        "    \n",
        "    def __init__(self, make, model, year):\n",
        "        self.make = make\n",
        "        self.model = model\n",
        "        self.year = year\n",
        "\n",
        "# child class sedan inheriting from parent class Car.\n",
        "class Sedan(Car):\n",
        "   pass"
      ],
      "metadata": {
        "id": "uCvIOdWP6yyX"
      },
      "execution_count": null,
      "outputs": []
    },
    {
      "cell_type": "code",
      "source": [
        "nissan = Sedan('Nissan', 'Altima', 2021)\n",
        "print(nissan.make)\n",
        "print(nissan.model)\n",
        "print(nissan.year)\n",
        "print(nissan.n_wheels)\n",
        "print(nissan.n_tires)"
      ],
      "metadata": {
        "colab": {
          "base_uri": "https://localhost:8080/"
        },
        "id": "tiTQsKQu9dz9",
        "outputId": "825b1efc-4fd9-4101-f5f4-e97e9ca31238"
      },
      "execution_count": null,
      "outputs": [
        {
          "output_type": "stream",
          "name": "stdout",
          "text": [
            "Nissan\n",
            "Altima\n",
            "2021\n",
            "1\n",
            "4\n"
          ]
        }
      ]
    },
    {
      "cell_type": "markdown",
      "source": [
        "---"
      ],
      "metadata": {
        "id": "p6A039TjZ1o6"
      }
    },
    {
      "cell_type": "markdown",
      "source": [
        "8. How do we inherit from a superclass and add new methods?\n",
        "\n",
        "when a child class inherits from the parent class, it has access to all of its methods and attributes without doing anything. we can add methods to the child class just like we did in the parent class and the child class would contain these methods along with all of the methods and attributes of the parent class. "
      ],
      "metadata": {
        "id": "h28JTt429oQ7"
      }
    },
    {
      "cell_type": "code",
      "source": [
        "class Sedan(Car):\n",
        "  \n",
        "   n_wheels = 4\n",
        "   n_doors = 4\n",
        "\n",
        "   def get_features(self):\n",
        "     print(f'{self.make} {self.model} is a sedan with {self.n_wheels} wheels, {self.n_doors} doors with a low ground clearance')"
      ],
      "metadata": {
        "id": "wlmcFKeE9lC-"
      },
      "execution_count": null,
      "outputs": []
    },
    {
      "cell_type": "code",
      "source": [
        "nissan = Sedan('Nissan', 'Altima', 2021)\n",
        "print(nissan.make)\n",
        "print(nissan.model)\n",
        "print(nissan.year)\n",
        "print(nissan.n_wheels)\n",
        "print(nissan.n_tires)\n",
        "\n",
        "nissan.get_features()"
      ],
      "metadata": {
        "colab": {
          "base_uri": "https://localhost:8080/"
        },
        "id": "6YIQaYHdA-Bi",
        "outputId": "5ce0528c-0413-413e-e511-9870a49cee83"
      },
      "execution_count": null,
      "outputs": [
        {
          "output_type": "stream",
          "name": "stdout",
          "text": [
            "Nissan\n",
            "Altima\n",
            "2021\n",
            "4\n",
            "4\n",
            "Nissan Altima is a sedan with 4 wheels, 4 doors with a low ground clearance\n"
          ]
        }
      ]
    },
    {
      "cell_type": "markdown",
      "source": [
        "---"
      ],
      "metadata": {
        "id": "pmHRFKEYZ0X9"
      }
    },
    {
      "cell_type": "markdown",
      "source": [
        "9. When we inherit from a superclass, we need to replace a method with a new one, how do we do that?\n",
        "\n",
        "we simply overwrite the method of the parent class by redefining it in the childclass."
      ],
      "metadata": {
        "id": "HISFBjocBtUn"
      }
    },
    {
      "cell_type": "code",
      "source": [
        "class Car:\n",
        "    \n",
        "    n_wheels = 1\n",
        "    n_tires = 4\n",
        "    \n",
        "    def __init__(self, make, model, year):\n",
        "        self.make = make\n",
        "        self.model = model\n",
        "        self.year = year\n",
        "\n",
        "    def get_features(self):\n",
        "     print(f'A car generally has {self.n_wheels} wheel, {self.n_tires} tires with a low or high ground clearance depending on whether its a sedan or SUV')\n",
        "\n",
        "class Sedan(Car):\n",
        "  \n",
        "   n_wheels = 4\n",
        "   n_doors = 4\n",
        "\n",
        "   def __init__(self, make, model, year):\n",
        "     self.make = make\n",
        "     self.model = model\n",
        "     self.year = year\n",
        "\n",
        "   def get_features(self):\n",
        "     print(f'{self.make} {self.model} is a sedan with {self.n_wheels} wheels, {self.n_doors} doors with a low ground clearance')"
      ],
      "metadata": {
        "id": "HIzS7T7-BDUe"
      },
      "execution_count": 1,
      "outputs": []
    },
    {
      "cell_type": "code",
      "source": [
        "car = Car('Nissan', 'Altima', 2021)\n",
        "print(car.make)\n",
        "print(car.model)\n",
        "print(car.year)\n",
        "print(car.n_wheels)\n",
        "print(car.n_tires)\n",
        "\n",
        "car.get_features()"
      ],
      "metadata": {
        "colab": {
          "base_uri": "https://localhost:8080/"
        },
        "id": "Sq_18dGuEa21",
        "outputId": "22ef0e1d-56b4-41e7-8438-9832d2e4993f"
      },
      "execution_count": 2,
      "outputs": [
        {
          "output_type": "stream",
          "name": "stdout",
          "text": [
            "Nissan\n",
            "Altima\n",
            "2021\n",
            "1\n",
            "4\n",
            "A car generally has 1 wheel, 4 tires with a low or high ground clearance depending on whether its a sedan or SUV\n"
          ]
        }
      ]
    },
    {
      "cell_type": "code",
      "source": [
        "nissan = Sedan('Nissan', 'Altima', 2021)\n",
        "print(nissan.make)\n",
        "print(nissan.model)\n",
        "print(nissan.year)\n",
        "print(nissan.n_wheels)\n",
        "print(nissan.n_tires)\n",
        "\n",
        "nissan.get_features()"
      ],
      "metadata": {
        "colab": {
          "base_uri": "https://localhost:8080/"
        },
        "id": "BrMNDwFNDm8u",
        "outputId": "d8eb9be9-b80c-41b1-e417-2dcaeb0b49d2"
      },
      "execution_count": 3,
      "outputs": [
        {
          "output_type": "stream",
          "name": "stdout",
          "text": [
            "Nissan\n",
            "Altima\n",
            "2021\n",
            "4\n",
            "4\n",
            "Nissan Altima is a sedan with 4 wheels, 4 doors with a low ground clearance\n"
          ]
        }
      ]
    },
    {
      "cell_type": "markdown",
      "source": [
        "Here, we successfully modified the get_features method of the parent class Car inside the child class Sedan."
      ],
      "metadata": {
        "id": "CvdRWlW9Eq4Z"
      }
    },
    {
      "cell_type": "markdown",
      "source": [
        "---"
      ],
      "metadata": {
        "id": "EfY3tUSlZy0l"
      }
    },
    {
      "cell_type": "markdown",
      "source": [
        "10. What’s the super method? Why do we need it?\n",
        "\n",
        "Previously, we initialized all variables in the child class that were also part of the parent class manually. However, if we use super().__init__(), we can initialize all variables at once."
      ],
      "metadata": {
        "id": "uDjTJ83TFASh"
      }
    },
    {
      "cell_type": "code",
      "source": [
        "class Car:\n",
        "    \n",
        "    n_wheels = 1\n",
        "    n_tires = 4\n",
        "    \n",
        "    def __init__(self, make, model, year):\n",
        "        self.make = make\n",
        "        self.model = model\n",
        "        self.year = year\n",
        "\n",
        "    def get_features(self):\n",
        "     print(f'A car generally has {self.n_wheels} wheel, {self.n_tires} tires with a low or high ground clearance depending on whether its a sedan or SUV')\n",
        "\n",
        "class Sedan(Car):\n",
        "  \n",
        "   n_wheels = 4\n",
        "   n_doors = 4\n",
        "\n",
        "   def __init__(self, make, model, year):\n",
        "     super().__init__(make, model, year) # initializing all attributes from the parent constructor using super\n",
        "\n",
        "   def get_features(self):\n",
        "     print(f'{self.make} {self.model} is a sedan with {self.n_wheels} wheels, {self.n_doors} doors with a low ground clearance')"
      ],
      "metadata": {
        "id": "138Vs0m81BQM"
      },
      "execution_count": 4,
      "outputs": []
    },
    {
      "cell_type": "code",
      "source": [
        "nissan = Sedan('Nissan', 'Altima', 2021)\n",
        "print(nissan.make)\n",
        "print(nissan.model)\n",
        "print(nissan.year)\n",
        "print(nissan.n_wheels)\n",
        "print(nissan.n_tires)\n",
        "\n",
        "nissan.get_features()"
      ],
      "metadata": {
        "colab": {
          "base_uri": "https://localhost:8080/"
        },
        "id": "zKhBwyuy2HOv",
        "outputId": "22755e31-c54f-4358-ca96-153aad445128"
      },
      "execution_count": 5,
      "outputs": [
        {
          "output_type": "stream",
          "name": "stdout",
          "text": [
            "Nissan\n",
            "Altima\n",
            "2021\n",
            "4\n",
            "4\n",
            "Nissan Altima is a sedan with 4 wheels, 4 doors with a low ground clearance\n"
          ]
        }
      ]
    },
    {
      "cell_type": "markdown",
      "source": [
        "Note: we could have directly used the parent constructor to initialize all of the parent attributes at once."
      ],
      "metadata": {
        "id": "KPaCZeUw2Hv0"
      }
    },
    {
      "cell_type": "code",
      "source": [
        "class Car:\n",
        "    \n",
        "    n_wheels = 1\n",
        "    n_tires = 4\n",
        "    \n",
        "    def __init__(self, make, model, year):\n",
        "        self.make = make\n",
        "        self.model = model\n",
        "        self.year = year\n",
        "\n",
        "    def get_features(self):\n",
        "     print(f'A car generally has {self.n_wheels} wheel, {self.n_tires} tires with a low or high ground clearance depending on whether its a sedan or SUV')\n",
        "\n",
        "class Sedan(Car):\n",
        "  \n",
        "   n_wheels = 4\n",
        "   n_doors = 4\n",
        "\n",
        "   def __init__(self, make, model, year):\n",
        "     Car.__init__(self, make, model, year) # initializing all attributes using the parent constructor \n",
        "\n",
        "   def get_features(self):\n",
        "     print(f'{self.make} {self.model} is a sedan with {self.n_wheels} wheels, {self.n_doors} doors with a low ground clearance')"
      ],
      "metadata": {
        "id": "w3z8sTh72wpo"
      },
      "execution_count": 6,
      "outputs": []
    },
    {
      "cell_type": "code",
      "source": [
        "nissan = Sedan('Nissan', 'Altima', 2021)\n",
        "print(nissan.make)\n",
        "print(nissan.model)\n",
        "print(nissan.year)\n",
        "print(nissan.n_wheels)\n",
        "print(nissan.n_tires)\n",
        "\n",
        "nissan.get_features()"
      ],
      "metadata": {
        "colab": {
          "base_uri": "https://localhost:8080/"
        },
        "id": "7RyupSY33VxI",
        "outputId": "db202e93-ff55-42c7-f643-de8f6434e9d2"
      },
      "execution_count": 7,
      "outputs": [
        {
          "output_type": "stream",
          "name": "stdout",
          "text": [
            "Nissan\n",
            "Altima\n",
            "2021\n",
            "4\n",
            "4\n",
            "Nissan Altima is a sedan with 4 wheels, 4 doors with a low ground clearance\n"
          ]
        }
      ]
    },
    {
      "cell_type": "markdown",
      "source": [
        "However, if we were inheriting from more than one class then we would have to type each of the parent constructors separatelty to initialize their attributes. This is where super can become really handy as we can use super().__init__(), which would allow us to initialize all attributes of all parent classes at once."
      ],
      "metadata": {
        "id": "71fAaSsA2xHi"
      }
    },
    {
      "cell_type": "code",
      "source": [
        "# example text tokenizer\n",
        "\n",
        "# this parent class takes the raw text or sentence and breaks it into words or tokens\n",
        "class Tokenizer:\n",
        "    \n",
        "    def __init__(self, text):\n",
        "        print('Starting Tokenizer.__init__()')\n",
        "        self.tokens = text.split()\n",
        "        print('Ending Tokenizer.__init__()')\n",
        "\n",
        "# this one calculates total of the list of tokens created by Tokenizer\n",
        "class TextLen(Tokenizer):\n",
        "    \n",
        "    def __init__(self, text):\n",
        "        print('Starting TextLen.__init__()')\n",
        "        Tokenizer.__init__(self,text)\n",
        "        self.word_count = len(self.tokens)\n",
        "        print('Ending TextLen.__init__()')\n",
        "\n",
        "# this one converts the tokens list to a unique set of words       \n",
        "class TextVocab(Tokenizer):\n",
        "    \n",
        "    def __init__(self, text):\n",
        "        print('Starting TextVocab.__init__()')\n",
        "        Tokenizer.__init__(self,text)\n",
        "        self.vocab = set(self.tokens)\n",
        "        print('Ending TextVocab.__init__()')\n",
        "\n",
        "# this one just inherits from TextLen and TextVocab \n",
        "class TextDescriber(TextLen, TextVocab):\n",
        "    \n",
        "    def __init__(self, text):\n",
        "        print('Starting TextDescriber.__init__()')\n",
        "        TextLen.__init__(self,text)\n",
        "        TextVocab.__init__(self, text)\n",
        "        print('Ending TextDescriber.__init__()')"
      ],
      "metadata": {
        "id": "zV44ZCKFEy-6"
      },
      "execution_count": 1,
      "outputs": []
    },
    {
      "cell_type": "markdown",
      "source": [
        "This is the classic problem of diamond inheritance described by the figure below.\n",
        "\n",
        "<pre>\n",
        "        Tokenizer\n",
        "     |             | \n",
        "    |               |\n",
        "   |                 |\n",
        "TextLen           TextVocab\n",
        "   |                 |\n",
        "    |               |\n",
        "     |             |\n",
        "      TextDescriber\n",
        "\n",
        "</pre>\n",
        "\n",
        "Here, TextLen and TextVocab would inherit from Tokenizer and TextDescriber would inherit from TextLen and TextVocab.\n"
      ],
      "metadata": {
        "id": "x4127c0u5xX0"
      }
    },
    {
      "cell_type": "code",
      "source": [
        "# exploring the method resolution order i.e. methods common to all classes\n",
        "TextDescriber.mro()"
      ],
      "metadata": {
        "colab": {
          "base_uri": "https://localhost:8080/"
        },
        "id": "51EjPaH45w82",
        "outputId": "403c8252-11b0-495c-9ab6-66678822fc04"
      },
      "execution_count": 2,
      "outputs": [
        {
          "output_type": "execute_result",
          "data": {
            "text/plain": [
              "[__main__.TextDescriber,\n",
              " __main__.TextLen,\n",
              " __main__.TextVocab,\n",
              " __main__.Tokenizer,\n",
              " object]"
            ]
          },
          "metadata": {},
          "execution_count": 2
        }
      ]
    },
    {
      "cell_type": "code",
      "source": [
        "# example sentence\n",
        "sen = \"This is a text sentence that needs to be processed as a text\""
      ],
      "metadata": {
        "id": "vEe36QSv7k1y"
      },
      "execution_count": 3,
      "outputs": []
    },
    {
      "cell_type": "code",
      "source": [
        "td = TextDescriber(sen)\n",
        "print('---------------------------------------------------------')\n",
        "print('\\n')\n",
        "print('\\n')\n",
        "print(td.tokens)\n",
        "print(td.vocab)\n",
        "print(td.word_count)"
      ],
      "metadata": {
        "colab": {
          "base_uri": "https://localhost:8080/"
        },
        "id": "4N8VHTyL7w87",
        "outputId": "d1a98911-912a-4f8c-b1d7-61d12048b251"
      },
      "execution_count": 4,
      "outputs": [
        {
          "output_type": "stream",
          "name": "stdout",
          "text": [
            "Starting TextDescriber.__init__()\n",
            "Starting TextLen.__init__()\n",
            "Starting Tokenizer.__init__()\n",
            "Ending Tokenizer.__init__()\n",
            "Ending TextLen.__init__()\n",
            "Starting TextVocab.__init__()\n",
            "Starting Tokenizer.__init__()\n",
            "Ending Tokenizer.__init__()\n",
            "Ending TextVocab.__init__()\n",
            "Ending TextDescriber.__init__()\n",
            "---------------------------------------------------------\n",
            "\n",
            "\n",
            "\n",
            "\n",
            "['This', 'is', 'a', 'text', 'sentence', 'that', 'needs', 'to', 'be', 'processed', 'as', 'a', 'text']\n",
            "{'needs', 'is', 'to', 'processed', 'be', 'as', 'that', 'sentence', 'text', 'This', 'a'}\n",
            "13\n"
          ]
        }
      ]
    },
    {
      "cell_type": "markdown",
      "source": [
        "Each classes are set up in a way where we will print starting and ending messages once the constructer initializes the objects.\n",
        "\n",
        "We can notice that we first start the initialization of TextDescriber, which takes us to the constructor of TextLen, which takes us to the constructor of Tokenizer. We then initialize the tokenizer text by converting it into tokens and print the ending message as the process is complete, we then calculate the length of the tokens and complete the initialization of TextLen and then we complete the initialization of TextDescriber.\n",
        "\n",
        "We then start the initialization of TextVocab, which again takes us to the constructor of Tokenizer and we again create the tokens and then compute the set and get complete the initialization of TextDescriber.\n",
        "\n",
        "Now TextDescriber has access to attributes tokens, word_count, and vocab form each of the three classes.\n",
        "\n",
        "Tokenizer() was called twice by each class that inherits from Tokenizer. We can avoid that by using super()"
      ],
      "metadata": {
        "id": "bKGbAmKe77-d"
      }
    },
    {
      "cell_type": "code",
      "source": [
        "class Tokenizer:\n",
        "    \n",
        "    def __init__(self, text):\n",
        "        print('Starting Tokenizer.__init__()')\n",
        "        self.tokens = text.split()\n",
        "        print('Ending Tokenizer.__init__()')\n",
        "        \n",
        "class TextLen(Tokenizer):\n",
        "    \n",
        "    def __init__(self, text):\n",
        "        print('Starting TextLen.__init__()')\n",
        "        super().__init__(text)\n",
        "        self.word_count = len(self.tokens)\n",
        "        print('Ending TextLen.__init__()')\n",
        "        \n",
        "class TextVocab(Tokenizer):\n",
        "    \n",
        "    def __init__(self, text):\n",
        "        print('Starting TextVocab.__init__()')\n",
        "        super().__init__(text)\n",
        "        self.vocab = set(self.tokens)\n",
        "        print('Ending TextVocab.__init__()')\n",
        "        \n",
        "class TextDescriber(TextLen, TextVocab):\n",
        "    \n",
        "    def __init__(self, text):\n",
        "        print('Starting TextDescriber.__init__()')\n",
        "        super().__init__(text)\n",
        "        print('Ending TextDescriber.__init__()')"
      ],
      "metadata": {
        "id": "G6rTA-E-9ueG"
      },
      "execution_count": 5,
      "outputs": []
    },
    {
      "cell_type": "code",
      "source": [
        "td = TextDescriber(sen)\n",
        "print('---------------------------------------------------------')\n",
        "print('\\n')\n",
        "print('\\n')\n",
        "print(td.tokens)\n",
        "print(td.vocab)\n",
        "print(td.word_count)"
      ],
      "metadata": {
        "colab": {
          "base_uri": "https://localhost:8080/"
        },
        "id": "iEaoATjP90j8",
        "outputId": "6e890dab-719f-4da4-fba4-897f66da0678"
      },
      "execution_count": 6,
      "outputs": [
        {
          "output_type": "stream",
          "name": "stdout",
          "text": [
            "Starting TextDescriber.__init__()\n",
            "Starting TextLen.__init__()\n",
            "Starting TextVocab.__init__()\n",
            "Starting Tokenizer.__init__()\n",
            "Ending Tokenizer.__init__()\n",
            "Ending TextVocab.__init__()\n",
            "Ending TextLen.__init__()\n",
            "Ending TextDescriber.__init__()\n",
            "---------------------------------------------------------\n",
            "\n",
            "\n",
            "\n",
            "\n",
            "['This', 'is', 'a', 'text', 'sentence', 'that', 'needs', 'to', 'be', 'processed', 'as', 'a', 'text']\n",
            "{'needs', 'is', 'to', 'processed', 'be', 'as', 'that', 'sentence', 'text', 'This', 'a'}\n",
            "13\n"
          ]
        }
      ]
    },
    {
      "cell_type": "markdown",
      "source": [
        "Here, using super() TextDescriber() was able to get access to tokens, word_count, and vocab without having to use the parent constructors separately. This makes the code a lot more maintainable. \n",
        "\n",
        "Also, Tokenzier() was called only once. super() carefully thought through the design and moved through both TextLen and TextVocab before getting to Tokenizer as both of those methods inherits from Tokenizer.\n",
        "\n",
        "Multiple inheritance is where the benefits of using super over parent constructors is evident."
      ],
      "metadata": {
        "id": "fzPTMAXY96-U"
      }
    },
    {
      "cell_type": "markdown",
      "source": [
        "---"
      ],
      "metadata": {
        "id": "wYrgzxoAXde7"
      }
    },
    {
      "cell_type": "markdown",
      "source": [
        "11. Create a class to model some real world object and create a new class to inherit from it. One example can be the following. You should use a different example and use as many things we learned as possible."
      ],
      "metadata": {
        "id": "oDxGKcg2_tWa"
      }
    },
    {
      "cell_type": "markdown",
      "source": [
        "We will create a base class that takes a raw dataframe and performs standard preprocessing options such as imputing missing values, handling outliers using winsorization, and scaling all variables using standardization.\n",
        "\n",
        "Then we will create a DataExplorer class that inherits from DataPreprocessor and adds additional methods to it such as computing correlation matrix and plotting the two variables.\n",
        "\n",
        "Finally, we will modify the standardizer in parent class to faciliate usage of min max scaling."
      ],
      "metadata": {
        "id": "E19qKBP_XfWF"
      }
    },
    {
      "cell_type": "code",
      "source": [
        "import numpy as np\n",
        "\n",
        "class DataPreprocesser:\n",
        "\n",
        "  def __init__(self, df):\n",
        "    self.df = df.copy()\n",
        "  \n",
        "  # this allows using a single method to run all the methods together in a specific order\n",
        "  def main(self):\n",
        "    self.impute_missing()\n",
        "    self.winsorize()\n",
        "    self.standardize()\n",
        "\n",
        "  # impute all missing values using median\n",
        "  def impute_missing(self):\n",
        "    \n",
        "    for col in self.df:\n",
        "      self.df[col].fillna(np.median(self.df[col]), inplace = True)\n",
        "\n",
        "  # restrict all values between the 2.5th and 97.5th percentile\n",
        "  def winsorize(self):\n",
        "\n",
        "    for col in self.df:\n",
        "      col_lower = np.percentile(self.df[col], 2.5)\n",
        "      col_upper = np.percentile(self.df[col], 97.5)\n",
        "      \n",
        "      self.df[col] = np.where(self.df[col] < col_lower, col_lower, np.where(self.df[col] > col_upper, col_upper, self.df[col])) \n",
        "\n",
        "  # perform standardization of each variable by subtracting the mean and dividing by the standard deviation\n",
        "  def standardize(self):\n",
        "\n",
        "    for col in self.df:\n",
        "      self.df[col] = (self.df[col] - self.df[col].mean())/(self.df[col].std())\n",
        "\n",
        "  "
      ],
      "metadata": {
        "id": "lL5SA5iC-0se"
      },
      "execution_count": 45,
      "outputs": []
    },
    {
      "cell_type": "markdown",
      "source": [
        "Testing the class with following simple dataset from kaggle:\n",
        "\n",
        "https://www.kaggle.com/datasets/rohankayan/years-of-experience-and-salary-dataset\n",
        "\n",
        "Again, this was used for modeling purposes. But here, we just are using it to demo the code. The prepcrocessing is not necessarily the best technique to use. "
      ],
      "metadata": {
        "id": "-KLGbR8RD3Kj"
      }
    },
    {
      "cell_type": "code",
      "source": [
        "from google.colab import drive\n",
        "drive.mount('gdrive')"
      ],
      "metadata": {
        "colab": {
          "base_uri": "https://localhost:8080/"
        },
        "id": "0n3ACbzMGRcx",
        "outputId": "705bbc54-cdae-4fe2-9094-f0e52654fd15"
      },
      "execution_count": 8,
      "outputs": [
        {
          "output_type": "stream",
          "name": "stdout",
          "text": [
            "Mounted at gdrive\n"
          ]
        }
      ]
    },
    {
      "cell_type": "code",
      "source": [
        "cd gdrive/My Drive/Python practice/Python programming and Numerical methods"
      ],
      "metadata": {
        "colab": {
          "base_uri": "https://localhost:8080/"
        },
        "id": "qUlOgRnTGW4r",
        "outputId": "25ae7245-139c-42f1-8623-ce93e752252a"
      },
      "execution_count": 9,
      "outputs": [
        {
          "output_type": "stream",
          "name": "stdout",
          "text": [
            "/content/gdrive/My Drive/Python practice/Python programming and Numerical methods\n"
          ]
        }
      ]
    },
    {
      "cell_type": "code",
      "source": [
        "!ls"
      ],
      "metadata": {
        "colab": {
          "base_uri": "https://localhost:8080/"
        },
        "id": "mKjo_ZhmGmMK",
        "outputId": "d9901f90-dd10-456f-fe17-058e135510e8"
      },
      "execution_count": 13,
      "outputs": [
        {
          "output_type": "stream",
          "name": "stdout",
          "text": [
            "exercise_1.ipynb  exercise_3.ipynb  exercise_5.ipynb  exercise_7.ipynb\n",
            "exercise_2.ipynb  exercise_4.ipynb  exercise_6.ipynb  Salary_Data.csv\n"
          ]
        }
      ]
    },
    {
      "cell_type": "code",
      "source": [
        "import pandas as pd\n",
        "salary_data = pd.read_csv('Salary_Data.csv')\n",
        "print(salary_data.shape)\n",
        "salary_data"
      ],
      "metadata": {
        "colab": {
          "base_uri": "https://localhost:8080/",
          "height": 1000
        },
        "id": "VSWFfdDTD2qG",
        "outputId": "fc910811-f8de-4b8d-ca12-655255b3ece1"
      },
      "execution_count": 46,
      "outputs": [
        {
          "output_type": "stream",
          "name": "stdout",
          "text": [
            "(30, 2)\n"
          ]
        },
        {
          "output_type": "execute_result",
          "data": {
            "text/plain": [
              "    YearsExperience    Salary\n",
              "0               1.1   39343.0\n",
              "1               1.3   46205.0\n",
              "2               1.5   37731.0\n",
              "3               2.0   43525.0\n",
              "4               2.2   39891.0\n",
              "5               2.9   56642.0\n",
              "6               3.0   60150.0\n",
              "7               3.2   54445.0\n",
              "8               3.2   64445.0\n",
              "9               3.7   57189.0\n",
              "10              3.9   63218.0\n",
              "11              4.0   55794.0\n",
              "12              4.0   56957.0\n",
              "13              4.1   57081.0\n",
              "14              4.5   61111.0\n",
              "15              4.9   67938.0\n",
              "16              5.1   66029.0\n",
              "17              5.3   83088.0\n",
              "18              5.9   81363.0\n",
              "19              6.0   93940.0\n",
              "20              6.8   91738.0\n",
              "21              7.1   98273.0\n",
              "22              7.9  101302.0\n",
              "23              8.2  113812.0\n",
              "24              8.7  109431.0\n",
              "25              9.0  105582.0\n",
              "26              9.5  116969.0\n",
              "27              9.6  112635.0\n",
              "28             10.3  122391.0\n",
              "29             10.5  121872.0"
            ],
            "text/html": [
              "\n",
              "  <div id=\"df-6cc09295-62ac-4d2e-bb06-4f8878871151\">\n",
              "    <div class=\"colab-df-container\">\n",
              "      <div>\n",
              "<style scoped>\n",
              "    .dataframe tbody tr th:only-of-type {\n",
              "        vertical-align: middle;\n",
              "    }\n",
              "\n",
              "    .dataframe tbody tr th {\n",
              "        vertical-align: top;\n",
              "    }\n",
              "\n",
              "    .dataframe thead th {\n",
              "        text-align: right;\n",
              "    }\n",
              "</style>\n",
              "<table border=\"1\" class=\"dataframe\">\n",
              "  <thead>\n",
              "    <tr style=\"text-align: right;\">\n",
              "      <th></th>\n",
              "      <th>YearsExperience</th>\n",
              "      <th>Salary</th>\n",
              "    </tr>\n",
              "  </thead>\n",
              "  <tbody>\n",
              "    <tr>\n",
              "      <th>0</th>\n",
              "      <td>1.1</td>\n",
              "      <td>39343.0</td>\n",
              "    </tr>\n",
              "    <tr>\n",
              "      <th>1</th>\n",
              "      <td>1.3</td>\n",
              "      <td>46205.0</td>\n",
              "    </tr>\n",
              "    <tr>\n",
              "      <th>2</th>\n",
              "      <td>1.5</td>\n",
              "      <td>37731.0</td>\n",
              "    </tr>\n",
              "    <tr>\n",
              "      <th>3</th>\n",
              "      <td>2.0</td>\n",
              "      <td>43525.0</td>\n",
              "    </tr>\n",
              "    <tr>\n",
              "      <th>4</th>\n",
              "      <td>2.2</td>\n",
              "      <td>39891.0</td>\n",
              "    </tr>\n",
              "    <tr>\n",
              "      <th>5</th>\n",
              "      <td>2.9</td>\n",
              "      <td>56642.0</td>\n",
              "    </tr>\n",
              "    <tr>\n",
              "      <th>6</th>\n",
              "      <td>3.0</td>\n",
              "      <td>60150.0</td>\n",
              "    </tr>\n",
              "    <tr>\n",
              "      <th>7</th>\n",
              "      <td>3.2</td>\n",
              "      <td>54445.0</td>\n",
              "    </tr>\n",
              "    <tr>\n",
              "      <th>8</th>\n",
              "      <td>3.2</td>\n",
              "      <td>64445.0</td>\n",
              "    </tr>\n",
              "    <tr>\n",
              "      <th>9</th>\n",
              "      <td>3.7</td>\n",
              "      <td>57189.0</td>\n",
              "    </tr>\n",
              "    <tr>\n",
              "      <th>10</th>\n",
              "      <td>3.9</td>\n",
              "      <td>63218.0</td>\n",
              "    </tr>\n",
              "    <tr>\n",
              "      <th>11</th>\n",
              "      <td>4.0</td>\n",
              "      <td>55794.0</td>\n",
              "    </tr>\n",
              "    <tr>\n",
              "      <th>12</th>\n",
              "      <td>4.0</td>\n",
              "      <td>56957.0</td>\n",
              "    </tr>\n",
              "    <tr>\n",
              "      <th>13</th>\n",
              "      <td>4.1</td>\n",
              "      <td>57081.0</td>\n",
              "    </tr>\n",
              "    <tr>\n",
              "      <th>14</th>\n",
              "      <td>4.5</td>\n",
              "      <td>61111.0</td>\n",
              "    </tr>\n",
              "    <tr>\n",
              "      <th>15</th>\n",
              "      <td>4.9</td>\n",
              "      <td>67938.0</td>\n",
              "    </tr>\n",
              "    <tr>\n",
              "      <th>16</th>\n",
              "      <td>5.1</td>\n",
              "      <td>66029.0</td>\n",
              "    </tr>\n",
              "    <tr>\n",
              "      <th>17</th>\n",
              "      <td>5.3</td>\n",
              "      <td>83088.0</td>\n",
              "    </tr>\n",
              "    <tr>\n",
              "      <th>18</th>\n",
              "      <td>5.9</td>\n",
              "      <td>81363.0</td>\n",
              "    </tr>\n",
              "    <tr>\n",
              "      <th>19</th>\n",
              "      <td>6.0</td>\n",
              "      <td>93940.0</td>\n",
              "    </tr>\n",
              "    <tr>\n",
              "      <th>20</th>\n",
              "      <td>6.8</td>\n",
              "      <td>91738.0</td>\n",
              "    </tr>\n",
              "    <tr>\n",
              "      <th>21</th>\n",
              "      <td>7.1</td>\n",
              "      <td>98273.0</td>\n",
              "    </tr>\n",
              "    <tr>\n",
              "      <th>22</th>\n",
              "      <td>7.9</td>\n",
              "      <td>101302.0</td>\n",
              "    </tr>\n",
              "    <tr>\n",
              "      <th>23</th>\n",
              "      <td>8.2</td>\n",
              "      <td>113812.0</td>\n",
              "    </tr>\n",
              "    <tr>\n",
              "      <th>24</th>\n",
              "      <td>8.7</td>\n",
              "      <td>109431.0</td>\n",
              "    </tr>\n",
              "    <tr>\n",
              "      <th>25</th>\n",
              "      <td>9.0</td>\n",
              "      <td>105582.0</td>\n",
              "    </tr>\n",
              "    <tr>\n",
              "      <th>26</th>\n",
              "      <td>9.5</td>\n",
              "      <td>116969.0</td>\n",
              "    </tr>\n",
              "    <tr>\n",
              "      <th>27</th>\n",
              "      <td>9.6</td>\n",
              "      <td>112635.0</td>\n",
              "    </tr>\n",
              "    <tr>\n",
              "      <th>28</th>\n",
              "      <td>10.3</td>\n",
              "      <td>122391.0</td>\n",
              "    </tr>\n",
              "    <tr>\n",
              "      <th>29</th>\n",
              "      <td>10.5</td>\n",
              "      <td>121872.0</td>\n",
              "    </tr>\n",
              "  </tbody>\n",
              "</table>\n",
              "</div>\n",
              "      <button class=\"colab-df-convert\" onclick=\"convertToInteractive('df-6cc09295-62ac-4d2e-bb06-4f8878871151')\"\n",
              "              title=\"Convert this dataframe to an interactive table.\"\n",
              "              style=\"display:none;\">\n",
              "        \n",
              "  <svg xmlns=\"http://www.w3.org/2000/svg\" height=\"24px\"viewBox=\"0 0 24 24\"\n",
              "       width=\"24px\">\n",
              "    <path d=\"M0 0h24v24H0V0z\" fill=\"none\"/>\n",
              "    <path d=\"M18.56 5.44l.94 2.06.94-2.06 2.06-.94-2.06-.94-.94-2.06-.94 2.06-2.06.94zm-11 1L8.5 8.5l.94-2.06 2.06-.94-2.06-.94L8.5 2.5l-.94 2.06-2.06.94zm10 10l.94 2.06.94-2.06 2.06-.94-2.06-.94-.94-2.06-.94 2.06-2.06.94z\"/><path d=\"M17.41 7.96l-1.37-1.37c-.4-.4-.92-.59-1.43-.59-.52 0-1.04.2-1.43.59L10.3 9.45l-7.72 7.72c-.78.78-.78 2.05 0 2.83L4 21.41c.39.39.9.59 1.41.59.51 0 1.02-.2 1.41-.59l7.78-7.78 2.81-2.81c.8-.78.8-2.07 0-2.86zM5.41 20L4 18.59l7.72-7.72 1.47 1.35L5.41 20z\"/>\n",
              "  </svg>\n",
              "      </button>\n",
              "      \n",
              "  <style>\n",
              "    .colab-df-container {\n",
              "      display:flex;\n",
              "      flex-wrap:wrap;\n",
              "      gap: 12px;\n",
              "    }\n",
              "\n",
              "    .colab-df-convert {\n",
              "      background-color: #E8F0FE;\n",
              "      border: none;\n",
              "      border-radius: 50%;\n",
              "      cursor: pointer;\n",
              "      display: none;\n",
              "      fill: #1967D2;\n",
              "      height: 32px;\n",
              "      padding: 0 0 0 0;\n",
              "      width: 32px;\n",
              "    }\n",
              "\n",
              "    .colab-df-convert:hover {\n",
              "      background-color: #E2EBFA;\n",
              "      box-shadow: 0px 1px 2px rgba(60, 64, 67, 0.3), 0px 1px 3px 1px rgba(60, 64, 67, 0.15);\n",
              "      fill: #174EA6;\n",
              "    }\n",
              "\n",
              "    [theme=dark] .colab-df-convert {\n",
              "      background-color: #3B4455;\n",
              "      fill: #D2E3FC;\n",
              "    }\n",
              "\n",
              "    [theme=dark] .colab-df-convert:hover {\n",
              "      background-color: #434B5C;\n",
              "      box-shadow: 0px 1px 3px 1px rgba(0, 0, 0, 0.15);\n",
              "      filter: drop-shadow(0px 1px 2px rgba(0, 0, 0, 0.3));\n",
              "      fill: #FFFFFF;\n",
              "    }\n",
              "  </style>\n",
              "\n",
              "      <script>\n",
              "        const buttonEl =\n",
              "          document.querySelector('#df-6cc09295-62ac-4d2e-bb06-4f8878871151 button.colab-df-convert');\n",
              "        buttonEl.style.display =\n",
              "          google.colab.kernel.accessAllowed ? 'block' : 'none';\n",
              "\n",
              "        async function convertToInteractive(key) {\n",
              "          const element = document.querySelector('#df-6cc09295-62ac-4d2e-bb06-4f8878871151');\n",
              "          const dataTable =\n",
              "            await google.colab.kernel.invokeFunction('convertToInteractive',\n",
              "                                                     [key], {});\n",
              "          if (!dataTable) return;\n",
              "\n",
              "          const docLinkHtml = 'Like what you see? Visit the ' +\n",
              "            '<a target=\"_blank\" href=https://colab.research.google.com/notebooks/data_table.ipynb>data table notebook</a>'\n",
              "            + ' to learn more about interactive tables.';\n",
              "          element.innerHTML = '';\n",
              "          dataTable['output_type'] = 'display_data';\n",
              "          await google.colab.output.renderOutput(dataTable, element);\n",
              "          const docLink = document.createElement('div');\n",
              "          docLink.innerHTML = docLinkHtml;\n",
              "          element.appendChild(docLink);\n",
              "        }\n",
              "      </script>\n",
              "    </div>\n",
              "  </div>\n",
              "  "
            ]
          },
          "metadata": {},
          "execution_count": 46
        }
      ]
    },
    {
      "cell_type": "code",
      "source": [
        "salary_data.dtypes"
      ],
      "metadata": {
        "colab": {
          "base_uri": "https://localhost:8080/"
        },
        "id": "j9emNUnfHW4i",
        "outputId": "820803b6-2ec2-4f94-b1b8-e5a30a702138"
      },
      "execution_count": 47,
      "outputs": [
        {
          "output_type": "execute_result",
          "data": {
            "text/plain": [
              "YearsExperience    float64\n",
              "Salary             float64\n",
              "dtype: object"
            ]
          },
          "metadata": {},
          "execution_count": 47
        }
      ]
    },
    {
      "cell_type": "code",
      "source": [
        "data = DataPreprocesser(salary_data)\n",
        "data.main()"
      ],
      "metadata": {
        "id": "K-fMv-gPG8V9"
      },
      "execution_count": 48,
      "outputs": []
    },
    {
      "cell_type": "code",
      "source": [
        "data.df"
      ],
      "metadata": {
        "colab": {
          "base_uri": "https://localhost:8080/",
          "height": 990
        },
        "id": "ovPsmb1zIT8D",
        "outputId": "1220820b-e758-4d42-d140-32f215a65c5e"
      },
      "execution_count": 49,
      "outputs": [
        {
          "output_type": "execute_result",
          "data": {
            "text/plain": [
              "    YearsExperience    Salary\n",
              "0         -1.441887 -1.342004\n",
              "1         -1.422394 -1.090989\n",
              "2         -1.351510 -1.358220\n",
              "3         -1.174302 -1.189025\n",
              "4         -1.103418 -1.321958\n",
              "5         -0.855326 -0.709199\n",
              "6         -0.819885 -0.580875\n",
              "7         -0.749001 -0.789567\n",
              "8         -0.749001 -0.423763\n",
              "9         -0.571793 -0.689190\n",
              "10        -0.500909 -0.468647\n",
              "11        -0.465468 -0.740220\n",
              "12        -0.465468 -0.697677\n",
              "13        -0.430026 -0.693141\n",
              "14        -0.288259 -0.545722\n",
              "15        -0.146492 -0.295987\n",
              "16        -0.075609 -0.365819\n",
              "17        -0.004726  0.258206\n",
              "18         0.207925  0.195105\n",
              "19         0.243366  0.655176\n",
              "20         0.526900  0.574626\n",
              "21         0.633225  0.813679\n",
              "22         0.916759  0.924481\n",
              "23         1.023084  1.382102\n",
              "24         1.200292  1.221844\n",
              "25         1.306617  1.081046\n",
              "26         1.483826  1.497587\n",
              "27         1.519268  1.339047\n",
              "28         1.767360  1.682161\n",
              "29         1.786852  1.676940"
            ],
            "text/html": [
              "\n",
              "  <div id=\"df-7eb18f1f-eb38-4124-846b-57430b5b2bb4\">\n",
              "    <div class=\"colab-df-container\">\n",
              "      <div>\n",
              "<style scoped>\n",
              "    .dataframe tbody tr th:only-of-type {\n",
              "        vertical-align: middle;\n",
              "    }\n",
              "\n",
              "    .dataframe tbody tr th {\n",
              "        vertical-align: top;\n",
              "    }\n",
              "\n",
              "    .dataframe thead th {\n",
              "        text-align: right;\n",
              "    }\n",
              "</style>\n",
              "<table border=\"1\" class=\"dataframe\">\n",
              "  <thead>\n",
              "    <tr style=\"text-align: right;\">\n",
              "      <th></th>\n",
              "      <th>YearsExperience</th>\n",
              "      <th>Salary</th>\n",
              "    </tr>\n",
              "  </thead>\n",
              "  <tbody>\n",
              "    <tr>\n",
              "      <th>0</th>\n",
              "      <td>-1.441887</td>\n",
              "      <td>-1.342004</td>\n",
              "    </tr>\n",
              "    <tr>\n",
              "      <th>1</th>\n",
              "      <td>-1.422394</td>\n",
              "      <td>-1.090989</td>\n",
              "    </tr>\n",
              "    <tr>\n",
              "      <th>2</th>\n",
              "      <td>-1.351510</td>\n",
              "      <td>-1.358220</td>\n",
              "    </tr>\n",
              "    <tr>\n",
              "      <th>3</th>\n",
              "      <td>-1.174302</td>\n",
              "      <td>-1.189025</td>\n",
              "    </tr>\n",
              "    <tr>\n",
              "      <th>4</th>\n",
              "      <td>-1.103418</td>\n",
              "      <td>-1.321958</td>\n",
              "    </tr>\n",
              "    <tr>\n",
              "      <th>5</th>\n",
              "      <td>-0.855326</td>\n",
              "      <td>-0.709199</td>\n",
              "    </tr>\n",
              "    <tr>\n",
              "      <th>6</th>\n",
              "      <td>-0.819885</td>\n",
              "      <td>-0.580875</td>\n",
              "    </tr>\n",
              "    <tr>\n",
              "      <th>7</th>\n",
              "      <td>-0.749001</td>\n",
              "      <td>-0.789567</td>\n",
              "    </tr>\n",
              "    <tr>\n",
              "      <th>8</th>\n",
              "      <td>-0.749001</td>\n",
              "      <td>-0.423763</td>\n",
              "    </tr>\n",
              "    <tr>\n",
              "      <th>9</th>\n",
              "      <td>-0.571793</td>\n",
              "      <td>-0.689190</td>\n",
              "    </tr>\n",
              "    <tr>\n",
              "      <th>10</th>\n",
              "      <td>-0.500909</td>\n",
              "      <td>-0.468647</td>\n",
              "    </tr>\n",
              "    <tr>\n",
              "      <th>11</th>\n",
              "      <td>-0.465468</td>\n",
              "      <td>-0.740220</td>\n",
              "    </tr>\n",
              "    <tr>\n",
              "      <th>12</th>\n",
              "      <td>-0.465468</td>\n",
              "      <td>-0.697677</td>\n",
              "    </tr>\n",
              "    <tr>\n",
              "      <th>13</th>\n",
              "      <td>-0.430026</td>\n",
              "      <td>-0.693141</td>\n",
              "    </tr>\n",
              "    <tr>\n",
              "      <th>14</th>\n",
              "      <td>-0.288259</td>\n",
              "      <td>-0.545722</td>\n",
              "    </tr>\n",
              "    <tr>\n",
              "      <th>15</th>\n",
              "      <td>-0.146492</td>\n",
              "      <td>-0.295987</td>\n",
              "    </tr>\n",
              "    <tr>\n",
              "      <th>16</th>\n",
              "      <td>-0.075609</td>\n",
              "      <td>-0.365819</td>\n",
              "    </tr>\n",
              "    <tr>\n",
              "      <th>17</th>\n",
              "      <td>-0.004726</td>\n",
              "      <td>0.258206</td>\n",
              "    </tr>\n",
              "    <tr>\n",
              "      <th>18</th>\n",
              "      <td>0.207925</td>\n",
              "      <td>0.195105</td>\n",
              "    </tr>\n",
              "    <tr>\n",
              "      <th>19</th>\n",
              "      <td>0.243366</td>\n",
              "      <td>0.655176</td>\n",
              "    </tr>\n",
              "    <tr>\n",
              "      <th>20</th>\n",
              "      <td>0.526900</td>\n",
              "      <td>0.574626</td>\n",
              "    </tr>\n",
              "    <tr>\n",
              "      <th>21</th>\n",
              "      <td>0.633225</td>\n",
              "      <td>0.813679</td>\n",
              "    </tr>\n",
              "    <tr>\n",
              "      <th>22</th>\n",
              "      <td>0.916759</td>\n",
              "      <td>0.924481</td>\n",
              "    </tr>\n",
              "    <tr>\n",
              "      <th>23</th>\n",
              "      <td>1.023084</td>\n",
              "      <td>1.382102</td>\n",
              "    </tr>\n",
              "    <tr>\n",
              "      <th>24</th>\n",
              "      <td>1.200292</td>\n",
              "      <td>1.221844</td>\n",
              "    </tr>\n",
              "    <tr>\n",
              "      <th>25</th>\n",
              "      <td>1.306617</td>\n",
              "      <td>1.081046</td>\n",
              "    </tr>\n",
              "    <tr>\n",
              "      <th>26</th>\n",
              "      <td>1.483826</td>\n",
              "      <td>1.497587</td>\n",
              "    </tr>\n",
              "    <tr>\n",
              "      <th>27</th>\n",
              "      <td>1.519268</td>\n",
              "      <td>1.339047</td>\n",
              "    </tr>\n",
              "    <tr>\n",
              "      <th>28</th>\n",
              "      <td>1.767360</td>\n",
              "      <td>1.682161</td>\n",
              "    </tr>\n",
              "    <tr>\n",
              "      <th>29</th>\n",
              "      <td>1.786852</td>\n",
              "      <td>1.676940</td>\n",
              "    </tr>\n",
              "  </tbody>\n",
              "</table>\n",
              "</div>\n",
              "      <button class=\"colab-df-convert\" onclick=\"convertToInteractive('df-7eb18f1f-eb38-4124-846b-57430b5b2bb4')\"\n",
              "              title=\"Convert this dataframe to an interactive table.\"\n",
              "              style=\"display:none;\">\n",
              "        \n",
              "  <svg xmlns=\"http://www.w3.org/2000/svg\" height=\"24px\"viewBox=\"0 0 24 24\"\n",
              "       width=\"24px\">\n",
              "    <path d=\"M0 0h24v24H0V0z\" fill=\"none\"/>\n",
              "    <path d=\"M18.56 5.44l.94 2.06.94-2.06 2.06-.94-2.06-.94-.94-2.06-.94 2.06-2.06.94zm-11 1L8.5 8.5l.94-2.06 2.06-.94-2.06-.94L8.5 2.5l-.94 2.06-2.06.94zm10 10l.94 2.06.94-2.06 2.06-.94-2.06-.94-.94-2.06-.94 2.06-2.06.94z\"/><path d=\"M17.41 7.96l-1.37-1.37c-.4-.4-.92-.59-1.43-.59-.52 0-1.04.2-1.43.59L10.3 9.45l-7.72 7.72c-.78.78-.78 2.05 0 2.83L4 21.41c.39.39.9.59 1.41.59.51 0 1.02-.2 1.41-.59l7.78-7.78 2.81-2.81c.8-.78.8-2.07 0-2.86zM5.41 20L4 18.59l7.72-7.72 1.47 1.35L5.41 20z\"/>\n",
              "  </svg>\n",
              "      </button>\n",
              "      \n",
              "  <style>\n",
              "    .colab-df-container {\n",
              "      display:flex;\n",
              "      flex-wrap:wrap;\n",
              "      gap: 12px;\n",
              "    }\n",
              "\n",
              "    .colab-df-convert {\n",
              "      background-color: #E8F0FE;\n",
              "      border: none;\n",
              "      border-radius: 50%;\n",
              "      cursor: pointer;\n",
              "      display: none;\n",
              "      fill: #1967D2;\n",
              "      height: 32px;\n",
              "      padding: 0 0 0 0;\n",
              "      width: 32px;\n",
              "    }\n",
              "\n",
              "    .colab-df-convert:hover {\n",
              "      background-color: #E2EBFA;\n",
              "      box-shadow: 0px 1px 2px rgba(60, 64, 67, 0.3), 0px 1px 3px 1px rgba(60, 64, 67, 0.15);\n",
              "      fill: #174EA6;\n",
              "    }\n",
              "\n",
              "    [theme=dark] .colab-df-convert {\n",
              "      background-color: #3B4455;\n",
              "      fill: #D2E3FC;\n",
              "    }\n",
              "\n",
              "    [theme=dark] .colab-df-convert:hover {\n",
              "      background-color: #434B5C;\n",
              "      box-shadow: 0px 1px 3px 1px rgba(0, 0, 0, 0.15);\n",
              "      filter: drop-shadow(0px 1px 2px rgba(0, 0, 0, 0.3));\n",
              "      fill: #FFFFFF;\n",
              "    }\n",
              "  </style>\n",
              "\n",
              "      <script>\n",
              "        const buttonEl =\n",
              "          document.querySelector('#df-7eb18f1f-eb38-4124-846b-57430b5b2bb4 button.colab-df-convert');\n",
              "        buttonEl.style.display =\n",
              "          google.colab.kernel.accessAllowed ? 'block' : 'none';\n",
              "\n",
              "        async function convertToInteractive(key) {\n",
              "          const element = document.querySelector('#df-7eb18f1f-eb38-4124-846b-57430b5b2bb4');\n",
              "          const dataTable =\n",
              "            await google.colab.kernel.invokeFunction('convertToInteractive',\n",
              "                                                     [key], {});\n",
              "          if (!dataTable) return;\n",
              "\n",
              "          const docLinkHtml = 'Like what you see? Visit the ' +\n",
              "            '<a target=\"_blank\" href=https://colab.research.google.com/notebooks/data_table.ipynb>data table notebook</a>'\n",
              "            + ' to learn more about interactive tables.';\n",
              "          element.innerHTML = '';\n",
              "          dataTable['output_type'] = 'display_data';\n",
              "          await google.colab.output.renderOutput(dataTable, element);\n",
              "          const docLink = document.createElement('div');\n",
              "          docLink.innerHTML = docLinkHtml;\n",
              "          element.appendChild(docLink);\n",
              "        }\n",
              "      </script>\n",
              "    </div>\n",
              "  </div>\n",
              "  "
            ]
          },
          "metadata": {},
          "execution_count": 49
        }
      ]
    },
    {
      "cell_type": "markdown",
      "source": [
        "__Lets take a look at each step individually__"
      ],
      "metadata": {
        "id": "Ch2OTUWzQXyP"
      }
    },
    {
      "cell_type": "code",
      "source": [
        "data = DataPreprocesser(salary_data)\n",
        "data.impute_missing()"
      ],
      "metadata": {
        "id": "6Kj64KpPIiqC"
      },
      "execution_count": 50,
      "outputs": []
    },
    {
      "cell_type": "code",
      "source": [
        "data.df"
      ],
      "metadata": {
        "colab": {
          "base_uri": "https://localhost:8080/",
          "height": 990
        },
        "id": "PfaJAPXaQecK",
        "outputId": "4dc91c7c-1e1c-43ba-e416-d6d80d4049c9"
      },
      "execution_count": 51,
      "outputs": [
        {
          "output_type": "execute_result",
          "data": {
            "text/plain": [
              "    YearsExperience    Salary\n",
              "0               1.1   39343.0\n",
              "1               1.3   46205.0\n",
              "2               1.5   37731.0\n",
              "3               2.0   43525.0\n",
              "4               2.2   39891.0\n",
              "5               2.9   56642.0\n",
              "6               3.0   60150.0\n",
              "7               3.2   54445.0\n",
              "8               3.2   64445.0\n",
              "9               3.7   57189.0\n",
              "10              3.9   63218.0\n",
              "11              4.0   55794.0\n",
              "12              4.0   56957.0\n",
              "13              4.1   57081.0\n",
              "14              4.5   61111.0\n",
              "15              4.9   67938.0\n",
              "16              5.1   66029.0\n",
              "17              5.3   83088.0\n",
              "18              5.9   81363.0\n",
              "19              6.0   93940.0\n",
              "20              6.8   91738.0\n",
              "21              7.1   98273.0\n",
              "22              7.9  101302.0\n",
              "23              8.2  113812.0\n",
              "24              8.7  109431.0\n",
              "25              9.0  105582.0\n",
              "26              9.5  116969.0\n",
              "27              9.6  112635.0\n",
              "28             10.3  122391.0\n",
              "29             10.5  121872.0"
            ],
            "text/html": [
              "\n",
              "  <div id=\"df-8f38ddcd-70d3-44cf-9321-3224dbc6871c\">\n",
              "    <div class=\"colab-df-container\">\n",
              "      <div>\n",
              "<style scoped>\n",
              "    .dataframe tbody tr th:only-of-type {\n",
              "        vertical-align: middle;\n",
              "    }\n",
              "\n",
              "    .dataframe tbody tr th {\n",
              "        vertical-align: top;\n",
              "    }\n",
              "\n",
              "    .dataframe thead th {\n",
              "        text-align: right;\n",
              "    }\n",
              "</style>\n",
              "<table border=\"1\" class=\"dataframe\">\n",
              "  <thead>\n",
              "    <tr style=\"text-align: right;\">\n",
              "      <th></th>\n",
              "      <th>YearsExperience</th>\n",
              "      <th>Salary</th>\n",
              "    </tr>\n",
              "  </thead>\n",
              "  <tbody>\n",
              "    <tr>\n",
              "      <th>0</th>\n",
              "      <td>1.1</td>\n",
              "      <td>39343.0</td>\n",
              "    </tr>\n",
              "    <tr>\n",
              "      <th>1</th>\n",
              "      <td>1.3</td>\n",
              "      <td>46205.0</td>\n",
              "    </tr>\n",
              "    <tr>\n",
              "      <th>2</th>\n",
              "      <td>1.5</td>\n",
              "      <td>37731.0</td>\n",
              "    </tr>\n",
              "    <tr>\n",
              "      <th>3</th>\n",
              "      <td>2.0</td>\n",
              "      <td>43525.0</td>\n",
              "    </tr>\n",
              "    <tr>\n",
              "      <th>4</th>\n",
              "      <td>2.2</td>\n",
              "      <td>39891.0</td>\n",
              "    </tr>\n",
              "    <tr>\n",
              "      <th>5</th>\n",
              "      <td>2.9</td>\n",
              "      <td>56642.0</td>\n",
              "    </tr>\n",
              "    <tr>\n",
              "      <th>6</th>\n",
              "      <td>3.0</td>\n",
              "      <td>60150.0</td>\n",
              "    </tr>\n",
              "    <tr>\n",
              "      <th>7</th>\n",
              "      <td>3.2</td>\n",
              "      <td>54445.0</td>\n",
              "    </tr>\n",
              "    <tr>\n",
              "      <th>8</th>\n",
              "      <td>3.2</td>\n",
              "      <td>64445.0</td>\n",
              "    </tr>\n",
              "    <tr>\n",
              "      <th>9</th>\n",
              "      <td>3.7</td>\n",
              "      <td>57189.0</td>\n",
              "    </tr>\n",
              "    <tr>\n",
              "      <th>10</th>\n",
              "      <td>3.9</td>\n",
              "      <td>63218.0</td>\n",
              "    </tr>\n",
              "    <tr>\n",
              "      <th>11</th>\n",
              "      <td>4.0</td>\n",
              "      <td>55794.0</td>\n",
              "    </tr>\n",
              "    <tr>\n",
              "      <th>12</th>\n",
              "      <td>4.0</td>\n",
              "      <td>56957.0</td>\n",
              "    </tr>\n",
              "    <tr>\n",
              "      <th>13</th>\n",
              "      <td>4.1</td>\n",
              "      <td>57081.0</td>\n",
              "    </tr>\n",
              "    <tr>\n",
              "      <th>14</th>\n",
              "      <td>4.5</td>\n",
              "      <td>61111.0</td>\n",
              "    </tr>\n",
              "    <tr>\n",
              "      <th>15</th>\n",
              "      <td>4.9</td>\n",
              "      <td>67938.0</td>\n",
              "    </tr>\n",
              "    <tr>\n",
              "      <th>16</th>\n",
              "      <td>5.1</td>\n",
              "      <td>66029.0</td>\n",
              "    </tr>\n",
              "    <tr>\n",
              "      <th>17</th>\n",
              "      <td>5.3</td>\n",
              "      <td>83088.0</td>\n",
              "    </tr>\n",
              "    <tr>\n",
              "      <th>18</th>\n",
              "      <td>5.9</td>\n",
              "      <td>81363.0</td>\n",
              "    </tr>\n",
              "    <tr>\n",
              "      <th>19</th>\n",
              "      <td>6.0</td>\n",
              "      <td>93940.0</td>\n",
              "    </tr>\n",
              "    <tr>\n",
              "      <th>20</th>\n",
              "      <td>6.8</td>\n",
              "      <td>91738.0</td>\n",
              "    </tr>\n",
              "    <tr>\n",
              "      <th>21</th>\n",
              "      <td>7.1</td>\n",
              "      <td>98273.0</td>\n",
              "    </tr>\n",
              "    <tr>\n",
              "      <th>22</th>\n",
              "      <td>7.9</td>\n",
              "      <td>101302.0</td>\n",
              "    </tr>\n",
              "    <tr>\n",
              "      <th>23</th>\n",
              "      <td>8.2</td>\n",
              "      <td>113812.0</td>\n",
              "    </tr>\n",
              "    <tr>\n",
              "      <th>24</th>\n",
              "      <td>8.7</td>\n",
              "      <td>109431.0</td>\n",
              "    </tr>\n",
              "    <tr>\n",
              "      <th>25</th>\n",
              "      <td>9.0</td>\n",
              "      <td>105582.0</td>\n",
              "    </tr>\n",
              "    <tr>\n",
              "      <th>26</th>\n",
              "      <td>9.5</td>\n",
              "      <td>116969.0</td>\n",
              "    </tr>\n",
              "    <tr>\n",
              "      <th>27</th>\n",
              "      <td>9.6</td>\n",
              "      <td>112635.0</td>\n",
              "    </tr>\n",
              "    <tr>\n",
              "      <th>28</th>\n",
              "      <td>10.3</td>\n",
              "      <td>122391.0</td>\n",
              "    </tr>\n",
              "    <tr>\n",
              "      <th>29</th>\n",
              "      <td>10.5</td>\n",
              "      <td>121872.0</td>\n",
              "    </tr>\n",
              "  </tbody>\n",
              "</table>\n",
              "</div>\n",
              "      <button class=\"colab-df-convert\" onclick=\"convertToInteractive('df-8f38ddcd-70d3-44cf-9321-3224dbc6871c')\"\n",
              "              title=\"Convert this dataframe to an interactive table.\"\n",
              "              style=\"display:none;\">\n",
              "        \n",
              "  <svg xmlns=\"http://www.w3.org/2000/svg\" height=\"24px\"viewBox=\"0 0 24 24\"\n",
              "       width=\"24px\">\n",
              "    <path d=\"M0 0h24v24H0V0z\" fill=\"none\"/>\n",
              "    <path d=\"M18.56 5.44l.94 2.06.94-2.06 2.06-.94-2.06-.94-.94-2.06-.94 2.06-2.06.94zm-11 1L8.5 8.5l.94-2.06 2.06-.94-2.06-.94L8.5 2.5l-.94 2.06-2.06.94zm10 10l.94 2.06.94-2.06 2.06-.94-2.06-.94-.94-2.06-.94 2.06-2.06.94z\"/><path d=\"M17.41 7.96l-1.37-1.37c-.4-.4-.92-.59-1.43-.59-.52 0-1.04.2-1.43.59L10.3 9.45l-7.72 7.72c-.78.78-.78 2.05 0 2.83L4 21.41c.39.39.9.59 1.41.59.51 0 1.02-.2 1.41-.59l7.78-7.78 2.81-2.81c.8-.78.8-2.07 0-2.86zM5.41 20L4 18.59l7.72-7.72 1.47 1.35L5.41 20z\"/>\n",
              "  </svg>\n",
              "      </button>\n",
              "      \n",
              "  <style>\n",
              "    .colab-df-container {\n",
              "      display:flex;\n",
              "      flex-wrap:wrap;\n",
              "      gap: 12px;\n",
              "    }\n",
              "\n",
              "    .colab-df-convert {\n",
              "      background-color: #E8F0FE;\n",
              "      border: none;\n",
              "      border-radius: 50%;\n",
              "      cursor: pointer;\n",
              "      display: none;\n",
              "      fill: #1967D2;\n",
              "      height: 32px;\n",
              "      padding: 0 0 0 0;\n",
              "      width: 32px;\n",
              "    }\n",
              "\n",
              "    .colab-df-convert:hover {\n",
              "      background-color: #E2EBFA;\n",
              "      box-shadow: 0px 1px 2px rgba(60, 64, 67, 0.3), 0px 1px 3px 1px rgba(60, 64, 67, 0.15);\n",
              "      fill: #174EA6;\n",
              "    }\n",
              "\n",
              "    [theme=dark] .colab-df-convert {\n",
              "      background-color: #3B4455;\n",
              "      fill: #D2E3FC;\n",
              "    }\n",
              "\n",
              "    [theme=dark] .colab-df-convert:hover {\n",
              "      background-color: #434B5C;\n",
              "      box-shadow: 0px 1px 3px 1px rgba(0, 0, 0, 0.15);\n",
              "      filter: drop-shadow(0px 1px 2px rgba(0, 0, 0, 0.3));\n",
              "      fill: #FFFFFF;\n",
              "    }\n",
              "  </style>\n",
              "\n",
              "      <script>\n",
              "        const buttonEl =\n",
              "          document.querySelector('#df-8f38ddcd-70d3-44cf-9321-3224dbc6871c button.colab-df-convert');\n",
              "        buttonEl.style.display =\n",
              "          google.colab.kernel.accessAllowed ? 'block' : 'none';\n",
              "\n",
              "        async function convertToInteractive(key) {\n",
              "          const element = document.querySelector('#df-8f38ddcd-70d3-44cf-9321-3224dbc6871c');\n",
              "          const dataTable =\n",
              "            await google.colab.kernel.invokeFunction('convertToInteractive',\n",
              "                                                     [key], {});\n",
              "          if (!dataTable) return;\n",
              "\n",
              "          const docLinkHtml = 'Like what you see? Visit the ' +\n",
              "            '<a target=\"_blank\" href=https://colab.research.google.com/notebooks/data_table.ipynb>data table notebook</a>'\n",
              "            + ' to learn more about interactive tables.';\n",
              "          element.innerHTML = '';\n",
              "          dataTable['output_type'] = 'display_data';\n",
              "          await google.colab.output.renderOutput(dataTable, element);\n",
              "          const docLink = document.createElement('div');\n",
              "          docLink.innerHTML = docLinkHtml;\n",
              "          element.appendChild(docLink);\n",
              "        }\n",
              "      </script>\n",
              "    </div>\n",
              "  </div>\n",
              "  "
            ]
          },
          "metadata": {},
          "execution_count": 51
        }
      ]
    },
    {
      "cell_type": "code",
      "source": [
        "data.winsorize()"
      ],
      "metadata": {
        "id": "h0PWhsoEQg2Q"
      },
      "execution_count": 52,
      "outputs": []
    },
    {
      "cell_type": "code",
      "source": [
        "print(np.percentile(salary_data['YearsExperience'], 2.5))\n",
        "print(np.percentile(salary_data['YearsExperience'], 97.5))"
      ],
      "metadata": {
        "colab": {
          "base_uri": "https://localhost:8080/"
        },
        "id": "iyjaiS7qQ1Ym",
        "outputId": "bab187c4-d47f-4731-b405-9e1880cab83f"
      },
      "execution_count": 54,
      "outputs": [
        {
          "output_type": "stream",
          "name": "stdout",
          "text": [
            "1.245\n",
            "10.355\n"
          ]
        }
      ]
    },
    {
      "cell_type": "code",
      "source": [
        "print(np.percentile(salary_data['Salary'], 2.5))\n",
        "print(np.percentile(salary_data['Salary'], 97.5))"
      ],
      "metadata": {
        "colab": {
          "base_uri": "https://localhost:8080/"
        },
        "id": "-c-8_X9LRCA5",
        "outputId": "5cd9d3e8-1340-4724-f4f6-6284a72029f4"
      },
      "execution_count": 55,
      "outputs": [
        {
          "output_type": "stream",
          "name": "stdout",
          "text": [
            "38899.7\n",
            "122014.725\n"
          ]
        }
      ]
    },
    {
      "cell_type": "code",
      "source": [
        "data.df"
      ],
      "metadata": {
        "colab": {
          "base_uri": "https://localhost:8080/",
          "height": 990
        },
        "id": "hXz3XiawQvWK",
        "outputId": "daf9277d-8a83-42a5-b652-bba43739d50a"
      },
      "execution_count": 53,
      "outputs": [
        {
          "output_type": "execute_result",
          "data": {
            "text/plain": [
              "    YearsExperience      Salary\n",
              "0             1.245   39343.000\n",
              "1             1.300   46205.000\n",
              "2             1.500   38899.700\n",
              "3             2.000   43525.000\n",
              "4             2.200   39891.000\n",
              "5             2.900   56642.000\n",
              "6             3.000   60150.000\n",
              "7             3.200   54445.000\n",
              "8             3.200   64445.000\n",
              "9             3.700   57189.000\n",
              "10            3.900   63218.000\n",
              "11            4.000   55794.000\n",
              "12            4.000   56957.000\n",
              "13            4.100   57081.000\n",
              "14            4.500   61111.000\n",
              "15            4.900   67938.000\n",
              "16            5.100   66029.000\n",
              "17            5.300   83088.000\n",
              "18            5.900   81363.000\n",
              "19            6.000   93940.000\n",
              "20            6.800   91738.000\n",
              "21            7.100   98273.000\n",
              "22            7.900  101302.000\n",
              "23            8.200  113812.000\n",
              "24            8.700  109431.000\n",
              "25            9.000  105582.000\n",
              "26            9.500  116969.000\n",
              "27            9.600  112635.000\n",
              "28           10.300  122014.725\n",
              "29           10.355  121872.000"
            ],
            "text/html": [
              "\n",
              "  <div id=\"df-0833b632-d892-4637-a4c5-212cd6714296\">\n",
              "    <div class=\"colab-df-container\">\n",
              "      <div>\n",
              "<style scoped>\n",
              "    .dataframe tbody tr th:only-of-type {\n",
              "        vertical-align: middle;\n",
              "    }\n",
              "\n",
              "    .dataframe tbody tr th {\n",
              "        vertical-align: top;\n",
              "    }\n",
              "\n",
              "    .dataframe thead th {\n",
              "        text-align: right;\n",
              "    }\n",
              "</style>\n",
              "<table border=\"1\" class=\"dataframe\">\n",
              "  <thead>\n",
              "    <tr style=\"text-align: right;\">\n",
              "      <th></th>\n",
              "      <th>YearsExperience</th>\n",
              "      <th>Salary</th>\n",
              "    </tr>\n",
              "  </thead>\n",
              "  <tbody>\n",
              "    <tr>\n",
              "      <th>0</th>\n",
              "      <td>1.245</td>\n",
              "      <td>39343.000</td>\n",
              "    </tr>\n",
              "    <tr>\n",
              "      <th>1</th>\n",
              "      <td>1.300</td>\n",
              "      <td>46205.000</td>\n",
              "    </tr>\n",
              "    <tr>\n",
              "      <th>2</th>\n",
              "      <td>1.500</td>\n",
              "      <td>38899.700</td>\n",
              "    </tr>\n",
              "    <tr>\n",
              "      <th>3</th>\n",
              "      <td>2.000</td>\n",
              "      <td>43525.000</td>\n",
              "    </tr>\n",
              "    <tr>\n",
              "      <th>4</th>\n",
              "      <td>2.200</td>\n",
              "      <td>39891.000</td>\n",
              "    </tr>\n",
              "    <tr>\n",
              "      <th>5</th>\n",
              "      <td>2.900</td>\n",
              "      <td>56642.000</td>\n",
              "    </tr>\n",
              "    <tr>\n",
              "      <th>6</th>\n",
              "      <td>3.000</td>\n",
              "      <td>60150.000</td>\n",
              "    </tr>\n",
              "    <tr>\n",
              "      <th>7</th>\n",
              "      <td>3.200</td>\n",
              "      <td>54445.000</td>\n",
              "    </tr>\n",
              "    <tr>\n",
              "      <th>8</th>\n",
              "      <td>3.200</td>\n",
              "      <td>64445.000</td>\n",
              "    </tr>\n",
              "    <tr>\n",
              "      <th>9</th>\n",
              "      <td>3.700</td>\n",
              "      <td>57189.000</td>\n",
              "    </tr>\n",
              "    <tr>\n",
              "      <th>10</th>\n",
              "      <td>3.900</td>\n",
              "      <td>63218.000</td>\n",
              "    </tr>\n",
              "    <tr>\n",
              "      <th>11</th>\n",
              "      <td>4.000</td>\n",
              "      <td>55794.000</td>\n",
              "    </tr>\n",
              "    <tr>\n",
              "      <th>12</th>\n",
              "      <td>4.000</td>\n",
              "      <td>56957.000</td>\n",
              "    </tr>\n",
              "    <tr>\n",
              "      <th>13</th>\n",
              "      <td>4.100</td>\n",
              "      <td>57081.000</td>\n",
              "    </tr>\n",
              "    <tr>\n",
              "      <th>14</th>\n",
              "      <td>4.500</td>\n",
              "      <td>61111.000</td>\n",
              "    </tr>\n",
              "    <tr>\n",
              "      <th>15</th>\n",
              "      <td>4.900</td>\n",
              "      <td>67938.000</td>\n",
              "    </tr>\n",
              "    <tr>\n",
              "      <th>16</th>\n",
              "      <td>5.100</td>\n",
              "      <td>66029.000</td>\n",
              "    </tr>\n",
              "    <tr>\n",
              "      <th>17</th>\n",
              "      <td>5.300</td>\n",
              "      <td>83088.000</td>\n",
              "    </tr>\n",
              "    <tr>\n",
              "      <th>18</th>\n",
              "      <td>5.900</td>\n",
              "      <td>81363.000</td>\n",
              "    </tr>\n",
              "    <tr>\n",
              "      <th>19</th>\n",
              "      <td>6.000</td>\n",
              "      <td>93940.000</td>\n",
              "    </tr>\n",
              "    <tr>\n",
              "      <th>20</th>\n",
              "      <td>6.800</td>\n",
              "      <td>91738.000</td>\n",
              "    </tr>\n",
              "    <tr>\n",
              "      <th>21</th>\n",
              "      <td>7.100</td>\n",
              "      <td>98273.000</td>\n",
              "    </tr>\n",
              "    <tr>\n",
              "      <th>22</th>\n",
              "      <td>7.900</td>\n",
              "      <td>101302.000</td>\n",
              "    </tr>\n",
              "    <tr>\n",
              "      <th>23</th>\n",
              "      <td>8.200</td>\n",
              "      <td>113812.000</td>\n",
              "    </tr>\n",
              "    <tr>\n",
              "      <th>24</th>\n",
              "      <td>8.700</td>\n",
              "      <td>109431.000</td>\n",
              "    </tr>\n",
              "    <tr>\n",
              "      <th>25</th>\n",
              "      <td>9.000</td>\n",
              "      <td>105582.000</td>\n",
              "    </tr>\n",
              "    <tr>\n",
              "      <th>26</th>\n",
              "      <td>9.500</td>\n",
              "      <td>116969.000</td>\n",
              "    </tr>\n",
              "    <tr>\n",
              "      <th>27</th>\n",
              "      <td>9.600</td>\n",
              "      <td>112635.000</td>\n",
              "    </tr>\n",
              "    <tr>\n",
              "      <th>28</th>\n",
              "      <td>10.300</td>\n",
              "      <td>122014.725</td>\n",
              "    </tr>\n",
              "    <tr>\n",
              "      <th>29</th>\n",
              "      <td>10.355</td>\n",
              "      <td>121872.000</td>\n",
              "    </tr>\n",
              "  </tbody>\n",
              "</table>\n",
              "</div>\n",
              "      <button class=\"colab-df-convert\" onclick=\"convertToInteractive('df-0833b632-d892-4637-a4c5-212cd6714296')\"\n",
              "              title=\"Convert this dataframe to an interactive table.\"\n",
              "              style=\"display:none;\">\n",
              "        \n",
              "  <svg xmlns=\"http://www.w3.org/2000/svg\" height=\"24px\"viewBox=\"0 0 24 24\"\n",
              "       width=\"24px\">\n",
              "    <path d=\"M0 0h24v24H0V0z\" fill=\"none\"/>\n",
              "    <path d=\"M18.56 5.44l.94 2.06.94-2.06 2.06-.94-2.06-.94-.94-2.06-.94 2.06-2.06.94zm-11 1L8.5 8.5l.94-2.06 2.06-.94-2.06-.94L8.5 2.5l-.94 2.06-2.06.94zm10 10l.94 2.06.94-2.06 2.06-.94-2.06-.94-.94-2.06-.94 2.06-2.06.94z\"/><path d=\"M17.41 7.96l-1.37-1.37c-.4-.4-.92-.59-1.43-.59-.52 0-1.04.2-1.43.59L10.3 9.45l-7.72 7.72c-.78.78-.78 2.05 0 2.83L4 21.41c.39.39.9.59 1.41.59.51 0 1.02-.2 1.41-.59l7.78-7.78 2.81-2.81c.8-.78.8-2.07 0-2.86zM5.41 20L4 18.59l7.72-7.72 1.47 1.35L5.41 20z\"/>\n",
              "  </svg>\n",
              "      </button>\n",
              "      \n",
              "  <style>\n",
              "    .colab-df-container {\n",
              "      display:flex;\n",
              "      flex-wrap:wrap;\n",
              "      gap: 12px;\n",
              "    }\n",
              "\n",
              "    .colab-df-convert {\n",
              "      background-color: #E8F0FE;\n",
              "      border: none;\n",
              "      border-radius: 50%;\n",
              "      cursor: pointer;\n",
              "      display: none;\n",
              "      fill: #1967D2;\n",
              "      height: 32px;\n",
              "      padding: 0 0 0 0;\n",
              "      width: 32px;\n",
              "    }\n",
              "\n",
              "    .colab-df-convert:hover {\n",
              "      background-color: #E2EBFA;\n",
              "      box-shadow: 0px 1px 2px rgba(60, 64, 67, 0.3), 0px 1px 3px 1px rgba(60, 64, 67, 0.15);\n",
              "      fill: #174EA6;\n",
              "    }\n",
              "\n",
              "    [theme=dark] .colab-df-convert {\n",
              "      background-color: #3B4455;\n",
              "      fill: #D2E3FC;\n",
              "    }\n",
              "\n",
              "    [theme=dark] .colab-df-convert:hover {\n",
              "      background-color: #434B5C;\n",
              "      box-shadow: 0px 1px 3px 1px rgba(0, 0, 0, 0.15);\n",
              "      filter: drop-shadow(0px 1px 2px rgba(0, 0, 0, 0.3));\n",
              "      fill: #FFFFFF;\n",
              "    }\n",
              "  </style>\n",
              "\n",
              "      <script>\n",
              "        const buttonEl =\n",
              "          document.querySelector('#df-0833b632-d892-4637-a4c5-212cd6714296 button.colab-df-convert');\n",
              "        buttonEl.style.display =\n",
              "          google.colab.kernel.accessAllowed ? 'block' : 'none';\n",
              "\n",
              "        async function convertToInteractive(key) {\n",
              "          const element = document.querySelector('#df-0833b632-d892-4637-a4c5-212cd6714296');\n",
              "          const dataTable =\n",
              "            await google.colab.kernel.invokeFunction('convertToInteractive',\n",
              "                                                     [key], {});\n",
              "          if (!dataTable) return;\n",
              "\n",
              "          const docLinkHtml = 'Like what you see? Visit the ' +\n",
              "            '<a target=\"_blank\" href=https://colab.research.google.com/notebooks/data_table.ipynb>data table notebook</a>'\n",
              "            + ' to learn more about interactive tables.';\n",
              "          element.innerHTML = '';\n",
              "          dataTable['output_type'] = 'display_data';\n",
              "          await google.colab.output.renderOutput(dataTable, element);\n",
              "          const docLink = document.createElement('div');\n",
              "          docLink.innerHTML = docLinkHtml;\n",
              "          element.appendChild(docLink);\n",
              "        }\n",
              "      </script>\n",
              "    </div>\n",
              "  </div>\n",
              "  "
            ]
          },
          "metadata": {},
          "execution_count": 53
        }
      ]
    },
    {
      "cell_type": "code",
      "source": [
        "data.standardize()"
      ],
      "metadata": {
        "id": "Fk7jaE_yQwNR"
      },
      "execution_count": 56,
      "outputs": []
    },
    {
      "cell_type": "code",
      "source": [
        "data.df"
      ],
      "metadata": {
        "colab": {
          "base_uri": "https://localhost:8080/",
          "height": 990
        },
        "id": "xPxeEHbjRL0Z",
        "outputId": "05024add-60e7-4092-8f99-3347e18a71dd"
      },
      "execution_count": 57,
      "outputs": [
        {
          "output_type": "execute_result",
          "data": {
            "text/plain": [
              "    YearsExperience    Salary\n",
              "0         -1.441887 -1.342004\n",
              "1         -1.422394 -1.090989\n",
              "2         -1.351510 -1.358220\n",
              "3         -1.174302 -1.189025\n",
              "4         -1.103418 -1.321958\n",
              "5         -0.855326 -0.709199\n",
              "6         -0.819885 -0.580875\n",
              "7         -0.749001 -0.789567\n",
              "8         -0.749001 -0.423763\n",
              "9         -0.571793 -0.689190\n",
              "10        -0.500909 -0.468647\n",
              "11        -0.465468 -0.740220\n",
              "12        -0.465468 -0.697677\n",
              "13        -0.430026 -0.693141\n",
              "14        -0.288259 -0.545722\n",
              "15        -0.146492 -0.295987\n",
              "16        -0.075609 -0.365819\n",
              "17        -0.004726  0.258206\n",
              "18         0.207925  0.195105\n",
              "19         0.243366  0.655176\n",
              "20         0.526900  0.574626\n",
              "21         0.633225  0.813679\n",
              "22         0.916759  0.924481\n",
              "23         1.023084  1.382102\n",
              "24         1.200292  1.221844\n",
              "25         1.306617  1.081046\n",
              "26         1.483826  1.497587\n",
              "27         1.519268  1.339047\n",
              "28         1.767360  1.682161\n",
              "29         1.786852  1.676940"
            ],
            "text/html": [
              "\n",
              "  <div id=\"df-ee3321f7-163e-49b7-978c-e1858483dd8a\">\n",
              "    <div class=\"colab-df-container\">\n",
              "      <div>\n",
              "<style scoped>\n",
              "    .dataframe tbody tr th:only-of-type {\n",
              "        vertical-align: middle;\n",
              "    }\n",
              "\n",
              "    .dataframe tbody tr th {\n",
              "        vertical-align: top;\n",
              "    }\n",
              "\n",
              "    .dataframe thead th {\n",
              "        text-align: right;\n",
              "    }\n",
              "</style>\n",
              "<table border=\"1\" class=\"dataframe\">\n",
              "  <thead>\n",
              "    <tr style=\"text-align: right;\">\n",
              "      <th></th>\n",
              "      <th>YearsExperience</th>\n",
              "      <th>Salary</th>\n",
              "    </tr>\n",
              "  </thead>\n",
              "  <tbody>\n",
              "    <tr>\n",
              "      <th>0</th>\n",
              "      <td>-1.441887</td>\n",
              "      <td>-1.342004</td>\n",
              "    </tr>\n",
              "    <tr>\n",
              "      <th>1</th>\n",
              "      <td>-1.422394</td>\n",
              "      <td>-1.090989</td>\n",
              "    </tr>\n",
              "    <tr>\n",
              "      <th>2</th>\n",
              "      <td>-1.351510</td>\n",
              "      <td>-1.358220</td>\n",
              "    </tr>\n",
              "    <tr>\n",
              "      <th>3</th>\n",
              "      <td>-1.174302</td>\n",
              "      <td>-1.189025</td>\n",
              "    </tr>\n",
              "    <tr>\n",
              "      <th>4</th>\n",
              "      <td>-1.103418</td>\n",
              "      <td>-1.321958</td>\n",
              "    </tr>\n",
              "    <tr>\n",
              "      <th>5</th>\n",
              "      <td>-0.855326</td>\n",
              "      <td>-0.709199</td>\n",
              "    </tr>\n",
              "    <tr>\n",
              "      <th>6</th>\n",
              "      <td>-0.819885</td>\n",
              "      <td>-0.580875</td>\n",
              "    </tr>\n",
              "    <tr>\n",
              "      <th>7</th>\n",
              "      <td>-0.749001</td>\n",
              "      <td>-0.789567</td>\n",
              "    </tr>\n",
              "    <tr>\n",
              "      <th>8</th>\n",
              "      <td>-0.749001</td>\n",
              "      <td>-0.423763</td>\n",
              "    </tr>\n",
              "    <tr>\n",
              "      <th>9</th>\n",
              "      <td>-0.571793</td>\n",
              "      <td>-0.689190</td>\n",
              "    </tr>\n",
              "    <tr>\n",
              "      <th>10</th>\n",
              "      <td>-0.500909</td>\n",
              "      <td>-0.468647</td>\n",
              "    </tr>\n",
              "    <tr>\n",
              "      <th>11</th>\n",
              "      <td>-0.465468</td>\n",
              "      <td>-0.740220</td>\n",
              "    </tr>\n",
              "    <tr>\n",
              "      <th>12</th>\n",
              "      <td>-0.465468</td>\n",
              "      <td>-0.697677</td>\n",
              "    </tr>\n",
              "    <tr>\n",
              "      <th>13</th>\n",
              "      <td>-0.430026</td>\n",
              "      <td>-0.693141</td>\n",
              "    </tr>\n",
              "    <tr>\n",
              "      <th>14</th>\n",
              "      <td>-0.288259</td>\n",
              "      <td>-0.545722</td>\n",
              "    </tr>\n",
              "    <tr>\n",
              "      <th>15</th>\n",
              "      <td>-0.146492</td>\n",
              "      <td>-0.295987</td>\n",
              "    </tr>\n",
              "    <tr>\n",
              "      <th>16</th>\n",
              "      <td>-0.075609</td>\n",
              "      <td>-0.365819</td>\n",
              "    </tr>\n",
              "    <tr>\n",
              "      <th>17</th>\n",
              "      <td>-0.004726</td>\n",
              "      <td>0.258206</td>\n",
              "    </tr>\n",
              "    <tr>\n",
              "      <th>18</th>\n",
              "      <td>0.207925</td>\n",
              "      <td>0.195105</td>\n",
              "    </tr>\n",
              "    <tr>\n",
              "      <th>19</th>\n",
              "      <td>0.243366</td>\n",
              "      <td>0.655176</td>\n",
              "    </tr>\n",
              "    <tr>\n",
              "      <th>20</th>\n",
              "      <td>0.526900</td>\n",
              "      <td>0.574626</td>\n",
              "    </tr>\n",
              "    <tr>\n",
              "      <th>21</th>\n",
              "      <td>0.633225</td>\n",
              "      <td>0.813679</td>\n",
              "    </tr>\n",
              "    <tr>\n",
              "      <th>22</th>\n",
              "      <td>0.916759</td>\n",
              "      <td>0.924481</td>\n",
              "    </tr>\n",
              "    <tr>\n",
              "      <th>23</th>\n",
              "      <td>1.023084</td>\n",
              "      <td>1.382102</td>\n",
              "    </tr>\n",
              "    <tr>\n",
              "      <th>24</th>\n",
              "      <td>1.200292</td>\n",
              "      <td>1.221844</td>\n",
              "    </tr>\n",
              "    <tr>\n",
              "      <th>25</th>\n",
              "      <td>1.306617</td>\n",
              "      <td>1.081046</td>\n",
              "    </tr>\n",
              "    <tr>\n",
              "      <th>26</th>\n",
              "      <td>1.483826</td>\n",
              "      <td>1.497587</td>\n",
              "    </tr>\n",
              "    <tr>\n",
              "      <th>27</th>\n",
              "      <td>1.519268</td>\n",
              "      <td>1.339047</td>\n",
              "    </tr>\n",
              "    <tr>\n",
              "      <th>28</th>\n",
              "      <td>1.767360</td>\n",
              "      <td>1.682161</td>\n",
              "    </tr>\n",
              "    <tr>\n",
              "      <th>29</th>\n",
              "      <td>1.786852</td>\n",
              "      <td>1.676940</td>\n",
              "    </tr>\n",
              "  </tbody>\n",
              "</table>\n",
              "</div>\n",
              "      <button class=\"colab-df-convert\" onclick=\"convertToInteractive('df-ee3321f7-163e-49b7-978c-e1858483dd8a')\"\n",
              "              title=\"Convert this dataframe to an interactive table.\"\n",
              "              style=\"display:none;\">\n",
              "        \n",
              "  <svg xmlns=\"http://www.w3.org/2000/svg\" height=\"24px\"viewBox=\"0 0 24 24\"\n",
              "       width=\"24px\">\n",
              "    <path d=\"M0 0h24v24H0V0z\" fill=\"none\"/>\n",
              "    <path d=\"M18.56 5.44l.94 2.06.94-2.06 2.06-.94-2.06-.94-.94-2.06-.94 2.06-2.06.94zm-11 1L8.5 8.5l.94-2.06 2.06-.94-2.06-.94L8.5 2.5l-.94 2.06-2.06.94zm10 10l.94 2.06.94-2.06 2.06-.94-2.06-.94-.94-2.06-.94 2.06-2.06.94z\"/><path d=\"M17.41 7.96l-1.37-1.37c-.4-.4-.92-.59-1.43-.59-.52 0-1.04.2-1.43.59L10.3 9.45l-7.72 7.72c-.78.78-.78 2.05 0 2.83L4 21.41c.39.39.9.59 1.41.59.51 0 1.02-.2 1.41-.59l7.78-7.78 2.81-2.81c.8-.78.8-2.07 0-2.86zM5.41 20L4 18.59l7.72-7.72 1.47 1.35L5.41 20z\"/>\n",
              "  </svg>\n",
              "      </button>\n",
              "      \n",
              "  <style>\n",
              "    .colab-df-container {\n",
              "      display:flex;\n",
              "      flex-wrap:wrap;\n",
              "      gap: 12px;\n",
              "    }\n",
              "\n",
              "    .colab-df-convert {\n",
              "      background-color: #E8F0FE;\n",
              "      border: none;\n",
              "      border-radius: 50%;\n",
              "      cursor: pointer;\n",
              "      display: none;\n",
              "      fill: #1967D2;\n",
              "      height: 32px;\n",
              "      padding: 0 0 0 0;\n",
              "      width: 32px;\n",
              "    }\n",
              "\n",
              "    .colab-df-convert:hover {\n",
              "      background-color: #E2EBFA;\n",
              "      box-shadow: 0px 1px 2px rgba(60, 64, 67, 0.3), 0px 1px 3px 1px rgba(60, 64, 67, 0.15);\n",
              "      fill: #174EA6;\n",
              "    }\n",
              "\n",
              "    [theme=dark] .colab-df-convert {\n",
              "      background-color: #3B4455;\n",
              "      fill: #D2E3FC;\n",
              "    }\n",
              "\n",
              "    [theme=dark] .colab-df-convert:hover {\n",
              "      background-color: #434B5C;\n",
              "      box-shadow: 0px 1px 3px 1px rgba(0, 0, 0, 0.15);\n",
              "      filter: drop-shadow(0px 1px 2px rgba(0, 0, 0, 0.3));\n",
              "      fill: #FFFFFF;\n",
              "    }\n",
              "  </style>\n",
              "\n",
              "      <script>\n",
              "        const buttonEl =\n",
              "          document.querySelector('#df-ee3321f7-163e-49b7-978c-e1858483dd8a button.colab-df-convert');\n",
              "        buttonEl.style.display =\n",
              "          google.colab.kernel.accessAllowed ? 'block' : 'none';\n",
              "\n",
              "        async function convertToInteractive(key) {\n",
              "          const element = document.querySelector('#df-ee3321f7-163e-49b7-978c-e1858483dd8a');\n",
              "          const dataTable =\n",
              "            await google.colab.kernel.invokeFunction('convertToInteractive',\n",
              "                                                     [key], {});\n",
              "          if (!dataTable) return;\n",
              "\n",
              "          const docLinkHtml = 'Like what you see? Visit the ' +\n",
              "            '<a target=\"_blank\" href=https://colab.research.google.com/notebooks/data_table.ipynb>data table notebook</a>'\n",
              "            + ' to learn more about interactive tables.';\n",
              "          element.innerHTML = '';\n",
              "          dataTable['output_type'] = 'display_data';\n",
              "          await google.colab.output.renderOutput(dataTable, element);\n",
              "          const docLink = document.createElement('div');\n",
              "          docLink.innerHTML = docLinkHtml;\n",
              "          element.appendChild(docLink);\n",
              "        }\n",
              "      </script>\n",
              "    </div>\n",
              "  </div>\n",
              "  "
            ]
          },
          "metadata": {},
          "execution_count": 57
        }
      ]
    },
    {
      "cell_type": "markdown",
      "source": [
        "Now we can create a class DataExplorer that would inherit from DataPreprocessor and we will add two methods to create correlation matrix and plot the two variables of the data. (Again, both the classes assume that this is a two column dataframe to keep the example simple)"
      ],
      "metadata": {
        "id": "6Ij_PMnPRQS9"
      }
    },
    {
      "cell_type": "code",
      "source": [
        "import matplotlib.pyplot as plt\n",
        "\n",
        "class DataPreprocesser:\n",
        "\n",
        "  def __init__(self, df):\n",
        "    self.df = df.copy()\n",
        "  \n",
        "  def main(self):\n",
        "    self.impute_missing()\n",
        "    self.winsorize()\n",
        "    self.standardize()\n",
        "\n",
        "  def impute_missing(self):\n",
        "    \n",
        "    for col in self.df:\n",
        "      self.df[col].fillna(np.median(self.df[col]), inplace = True)\n",
        "\n",
        "  def winsorize(self):\n",
        "\n",
        "    for col in self.df:\n",
        "      col_lower = np.percentile(self.df[col], 2.5)\n",
        "      col_upper = np.percentile(self.df[col], 97.5)\n",
        "      \n",
        "      self.df[col] = np.where(self.df[col] < col_lower, col_lower, np.where(self.df[col] > col_upper, col_upper, self.df[col])) \n",
        "\n",
        "  def standardize(self):\n",
        "\n",
        "    for col in self.df:\n",
        "      self.df[col] = (self.df[col] - self.df[col].mean())/(self.df[col].std())\n",
        "\n",
        "\n",
        "class DataExplorer(DataPreprocesser):\n",
        "\n",
        "  def __init__(self, df):\n",
        "    super().__init__(df)\n",
        "\n",
        "  def compute_correlation(self, method = 'kendall'):\n",
        "    \n",
        "    self.corr_matrix = self.df.corr(method = method)\n",
        "\n",
        "  def plot_df(self):\n",
        "    plt.plot(self.df.iloc[:,0], self.df.iloc[:,1], 'o')\n",
        "    plt.xlabel(f'{self.df.columns[0]}')\n",
        "    plt.ylabel(f'{self.df.columns[1]}')\n",
        "    plt.title(f'{self.df.columns[1]} vs {self.df.columns[0]}')\n",
        "    plt.show()"
      ],
      "metadata": {
        "id": "WYH0B6KxRMlx"
      },
      "execution_count": 70,
      "outputs": []
    },
    {
      "cell_type": "code",
      "source": [
        "data_exp = DataExplorer(salary_data)"
      ],
      "metadata": {
        "id": "t4fBFrhLSrqZ"
      },
      "execution_count": 71,
      "outputs": []
    },
    {
      "cell_type": "code",
      "source": [
        "data_exp.main()"
      ],
      "metadata": {
        "id": "kh9Rm7FIS1Ex"
      },
      "execution_count": 72,
      "outputs": []
    },
    {
      "cell_type": "code",
      "source": [
        "data_exp.df"
      ],
      "metadata": {
        "colab": {
          "base_uri": "https://localhost:8080/",
          "height": 990
        },
        "id": "VPK3_M7jS8OZ",
        "outputId": "432841e8-ed5a-471e-aa58-d192cecef20c"
      },
      "execution_count": 73,
      "outputs": [
        {
          "output_type": "execute_result",
          "data": {
            "text/plain": [
              "    YearsExperience    Salary\n",
              "0         -1.441887 -1.342004\n",
              "1         -1.422394 -1.090989\n",
              "2         -1.351510 -1.358220\n",
              "3         -1.174302 -1.189025\n",
              "4         -1.103418 -1.321958\n",
              "5         -0.855326 -0.709199\n",
              "6         -0.819885 -0.580875\n",
              "7         -0.749001 -0.789567\n",
              "8         -0.749001 -0.423763\n",
              "9         -0.571793 -0.689190\n",
              "10        -0.500909 -0.468647\n",
              "11        -0.465468 -0.740220\n",
              "12        -0.465468 -0.697677\n",
              "13        -0.430026 -0.693141\n",
              "14        -0.288259 -0.545722\n",
              "15        -0.146492 -0.295987\n",
              "16        -0.075609 -0.365819\n",
              "17        -0.004726  0.258206\n",
              "18         0.207925  0.195105\n",
              "19         0.243366  0.655176\n",
              "20         0.526900  0.574626\n",
              "21         0.633225  0.813679\n",
              "22         0.916759  0.924481\n",
              "23         1.023084  1.382102\n",
              "24         1.200292  1.221844\n",
              "25         1.306617  1.081046\n",
              "26         1.483826  1.497587\n",
              "27         1.519268  1.339047\n",
              "28         1.767360  1.682161\n",
              "29         1.786852  1.676940"
            ],
            "text/html": [
              "\n",
              "  <div id=\"df-712caa76-4af3-4cfb-9864-bf7ff3e0ec08\">\n",
              "    <div class=\"colab-df-container\">\n",
              "      <div>\n",
              "<style scoped>\n",
              "    .dataframe tbody tr th:only-of-type {\n",
              "        vertical-align: middle;\n",
              "    }\n",
              "\n",
              "    .dataframe tbody tr th {\n",
              "        vertical-align: top;\n",
              "    }\n",
              "\n",
              "    .dataframe thead th {\n",
              "        text-align: right;\n",
              "    }\n",
              "</style>\n",
              "<table border=\"1\" class=\"dataframe\">\n",
              "  <thead>\n",
              "    <tr style=\"text-align: right;\">\n",
              "      <th></th>\n",
              "      <th>YearsExperience</th>\n",
              "      <th>Salary</th>\n",
              "    </tr>\n",
              "  </thead>\n",
              "  <tbody>\n",
              "    <tr>\n",
              "      <th>0</th>\n",
              "      <td>-1.441887</td>\n",
              "      <td>-1.342004</td>\n",
              "    </tr>\n",
              "    <tr>\n",
              "      <th>1</th>\n",
              "      <td>-1.422394</td>\n",
              "      <td>-1.090989</td>\n",
              "    </tr>\n",
              "    <tr>\n",
              "      <th>2</th>\n",
              "      <td>-1.351510</td>\n",
              "      <td>-1.358220</td>\n",
              "    </tr>\n",
              "    <tr>\n",
              "      <th>3</th>\n",
              "      <td>-1.174302</td>\n",
              "      <td>-1.189025</td>\n",
              "    </tr>\n",
              "    <tr>\n",
              "      <th>4</th>\n",
              "      <td>-1.103418</td>\n",
              "      <td>-1.321958</td>\n",
              "    </tr>\n",
              "    <tr>\n",
              "      <th>5</th>\n",
              "      <td>-0.855326</td>\n",
              "      <td>-0.709199</td>\n",
              "    </tr>\n",
              "    <tr>\n",
              "      <th>6</th>\n",
              "      <td>-0.819885</td>\n",
              "      <td>-0.580875</td>\n",
              "    </tr>\n",
              "    <tr>\n",
              "      <th>7</th>\n",
              "      <td>-0.749001</td>\n",
              "      <td>-0.789567</td>\n",
              "    </tr>\n",
              "    <tr>\n",
              "      <th>8</th>\n",
              "      <td>-0.749001</td>\n",
              "      <td>-0.423763</td>\n",
              "    </tr>\n",
              "    <tr>\n",
              "      <th>9</th>\n",
              "      <td>-0.571793</td>\n",
              "      <td>-0.689190</td>\n",
              "    </tr>\n",
              "    <tr>\n",
              "      <th>10</th>\n",
              "      <td>-0.500909</td>\n",
              "      <td>-0.468647</td>\n",
              "    </tr>\n",
              "    <tr>\n",
              "      <th>11</th>\n",
              "      <td>-0.465468</td>\n",
              "      <td>-0.740220</td>\n",
              "    </tr>\n",
              "    <tr>\n",
              "      <th>12</th>\n",
              "      <td>-0.465468</td>\n",
              "      <td>-0.697677</td>\n",
              "    </tr>\n",
              "    <tr>\n",
              "      <th>13</th>\n",
              "      <td>-0.430026</td>\n",
              "      <td>-0.693141</td>\n",
              "    </tr>\n",
              "    <tr>\n",
              "      <th>14</th>\n",
              "      <td>-0.288259</td>\n",
              "      <td>-0.545722</td>\n",
              "    </tr>\n",
              "    <tr>\n",
              "      <th>15</th>\n",
              "      <td>-0.146492</td>\n",
              "      <td>-0.295987</td>\n",
              "    </tr>\n",
              "    <tr>\n",
              "      <th>16</th>\n",
              "      <td>-0.075609</td>\n",
              "      <td>-0.365819</td>\n",
              "    </tr>\n",
              "    <tr>\n",
              "      <th>17</th>\n",
              "      <td>-0.004726</td>\n",
              "      <td>0.258206</td>\n",
              "    </tr>\n",
              "    <tr>\n",
              "      <th>18</th>\n",
              "      <td>0.207925</td>\n",
              "      <td>0.195105</td>\n",
              "    </tr>\n",
              "    <tr>\n",
              "      <th>19</th>\n",
              "      <td>0.243366</td>\n",
              "      <td>0.655176</td>\n",
              "    </tr>\n",
              "    <tr>\n",
              "      <th>20</th>\n",
              "      <td>0.526900</td>\n",
              "      <td>0.574626</td>\n",
              "    </tr>\n",
              "    <tr>\n",
              "      <th>21</th>\n",
              "      <td>0.633225</td>\n",
              "      <td>0.813679</td>\n",
              "    </tr>\n",
              "    <tr>\n",
              "      <th>22</th>\n",
              "      <td>0.916759</td>\n",
              "      <td>0.924481</td>\n",
              "    </tr>\n",
              "    <tr>\n",
              "      <th>23</th>\n",
              "      <td>1.023084</td>\n",
              "      <td>1.382102</td>\n",
              "    </tr>\n",
              "    <tr>\n",
              "      <th>24</th>\n",
              "      <td>1.200292</td>\n",
              "      <td>1.221844</td>\n",
              "    </tr>\n",
              "    <tr>\n",
              "      <th>25</th>\n",
              "      <td>1.306617</td>\n",
              "      <td>1.081046</td>\n",
              "    </tr>\n",
              "    <tr>\n",
              "      <th>26</th>\n",
              "      <td>1.483826</td>\n",
              "      <td>1.497587</td>\n",
              "    </tr>\n",
              "    <tr>\n",
              "      <th>27</th>\n",
              "      <td>1.519268</td>\n",
              "      <td>1.339047</td>\n",
              "    </tr>\n",
              "    <tr>\n",
              "      <th>28</th>\n",
              "      <td>1.767360</td>\n",
              "      <td>1.682161</td>\n",
              "    </tr>\n",
              "    <tr>\n",
              "      <th>29</th>\n",
              "      <td>1.786852</td>\n",
              "      <td>1.676940</td>\n",
              "    </tr>\n",
              "  </tbody>\n",
              "</table>\n",
              "</div>\n",
              "      <button class=\"colab-df-convert\" onclick=\"convertToInteractive('df-712caa76-4af3-4cfb-9864-bf7ff3e0ec08')\"\n",
              "              title=\"Convert this dataframe to an interactive table.\"\n",
              "              style=\"display:none;\">\n",
              "        \n",
              "  <svg xmlns=\"http://www.w3.org/2000/svg\" height=\"24px\"viewBox=\"0 0 24 24\"\n",
              "       width=\"24px\">\n",
              "    <path d=\"M0 0h24v24H0V0z\" fill=\"none\"/>\n",
              "    <path d=\"M18.56 5.44l.94 2.06.94-2.06 2.06-.94-2.06-.94-.94-2.06-.94 2.06-2.06.94zm-11 1L8.5 8.5l.94-2.06 2.06-.94-2.06-.94L8.5 2.5l-.94 2.06-2.06.94zm10 10l.94 2.06.94-2.06 2.06-.94-2.06-.94-.94-2.06-.94 2.06-2.06.94z\"/><path d=\"M17.41 7.96l-1.37-1.37c-.4-.4-.92-.59-1.43-.59-.52 0-1.04.2-1.43.59L10.3 9.45l-7.72 7.72c-.78.78-.78 2.05 0 2.83L4 21.41c.39.39.9.59 1.41.59.51 0 1.02-.2 1.41-.59l7.78-7.78 2.81-2.81c.8-.78.8-2.07 0-2.86zM5.41 20L4 18.59l7.72-7.72 1.47 1.35L5.41 20z\"/>\n",
              "  </svg>\n",
              "      </button>\n",
              "      \n",
              "  <style>\n",
              "    .colab-df-container {\n",
              "      display:flex;\n",
              "      flex-wrap:wrap;\n",
              "      gap: 12px;\n",
              "    }\n",
              "\n",
              "    .colab-df-convert {\n",
              "      background-color: #E8F0FE;\n",
              "      border: none;\n",
              "      border-radius: 50%;\n",
              "      cursor: pointer;\n",
              "      display: none;\n",
              "      fill: #1967D2;\n",
              "      height: 32px;\n",
              "      padding: 0 0 0 0;\n",
              "      width: 32px;\n",
              "    }\n",
              "\n",
              "    .colab-df-convert:hover {\n",
              "      background-color: #E2EBFA;\n",
              "      box-shadow: 0px 1px 2px rgba(60, 64, 67, 0.3), 0px 1px 3px 1px rgba(60, 64, 67, 0.15);\n",
              "      fill: #174EA6;\n",
              "    }\n",
              "\n",
              "    [theme=dark] .colab-df-convert {\n",
              "      background-color: #3B4455;\n",
              "      fill: #D2E3FC;\n",
              "    }\n",
              "\n",
              "    [theme=dark] .colab-df-convert:hover {\n",
              "      background-color: #434B5C;\n",
              "      box-shadow: 0px 1px 3px 1px rgba(0, 0, 0, 0.15);\n",
              "      filter: drop-shadow(0px 1px 2px rgba(0, 0, 0, 0.3));\n",
              "      fill: #FFFFFF;\n",
              "    }\n",
              "  </style>\n",
              "\n",
              "      <script>\n",
              "        const buttonEl =\n",
              "          document.querySelector('#df-712caa76-4af3-4cfb-9864-bf7ff3e0ec08 button.colab-df-convert');\n",
              "        buttonEl.style.display =\n",
              "          google.colab.kernel.accessAllowed ? 'block' : 'none';\n",
              "\n",
              "        async function convertToInteractive(key) {\n",
              "          const element = document.querySelector('#df-712caa76-4af3-4cfb-9864-bf7ff3e0ec08');\n",
              "          const dataTable =\n",
              "            await google.colab.kernel.invokeFunction('convertToInteractive',\n",
              "                                                     [key], {});\n",
              "          if (!dataTable) return;\n",
              "\n",
              "          const docLinkHtml = 'Like what you see? Visit the ' +\n",
              "            '<a target=\"_blank\" href=https://colab.research.google.com/notebooks/data_table.ipynb>data table notebook</a>'\n",
              "            + ' to learn more about interactive tables.';\n",
              "          element.innerHTML = '';\n",
              "          dataTable['output_type'] = 'display_data';\n",
              "          await google.colab.output.renderOutput(dataTable, element);\n",
              "          const docLink = document.createElement('div');\n",
              "          docLink.innerHTML = docLinkHtml;\n",
              "          element.appendChild(docLink);\n",
              "        }\n",
              "      </script>\n",
              "    </div>\n",
              "  </div>\n",
              "  "
            ]
          },
          "metadata": {},
          "execution_count": 73
        }
      ]
    },
    {
      "cell_type": "code",
      "source": [
        "# we can verify that both of the dataframes created using DataPreprocessor and DataExplorer are equal\n",
        "data_exp.df.equals(data.df)"
      ],
      "metadata": {
        "colab": {
          "base_uri": "https://localhost:8080/"
        },
        "id": "kxmY5JnhS9VA",
        "outputId": "4095be7f-6239-41da-9af6-09fc5f3f8e64"
      },
      "execution_count": 74,
      "outputs": [
        {
          "output_type": "execute_result",
          "data": {
            "text/plain": [
              "True"
            ]
          },
          "metadata": {},
          "execution_count": 74
        }
      ]
    },
    {
      "cell_type": "code",
      "source": [
        "data_exp.compute_correlation()"
      ],
      "metadata": {
        "id": "Wi1U-znRTJns"
      },
      "execution_count": 75,
      "outputs": []
    },
    {
      "cell_type": "code",
      "source": [
        "data_exp.corr_matrix"
      ],
      "metadata": {
        "colab": {
          "base_uri": "https://localhost:8080/",
          "height": 112
        },
        "id": "HZpN0WezTMEJ",
        "outputId": "4bc99a33-df45-40ca-c72d-3cb360c385f7"
      },
      "execution_count": 76,
      "outputs": [
        {
          "output_type": "execute_result",
          "data": {
            "text/plain": [
              "                 YearsExperience    Salary\n",
              "YearsExperience         1.000000  0.841016\n",
              "Salary                  0.841016  1.000000"
            ],
            "text/html": [
              "\n",
              "  <div id=\"df-d7bc3460-a23e-452e-a342-a96fa7de7e0b\">\n",
              "    <div class=\"colab-df-container\">\n",
              "      <div>\n",
              "<style scoped>\n",
              "    .dataframe tbody tr th:only-of-type {\n",
              "        vertical-align: middle;\n",
              "    }\n",
              "\n",
              "    .dataframe tbody tr th {\n",
              "        vertical-align: top;\n",
              "    }\n",
              "\n",
              "    .dataframe thead th {\n",
              "        text-align: right;\n",
              "    }\n",
              "</style>\n",
              "<table border=\"1\" class=\"dataframe\">\n",
              "  <thead>\n",
              "    <tr style=\"text-align: right;\">\n",
              "      <th></th>\n",
              "      <th>YearsExperience</th>\n",
              "      <th>Salary</th>\n",
              "    </tr>\n",
              "  </thead>\n",
              "  <tbody>\n",
              "    <tr>\n",
              "      <th>YearsExperience</th>\n",
              "      <td>1.000000</td>\n",
              "      <td>0.841016</td>\n",
              "    </tr>\n",
              "    <tr>\n",
              "      <th>Salary</th>\n",
              "      <td>0.841016</td>\n",
              "      <td>1.000000</td>\n",
              "    </tr>\n",
              "  </tbody>\n",
              "</table>\n",
              "</div>\n",
              "      <button class=\"colab-df-convert\" onclick=\"convertToInteractive('df-d7bc3460-a23e-452e-a342-a96fa7de7e0b')\"\n",
              "              title=\"Convert this dataframe to an interactive table.\"\n",
              "              style=\"display:none;\">\n",
              "        \n",
              "  <svg xmlns=\"http://www.w3.org/2000/svg\" height=\"24px\"viewBox=\"0 0 24 24\"\n",
              "       width=\"24px\">\n",
              "    <path d=\"M0 0h24v24H0V0z\" fill=\"none\"/>\n",
              "    <path d=\"M18.56 5.44l.94 2.06.94-2.06 2.06-.94-2.06-.94-.94-2.06-.94 2.06-2.06.94zm-11 1L8.5 8.5l.94-2.06 2.06-.94-2.06-.94L8.5 2.5l-.94 2.06-2.06.94zm10 10l.94 2.06.94-2.06 2.06-.94-2.06-.94-.94-2.06-.94 2.06-2.06.94z\"/><path d=\"M17.41 7.96l-1.37-1.37c-.4-.4-.92-.59-1.43-.59-.52 0-1.04.2-1.43.59L10.3 9.45l-7.72 7.72c-.78.78-.78 2.05 0 2.83L4 21.41c.39.39.9.59 1.41.59.51 0 1.02-.2 1.41-.59l7.78-7.78 2.81-2.81c.8-.78.8-2.07 0-2.86zM5.41 20L4 18.59l7.72-7.72 1.47 1.35L5.41 20z\"/>\n",
              "  </svg>\n",
              "      </button>\n",
              "      \n",
              "  <style>\n",
              "    .colab-df-container {\n",
              "      display:flex;\n",
              "      flex-wrap:wrap;\n",
              "      gap: 12px;\n",
              "    }\n",
              "\n",
              "    .colab-df-convert {\n",
              "      background-color: #E8F0FE;\n",
              "      border: none;\n",
              "      border-radius: 50%;\n",
              "      cursor: pointer;\n",
              "      display: none;\n",
              "      fill: #1967D2;\n",
              "      height: 32px;\n",
              "      padding: 0 0 0 0;\n",
              "      width: 32px;\n",
              "    }\n",
              "\n",
              "    .colab-df-convert:hover {\n",
              "      background-color: #E2EBFA;\n",
              "      box-shadow: 0px 1px 2px rgba(60, 64, 67, 0.3), 0px 1px 3px 1px rgba(60, 64, 67, 0.15);\n",
              "      fill: #174EA6;\n",
              "    }\n",
              "\n",
              "    [theme=dark] .colab-df-convert {\n",
              "      background-color: #3B4455;\n",
              "      fill: #D2E3FC;\n",
              "    }\n",
              "\n",
              "    [theme=dark] .colab-df-convert:hover {\n",
              "      background-color: #434B5C;\n",
              "      box-shadow: 0px 1px 3px 1px rgba(0, 0, 0, 0.15);\n",
              "      filter: drop-shadow(0px 1px 2px rgba(0, 0, 0, 0.3));\n",
              "      fill: #FFFFFF;\n",
              "    }\n",
              "  </style>\n",
              "\n",
              "      <script>\n",
              "        const buttonEl =\n",
              "          document.querySelector('#df-d7bc3460-a23e-452e-a342-a96fa7de7e0b button.colab-df-convert');\n",
              "        buttonEl.style.display =\n",
              "          google.colab.kernel.accessAllowed ? 'block' : 'none';\n",
              "\n",
              "        async function convertToInteractive(key) {\n",
              "          const element = document.querySelector('#df-d7bc3460-a23e-452e-a342-a96fa7de7e0b');\n",
              "          const dataTable =\n",
              "            await google.colab.kernel.invokeFunction('convertToInteractive',\n",
              "                                                     [key], {});\n",
              "          if (!dataTable) return;\n",
              "\n",
              "          const docLinkHtml = 'Like what you see? Visit the ' +\n",
              "            '<a target=\"_blank\" href=https://colab.research.google.com/notebooks/data_table.ipynb>data table notebook</a>'\n",
              "            + ' to learn more about interactive tables.';\n",
              "          element.innerHTML = '';\n",
              "          dataTable['output_type'] = 'display_data';\n",
              "          await google.colab.output.renderOutput(dataTable, element);\n",
              "          const docLink = document.createElement('div');\n",
              "          docLink.innerHTML = docLinkHtml;\n",
              "          element.appendChild(docLink);\n",
              "        }\n",
              "      </script>\n",
              "    </div>\n",
              "  </div>\n",
              "  "
            ]
          },
          "metadata": {},
          "execution_count": 76
        }
      ]
    },
    {
      "cell_type": "code",
      "source": [
        "# verifying the correlation values\n",
        "salary_data.corr(method = 'kendall')"
      ],
      "metadata": {
        "colab": {
          "base_uri": "https://localhost:8080/",
          "height": 112
        },
        "id": "-EsyI1uxTPUg",
        "outputId": "449140d1-1b75-43d4-a796-37d4e1942acb"
      },
      "execution_count": 77,
      "outputs": [
        {
          "output_type": "execute_result",
          "data": {
            "text/plain": [
              "                 YearsExperience    Salary\n",
              "YearsExperience         1.000000  0.841016\n",
              "Salary                  0.841016  1.000000"
            ],
            "text/html": [
              "\n",
              "  <div id=\"df-28799cce-224a-47f5-8a8c-17acf12b32a9\">\n",
              "    <div class=\"colab-df-container\">\n",
              "      <div>\n",
              "<style scoped>\n",
              "    .dataframe tbody tr th:only-of-type {\n",
              "        vertical-align: middle;\n",
              "    }\n",
              "\n",
              "    .dataframe tbody tr th {\n",
              "        vertical-align: top;\n",
              "    }\n",
              "\n",
              "    .dataframe thead th {\n",
              "        text-align: right;\n",
              "    }\n",
              "</style>\n",
              "<table border=\"1\" class=\"dataframe\">\n",
              "  <thead>\n",
              "    <tr style=\"text-align: right;\">\n",
              "      <th></th>\n",
              "      <th>YearsExperience</th>\n",
              "      <th>Salary</th>\n",
              "    </tr>\n",
              "  </thead>\n",
              "  <tbody>\n",
              "    <tr>\n",
              "      <th>YearsExperience</th>\n",
              "      <td>1.000000</td>\n",
              "      <td>0.841016</td>\n",
              "    </tr>\n",
              "    <tr>\n",
              "      <th>Salary</th>\n",
              "      <td>0.841016</td>\n",
              "      <td>1.000000</td>\n",
              "    </tr>\n",
              "  </tbody>\n",
              "</table>\n",
              "</div>\n",
              "      <button class=\"colab-df-convert\" onclick=\"convertToInteractive('df-28799cce-224a-47f5-8a8c-17acf12b32a9')\"\n",
              "              title=\"Convert this dataframe to an interactive table.\"\n",
              "              style=\"display:none;\">\n",
              "        \n",
              "  <svg xmlns=\"http://www.w3.org/2000/svg\" height=\"24px\"viewBox=\"0 0 24 24\"\n",
              "       width=\"24px\">\n",
              "    <path d=\"M0 0h24v24H0V0z\" fill=\"none\"/>\n",
              "    <path d=\"M18.56 5.44l.94 2.06.94-2.06 2.06-.94-2.06-.94-.94-2.06-.94 2.06-2.06.94zm-11 1L8.5 8.5l.94-2.06 2.06-.94-2.06-.94L8.5 2.5l-.94 2.06-2.06.94zm10 10l.94 2.06.94-2.06 2.06-.94-2.06-.94-.94-2.06-.94 2.06-2.06.94z\"/><path d=\"M17.41 7.96l-1.37-1.37c-.4-.4-.92-.59-1.43-.59-.52 0-1.04.2-1.43.59L10.3 9.45l-7.72 7.72c-.78.78-.78 2.05 0 2.83L4 21.41c.39.39.9.59 1.41.59.51 0 1.02-.2 1.41-.59l7.78-7.78 2.81-2.81c.8-.78.8-2.07 0-2.86zM5.41 20L4 18.59l7.72-7.72 1.47 1.35L5.41 20z\"/>\n",
              "  </svg>\n",
              "      </button>\n",
              "      \n",
              "  <style>\n",
              "    .colab-df-container {\n",
              "      display:flex;\n",
              "      flex-wrap:wrap;\n",
              "      gap: 12px;\n",
              "    }\n",
              "\n",
              "    .colab-df-convert {\n",
              "      background-color: #E8F0FE;\n",
              "      border: none;\n",
              "      border-radius: 50%;\n",
              "      cursor: pointer;\n",
              "      display: none;\n",
              "      fill: #1967D2;\n",
              "      height: 32px;\n",
              "      padding: 0 0 0 0;\n",
              "      width: 32px;\n",
              "    }\n",
              "\n",
              "    .colab-df-convert:hover {\n",
              "      background-color: #E2EBFA;\n",
              "      box-shadow: 0px 1px 2px rgba(60, 64, 67, 0.3), 0px 1px 3px 1px rgba(60, 64, 67, 0.15);\n",
              "      fill: #174EA6;\n",
              "    }\n",
              "\n",
              "    [theme=dark] .colab-df-convert {\n",
              "      background-color: #3B4455;\n",
              "      fill: #D2E3FC;\n",
              "    }\n",
              "\n",
              "    [theme=dark] .colab-df-convert:hover {\n",
              "      background-color: #434B5C;\n",
              "      box-shadow: 0px 1px 3px 1px rgba(0, 0, 0, 0.15);\n",
              "      filter: drop-shadow(0px 1px 2px rgba(0, 0, 0, 0.3));\n",
              "      fill: #FFFFFF;\n",
              "    }\n",
              "  </style>\n",
              "\n",
              "      <script>\n",
              "        const buttonEl =\n",
              "          document.querySelector('#df-28799cce-224a-47f5-8a8c-17acf12b32a9 button.colab-df-convert');\n",
              "        buttonEl.style.display =\n",
              "          google.colab.kernel.accessAllowed ? 'block' : 'none';\n",
              "\n",
              "        async function convertToInteractive(key) {\n",
              "          const element = document.querySelector('#df-28799cce-224a-47f5-8a8c-17acf12b32a9');\n",
              "          const dataTable =\n",
              "            await google.colab.kernel.invokeFunction('convertToInteractive',\n",
              "                                                     [key], {});\n",
              "          if (!dataTable) return;\n",
              "\n",
              "          const docLinkHtml = 'Like what you see? Visit the ' +\n",
              "            '<a target=\"_blank\" href=https://colab.research.google.com/notebooks/data_table.ipynb>data table notebook</a>'\n",
              "            + ' to learn more about interactive tables.';\n",
              "          element.innerHTML = '';\n",
              "          dataTable['output_type'] = 'display_data';\n",
              "          await google.colab.output.renderOutput(dataTable, element);\n",
              "          const docLink = document.createElement('div');\n",
              "          docLink.innerHTML = docLinkHtml;\n",
              "          element.appendChild(docLink);\n",
              "        }\n",
              "      </script>\n",
              "    </div>\n",
              "  </div>\n",
              "  "
            ]
          },
          "metadata": {},
          "execution_count": 77
        }
      ]
    },
    {
      "cell_type": "code",
      "source": [
        "data_exp.plot_df()"
      ],
      "metadata": {
        "colab": {
          "base_uri": "https://localhost:8080/",
          "height": 472
        },
        "id": "MkLgPLQLTTMB",
        "outputId": "765119f5-49f2-4853-f38f-2902bf6b8c2d"
      },
      "execution_count": 78,
      "outputs": [
        {
          "output_type": "display_data",
          "data": {
            "text/plain": [
              "<Figure size 640x480 with 1 Axes>"
            ],
            "image/png": "[encoded data removed]"
          },
          "metadata": {}
        }
      ]
    },
    {
      "cell_type": "markdown",
      "source": [
        "What if we want to modify the standardizer to facilitate using MinMax scaling instead of standardizing.\n",
        "\n",
        "Formula for MinMaxScaling is:\n",
        "\n",
        "$MinMax(x) = \\frac{x - min(x)}{max(x) - min(x)}$"
      ],
      "metadata": {
        "id": "FQ0hV1-TT0-c"
      }
    },
    {
      "cell_type": "code",
      "source": [
        "class DataPreprocesser:\n",
        "\n",
        "  def __init__(self, df):\n",
        "    self.df = df.copy()\n",
        "  \n",
        "  def main(self):\n",
        "    self.impute_missing()\n",
        "    self.winsorize()\n",
        "    self.standardize()\n",
        "\n",
        "  def impute_missing(self):\n",
        "    \n",
        "    for col in self.df:\n",
        "      self.df[col].fillna(np.median(self.df[col]), inplace = True)\n",
        "\n",
        "  def winsorize(self):\n",
        "\n",
        "    for col in self.df:\n",
        "      col_lower = np.percentile(self.df[col], 2.5)\n",
        "      col_upper = np.percentile(self.df[col], 97.5)\n",
        "      \n",
        "      self.df[col] = np.where(self.df[col] < col_lower, col_lower, np.where(self.df[col] > col_upper, col_upper, self.df[col])) \n",
        "\n",
        "  def standardize(self):\n",
        "\n",
        "    for col in self.df:\n",
        "      self.df[col] = (self.df[col] - self.df[col].mean())/(self.df[col].std())\n",
        "\n",
        "\n",
        "class DataExplorer(DataPreprocesser):\n",
        "\n",
        "  # we must set additional parameters to default values to ensure the parent and child classes are interchangeable\n",
        "  def __init__(self, df, scaling = 'standardize'):\n",
        "    super().__init__(df)\n",
        "    self.scaling = scaling\n",
        "\n",
        "  def standardize(self):\n",
        "\n",
        "    if self.scaling == 'standardize':\n",
        "      \n",
        "      for col in self.df:\n",
        "        self.df[col] = (self.df[col] - self.df[col].mean())/(self.df[col].std())\n",
        "\n",
        "    elif self.scaling == 'min_max':\n",
        "\n",
        "      for col in self.df:\n",
        "        self.df[col] = (self.df[col] - self.df[col].min())/(self.df[col].max() - self.df[col].min())\n",
        "\n",
        "  def compute_correlation(self, method = 'kendall'):\n",
        "    \n",
        "    self.corr_matrix = self.df.corr(method = method)\n",
        "\n",
        "  def plot_df(self):\n",
        "    plt.plot(self.df.iloc[:,0], self.df.iloc[:,1], 'o')\n",
        "    plt.xlabel(f'{self.df.columns[0]}')\n",
        "    plt.ylabel(f'{self.df.columns[1]}')\n",
        "    plt.title(f'{self.df.columns[1]} vs {self.df.columns[0]}')\n",
        "    plt.show()"
      ],
      "metadata": {
        "id": "aa73esi1UxOs"
      },
      "execution_count": 80,
      "outputs": []
    },
    {
      "cell_type": "code",
      "source": [
        "data_exp_mm = DataExplorer(salary_data, 'min_max')\n",
        "data_exp_mm.main()"
      ],
      "metadata": {
        "id": "NDmANkBAWYZJ"
      },
      "execution_count": 86,
      "outputs": []
    },
    {
      "cell_type": "code",
      "source": [
        "data_exp_mm.df"
      ],
      "metadata": {
        "colab": {
          "base_uri": "https://localhost:8080/",
          "height": 990
        },
        "id": "nl1TdtiQWha4",
        "outputId": "554b919e-7077-46fc-ce26-2c5e61759ed7"
      },
      "execution_count": 87,
      "outputs": [
        {
          "output_type": "execute_result",
          "data": {
            "text/plain": [
              "    YearsExperience    Salary\n",
              "0          0.000000  0.005334\n",
              "1          0.006037  0.087894\n",
              "2          0.027991  0.000000\n",
              "3          0.082876  0.055649\n",
              "4          0.104830  0.011927\n",
              "5          0.181668  0.213467\n",
              "6          0.192645  0.255673\n",
              "7          0.214599  0.187034\n",
              "8          0.214599  0.307349\n",
              "9          0.269484  0.220048\n",
              "10         0.291438  0.292586\n",
              "11         0.302415  0.203264\n",
              "12         0.302415  0.217257\n",
              "13         0.313392  0.218749\n",
              "14         0.357300  0.267236\n",
              "15         0.401207  0.349375\n",
              "16         0.423161  0.326407\n",
              "17         0.445115  0.531652\n",
              "18         0.510977  0.510898\n",
              "19         0.521954  0.662218\n",
              "20         0.609769  0.635725\n",
              "21         0.642700  0.714351\n",
              "22         0.730516  0.750794\n",
              "23         0.763447  0.901309\n",
              "24         0.818332  0.848599\n",
              "25         0.851262  0.802289\n",
              "26         0.906147  0.939292\n",
              "27         0.917124  0.887148\n",
              "28         0.993963  1.000000\n",
              "29         1.000000  0.998283"
            ],
            "text/html": [
              "\n",
              "  <div id=\"df-934dc825-8e03-41e1-9e43-25852a1aa4cb\">\n",
              "    <div class=\"colab-df-container\">\n",
              "      <div>\n",
              "<style scoped>\n",
              "    .dataframe tbody tr th:only-of-type {\n",
              "        vertical-align: middle;\n",
              "    }\n",
              "\n",
              "    .dataframe tbody tr th {\n",
              "        vertical-align: top;\n",
              "    }\n",
              "\n",
              "    .dataframe thead th {\n",
              "        text-align: right;\n",
              "    }\n",
              "</style>\n",
              "<table border=\"1\" class=\"dataframe\">\n",
              "  <thead>\n",
              "    <tr style=\"text-align: right;\">\n",
              "      <th></th>\n",
              "      <th>YearsExperience</th>\n",
              "      <th>Salary</th>\n",
              "    </tr>\n",
              "  </thead>\n",
              "  <tbody>\n",
              "    <tr>\n",
              "      <th>0</th>\n",
              "      <td>0.000000</td>\n",
              "      <td>0.005334</td>\n",
              "    </tr>\n",
              "    <tr>\n",
              "      <th>1</th>\n",
              "      <td>0.006037</td>\n",
              "      <td>0.087894</td>\n",
              "    </tr>\n",
              "    <tr>\n",
              "      <th>2</th>\n",
              "      <td>0.027991</td>\n",
              "      <td>0.000000</td>\n",
              "    </tr>\n",
              "    <tr>\n",
              "      <th>3</th>\n",
              "      <td>0.082876</td>\n",
              "      <td>0.055649</td>\n",
              "    </tr>\n",
              "    <tr>\n",
              "      <th>4</th>\n",
              "      <td>0.104830</td>\n",
              "      <td>0.011927</td>\n",
              "    </tr>\n",
              "    <tr>\n",
              "      <th>5</th>\n",
              "      <td>0.181668</td>\n",
              "      <td>0.213467</td>\n",
              "    </tr>\n",
              "    <tr>\n",
              "      <th>6</th>\n",
              "      <td>0.192645</td>\n",
              "      <td>0.255673</td>\n",
              "    </tr>\n",
              "    <tr>\n",
              "      <th>7</th>\n",
              "      <td>0.214599</td>\n",
              "      <td>0.187034</td>\n",
              "    </tr>\n",
              "    <tr>\n",
              "      <th>8</th>\n",
              "      <td>0.214599</td>\n",
              "      <td>0.307349</td>\n",
              "    </tr>\n",
              "    <tr>\n",
              "      <th>9</th>\n",
              "      <td>0.269484</td>\n",
              "      <td>0.220048</td>\n",
              "    </tr>\n",
              "    <tr>\n",
              "      <th>10</th>\n",
              "      <td>0.291438</td>\n",
              "      <td>0.292586</td>\n",
              "    </tr>\n",
              "    <tr>\n",
              "      <th>11</th>\n",
              "      <td>0.302415</td>\n",
              "      <td>0.203264</td>\n",
              "    </tr>\n",
              "    <tr>\n",
              "      <th>12</th>\n",
              "      <td>0.302415</td>\n",
              "      <td>0.217257</td>\n",
              "    </tr>\n",
              "    <tr>\n",
              "      <th>13</th>\n",
              "      <td>0.313392</td>\n",
              "      <td>0.218749</td>\n",
              "    </tr>\n",
              "    <tr>\n",
              "      <th>14</th>\n",
              "      <td>0.357300</td>\n",
              "      <td>0.267236</td>\n",
              "    </tr>\n",
              "    <tr>\n",
              "      <th>15</th>\n",
              "      <td>0.401207</td>\n",
              "      <td>0.349375</td>\n",
              "    </tr>\n",
              "    <tr>\n",
              "      <th>16</th>\n",
              "      <td>0.423161</td>\n",
              "      <td>0.326407</td>\n",
              "    </tr>\n",
              "    <tr>\n",
              "      <th>17</th>\n",
              "      <td>0.445115</td>\n",
              "      <td>0.531652</td>\n",
              "    </tr>\n",
              "    <tr>\n",
              "      <th>18</th>\n",
              "      <td>0.510977</td>\n",
              "      <td>0.510898</td>\n",
              "    </tr>\n",
              "    <tr>\n",
              "      <th>19</th>\n",
              "      <td>0.521954</td>\n",
              "      <td>0.662218</td>\n",
              "    </tr>\n",
              "    <tr>\n",
              "      <th>20</th>\n",
              "      <td>0.609769</td>\n",
              "      <td>0.635725</td>\n",
              "    </tr>\n",
              "    <tr>\n",
              "      <th>21</th>\n",
              "      <td>0.642700</td>\n",
              "      <td>0.714351</td>\n",
              "    </tr>\n",
              "    <tr>\n",
              "      <th>22</th>\n",
              "      <td>0.730516</td>\n",
              "      <td>0.750794</td>\n",
              "    </tr>\n",
              "    <tr>\n",
              "      <th>23</th>\n",
              "      <td>0.763447</td>\n",
              "      <td>0.901309</td>\n",
              "    </tr>\n",
              "    <tr>\n",
              "      <th>24</th>\n",
              "      <td>0.818332</td>\n",
              "      <td>0.848599</td>\n",
              "    </tr>\n",
              "    <tr>\n",
              "      <th>25</th>\n",
              "      <td>0.851262</td>\n",
              "      <td>0.802289</td>\n",
              "    </tr>\n",
              "    <tr>\n",
              "      <th>26</th>\n",
              "      <td>0.906147</td>\n",
              "      <td>0.939292</td>\n",
              "    </tr>\n",
              "    <tr>\n",
              "      <th>27</th>\n",
              "      <td>0.917124</td>\n",
              "      <td>0.887148</td>\n",
              "    </tr>\n",
              "    <tr>\n",
              "      <th>28</th>\n",
              "      <td>0.993963</td>\n",
              "      <td>1.000000</td>\n",
              "    </tr>\n",
              "    <tr>\n",
              "      <th>29</th>\n",
              "      <td>1.000000</td>\n",
              "      <td>0.998283</td>\n",
              "    </tr>\n",
              "  </tbody>\n",
              "</table>\n",
              "</div>\n",
              "      <button class=\"colab-df-convert\" onclick=\"convertToInteractive('df-934dc825-8e03-41e1-9e43-25852a1aa4cb')\"\n",
              "              title=\"Convert this dataframe to an interactive table.\"\n",
              "              style=\"display:none;\">\n",
              "        \n",
              "  <svg xmlns=\"http://www.w3.org/2000/svg\" height=\"24px\"viewBox=\"0 0 24 24\"\n",
              "       width=\"24px\">\n",
              "    <path d=\"M0 0h24v24H0V0z\" fill=\"none\"/>\n",
              "    <path d=\"M18.56 5.44l.94 2.06.94-2.06 2.06-.94-2.06-.94-.94-2.06-.94 2.06-2.06.94zm-11 1L8.5 8.5l.94-2.06 2.06-.94-2.06-.94L8.5 2.5l-.94 2.06-2.06.94zm10 10l.94 2.06.94-2.06 2.06-.94-2.06-.94-.94-2.06-.94 2.06-2.06.94z\"/><path d=\"M17.41 7.96l-1.37-1.37c-.4-.4-.92-.59-1.43-.59-.52 0-1.04.2-1.43.59L10.3 9.45l-7.72 7.72c-.78.78-.78 2.05 0 2.83L4 21.41c.39.39.9.59 1.41.59.51 0 1.02-.2 1.41-.59l7.78-7.78 2.81-2.81c.8-.78.8-2.07 0-2.86zM5.41 20L4 18.59l7.72-7.72 1.47 1.35L5.41 20z\"/>\n",
              "  </svg>\n",
              "      </button>\n",
              "      \n",
              "  <style>\n",
              "    .colab-df-container {\n",
              "      display:flex;\n",
              "      flex-wrap:wrap;\n",
              "      gap: 12px;\n",
              "    }\n",
              "\n",
              "    .colab-df-convert {\n",
              "      background-color: #E8F0FE;\n",
              "      border: none;\n",
              "      border-radius: 50%;\n",
              "      cursor: pointer;\n",
              "      display: none;\n",
              "      fill: #1967D2;\n",
              "      height: 32px;\n",
              "      padding: 0 0 0 0;\n",
              "      width: 32px;\n",
              "    }\n",
              "\n",
              "    .colab-df-convert:hover {\n",
              "      background-color: #E2EBFA;\n",
              "      box-shadow: 0px 1px 2px rgba(60, 64, 67, 0.3), 0px 1px 3px 1px rgba(60, 64, 67, 0.15);\n",
              "      fill: #174EA6;\n",
              "    }\n",
              "\n",
              "    [theme=dark] .colab-df-convert {\n",
              "      background-color: #3B4455;\n",
              "      fill: #D2E3FC;\n",
              "    }\n",
              "\n",
              "    [theme=dark] .colab-df-convert:hover {\n",
              "      background-color: #434B5C;\n",
              "      box-shadow: 0px 1px 3px 1px rgba(0, 0, 0, 0.15);\n",
              "      filter: drop-shadow(0px 1px 2px rgba(0, 0, 0, 0.3));\n",
              "      fill: #FFFFFF;\n",
              "    }\n",
              "  </style>\n",
              "\n",
              "      <script>\n",
              "        const buttonEl =\n",
              "          document.querySelector('#df-934dc825-8e03-41e1-9e43-25852a1aa4cb button.colab-df-convert');\n",
              "        buttonEl.style.display =\n",
              "          google.colab.kernel.accessAllowed ? 'block' : 'none';\n",
              "\n",
              "        async function convertToInteractive(key) {\n",
              "          const element = document.querySelector('#df-934dc825-8e03-41e1-9e43-25852a1aa4cb');\n",
              "          const dataTable =\n",
              "            await google.colab.kernel.invokeFunction('convertToInteractive',\n",
              "                                                     [key], {});\n",
              "          if (!dataTable) return;\n",
              "\n",
              "          const docLinkHtml = 'Like what you see? Visit the ' +\n",
              "            '<a target=\"_blank\" href=https://colab.research.google.com/notebooks/data_table.ipynb>data table notebook</a>'\n",
              "            + ' to learn more about interactive tables.';\n",
              "          element.innerHTML = '';\n",
              "          dataTable['output_type'] = 'display_data';\n",
              "          await google.colab.output.renderOutput(dataTable, element);\n",
              "          const docLink = document.createElement('div');\n",
              "          docLink.innerHTML = docLinkHtml;\n",
              "          element.appendChild(docLink);\n",
              "        }\n",
              "      </script>\n",
              "    </div>\n",
              "  </div>\n",
              "  "
            ]
          },
          "metadata": {},
          "execution_count": 87
        }
      ]
    },
    {
      "cell_type": "code",
      "source": [
        "data_exp_mm.compute_correlation()\n",
        "data_exp_mm.corr_matrix"
      ],
      "metadata": {
        "colab": {
          "base_uri": "https://localhost:8080/",
          "height": 112
        },
        "id": "MPuCtPcOXGV9",
        "outputId": "ced1073c-0d20-45ff-a517-9bdd7b83dfe7"
      },
      "execution_count": 88,
      "outputs": [
        {
          "output_type": "execute_result",
          "data": {
            "text/plain": [
              "                 YearsExperience    Salary\n",
              "YearsExperience         1.000000  0.841016\n",
              "Salary                  0.841016  1.000000"
            ],
            "text/html": [
              "\n",
              "  <div id=\"df-581efa30-f9e2-482c-821d-aa34a81810ab\">\n",
              "    <div class=\"colab-df-container\">\n",
              "      <div>\n",
              "<style scoped>\n",
              "    .dataframe tbody tr th:only-of-type {\n",
              "        vertical-align: middle;\n",
              "    }\n",
              "\n",
              "    .dataframe tbody tr th {\n",
              "        vertical-align: top;\n",
              "    }\n",
              "\n",
              "    .dataframe thead th {\n",
              "        text-align: right;\n",
              "    }\n",
              "</style>\n",
              "<table border=\"1\" class=\"dataframe\">\n",
              "  <thead>\n",
              "    <tr style=\"text-align: right;\">\n",
              "      <th></th>\n",
              "      <th>YearsExperience</th>\n",
              "      <th>Salary</th>\n",
              "    </tr>\n",
              "  </thead>\n",
              "  <tbody>\n",
              "    <tr>\n",
              "      <th>YearsExperience</th>\n",
              "      <td>1.000000</td>\n",
              "      <td>0.841016</td>\n",
              "    </tr>\n",
              "    <tr>\n",
              "      <th>Salary</th>\n",
              "      <td>0.841016</td>\n",
              "      <td>1.000000</td>\n",
              "    </tr>\n",
              "  </tbody>\n",
              "</table>\n",
              "</div>\n",
              "      <button class=\"colab-df-convert\" onclick=\"convertToInteractive('df-581efa30-f9e2-482c-821d-aa34a81810ab')\"\n",
              "              title=\"Convert this dataframe to an interactive table.\"\n",
              "              style=\"display:none;\">\n",
              "        \n",
              "  <svg xmlns=\"http://www.w3.org/2000/svg\" height=\"24px\"viewBox=\"0 0 24 24\"\n",
              "       width=\"24px\">\n",
              "    <path d=\"M0 0h24v24H0V0z\" fill=\"none\"/>\n",
              "    <path d=\"M18.56 5.44l.94 2.06.94-2.06 2.06-.94-2.06-.94-.94-2.06-.94 2.06-2.06.94zm-11 1L8.5 8.5l.94-2.06 2.06-.94-2.06-.94L8.5 2.5l-.94 2.06-2.06.94zm10 10l.94 2.06.94-2.06 2.06-.94-2.06-.94-.94-2.06-.94 2.06-2.06.94z\"/><path d=\"M17.41 7.96l-1.37-1.37c-.4-.4-.92-.59-1.43-.59-.52 0-1.04.2-1.43.59L10.3 9.45l-7.72 7.72c-.78.78-.78 2.05 0 2.83L4 21.41c.39.39.9.59 1.41.59.51 0 1.02-.2 1.41-.59l7.78-7.78 2.81-2.81c.8-.78.8-2.07 0-2.86zM5.41 20L4 18.59l7.72-7.72 1.47 1.35L5.41 20z\"/>\n",
              "  </svg>\n",
              "      </button>\n",
              "      \n",
              "  <style>\n",
              "    .colab-df-container {\n",
              "      display:flex;\n",
              "      flex-wrap:wrap;\n",
              "      gap: 12px;\n",
              "    }\n",
              "\n",
              "    .colab-df-convert {\n",
              "      background-color: #E8F0FE;\n",
              "      border: none;\n",
              "      border-radius: 50%;\n",
              "      cursor: pointer;\n",
              "      display: none;\n",
              "      fill: #1967D2;\n",
              "      height: 32px;\n",
              "      padding: 0 0 0 0;\n",
              "      width: 32px;\n",
              "    }\n",
              "\n",
              "    .colab-df-convert:hover {\n",
              "      background-color: #E2EBFA;\n",
              "      box-shadow: 0px 1px 2px rgba(60, 64, 67, 0.3), 0px 1px 3px 1px rgba(60, 64, 67, 0.15);\n",
              "      fill: #174EA6;\n",
              "    }\n",
              "\n",
              "    [theme=dark] .colab-df-convert {\n",
              "      background-color: #3B4455;\n",
              "      fill: #D2E3FC;\n",
              "    }\n",
              "\n",
              "    [theme=dark] .colab-df-convert:hover {\n",
              "      background-color: #434B5C;\n",
              "      box-shadow: 0px 1px 3px 1px rgba(0, 0, 0, 0.15);\n",
              "      filter: drop-shadow(0px 1px 2px rgba(0, 0, 0, 0.3));\n",
              "      fill: #FFFFFF;\n",
              "    }\n",
              "  </style>\n",
              "\n",
              "      <script>\n",
              "        const buttonEl =\n",
              "          document.querySelector('#df-581efa30-f9e2-482c-821d-aa34a81810ab button.colab-df-convert');\n",
              "        buttonEl.style.display =\n",
              "          google.colab.kernel.accessAllowed ? 'block' : 'none';\n",
              "\n",
              "        async function convertToInteractive(key) {\n",
              "          const element = document.querySelector('#df-581efa30-f9e2-482c-821d-aa34a81810ab');\n",
              "          const dataTable =\n",
              "            await google.colab.kernel.invokeFunction('convertToInteractive',\n",
              "                                                     [key], {});\n",
              "          if (!dataTable) return;\n",
              "\n",
              "          const docLinkHtml = 'Like what you see? Visit the ' +\n",
              "            '<a target=\"_blank\" href=https://colab.research.google.com/notebooks/data_table.ipynb>data table notebook</a>'\n",
              "            + ' to learn more about interactive tables.';\n",
              "          element.innerHTML = '';\n",
              "          dataTable['output_type'] = 'display_data';\n",
              "          await google.colab.output.renderOutput(dataTable, element);\n",
              "          const docLink = document.createElement('div');\n",
              "          docLink.innerHTML = docLinkHtml;\n",
              "          element.appendChild(docLink);\n",
              "        }\n",
              "      </script>\n",
              "    </div>\n",
              "  </div>\n",
              "  "
            ]
          },
          "metadata": {},
          "execution_count": 88
        }
      ]
    },
    {
      "cell_type": "code",
      "source": [
        "data_exp_mm.plot_df()"
      ],
      "metadata": {
        "colab": {
          "base_uri": "https://localhost:8080/",
          "height": 472
        },
        "id": "4ECvGOKYXMXG",
        "outputId": "dca4ac41-953d-4cb4-d889-2717f6123acf"
      },
      "execution_count": 89,
      "outputs": [
        {
          "output_type": "display_data",
          "data": {
            "text/plain": [
              "<Figure size 640x480 with 1 Axes>"
            ],
            "image/png": "[encoded data removed]"
          },
          "metadata": {}
        }
      ]
    }
  ]
}