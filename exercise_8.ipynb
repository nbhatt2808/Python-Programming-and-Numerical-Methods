{
  "nbformat": 4,
  "nbformat_minor": 0,
  "metadata": {
    "colab": {
      "provenance": []
    },
    "kernelspec": {
      "name": "python3",
      "display_name": "Python 3"
    },
    "language_info": {
      "name": "python"
    }
  },
  "cells": [
    {
      "cell_type": "markdown",
      "source": [
        "These are the exercise problems from the book Python programming and Numerical methods book:\n",
        "\n",
        "https://pythonnumericalmethods.berkeley.edu/notebooks/Index.html\n",
        "\n",
        "# Chapter 8: Complexity\n",
        "\n",
        "https://pythonnumericalmethods.berkeley.edu/notebooks/chapter08.04-Summary-and-Problems.html\n",
        "\n",
        "Only those problems that need to be solved in a notebook environment"
      ],
      "metadata": {
        "id": "0GIp0CUf8-a8"
      }
    },
    {
      "cell_type": "markdown",
      "source": [
        "1. How would you define the size of the following tasks?\n",
        "\n",
        "- Solving a jigsaw puzzle.\n",
        "\n",
        "- Passing a handout to a class.\n",
        "\n",
        "- Walking to class.\n",
        "\n",
        "- Finding a name in dictionary.\n",
        "\n",
        "__Solving a jigsaw puzzle:__ Solving a jigsaw puzzle requires assembling multiple pieces together in a certain order. So, for a puzzle of n pieces there could N! ways of solving it as there are N ways to find the first piece. Then there are n-1 ways to find the second piece and so on. The size here would be the number of pieces in the puzzle.\n",
        "\n",
        "__Passing a handout to a class:__ This would just just depend on the number of students as each handout would be given to one student. So, the size here would be the number of students in the class.\n",
        "\n",
        "__Walking to class:__ Here, we are talking about a single value i.e. the time it would take to walk to class from a certain place for everyone and thus the size here is 1 as the distance would be the same regardless of the individual.\n",
        "\n",
        "__Finding a name in dictionary:__ This is a search based problem. Assuming the most brute force approach, it would require scanning through all the words till we find the name. Worst case here would imply searching through all the words and the name would be the last one. Thus, the size here are all the words in the dictionary."
      ],
      "metadata": {
        "id": "Ayhz2-EU9Nm-"
      }
    },
    {
      "cell_type": "markdown",
      "source": [
        "---"
      ],
      "metadata": {
        "id": "hS3f61gIvTuL"
      }
    },
    {
      "cell_type": "markdown",
      "source": [
        "2. For the tasks given in the previous problem, what would you say is the Big-O complexity of the tasks in terms of the size definitions you gave?\n",
        "\n",
        "__Solving a jigsaw puzzle:__ O(n!)\n",
        "\n",
        "__Passing a handout to a class:__ O(n)\n",
        "\n",
        "__Walking to class:__ O(1)\n",
        "\n",
        "__Finding a name in dictionary (brute force):__ O(n)"
      ],
      "metadata": {
        "id": "dhYuJeZtHPKX"
      }
    },
    {
      "cell_type": "markdown",
      "source": [
        "---"
      ],
      "metadata": {
        "id": "rzt0NytpvRPX"
      }
    },
    {
      "cell_type": "markdown",
      "source": [
        "3. You may be surprised to know that there is a log\n",
        " time algorithm for finding a word in an 𝑛-word dictionary. Instead of starting at the beginning of the list, you go to the middle. If this is the word you are looking for then you are done. If the word comes after the word you are looking for, then look halfway between the current word and the end. If it is before the word you are looking for, then look halfway between the first word and the current word. Keep repeating this process until you find the word. This algorithm is known as a binary search, and it is log\n",
        " time because the search space is cut in half at each iteration, and therefore, requires at most log2(𝑛)\n",
        " iterations to find the word. Hence the increase in run time is only log in the length of the list.\n",
        "\n",
        " There is a way to look up a word in 𝑂(1)\n",
        " or constant time. This means that no matter how long the list is, it takes the same amount of time! Can you think of how this is done? Hint: Research hash functions.\n",
        "\n",
        " A hash function can be thought of as creating dictionaires where we have keys as lookups.\n",
        "\n",
        " So, a hash function can be applied to all the keys that would generate values that can be used as indexes. E.g. let's say we want to hash words in a list. Let the hash function be the sum of the ASCII values of the characters in the word mod 10.\n",
        "\n",
        "e.g. word is \"Neeraj\"\n",
        "\n",
        "from the ascii table https://www.cs.cmu.edu/~pattis/15-1XX/common/handouts/ascii.html:\n",
        "\n",
        "hash_func('Neeraj') = (78 + 101 + 101 + 114 + 97 + 106) % 10 = 597 % 10  = 7. \n",
        "\n",
        "Thus, \"Neeraj\" would be indexed 7.\n",
        "\n",
        "Similarly, each word can be indexed using a hashing function.\n",
        "\n",
        "Then for a new word we would apply the same hash function to generate an index and check if the index exists in the hash table. This is an O(1) operation. \n",
        "\n",
        "However, this reduction in time complexity comes at the cost of increase in space complexity as we would have to store this hash table and if we have a large number of words then creating a hash table would occupy more space.\n"
      ],
      "metadata": {
        "id": "g-k5KGCPVXQv"
      }
    },
    {
      "cell_type": "markdown",
      "source": [
        "---"
      ],
      "metadata": {
        "id": "VxgOzOpavqoU"
      }
    },
    {
      "cell_type": "markdown",
      "source": [
        "4. What is the complexity of the algorithms that compute the following recursive relationships? Classify the following algorithms as log time, polynomial time, or exponential time in terms of n given that the implementation is (a) recursive, and (b) iterative.\n",
        "\n",
        "Tribonacci,T(n):\n",
        "\n",
        "T(n) = T(n-1) + T(n-2) + T(n-3) <br>\n",
        "T(1) = T(2) = T(3) = 1.\n",
        " \n",
        "Timmynacci, T(n):\n",
        "\n",
        "t(n) = t(n/2) + t(n/4) <br>\n",
        "t(n) = 1 if n < 1.\n",
        "\n",
        "-------------------------------------------------------------------\n",
        "\n",
        "### Recusive Tribonacci\n",
        "\n",
        "Working through the chatgpt solution provided below\n",
        "\n",
        "input: 5\n",
        "\n",
        "n != 0\n",
        "\n",
        "n != 1 or n != 2\n",
        "\n",
        "__tribonacci(5) = o1 = tribonacci(4) + tribonacci(3) + tribonacci(2)__\n",
        "\n",
        "__we enter tribonacci(4)__\n",
        "\n",
        "input: 4\n",
        "\n",
        "n != 0\n",
        "\n",
        "n != 1 or n != 2\n",
        "\n",
        "__tribonacci(4) = o2 = tribonacci(3) + tribonacci(2) + tribonacci(1)__\n",
        "\n",
        "__we enter tribonacci(3)__\n",
        "\n",
        "input: 3\n",
        "\n",
        "n != 0\n",
        "\n",
        "n != 1 or n != 2\n",
        "\n",
        "__tribonacci(3) = o3 = tribonacci(2) + tribonacci(1) + tribonacci(0)__\n",
        "\n",
        "__we enter tribonacci(2)__\n",
        "\n",
        "input: 2\n",
        "\n",
        "n != 0\n",
        "\n",
        "n == 2\n",
        "\n",
        "tribonacci(2) = 1\n",
        "\n",
        "__we enter tribonacci(1)__\n",
        "\n",
        "input: 1\n",
        "\n",
        "n != 0\n",
        "\n",
        "n == 1\n",
        "\n",
        "tribonacci(1) = 1\n",
        "\n",
        "__we enter tribonacci(0)__\n",
        "\n",
        "input: 0\n",
        "\n",
        "n = 0\n",
        "\n",
        "tribonacci(0) = 0\n",
        "\n",
        "__tribonacci(3) = o3 = 1 + 1 + 0 = 2__\n",
        "\n",
        "__tribonacci(4) = o2 = 2 + tribonacci(2) + tribonacci(1)__\n",
        "\n",
        "__we enter tribonacci(2)__\n",
        "\n",
        "input: 2\n",
        "\n",
        "n != 0\n",
        "\n",
        "n == 2\n",
        "\n",
        "tribonacci(2) = 1\n",
        "\n",
        "__we enter tribonacci(1)__\n",
        "\n",
        "input: 1\n",
        "\n",
        "n != 0\n",
        "\n",
        "n == 1\n",
        "\n",
        "tribonacci(1) = 1\n",
        "\n",
        "__tribonacci(4) = o2 = 2 + 1 + 1 = 4__\n",
        "\n",
        "<br> <br> <br>\n",
        "\n",
        "__tribonacci(5) = o1 = 4 + tribonacci(3) + tribonacci(2)__\n",
        "\n",
        "__we enter tribonacci(3)__\n",
        "\n",
        "input: 3\n",
        "\n",
        "n != 0\n",
        "\n",
        "n != 1 or n != 2\n",
        "\n",
        "__tribonacci(3) = o4 = tribonacci(2) + tribonacci(1) + tribonacci(0)__\n",
        "\n",
        "__we enter tribonacci(2)__\n",
        "\n",
        "input: 2\n",
        "\n",
        "n != 0\n",
        "\n",
        "n == 2\n",
        "\n",
        "tribonacci(2) = 1\n",
        "\n",
        "__we enter tribonacci(1)__\n",
        "\n",
        "input: 1\n",
        "\n",
        "n != 0\n",
        "\n",
        "n == 1\n",
        "\n",
        "tribonacci(1) = 1\n",
        "\n",
        "__we enter tribonacci(0)__\n",
        "\n",
        "input: 0\n",
        "\n",
        "n = 0\n",
        "\n",
        "tribonacci(0) = 0\n",
        "\n",
        "__tribonacci(3) = o4 = 1 + 1 + 0 = 2__\n",
        "\n",
        "__tribonacci(5) = o1 = 4 + 2 + tribonacci(2)__\n",
        "\n",
        "__we enter tribonacci(2)__\n",
        "\n",
        "input: 2\n",
        "\n",
        "n != 0\n",
        "\n",
        "n == 2\n",
        "\n",
        "tribonacci(2) = 1\n",
        "\n",
        "__tribonacci(5) = o1 = 4 + 2 + 1 = 7__\n"
      ],
      "metadata": {
        "id": "qJue7tXUvtXS"
      }
    },
    {
      "cell_type": "markdown",
      "source": [
        "### Recursion tree for number of function calls\n",
        "\n",
        "![tribonacci_rec_tree.png](data:image/png;base64,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)\n",
        "\n"
      ],
      "metadata": {
        "id": "RZVzAUivEXHR"
      }
    },
    {
      "cell_type": "markdown",
      "source": [
        "__There were 12 function calls with base cases reached 10 times in total with an input of 5, and thus this algorithm has linear time complexity of 2n, which is O(n).__"
      ],
      "metadata": {
        "id": "D0-jE3AlYuSc"
      }
    },
    {
      "cell_type": "code",
      "source": [
        "# from chat gpt: type tribonacci recursive function in python in chat window\n",
        "def tribonacci(n):\n",
        "    if n == 0:\n",
        "        return 0\n",
        "    elif n == 1 or n == 2:\n",
        "        return 1\n",
        "    else:\n",
        "        return tribonacci(n - 1) + tribonacci(n - 2) + tribonacci(n - 3)\n",
        "\n",
        "# Testing the function\n",
        "for i in range(10):\n",
        "    print(tribonacci(i))"
      ],
      "metadata": {
        "colab": {
          "base_uri": "https://localhost:8080/"
        },
        "id": "hhYTAx6_vsoo",
        "outputId": "e3a1393f-c025-4b5b-d1b6-b77d9024c617"
      },
      "execution_count": 1,
      "outputs": [
        {
          "output_type": "stream",
          "name": "stdout",
          "text": [
            "0\n",
            "1\n",
            "1\n",
            "2\n",
            "4\n",
            "7\n",
            "13\n",
            "24\n",
            "44\n",
            "81\n"
          ]
        }
      ]
    },
    {
      "cell_type": "code",
      "execution_count": 4,
      "metadata": {
        "id": "uTMz6OIh84bj",
        "colab": {
          "base_uri": "https://localhost:8080/"
        },
        "outputId": "ac9dcd59-d928-4642-b81c-50fce37eb1da"
      },
      "outputs": [
        {
          "output_type": "stream",
          "name": "stdout",
          "text": [
            "0\n",
            "0\n",
            "1\n",
            "1\n",
            "2\n",
            "4\n",
            "7\n",
            "13\n",
            "24\n",
            "44\n"
          ]
        }
      ],
      "source": [
        "# slightly modified solution from geeks for geeks: https://www.geeksforgeeks.org/tribonacci-numbers/\n",
        "def printTribRec(n) :\n",
        "    if (n == 0 or n == 1 or n == 2) :\n",
        "        return 0\n",
        "    elif (n == 3) :\n",
        "        return 1\n",
        "    else :\n",
        "        return (printTribRec(n - 1) +\n",
        "                printTribRec(n - 2) +\n",
        "                printTribRec(n - 3))\n",
        "        \n",
        "# Testing the function\n",
        "for i in range(1, 11):\n",
        "    print(printTribRec(i))"
      ]
    },
    {
      "cell_type": "markdown",
      "source": [
        "### Recursive Timmynacci\n",
        "\n",
        "Based on the definition the algorithm is as follows:\n",
        "\n",
        "<pre>\n",
        "\n",
        "def timmynacci_rec(n):\n",
        "    if n < 1:\n",
        "      return 1\n",
        "    else:\n",
        "      return timmynacci_rec(n/2) + timmynacci_rec(n/4)\n",
        "\n",
        "</pre>\n",
        "\n",
        "\n"
      ],
      "metadata": {
        "id": "s_w1lZ9OZ2Bg"
      }
    },
    {
      "cell_type": "markdown",
      "source": [
        "### Timmynacci recursion tree\n",
        "\n",
        "![timmynacci_rec_tree.png](data:image/png;base64,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)"
      ],
      "metadata": {
        "id": "bsAJ1QWSH0PP"
      }
    },
    {
      "cell_type": "markdown",
      "source": [
        "There are a total of 24 function calls for input 16 and a total of 13 instances when we reached the base case. So, the time complexity would be linear in the form cn, where c is a constant. Thus, in Big O the time complexity is O(n)."
      ],
      "metadata": {
        "id": "BdHHtnT4JEzW"
      }
    },
    {
      "cell_type": "code",
      "source": [
        "def timmynacci_rec(n):\n",
        "    if n < 1:\n",
        "      return 1\n",
        "    else:\n",
        "      return timmynacci_rec(n/2) + timmynacci_rec(n/4)\n",
        "\n",
        "timmynacci_rec(16)"
      ],
      "metadata": {
        "colab": {
          "base_uri": "https://localhost:8080/"
        },
        "id": "3F-Dmvjc-Ae0",
        "outputId": "2de58d70-1fd6-497c-9dbc-05e55638a6da"
      },
      "execution_count": 1,
      "outputs": [
        {
          "output_type": "execute_result",
          "data": {
            "text/plain": [
              "13"
            ]
          },
          "metadata": {},
          "execution_count": 1
        }
      ]
    },
    {
      "cell_type": "markdown",
      "source": [
        "### Iterative tribonacci"
      ],
      "metadata": {
        "id": "OqPiMBbSJ80K"
      }
    },
    {
      "cell_type": "code",
      "source": [
        "# revisiting recursive tribonacci based on provided definition\n",
        "\n",
        "def tribonacci_rec(n):\n",
        "\n",
        "    if n < 1:\n",
        "        return 0 \n",
        "\n",
        "    if n == 1 or n == 2 or n == 3:\n",
        "        return 1\n",
        "    else:\n",
        "        return tribonacci_rec(n - 1) + tribonacci_rec(n - 2) + tribonacci_rec(n - 3)\n",
        "\n",
        "tribonacci_rec(6)"
      ],
      "metadata": {
        "colab": {
          "base_uri": "https://localhost:8080/"
        },
        "id": "EdGGTZDVKCSr",
        "outputId": "2d7e9f40-db6b-4a80-87ff-1d410d9f1217"
      },
      "execution_count": 5,
      "outputs": [
        {
          "output_type": "execute_result",
          "data": {
            "text/plain": [
              "9"
            ]
          },
          "metadata": {},
          "execution_count": 5
        }
      ]
    },
    {
      "cell_type": "code",
      "source": [
        "# iterative tribonacci\n",
        "\n",
        "def tribonacci_iter(n):\n",
        "\n",
        "    if n < 1:\n",
        "      return 0\n",
        "\n",
        "    if n <= 3:\n",
        "      return 1\n",
        "\n",
        "    out = [1,1,1]\n",
        "\n",
        "    for i in range(3, n):\n",
        "      out.append(out[i-1] + out[i-2] + out[i - 3])\n",
        "\n",
        "    return out[n-1]"
      ],
      "metadata": {
        "id": "Nd1sj743KrDy"
      },
      "execution_count": 22,
      "outputs": []
    },
    {
      "cell_type": "code",
      "source": [
        "tribonacci_iter(6)"
      ],
      "metadata": {
        "colab": {
          "base_uri": "https://localhost:8080/"
        },
        "id": "j9Vwe0WFMF99",
        "outputId": "26667366-939b-4d65-fec3-00f05d7b232c"
      },
      "execution_count": 23,
      "outputs": [
        {
          "output_type": "execute_result",
          "data": {
            "text/plain": [
              "9"
            ]
          },
          "metadata": {},
          "execution_count": 23
        }
      ]
    },
    {
      "cell_type": "code",
      "source": [
        "tribonacci_rec(8)"
      ],
      "metadata": {
        "colab": {
          "base_uri": "https://localhost:8080/"
        },
        "id": "DbxWngRzMt30",
        "outputId": "ab48d303-80a3-442a-c656-812da41770ac"
      },
      "execution_count": 24,
      "outputs": [
        {
          "output_type": "execute_result",
          "data": {
            "text/plain": [
              "31"
            ]
          },
          "metadata": {},
          "execution_count": 24
        }
      ]
    },
    {
      "cell_type": "code",
      "source": [
        "tribonacci_iter(8)"
      ],
      "metadata": {
        "colab": {
          "base_uri": "https://localhost:8080/"
        },
        "id": "PQK0kOaJM0T4",
        "outputId": "5ccc8232-bbcb-4560-bf34-5e8accd711e5"
      },
      "execution_count": 25,
      "outputs": [
        {
          "output_type": "execute_result",
          "data": {
            "text/plain": [
              "31"
            ]
          },
          "metadata": {},
          "execution_count": 25
        }
      ]
    },
    {
      "cell_type": "code",
      "source": [
        "# Testing the recursive function\n",
        "for i in range(1, 11):\n",
        "    print(tribonacci_rec(i))"
      ],
      "metadata": {
        "colab": {
          "base_uri": "https://localhost:8080/"
        },
        "id": "BHBnc1WONR6W",
        "outputId": "e9955008-bda6-4ded-da94-782d798a9cc9"
      },
      "execution_count": 26,
      "outputs": [
        {
          "output_type": "stream",
          "name": "stdout",
          "text": [
            "1\n",
            "1\n",
            "1\n",
            "3\n",
            "5\n",
            "9\n",
            "17\n",
            "31\n",
            "57\n",
            "105\n"
          ]
        }
      ]
    },
    {
      "cell_type": "code",
      "source": [
        "# Testing the iterative function. Should match with the recursive implementation\n",
        "for i in range(1, 11):\n",
        "    print(tribonacci_iter(i))"
      ],
      "metadata": {
        "colab": {
          "base_uri": "https://localhost:8080/"
        },
        "id": "p2fOm8dxNV1z",
        "outputId": "731e6671-73fb-493c-acce-fcfe4db1c05e"
      },
      "execution_count": 27,
      "outputs": [
        {
          "output_type": "stream",
          "name": "stdout",
          "text": [
            "1\n",
            "1\n",
            "1\n",
            "3\n",
            "5\n",
            "9\n",
            "17\n",
            "31\n",
            "57\n",
            "105\n"
          ]
        }
      ]
    },
    {
      "cell_type": "markdown",
      "source": [
        "### Calculating the time complexity\n",
        "\n",
        "input: 6\n",
        "\n",
        "out = [1,1,1]\n",
        "\n",
        "i = 3\n",
        "\n",
        "out.append(out[2] + out[1] + out[0]) = out.append(3)\n",
        "\n",
        "out = [1,1,1,3]\n",
        "\n",
        "i = 4\n",
        "\n",
        "out.append(out[3] + out[2] + out[1]) = out.append(5)\n",
        "\n",
        "out = [1,1,1,3,5]\n",
        "\n",
        "i = 5\n",
        "\n",
        "out.append(out[4] + out[3] + out[2]) = out.append(9)\n",
        "\n",
        "out = [1,1,1,3,9]\n",
        "\n",
        "return out[6-1] = out[5] = 9\n",
        "\n",
        "we have a total of 3 inputs as with 6 we loop over 3 to 5. we had 3 additions, 3 assignments, which would be n + n = 2n.\n",
        "\n",
        "Thus, the time complexity is O(n)."
      ],
      "metadata": {
        "id": "PNsa5QgqN1x_"
      }
    },
    {
      "cell_type": "markdown",
      "source": [
        "### Iterative timmynacci"
      ],
      "metadata": {
        "id": "KVGrzgMVUXFk"
      }
    },
    {
      "cell_type": "code",
      "source": [
        "def timmynacci_iter(n):\n",
        "\n",
        "    # first base case: if n < 1 then return 1\n",
        "    if n < 1:\n",
        "      return 1\n",
        "\n",
        "    # second base case: if n == 2 then return \n",
        "    if n == 1:\n",
        "      return 2\n",
        "\n",
        "    # the first three solutions would include [1,1,2] as if input is 1 then 1/2 is 0.5 and 1/4 is 0.25 both resulting in 1 and 1 + 1 = 2. \n",
        "    # we would be starting with 2 where answer would be 2 + 1 = 3. \n",
        "    out = [1,1,2]\n",
        "    start_num = 2\n",
        "\n",
        "    # here in timmynacci the trend is that we iterate through multiples of 2. Only for multiples of 2 the final result will change as \n",
        "    # that's when start_num will exactly be n and thus another number will be added.\n",
        "    while start_num <= n:\n",
        "      out.append(out[-1] + out[-2]) # sum the last two elements of out\n",
        "      start_num *=2\n",
        "\n",
        "    return out[-1]\n",
        "\n",
        "print(timmynacci_iter(2))\n",
        "print(timmynacci_iter(15))\n",
        "print(timmynacci_iter(16))"
      ],
      "metadata": {
        "colab": {
          "base_uri": "https://localhost:8080/"
        },
        "id": "2GGKtrTWUSES",
        "outputId": "69b09641-89b1-4d07-eee5-011bf6c04180"
      },
      "execution_count": 70,
      "outputs": [
        {
          "output_type": "stream",
          "name": "stdout",
          "text": [
            "3\n",
            "8\n",
            "13\n"
          ]
        }
      ]
    },
    {
      "cell_type": "code",
      "source": [
        "print(timmynacci_rec(2))\n",
        "print(timmynacci_rec(15))\n",
        "print(timmynacci_rec(16))"
      ],
      "metadata": {
        "colab": {
          "base_uri": "https://localhost:8080/"
        },
        "id": "PKX-BblJfqiC",
        "outputId": "d30fdcbd-3453-4af0-ec64-c3f412de51e3"
      },
      "execution_count": 71,
      "outputs": [
        {
          "output_type": "stream",
          "name": "stdout",
          "text": [
            "3\n",
            "8\n",
            "13\n"
          ]
        }
      ]
    },
    {
      "cell_type": "code",
      "source": [
        "for num in range(1, 33):\n",
        "  print(f'value for {num} is {timmynacci_rec(num)}')"
      ],
      "metadata": {
        "colab": {
          "base_uri": "https://localhost:8080/"
        },
        "id": "f8cNhd9ToXWX",
        "outputId": "1a0efcf3-c322-4d14-bf47-f9959c9f7268"
      },
      "execution_count": 72,
      "outputs": [
        {
          "output_type": "stream",
          "name": "stdout",
          "text": [
            "value for 1 is 2\n",
            "value for 2 is 3\n",
            "value for 3 is 3\n",
            "value for 4 is 5\n",
            "value for 5 is 5\n",
            "value for 6 is 5\n",
            "value for 7 is 5\n",
            "value for 8 is 8\n",
            "value for 9 is 8\n",
            "value for 10 is 8\n",
            "value for 11 is 8\n",
            "value for 12 is 8\n",
            "value for 13 is 8\n",
            "value for 14 is 8\n",
            "value for 15 is 8\n",
            "value for 16 is 13\n",
            "value for 17 is 13\n",
            "value for 18 is 13\n",
            "value for 19 is 13\n",
            "value for 20 is 13\n",
            "value for 21 is 13\n",
            "value for 22 is 13\n",
            "value for 23 is 13\n",
            "value for 24 is 13\n",
            "value for 25 is 13\n",
            "value for 26 is 13\n",
            "value for 27 is 13\n",
            "value for 28 is 13\n",
            "value for 29 is 13\n",
            "value for 30 is 13\n",
            "value for 31 is 13\n",
            "value for 32 is 21\n"
          ]
        }
      ]
    },
    {
      "cell_type": "code",
      "source": [
        "for num in range(1, 33):\n",
        "  print(f'value for {num} is {timmynacci_iter(num)}')"
      ],
      "metadata": {
        "colab": {
          "base_uri": "https://localhost:8080/"
        },
        "id": "U8zETAW_oc92",
        "outputId": "6d8212a4-02a4-4901-c5b7-2509b22314a3"
      },
      "execution_count": 73,
      "outputs": [
        {
          "output_type": "stream",
          "name": "stdout",
          "text": [
            "value for 1 is 2\n",
            "value for 2 is 3\n",
            "value for 3 is 3\n",
            "value for 4 is 5\n",
            "value for 5 is 5\n",
            "value for 6 is 5\n",
            "value for 7 is 5\n",
            "value for 8 is 8\n",
            "value for 9 is 8\n",
            "value for 10 is 8\n",
            "value for 11 is 8\n",
            "value for 12 is 8\n",
            "value for 13 is 8\n",
            "value for 14 is 8\n",
            "value for 15 is 8\n",
            "value for 16 is 13\n",
            "value for 17 is 13\n",
            "value for 18 is 13\n",
            "value for 19 is 13\n",
            "value for 20 is 13\n",
            "value for 21 is 13\n",
            "value for 22 is 13\n",
            "value for 23 is 13\n",
            "value for 24 is 13\n",
            "value for 25 is 13\n",
            "value for 26 is 13\n",
            "value for 27 is 13\n",
            "value for 28 is 13\n",
            "value for 29 is 13\n",
            "value for 30 is 13\n",
            "value for 31 is 13\n",
            "value for 32 is 21\n"
          ]
        }
      ]
    },
    {
      "cell_type": "markdown",
      "source": [
        "### Complexity of timmynacci\n",
        "\n",
        "Let's break the function with two inputs 15 and 16.\n",
        "\n",
        "input: 16\n",
        "\n",
        "out = [1,1,2]\n",
        "\n",
        "__iteration 1:__\n",
        "\n",
        "start_num = 2\n",
        "\n",
        "start_num < 16\n",
        "\n",
        "out.append(2 + 1)\n",
        "\n",
        "out = [1,1,2,3]\n",
        "\n",
        "start_num *= 2 = 4\n",
        "\n",
        "<br> <br>\n",
        "\n",
        "__iteration 2:__\n",
        "\n",
        "start_num < 16\n",
        "\n",
        "out.append(3 + 2)\n",
        "\n",
        "out = [1,1,2,3,5]\n",
        "\n",
        "start_num *= 2 = 8\n",
        "\n",
        "<br> <br>\n",
        "\n",
        "__iteration 3:__\n",
        "\n",
        "start_num < 16\n",
        "\n",
        "out.append(5 + 3)\n",
        "\n",
        "out = [1,1,2,3,5,8]\n",
        "\n",
        "start_num *= 2 = 16\n",
        "\n",
        "<br> <br>\n",
        "\n",
        "__iteration 4:__\n",
        "\n",
        "start_num = 16\n",
        "\n",
        "out.append(8 + 5)\n",
        "\n",
        "out = [1,1,2,3,5,8,13]\n",
        "\n",
        "start_num *= 2 = 32\n",
        "\n",
        "<br> <br>\n",
        "\n",
        "__iteration 5:__\n",
        "\n",
        "start_num > 16\n",
        "\n",
        "return last element of out 13.\n",
        "\n",
        "\n",
        "we had 5 additions and 5 assignments and 5 multiplications.\n",
        "\n",
        "<br>\n",
        "\n",
        "-------------------------------------------------------------------------\n",
        "\n",
        "<br>\n",
        "\n",
        "\n",
        "input: 15\n",
        "\n",
        "out = [1,1,2]\n",
        "\n",
        "__iteration 1:__\n",
        "\n",
        "start_num = 2\n",
        "\n",
        "start_num < 15\n",
        "\n",
        "out.append(2 + 1)\n",
        "\n",
        "out = [1,1,2,3]\n",
        "\n",
        "start_num *= 2 = 4\n",
        "\n",
        "<br> <br>\n",
        "\n",
        "__iteration 2:__\n",
        "\n",
        "start_num < 15\n",
        "\n",
        "out.append(3 + 2)\n",
        "\n",
        "out = [1,1,2,3,5]\n",
        "\n",
        "start_num *= 2 = 8\n",
        "\n",
        "<br> <br>\n",
        "\n",
        "__iteration 3:__\n",
        "\n",
        "start_num < 15\n",
        "\n",
        "out.append(5 + 3)\n",
        "\n",
        "out = [1,1,2,3,5,8]\n",
        "\n",
        "start_num *= 2 = 16\n",
        "\n",
        "<br> <br>\n",
        "\n",
        "__iteration 4:__\n",
        "\n",
        "start_num > 15\n",
        "\n",
        "return last element of out 8.\n",
        "\n",
        "we had 5 additions and 5 assignments and 5 multiplications.\n",
        "\n",
        "--------------------------------------------------------------------------\n",
        "\n",
        "we have roughly 3 n/4 (+1 in case input is multiple of 2) operations. Per the same theory of $\\frac{n}{2^l}$, where l are the no of iteraions, we get a time complexity of O(log n) for iterative timmynacci."
      ],
      "metadata": {
        "id": "tmCd5oR6qe8i"
      }
    },
    {
      "cell_type": "markdown",
      "source": [
        "---"
      ],
      "metadata": {
        "id": "1q5Pa3J8_HxN"
      }
    },
    {
      "cell_type": "markdown",
      "source": [
        "5. What is the Big-O complexity of the Towers of Hanoi problem given in Chapter 6? Is the complexity an upper bound or is it exact?"
      ],
      "metadata": {
        "id": "Iu6IlXzoAblg"
      }
    },
    {
      "cell_type": "markdown",
      "source": [
        "### Recursion tree of tower of hanoi with 3 towers and moving disks from tower 1 to tower 3.\n",
        "\n",
        "<pre>\n",
        "                                      (0)\n",
        "                                  (3, 1, 3, 2)\n",
        "                 (1)                                       (8)\n",
        "              (2,1,2,3)                                 (2,2,3,1)\n",
        "\n",
        "       (2)                 (5)                   (9)                (12)\n",
        "    (1,1,3,2)           (1,3,2,1)             (1,2,1,3)           (1,1,3,2)\n",
        "\n",
        "  (3)       (4)       (6)       (7)         (10)      (11)      (13)      (14)\n",
        "(0,...)   (0,...)   (0,...)   (0,...)     (0,...)   (0,...)   (0,...)   (0,...)\n",
        "               \n",
        "</pre>\n",
        "\n",
        "with input as 3 towers we had 7 print statements and 8 cases where we reached the base case. (final call executes but does not print as the challenge is completed)\n",
        "\n",
        "with inoput as 4, we had 15 print stamements (16 executions) and with input as 5 we had 31 print statements (32 executions). Thus, we are dealing with an exponental time complexity $O(2^n)$ as with input 3, $2^3 = 8$, with input 4, $2^4 = 16$, and with input 5, $2^5 = 32$.\n",
        "\n",
        "This appears to be an exact bound as it always holds true as we increase the input.\n",
        "\n",
        "when tried with N = 5,6, and 7  we get answers 31, 63, and 127 repectively which further validates the exact bound of $O(2^n)$"
      ],
      "metadata": {
        "id": "ek5m5yHFBYkH"
      }
    },
    {
      "cell_type": "code",
      "source": [
        "# from the text book\n",
        "n_ops = 0\n",
        "\n",
        "def my_towers_count(N, from_tower, to_tower, alt_tower):\n",
        "    \"\"\"\n",
        "    Displays the moves required to move a tower of size N from the\n",
        "    'from_tower' to the 'to_tower'. \n",
        "    \n",
        "    'from_tower', 'to_tower' and 'alt_tower' are uniquely either \n",
        "    1, 2, or 3 referring to tower 1, tower 2, and tower 3. \n",
        "    \"\"\"\n",
        "    global n_ops\n",
        "    if N != 0:\n",
        "        # recursive call that moves N-1 stack from starting tower\n",
        "        # to alternate tower\n",
        "        my_towers_count(N-1, from_tower, alt_tower, to_tower)\n",
        "        \n",
        "        # display to screen movement of bottom disk from starting\n",
        "        # tower to final tower\n",
        "        # print(\"Move disk %d from tower %d to tower %d.\"\\\n",
        "        #           %(N, from_tower, to_tower))\n",
        "        n_ops += 1\n",
        "        # recursive call that moves N-1 stack from alternate tower\n",
        "        # to final tower\n",
        "        my_towers_count(N-1, alt_tower, to_tower, from_tower)\n",
        "\n",
        "my_towers_count(3, 1, 3, 2)\n",
        "print(n_ops)"
      ],
      "metadata": {
        "colab": {
          "base_uri": "https://localhost:8080/"
        },
        "id": "qE54SwSio1CD",
        "outputId": "ec13078e-d883-4072-8185-40f13d19165c"
      },
      "execution_count": 87,
      "outputs": [
        {
          "output_type": "stream",
          "name": "stdout",
          "text": [
            "7\n"
          ]
        }
      ]
    },
    {
      "cell_type": "code",
      "source": [
        "# with N = 4\n",
        "n_ops = 0\n",
        "my_towers_count(4, 1, 3, 2)\n",
        "print(n_ops)"
      ],
      "metadata": {
        "colab": {
          "base_uri": "https://localhost:8080/"
        },
        "id": "1qY73b9UEF0S",
        "outputId": "092269f7-fc31-478a-a617-41469f63faa9"
      },
      "execution_count": 88,
      "outputs": [
        {
          "output_type": "stream",
          "name": "stdout",
          "text": [
            "15\n"
          ]
        }
      ]
    },
    {
      "cell_type": "code",
      "source": [
        "# with N = 5\n",
        "n_ops = 0\n",
        "my_towers_count(5, 1, 3, 2)\n",
        "print(n_ops)"
      ],
      "metadata": {
        "colab": {
          "base_uri": "https://localhost:8080/"
        },
        "id": "rptRjVK4F5X3",
        "outputId": "6af65469-b27a-4738-c96b-51f7c7de1fd0"
      },
      "execution_count": 89,
      "outputs": [
        {
          "output_type": "stream",
          "name": "stdout",
          "text": [
            "31\n"
          ]
        }
      ]
    },
    {
      "cell_type": "code",
      "source": [
        "# with N = 6\n",
        "n_ops = 0\n",
        "my_towers_count(6, 1, 3, 2)\n",
        "print(n_ops)"
      ],
      "metadata": {
        "colab": {
          "base_uri": "https://localhost:8080/"
        },
        "id": "fJbffD42GGso",
        "outputId": "779f8661-a7c3-4579-c438-e6b0b60ee2d6"
      },
      "execution_count": 91,
      "outputs": [
        {
          "output_type": "stream",
          "name": "stdout",
          "text": [
            "63\n"
          ]
        }
      ]
    },
    {
      "cell_type": "code",
      "source": [
        "# with N = 7\n",
        "n_ops = 0\n",
        "my_towers_count(7, 1, 3, 2)\n",
        "print(n_ops)"
      ],
      "metadata": {
        "colab": {
          "base_uri": "https://localhost:8080/"
        },
        "id": "k5kkdYFdGmW_",
        "outputId": "fb8481d4-fb1c-4f3d-a8d9-4347100b0dfd"
      },
      "execution_count": 92,
      "outputs": [
        {
          "output_type": "stream",
          "name": "stdout",
          "text": [
            "127\n"
          ]
        }
      ]
    },
    {
      "cell_type": "markdown",
      "source": [
        "---"
      ],
      "metadata": {
        "id": "xMMtN7ZlHDfW"
      }
    },
    {
      "cell_type": "markdown",
      "source": [
        "6. What is the Big-O complexity of the quicksort algorithm?"
      ],
      "metadata": {
        "id": "xjGrltd1HETr"
      }
    },
    {
      "cell_type": "markdown",
      "source": [
        "### Recursion tree for quicksort\n",
        "\n",
        "__Recursion tree of quicksort__\n",
        "\n",
        "\n",
        "<pre>\n",
        "                                      (0)\n",
        "                                [5,4,6,2,9,1,7,3]\n",
        "                 (1)                                       (4)\n",
        "              [4,2,1,3]               [5]                [6,9,7]\n",
        "\n",
        "         (2)                                           (5)        \n",
        "       [2,1,3]  + [4]  + []                       [] + [6] + [9,7]\n",
        "\n",
        "     (3)                                                          (6)\n",
        "[1]  [2]  [3]                                               [7] + [9] + []\n",
        "               \n",
        "</pre>"
      ],
      "metadata": {
        "id": "7W6UeUnRHTZF"
      }
    },
    {
      "cell_type": "markdown",
      "source": [
        "time complexity depends very heavily on the pivot element that was used to sort arrays.\n",
        "\n",
        "Here, the pivot element is 5, which is the middle element of the array and would split the arrays in equal parts.\n",
        "\n",
        "This significantly lowers the sort time as now we have broken the arrays into two parts.\n",
        "\n",
        "But lets say we had the array [1,4,6,2,9,5,7,3]\n",
        "\n",
        "now the pivot element is 1.\n",
        "\n",
        "if we try to split that then left array would be empty and we would get all other elements in the right array.\n",
        "\n",
        "Here's how the tree would look.\n",
        "\n",
        "<pre>\n",
        "                                      (0)\n",
        "                                [1,4,6,2,9,5,7,3]\n",
        "                                                           (1)\n",
        "              []               [1]                   [4,6,2,9,5,7,3]\n",
        "\n",
        "                                                   (2)        \n",
        "                                           [2,3] + [4] + [6,9,5,7]\n",
        "\n",
        "                                         (3)                      (4)\n",
        "                                    [] + [2] + [3]       [5] + [6] + [7,9]\n",
        "               \n",
        "                                                                   (5)\n",
        "                                                                    [] + [7] + [9]    \n",
        "\n",
        "</pre>\n",
        "\n",
        "previously when we had the middle element as pivot then we had broken both arrays in half and then we were dealing with arrays half the size. Here, when the smallest element was the pivot the resulting array on the right was size n - 1. After that we had a middle element 4 that cut it in half. If that element was 2 or 3 then we would be dealing with another n-1 sized array. The depth of the tree increased by 1. This is why the quicksort algorithm has a different best, worst and average case complexity as it depends on the order of the array and the pivot element.\n",
        "\n",
        "https://towardsdatascience.com/an-overview-of-quicksort-algorithm-b9144e314a72\n",
        "\n",
        "https://www.khanacademy.org/computing/computer-science/algorithms/quick-sort/a/analysis-of-quicksort\n",
        "\n",
        "Per the articles above the best case runtime is O(n log(n)) and the worse case is $O(n^2)$.\n",
        "\n",
        "The worst case here refers to the scenario where the pivot selection leads to a split of n- 1 arrays on one of the sides at every split, which would lead to n recursive calls as at each step we are left with an array of size n - 1 and we are working through one element at a time and to break the array we compare all the elements in n - 1 array to the pivot. This results in an $O(n^2)$ run time. \n",
        "\n",
        "This worst case would generally occur when the list is already sorted.\n",
        "\n",
        "The best case scenario occurs when the list is in a random order.\n",
        "\n",
        "source: https://www.quora.com/What-are-the-worst-and-best-cases-for-quick-sort-algorithms\n",
        "\n",
        "O(n log(n)) comes from the fact that since each time arrays are broken in half our run time would be log(n). n is due to the fact that we still have to traverse through all the elements i.e. each element will be used to compare to the pivot at each stage to break the arrays. In the best case with equal size sub-arrays we wont have to compare each element with one another like above and thus the run time falls from $O(n^2)$ to O(n)\n"
      ],
      "metadata": {
        "id": "JyhxV5BMIaFF"
      }
    },
    {
      "cell_type": "markdown",
      "source": [
        "---"
      ],
      "metadata": {
        "id": "vez3NxACkyCl"
      }
    },
    {
      "cell_type": "markdown",
      "source": [
        "7. Run the following two iterative implementations of finding Fibonacci numbers in the line_profiler as well as using the magic command to get the repeated run time. The first implementation preallocates memory to an array that stores all the Fibonacci numbers. The second implementation expands the list at each iteration of the for-loop."
      ],
      "metadata": {
        "id": "YPCbJgDQkzYv"
      }
    },
    {
      "cell_type": "code",
      "source": [
        "import numpy as np\n",
        "\n",
        "def my_fib_iter1(n):\n",
        "    out = np.zeros(n)\n",
        "    \n",
        "    out[:2] = 1\n",
        "    \n",
        "    for i in range(2, n):\n",
        "        out[i] = out[i-1] + out[i-2]\n",
        "        \n",
        "    return out\n",
        "\n",
        "def my_fib_iter2(n):\n",
        "    \n",
        "    out = [1, 1]\n",
        "    \n",
        "    for i in range(2, n):\n",
        "        out.append(out[i-1]+out[i-2])\n",
        "        \n",
        "    return np.array(out)"
      ],
      "metadata": {
        "id": "u5lpgjVvlVzZ"
      },
      "execution_count": 96,
      "outputs": []
    },
    {
      "cell_type": "markdown",
      "source": [
        "### Using the line-profiler (line by line code run time)"
      ],
      "metadata": {
        "id": "_GgvdPY5lZMO"
      }
    },
    {
      "cell_type": "code",
      "source": [
        "!pip install line-profiler"
      ],
      "metadata": {
        "colab": {
          "base_uri": "https://localhost:8080/"
        },
        "id": "KAsPcEL3Gn4A",
        "outputId": "713c887b-e00f-4dda-83bd-f58fefe12043"
      },
      "execution_count": 94,
      "outputs": [
        {
          "output_type": "stream",
          "name": "stdout",
          "text": [
            "Looking in indexes: https://pypi.org/simple, https://us-python.pkg.dev/colab-wheels/public/simple/\n",
            "Collecting line-profiler\n",
            "  Downloading line_profiler-4.0.3-cp310-cp310-manylinux_2_17_x86_64.manylinux2014_x86_64.whl (661 kB)\n",
            "\u001b[2K     \u001b[90m━━━━━━━━━━━━━━━━━━━━━━━━━━━━━━━━━━━━━━\u001b[0m \u001b[32m661.9/661.9 kB\u001b[0m \u001b[31m11.0 MB/s\u001b[0m eta \u001b[36m0:00:00\u001b[0m\n",
            "\u001b[?25hInstalling collected packages: line-profiler\n",
            "Successfully installed line-profiler-4.0.3\n"
          ]
        }
      ]
    },
    {
      "cell_type": "code",
      "source": [
        "%load_ext line_profiler "
      ],
      "metadata": {
        "id": "I7PqSzCok_pz"
      },
      "execution_count": 95,
      "outputs": []
    },
    {
      "cell_type": "code",
      "source": [
        "my_fib_iter1(8)"
      ],
      "metadata": {
        "colab": {
          "base_uri": "https://localhost:8080/"
        },
        "id": "LflejIvFl7JX",
        "outputId": "d0c092c2-a9c6-4008-97d3-f6c6545c82da"
      },
      "execution_count": 97,
      "outputs": [
        {
          "output_type": "execute_result",
          "data": {
            "text/plain": [
              "array([ 1.,  1.,  2.,  3.,  5.,  8., 13., 21.])"
            ]
          },
          "metadata": {},
          "execution_count": 97
        }
      ]
    },
    {
      "cell_type": "code",
      "source": [
        "%lprun -f my_fib_iter1 my_fib_iter1(8)"
      ],
      "metadata": {
        "id": "-tUMzRzslQ2z"
      },
      "execution_count": 98,
      "outputs": []
    },
    {
      "cell_type": "markdown",
      "source": [
        "Image of Expected line by line output in a separate page (would be part of the same window)\n",
        "\n",
        "![my_fib_iter1(8)_line_by_line.png](data:image/png;base64,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)"
      ],
      "metadata": {
        "id": "SAUQDsxonjps"
      }
    },
    {
      "cell_type": "code",
      "source": [
        "my_fib_iter2(8)"
      ],
      "metadata": {
        "colab": {
          "base_uri": "https://localhost:8080/"
        },
        "id": "j3tQTrz4n_AT",
        "outputId": "90d8bb63-0aac-4a64-94c7-035a8667d5c0"
      },
      "execution_count": 100,
      "outputs": [
        {
          "output_type": "execute_result",
          "data": {
            "text/plain": [
              "array([ 1,  1,  2,  3,  5,  8, 13, 21])"
            ]
          },
          "metadata": {},
          "execution_count": 100
        }
      ]
    },
    {
      "cell_type": "code",
      "source": [
        "%lprun -f my_fib_iter2 my_fib_iter2(8)"
      ],
      "metadata": {
        "id": "32QlYeWsnJaB"
      },
      "execution_count": 101,
      "outputs": []
    },
    {
      "cell_type": "markdown",
      "source": [
        "![my_fib_iter2(8)_line_by_line.png](data:image/png;base64,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)"
      ],
      "metadata": {
        "id": "agVlLPdZoo0Y"
      }
    },
    {
      "cell_type": "markdown",
      "source": [
        "### Magic commands"
      ],
      "metadata": {
        "id": "3ok8BEEqosCk"
      }
    },
    {
      "cell_type": "markdown",
      "source": [
        "Analyzing time per loop"
      ],
      "metadata": {
        "id": "P4oOstVVpTsA"
      }
    },
    {
      "cell_type": "code",
      "source": [
        "%%timeit\n",
        "my_fib_iter1(8)"
      ],
      "metadata": {
        "colab": {
          "base_uri": "https://localhost:8080/"
        },
        "id": "hYv_wEDuoqXX",
        "outputId": "29f7631f-2a18-4508-ed1f-27056c5dbbeb"
      },
      "execution_count": 103,
      "outputs": [
        {
          "output_type": "stream",
          "name": "stdout",
          "text": [
            "5.32 µs ± 2.45 µs per loop (mean ± std. dev. of 7 runs, 100000 loops each)\n"
          ]
        }
      ]
    },
    {
      "cell_type": "code",
      "source": [
        "%%timeit\n",
        "my_fib_iter2(8)"
      ],
      "metadata": {
        "colab": {
          "base_uri": "https://localhost:8080/"
        },
        "id": "IOb4ky1spIGj",
        "outputId": "4df23b7d-59f3-40cb-e085-4530fc0ba0df"
      },
      "execution_count": 104,
      "outputs": [
        {
          "output_type": "stream",
          "name": "stdout",
          "text": [
            "2.1 µs ± 128 ns per loop (mean ± std. dev. of 7 runs, 100000 loops each)\n"
          ]
        }
      ]
    },
    {
      "cell_type": "markdown",
      "source": [
        "Analyzing total time"
      ],
      "metadata": {
        "id": "rJF9x0mrpX_F"
      }
    },
    {
      "cell_type": "code",
      "source": [
        "%%time\n",
        "my_fib_iter1(8)"
      ],
      "metadata": {
        "colab": {
          "base_uri": "https://localhost:8080/"
        },
        "id": "4xiogOQLpSRC",
        "outputId": "29d45b87-1c9c-4ac6-c8df-68eddd0fbe49"
      },
      "execution_count": 105,
      "outputs": [
        {
          "output_type": "stream",
          "name": "stdout",
          "text": [
            "CPU times: user 56 µs, sys: 0 ns, total: 56 µs\n",
            "Wall time: 65.3 µs\n"
          ]
        },
        {
          "output_type": "execute_result",
          "data": {
            "text/plain": [
              "array([ 1.,  1.,  2.,  3.,  5.,  8., 13., 21.])"
            ]
          },
          "metadata": {},
          "execution_count": 105
        }
      ]
    },
    {
      "cell_type": "code",
      "source": [
        "%%time\n",
        "my_fib_iter2(8)"
      ],
      "metadata": {
        "colab": {
          "base_uri": "https://localhost:8080/"
        },
        "id": "ZMLgv36XpbeT",
        "outputId": "efab60c8-033b-428e-97a8-020fed2efd7c"
      },
      "execution_count": 106,
      "outputs": [
        {
          "output_type": "stream",
          "name": "stdout",
          "text": [
            "CPU times: user 38 µs, sys: 0 ns, total: 38 µs\n",
            "Wall time: 41.5 µs\n"
          ]
        },
        {
          "output_type": "execute_result",
          "data": {
            "text/plain": [
              "array([ 1,  1,  2,  3,  5,  8, 13, 21])"
            ]
          },
          "metadata": {},
          "execution_count": 106
        }
      ]
    },
    {
      "cell_type": "markdown",
      "source": [
        "Clearly expanding array one element at a time is much faster than pre-allocating memory."
      ],
      "metadata": {
        "id": "FQjnmEbIpnCZ"
      }
    },
    {
      "cell_type": "code",
      "source": [],
      "metadata": {
        "id": "vMjhFt-DpsZv"
      },
      "execution_count": null,
      "outputs": []
    }
  ]
}
