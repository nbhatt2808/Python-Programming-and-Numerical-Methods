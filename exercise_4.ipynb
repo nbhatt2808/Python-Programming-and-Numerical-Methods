{
  "nbformat": 4,
  "nbformat_minor": 0,
  "metadata": {
    "colab": {
      "provenance": []
    },
    "kernelspec": {
      "name": "python3",
      "display_name": "Python 3"
    },
    "language_info": {
      "name": "python"
    }
  },
  "cells": [
    {
      "cell_type": "markdown",
      "source": [
        "These are the exercise problems from the book Python programming and Numerical methods book:\n",
        "\n",
        "https://pythonnumericalmethods.berkeley.edu/notebooks/Index.html\n",
        "\n",
        "# Chapter 4: Branching Statements\n",
        "\n",
        "https://pythonnumericalmethods.berkeley.edu/notebooks/chapter04.03-Summary-and-Problems.html\n",
        "\n",
        "Only those problems that need to be solved in a notebook environment"
      ],
      "metadata": {
        "id": "sQrIF9suvsHq"
      }
    },
    {
      "cell_type": "markdown",
      "source": [
        "1. Write a function my_tip_calc(bill, party), where bill is the total cost of a meal and party is the number of people in the group. The tip should be calculated as 15% for a party strictly less than six people, 18% for a party strictly less than eight, 20% for a party less than 11, and 25% for a party 11 or more. A couple of test cases are given below."
      ],
      "metadata": {
        "id": "4t-UiWSUynqe"
      }
    },
    {
      "cell_type": "code",
      "execution_count": 1,
      "metadata": {
        "id": "28dHmitxvnAN"
      },
      "outputs": [],
      "source": [
        "def my_tip_calc(bill, party):\n",
        "  \n",
        "  if party < 6:\n",
        "    tip = 0.15\n",
        "\n",
        "  elif party < 8:\n",
        "    tip = 0.18\n",
        "  \n",
        "  elif party < 11:\n",
        "    tip = 0.20\n",
        "\n",
        "  else:\n",
        "    tip = 0.25\n",
        "  \n",
        "  return bill*tip"
      ]
    },
    {
      "cell_type": "code",
      "source": [
        "# test case 1\n",
        "# expected answer: t = 16.3935\n",
        "t = my_tip_calc(109.29,3) \n",
        "print(t)"
      ],
      "metadata": {
        "colab": {
          "base_uri": "https://localhost:8080/"
        },
        "id": "tTZa7RVWN0QO",
        "outputId": "08b2ac81-bf28-4a73-9ace-5343bb43704d"
      },
      "execution_count": 2,
      "outputs": [
        {
          "output_type": "stream",
          "name": "stdout",
          "text": [
            "16.3935\n"
          ]
        }
      ]
    },
    {
      "cell_type": "code",
      "source": [
        "# test case 2\n",
        "# expected answer: t = 19.6722\n",
        "t = my_tip_calc(109.29,7) \n",
        "print(t)"
      ],
      "metadata": {
        "colab": {
          "base_uri": "https://localhost:8080/"
        },
        "id": "X3DSoiKVN4Ra",
        "outputId": "c85b69d1-d29f-4ade-d99f-c6318a7550fc"
      },
      "execution_count": 3,
      "outputs": [
        {
          "output_type": "stream",
          "name": "stdout",
          "text": [
            "19.6722\n"
          ]
        }
      ]
    },
    {
      "cell_type": "code",
      "source": [
        "# test case 3\n",
        "# expected answer: t = 21.8580\n",
        "t = my_tip_calc(109.29,9)\n",
        "print(t)"
      ],
      "metadata": {
        "colab": {
          "base_uri": "https://localhost:8080/"
        },
        "id": "sB060ILBOVeJ",
        "outputId": "785033b1-20da-4178-f39e-314bbe389712"
      },
      "execution_count": 4,
      "outputs": [
        {
          "output_type": "stream",
          "name": "stdout",
          "text": [
            "21.858000000000004\n"
          ]
        }
      ]
    },
    {
      "cell_type": "code",
      "source": [
        "# test case 4\n",
        "# expected answer: t = 27.3225\n",
        "t = my_tip_calc(109.29,12)\n",
        "print(t)"
      ],
      "metadata": {
        "colab": {
          "base_uri": "https://localhost:8080/"
        },
        "id": "mu8J25x2OcmJ",
        "outputId": "df915357-5a3d-4f4d-b1aa-621d40f33227"
      },
      "execution_count": 5,
      "outputs": [
        {
          "output_type": "stream",
          "name": "stdout",
          "text": [
            "27.3225\n"
          ]
        }
      ]
    },
    {
      "cell_type": "markdown",
      "source": [
        "2. Write a function my_mult_operation(a,b,operation). The input argument, operation, is a string that is either 'plus', 'minus', 'mult', 'div', or 'pow', and the function should compute: a+b, a-b, a*b, a/b, and $a^b$ for the respective values for operation. A couple of test cases are given below."
      ],
      "metadata": {
        "id": "tUKHcqUMO39D"
      }
    },
    {
      "cell_type": "code",
      "source": [
        "def my_mult_operation(a,b,operation):\n",
        "\n",
        "  if operation == 'plus':\n",
        "    return a + b\n",
        "  \n",
        "  elif operation == 'minus':\n",
        "    return a - b\n",
        "\n",
        "  elif operation == 'mult':\n",
        "    return a*b\n",
        "\n",
        "  elif operation == 'div':\n",
        "    return a/b\n",
        "\n",
        "  elif operation == 'pow':\n",
        "    return a**b"
      ],
      "metadata": {
        "id": "DsRk8zdEOiaZ"
      },
      "execution_count": 6,
      "outputs": []
    },
    {
      "cell_type": "code",
      "source": [
        "import numpy as np\n",
        "\n",
        "x = np.array([1,2,3,4])\n",
        "y = np.array([2,3,4,5])\n",
        "\n",
        "# Output: [3,5,7,9]\n",
        "my_mult_operation(x,y,'plus')"
      ],
      "metadata": {
        "colab": {
          "base_uri": "https://localhost:8080/"
        },
        "id": "R6Q4JCI6RwLw",
        "outputId": "d8328d3f-3008-46d5-c039-3410fe3935fa"
      },
      "execution_count": 7,
      "outputs": [
        {
          "output_type": "execute_result",
          "data": {
            "text/plain": [
              "array([3, 5, 7, 9])"
            ]
          },
          "metadata": {},
          "execution_count": 7
        }
      ]
    },
    {
      "cell_type": "code",
      "source": [
        "# Output: [-1,-1,-1,-1]\n",
        "my_mult_operation(x,y,'minus')"
      ],
      "metadata": {
        "colab": {
          "base_uri": "https://localhost:8080/"
        },
        "id": "EOFA0dJaR22P",
        "outputId": "6d519f77-8496-4c0b-dfeb-ed86958c4022"
      },
      "execution_count": 8,
      "outputs": [
        {
          "output_type": "execute_result",
          "data": {
            "text/plain": [
              "array([-1, -1, -1, -1])"
            ]
          },
          "metadata": {},
          "execution_count": 8
        }
      ]
    },
    {
      "cell_type": "code",
      "source": [
        "# Output: [2,6,12,20]\n",
        "my_mult_operation(x,y,'mult')"
      ],
      "metadata": {
        "colab": {
          "base_uri": "https://localhost:8080/"
        },
        "id": "dO7W7w7FR54X",
        "outputId": "9ca6db60-8440-4794-e73d-d3ae13ac6746"
      },
      "execution_count": 9,
      "outputs": [
        {
          "output_type": "execute_result",
          "data": {
            "text/plain": [
              "array([ 2,  6, 12, 20])"
            ]
          },
          "metadata": {},
          "execution_count": 9
        }
      ]
    },
    {
      "cell_type": "code",
      "source": [
        "# Output: [0.5,0.66666667,0.75,0.8]\n",
        "my_mult_operation(x,y,'div')"
      ],
      "metadata": {
        "colab": {
          "base_uri": "https://localhost:8080/"
        },
        "id": "2NkDEJkOR9gQ",
        "outputId": "6e759bd6-6a4a-479f-c54d-406645a43f8d"
      },
      "execution_count": 10,
      "outputs": [
        {
          "output_type": "execute_result",
          "data": {
            "text/plain": [
              "array([0.5       , 0.66666667, 0.75      , 0.8       ])"
            ]
          },
          "metadata": {},
          "execution_count": 10
        }
      ]
    },
    {
      "cell_type": "code",
      "source": [
        "# Output: [1,8,81,1024]\n",
        "my_mult_operation(x,y,'pow')"
      ],
      "metadata": {
        "colab": {
          "base_uri": "https://localhost:8080/"
        },
        "id": "VtCe10OpSBzb",
        "outputId": "1070b357-945e-468d-fdc3-6280bb153d1e"
      },
      "execution_count": 11,
      "outputs": [
        {
          "output_type": "execute_result",
          "data": {
            "text/plain": [
              "array([   1,    8,   81, 1024])"
            ]
          },
          "metadata": {},
          "execution_count": 11
        }
      ]
    },
    {
      "cell_type": "markdown",
      "source": [
        "3. Consider a triangle with vertices at (0,0), (1,0), and (0,1). Write a function my_inside_triangle(x,y) where the output is the string 'outside' if the point (x,y) is outside of the triangle, 'border' if the point is exactly on the border of the triangle, and 'inside' if the point is on the inside of the triangle."
      ],
      "metadata": {
        "id": "qqhbWTykSp3a"
      }
    },
    {
      "cell_type": "code",
      "source": [
        "import matplotlib.pyplot as plt\n",
        "\n",
        "plt.plot([0,1,0], [0,0,1], 'ro')\n",
        "plt.plot([0,0], [0,1], 'b')\n",
        "plt.plot([0,1], [0,0], 'b')\n",
        "plt.plot([0,1], [1,0], 'b')\n",
        "plt.show()"
      ],
      "metadata": {
        "colab": {
          "base_uri": "https://localhost:8080/",
          "height": 265
        },
        "id": "2fAfqWhpSUZh",
        "outputId": "1cd270ae-12c2-4417-e58f-8bf1c57d1554"
      },
      "execution_count": 12,
      "outputs": [
        {
          "output_type": "display_data",
          "data": {
            "text/plain": [
              "<Figure size 432x288 with 1 Axes>"
            ],
            "image/png": "[encoded data removed]"
          },
          "metadata": {
            "needs_background": "light"
          }
        }
      ]
    },
    {
      "cell_type": "code",
      "source": [
        "def my_inside_triangle(x,y):\n",
        "\n",
        "    # if either of x or y are less than 0 or greater than 1 then the point is outside the triangle\n",
        "    # Also, if the sum of x and y is greater than 1 or less than 0 then the point is outside the triangle\n",
        "    if x < 0 or x > 1 or y < 0 or y > 1 or x + y > 1 or x + y < 0:\n",
        "      position = 'outside' \n",
        "    \n",
        "    # if the sum of x and y is exactly 1 then the point is on the longest side of the triangle and thus on the border\n",
        "    # if either of x or y is 0 then the point is on one of the two shorter sides of the triangle and thus on the border.\n",
        "    elif x + y == 1 or x == 0 or y == 0:\n",
        "      position = 'border'\n",
        "\n",
        "    # now the only thing left is x and y between 0 and 1 and their sum is less than 1. In all such scenarios the point is \n",
        "    # inside the triangle\n",
        "    else:\n",
        "      position = 'inside'\n",
        "    \n",
        "    return position"
      ],
      "metadata": {
        "id": "IvzcKSxbVOJr"
      },
      "execution_count": 13,
      "outputs": []
    },
    {
      "cell_type": "code",
      "source": [
        "# test case 1\n",
        "# Output: 'border'\n",
        "my_inside_triangle(.5,.5)"
      ],
      "metadata": {
        "colab": {
          "base_uri": "https://localhost:8080/",
          "height": 35
        },
        "id": "HDvRAmCFdGOH",
        "outputId": "d2aced62-9efb-499a-8255-9c608e9b5ebb"
      },
      "execution_count": 14,
      "outputs": [
        {
          "output_type": "execute_result",
          "data": {
            "text/plain": [
              "'border'"
            ],
            "application/vnd.google.colaboratory.intrinsic+json": {
              "type": "string"
            }
          },
          "metadata": {},
          "execution_count": 14
        }
      ]
    },
    {
      "cell_type": "code",
      "source": [
        "# plotting test case 1\n",
        "point = (0.5,0.5)\n",
        "\n",
        "plt.plot([0,1,0], [0,0,1], 'ro')\n",
        "plt.plot([0,0], [0,1], 'b')\n",
        "plt.plot([0,1], [0,0], 'b')\n",
        "plt.plot([0,1], [1,0], 'b')\n",
        "plt.plot([point[0]], [point[1]], 'go', label = 'point of interest')\n",
        "plt.legend()\n",
        "plt.show()"
      ],
      "metadata": {
        "colab": {
          "base_uri": "https://localhost:8080/",
          "height": 265
        },
        "id": "2N3vJ3Q6dK4I",
        "outputId": "ad611c31-f854-4474-feac-34d4e927363b"
      },
      "execution_count": 15,
      "outputs": [
        {
          "output_type": "display_data",
          "data": {
            "text/plain": [
              "<Figure size 432x288 with 1 Axes>"
            ],
            "image/png": "[encoded data removed]"
          },
          "metadata": {
            "needs_background": "light"
          }
        }
      ]
    },
    {
      "cell_type": "markdown",
      "source": [
        "Other cases in boundary points"
      ],
      "metadata": {
        "id": "I49QfxLlhCdc"
      }
    },
    {
      "cell_type": "code",
      "source": [
        "points = [(0.7,0.3), (0,0.3), (0.7,0)]\n",
        "colors = ['g', 'y', 'k']\n",
        "\n",
        "plt.plot([0,1,0], [0,0,1], 'ro')\n",
        "plt.plot([0,0], [0,1], 'b')\n",
        "plt.plot([0,1], [0,0], 'b')\n",
        "plt.plot([0,1], [1,0], 'b')\n",
        "\n",
        "for idx in range(len(points)):\n",
        "  print(f'point ({points[idx][0]}, {points[idx][1]}) is on the {my_inside_triangle(points[idx][0],points[idx][1])} of the triangle.')\n",
        "  plt.plot([points[idx][0]], [points[idx][1]], colors[idx] + 'o', label = f'(x,y) = ({points[idx][0]}, {points[idx][1]})')\n",
        "plt.legend()\n",
        "plt.show()"
      ],
      "metadata": {
        "colab": {
          "base_uri": "https://localhost:8080/",
          "height": 317
        },
        "id": "qXRlzRAHksGV",
        "outputId": "1d612ffc-21f6-494e-cf69-6f17c5ddcbb4"
      },
      "execution_count": 16,
      "outputs": [
        {
          "output_type": "stream",
          "name": "stdout",
          "text": [
            "point (0.7, 0.3) is on the border of the triangle.\n",
            "point (0, 0.3) is on the border of the triangle.\n",
            "point (0.7, 0) is on the border of the triangle.\n"
          ]
        },
        {
          "output_type": "display_data",
          "data": {
            "text/plain": [
              "<Figure size 432x288 with 1 Axes>"
            ],
            "image/png": "[encoded data removed]"
          },
          "metadata": {
            "needs_background": "light"
          }
        }
      ]
    },
    {
      "cell_type": "code",
      "source": [
        "# test case 2\n",
        "# Output: 'inside'\n",
        "my_inside_triangle(.25,.25)"
      ],
      "metadata": {
        "colab": {
          "base_uri": "https://localhost:8080/",
          "height": 35
        },
        "id": "kr00DUVtl8iI",
        "outputId": "2a713889-985d-4da1-f0e4-4c69d0e33c02"
      },
      "execution_count": 17,
      "outputs": [
        {
          "output_type": "execute_result",
          "data": {
            "text/plain": [
              "'inside'"
            ],
            "application/vnd.google.colaboratory.intrinsic+json": {
              "type": "string"
            }
          },
          "metadata": {},
          "execution_count": 17
        }
      ]
    },
    {
      "cell_type": "code",
      "source": [
        "# plotting test case 2\n",
        "point = (0.25,0.25)\n",
        "\n",
        "plt.plot([0,1,0], [0,0,1], 'ro')\n",
        "plt.plot([0,0], [0,1], 'b')\n",
        "plt.plot([0,1], [0,0], 'b')\n",
        "plt.plot([0,1], [1,0], 'b')\n",
        "plt.plot([point[0]], [point[1]], 'go', label = 'point of interest')\n",
        "plt.legend()\n",
        "plt.show()"
      ],
      "metadata": {
        "colab": {
          "base_uri": "https://localhost:8080/",
          "height": 265
        },
        "id": "Tdwn8uhTmB36",
        "outputId": "24215eb9-eb3e-4502-eae8-c6553227212b"
      },
      "execution_count": 18,
      "outputs": [
        {
          "output_type": "display_data",
          "data": {
            "text/plain": [
              "<Figure size 432x288 with 1 Axes>"
            ],
            "image/png": "[encoded data removed]"
          },
          "metadata": {
            "needs_background": "light"
          }
        }
      ]
    },
    {
      "cell_type": "code",
      "source": [
        "# test case 3\n",
        "# Output: 'outside'\n",
        "my_inside_triangle(5,5)"
      ],
      "metadata": {
        "colab": {
          "base_uri": "https://localhost:8080/",
          "height": 35
        },
        "id": "Yp7bes2Zm14w",
        "outputId": "c0583910-ac97-4d01-981a-5a737eb6cbe3"
      },
      "execution_count": 19,
      "outputs": [
        {
          "output_type": "execute_result",
          "data": {
            "text/plain": [
              "'outside'"
            ],
            "application/vnd.google.colaboratory.intrinsic+json": {
              "type": "string"
            }
          },
          "metadata": {},
          "execution_count": 19
        }
      ]
    },
    {
      "cell_type": "code",
      "source": [
        "# plotting test case 2\n",
        "point = (5,5)\n",
        "\n",
        "plt.plot([0,1,0], [0,0,1], 'ro')\n",
        "plt.plot([0,0], [0,1], 'b')\n",
        "plt.plot([0,1], [0,0], 'b')\n",
        "plt.plot([0,1], [1,0], 'b')\n",
        "plt.plot([point[0]], [point[1]], 'go', label = 'point of interest')\n",
        "plt.legend()\n",
        "plt.show()"
      ],
      "metadata": {
        "colab": {
          "base_uri": "https://localhost:8080/",
          "height": 265
        },
        "id": "TUGSp0rjnIrv",
        "outputId": "1d2c427c-2af5-4546-d120-fe288cae230c"
      },
      "execution_count": 20,
      "outputs": [
        {
          "output_type": "display_data",
          "data": {
            "text/plain": [
              "<Figure size 432x288 with 1 Axes>"
            ],
            "image/png": "[encoded data removed]"
          },
          "metadata": {
            "needs_background": "light"
          }
        }
      ]
    },
    {
      "cell_type": "markdown",
      "source": [
        "Other cases"
      ],
      "metadata": {
        "id": "xnDw-Hx4nYBT"
      }
    },
    {
      "cell_type": "code",
      "source": [
        "points = [(0.6,0.3), (0.4,0.6), (0.7,0.7)]\n",
        "colors = ['g', 'y', 'k']\n",
        "\n",
        "plt.plot([0,1,0], [0,0,1], 'ro')\n",
        "plt.plot([0,0], [0,1], 'b')\n",
        "plt.plot([0,1], [0,0], 'b')\n",
        "plt.plot([0,1], [1,0], 'b')\n",
        "\n",
        "for idx in range(len(points)):\n",
        "  position = my_inside_triangle(points[idx][0],points[idx][1])\n",
        "  if position == 'border':\n",
        "    print(f'point ({points[idx][0]}, {points[idx][1]}) is on the {position} of the triangle.')\n",
        "  else:\n",
        "    print(f'point ({points[idx][0]}, {points[idx][1]}) is {position} the triangle.')\n",
        "\n",
        "  plt.plot([points[idx][0]], [points[idx][1]], colors[idx] + 'o', label = f'(x,y) = ({points[idx][0]}, {points[idx][1]})')\n",
        "plt.legend()\n",
        "plt.show()"
      ],
      "metadata": {
        "colab": {
          "base_uri": "https://localhost:8080/",
          "height": 317
        },
        "id": "hGLNRnJenZAW",
        "outputId": "af2a5ad1-19c4-469f-d9dc-61b46172688f"
      },
      "execution_count": 21,
      "outputs": [
        {
          "output_type": "stream",
          "name": "stdout",
          "text": [
            "point (0.6, 0.3) is inside the triangle.\n",
            "point (0.4, 0.6) is on the border of the triangle.\n",
            "point (0.7, 0.7) is outside the triangle.\n"
          ]
        },
        {
          "output_type": "display_data",
          "data": {
            "text/plain": [
              "<Figure size 432x288 with 1 Axes>"
            ],
            "image/png": "[encoded data removed]"
          },
          "metadata": {
            "needs_background": "light"
          }
        }
      ]
    },
    {
      "cell_type": "markdown",
      "source": [
        "4. Write a function my_make_size10(x), where x is an array and output is the first 10 elements of x if x has more than 10 elements, and output is the array x padded with enough zeros to make it length 10 if x has less than 10 elements."
      ],
      "metadata": {
        "id": "rjWR5VLvoWgB"
      }
    },
    {
      "cell_type": "code",
      "source": [
        "def my_make_size10(x):\n",
        "    \n",
        "    if len(x) > 10:\n",
        "      size10 = list(x[:10])\n",
        "    elif len(x) < 10:\n",
        "      size10 = np.append(x, np.zeros(10 - len(x)))\n",
        "    else:\n",
        "      size10 = list(x)\n",
        "\n",
        "    return size10"
      ],
      "metadata": {
        "id": "hqSKaWuXoXyf"
      },
      "execution_count": 22,
      "outputs": []
    },
    {
      "cell_type": "code",
      "source": [
        "# test case 1\n",
        "# Output: [1,2,0,0,0,0,0,0,0,0]\n",
        "my_make_size10(range(1,3))"
      ],
      "metadata": {
        "colab": {
          "base_uri": "https://localhost:8080/"
        },
        "id": "CRbqTrGuph8v",
        "outputId": "691428f7-607c-4266-f460-e800a49fb6da"
      },
      "execution_count": 23,
      "outputs": [
        {
          "output_type": "execute_result",
          "data": {
            "text/plain": [
              "array([1., 2., 0., 0., 0., 0., 0., 0., 0., 0.])"
            ]
          },
          "metadata": {},
          "execution_count": 23
        }
      ]
    },
    {
      "cell_type": "code",
      "source": [
        "# test case 2\n",
        "# Output: [1,2,3,4,5,6,7,8,9,10]\n",
        "my_make_size10(range(1,15))"
      ],
      "metadata": {
        "colab": {
          "base_uri": "https://localhost:8080/"
        },
        "id": "7AcV29tPpmgf",
        "outputId": "3f1f4eb6-9fd6-4d8b-d8f1-dc92888ab6ec"
      },
      "execution_count": 24,
      "outputs": [
        {
          "output_type": "execute_result",
          "data": {
            "text/plain": [
              "[1, 2, 3, 4, 5, 6, 7, 8, 9, 10]"
            ]
          },
          "metadata": {},
          "execution_count": 24
        }
      ]
    },
    {
      "cell_type": "code",
      "source": [
        "# test case 3\n",
        "# Output: [3,6,13,4,0,0,0,0,0,0]\n",
        "my_make_size10([3,6,13,4])"
      ],
      "metadata": {
        "colab": {
          "base_uri": "https://localhost:8080/"
        },
        "id": "zq-r0WqxpyKn",
        "outputId": "535eee12-9d84-454a-c93d-5fd26a18ef68"
      },
      "execution_count": 25,
      "outputs": [
        {
          "output_type": "execute_result",
          "data": {
            "text/plain": [
              "array([ 3.,  6., 13.,  4.,  0.,  0.,  0.,  0.,  0.,  0.])"
            ]
          },
          "metadata": {},
          "execution_count": 25
        }
      ]
    },
    {
      "cell_type": "markdown",
      "source": [
        "5. Can you write my_make_size10 without using if-statements (i.e., using only logical and array operations)?"
      ],
      "metadata": {
        "id": "yWhURQIQqsS8"
      }
    },
    {
      "cell_type": "code",
      "source": [
        "def my_make_size10(x):\n",
        "    \n",
        "    x = np.array(list(x))\n",
        "    size10 = np.append(x, np.zeros(max(0,10 - len(x)) ))[:10]\n",
        "\n",
        "    return size10"
      ],
      "metadata": {
        "id": "gd6wDfNqqtFY"
      },
      "execution_count": 26,
      "outputs": []
    },
    {
      "cell_type": "code",
      "source": [
        "# test case 1: array of size exactly 10\n",
        "a = np.array([5,6,7,8,9,10,12,12,11,12])\n",
        "my_make_size10(a)"
      ],
      "metadata": {
        "colab": {
          "base_uri": "https://localhost:8080/"
        },
        "id": "TBJ_pPsYsyhS",
        "outputId": "8da60482-3bfa-41db-fb8a-ed1f602810a4"
      },
      "execution_count": 27,
      "outputs": [
        {
          "output_type": "execute_result",
          "data": {
            "text/plain": [
              "array([ 5.,  6.,  7.,  8.,  9., 10., 12., 12., 11., 12.])"
            ]
          },
          "metadata": {},
          "execution_count": 27
        }
      ]
    },
    {
      "cell_type": "code",
      "source": [
        "# test case 2: array of size less than 10\n",
        "a = np.array([5,6,7,8])\n",
        "my_make_size10(a)"
      ],
      "metadata": {
        "colab": {
          "base_uri": "https://localhost:8080/"
        },
        "id": "rClpYA_is6MR",
        "outputId": "ab4a50a4-b7ce-45bd-ac83-bdf33dc28d62"
      },
      "execution_count": 28,
      "outputs": [
        {
          "output_type": "execute_result",
          "data": {
            "text/plain": [
              "array([5., 6., 7., 8., 0., 0., 0., 0., 0., 0.])"
            ]
          },
          "metadata": {},
          "execution_count": 28
        }
      ]
    },
    {
      "cell_type": "code",
      "source": [
        "# test case 3: array of size greater than 10\n",
        "a = np.array([5,6,7,8,9,10,12,12,11,12,13,14,15,16])\n",
        "my_make_size10(a)"
      ],
      "metadata": {
        "colab": {
          "base_uri": "https://localhost:8080/"
        },
        "id": "slC0D0ddtDQH",
        "outputId": "94ea336e-e17b-4294-c563-b83f4b624399"
      },
      "execution_count": 29,
      "outputs": [
        {
          "output_type": "execute_result",
          "data": {
            "text/plain": [
              "array([ 5.,  6.,  7.,  8.,  9., 10., 12., 12., 11., 12.])"
            ]
          },
          "metadata": {},
          "execution_count": 29
        }
      ]
    },
    {
      "cell_type": "markdown",
      "source": [
        "6. Write a function my_letter_grader(percent), where grade is the string ‘A+’ if percent is greater than 97, ‘A’ if percent is greater than 93, ‘A-‘ if percent is greater than 90, ‘B+’ if percent is greater than 87, ‘B’ if percent is greater than 83, ‘B-‘ if percent is greater than 80, ‘C+’ if percent is greater than 77, ‘C’ if percent is greater than 73, ‘C-‘ if percent is greater than 70, ‘D+’ if percent is greater than 67, ‘D’ if percent is greater than 63, ‘D-‘ if percent is greater than 60, and ‘F’ for any percent less than 60. Grades exactly on the division should be included in the higher grade category."
      ],
      "metadata": {
        "id": "kcVl0bVmtPwr"
      }
    },
    {
      "cell_type": "code",
      "source": [
        "def my_letter_grader(percent):\n",
        "\n",
        "  if percent >= 97:\n",
        "    grade = 'A+'\n",
        "\n",
        "  elif percent >= 93:\n",
        "    grade = 'A'\n",
        "\n",
        "  elif percent >= 90:\n",
        "    grade = 'A-'\n",
        "\n",
        "  elif percent >= 87:\n",
        "    grade = 'B+'\n",
        "\n",
        "  elif percent >= 83:\n",
        "    grade = 'B'\n",
        "\n",
        "  elif percent >= 80:\n",
        "    grade = 'B-'\n",
        "\n",
        "  elif percent >= 77:\n",
        "    grade = 'C+'\n",
        "\n",
        "  elif percent >= 73:\n",
        "    grade = 'C'\n",
        "\n",
        "  elif percent >= 70:\n",
        "    grade = 'C-'\n",
        "\n",
        "  elif percent >= 67:\n",
        "    grade = 'D+'\n",
        "\n",
        "  elif percent >= 63:\n",
        "    grade = 'D'\n",
        "\n",
        "  elif percent >= 60:\n",
        "    grade = 'D-'\n",
        "  \n",
        "  else:\n",
        "    grade = 'F'\n",
        "\n",
        "  return grade\n"
      ],
      "metadata": {
        "id": "LxVc7qSZtH6d"
      },
      "execution_count": 30,
      "outputs": []
    },
    {
      "cell_type": "code",
      "source": [
        "# test case 1\n",
        "# Output: 'A+'\n",
        "my_letter_grader(97)"
      ],
      "metadata": {
        "colab": {
          "base_uri": "https://localhost:8080/",
          "height": 35
        },
        "id": "B8yaitZQuULx",
        "outputId": "ae8185a2-97bd-405b-f9d1-ad2d610d7d97"
      },
      "execution_count": 31,
      "outputs": [
        {
          "output_type": "execute_result",
          "data": {
            "text/plain": [
              "'A+'"
            ],
            "application/vnd.google.colaboratory.intrinsic+json": {
              "type": "string"
            }
          },
          "metadata": {},
          "execution_count": 31
        }
      ]
    },
    {
      "cell_type": "code",
      "source": [
        "# test case 2\n",
        "# Output: 'B'\n",
        "my_letter_grader(84)"
      ],
      "metadata": {
        "colab": {
          "base_uri": "https://localhost:8080/",
          "height": 35
        },
        "id": "F2cn2Q6YuXaf",
        "outputId": "ab5b32a2-ab3a-4d11-bb18-729ad76ada7e"
      },
      "execution_count": 32,
      "outputs": [
        {
          "output_type": "execute_result",
          "data": {
            "text/plain": [
              "'B'"
            ],
            "application/vnd.google.colaboratory.intrinsic+json": {
              "type": "string"
            }
          },
          "metadata": {},
          "execution_count": 32
        }
      ]
    },
    {
      "cell_type": "code",
      "source": [
        "# test case 3\n",
        "# Output: 'F'\n",
        "my_letter_grader(59)"
      ],
      "metadata": {
        "colab": {
          "base_uri": "https://localhost:8080/",
          "height": 35
        },
        "id": "6aWcqGfjudTn",
        "outputId": "83d0bf7c-3ff3-4213-8437-3f192ca80581"
      },
      "execution_count": 33,
      "outputs": [
        {
          "output_type": "execute_result",
          "data": {
            "text/plain": [
              "'F'"
            ],
            "application/vnd.google.colaboratory.intrinsic+json": {
              "type": "string"
            }
          },
          "metadata": {},
          "execution_count": 33
        }
      ]
    },
    {
      "cell_type": "markdown",
      "source": [
        "7. Most engineering systems have redundancy. That is, an engineering system has more than is required to accomplish its purpose. Consider a nuclear reactor whose temperature is monitored by three sensors. An alarm should go off if any two of the sensor readings disagree. Write a function my_nuke_alarm(s1,s2,s3) where s1, s2, and s3 are the temperature readings for sensor 1, sensor 2, and sensor 3, respectively. The output should be the string ‘alarm!’ if any two of the temperature readings disagree by strictly more than 10 degrees and ‘normal’ otherwise."
      ],
      "metadata": {
        "id": "H-bZrMki_Rhw"
      }
    },
    {
      "cell_type": "code",
      "source": [
        "def my_nuke_alarm(s1,s2,s3):\n",
        "    \n",
        "    if abs(s1 - s2) > 10 or abs(s1 - s3) > 10 or abs(s2 - s3) > 10:\n",
        "      response = 'alarm!'\n",
        "    else:\n",
        "      response = 'normal'\n",
        "    \n",
        "    return response"
      ],
      "metadata": {
        "id": "U1HBgwGS_Tc3"
      },
      "execution_count": 34,
      "outputs": []
    },
    {
      "cell_type": "code",
      "source": [
        "# test case 1\n",
        "#Output: 'normal'\n",
        "my_nuke_alarm(94,96,90)"
      ],
      "metadata": {
        "colab": {
          "base_uri": "https://localhost:8080/",
          "height": 35
        },
        "id": "K7veJNYeK7dP",
        "outputId": "189850ff-6c2c-472e-dbe9-be71c6f35ff3"
      },
      "execution_count": 35,
      "outputs": [
        {
          "output_type": "execute_result",
          "data": {
            "text/plain": [
              "'normal'"
            ],
            "application/vnd.google.colaboratory.intrinsic+json": {
              "type": "string"
            }
          },
          "metadata": {},
          "execution_count": 35
        }
      ]
    },
    {
      "cell_type": "code",
      "source": [
        "# test case 2\n",
        "#Output: 'alarm!'\n",
        "my_nuke_alarm(94,96,80)"
      ],
      "metadata": {
        "colab": {
          "base_uri": "https://localhost:8080/",
          "height": 35
        },
        "id": "PCAnq7txK-LG",
        "outputId": "c9b0979e-bfe1-478b-f1ce-d7040c54f74a"
      },
      "execution_count": 36,
      "outputs": [
        {
          "output_type": "execute_result",
          "data": {
            "text/plain": [
              "'alarm!'"
            ],
            "application/vnd.google.colaboratory.intrinsic+json": {
              "type": "string"
            }
          },
          "metadata": {},
          "execution_count": 36
        }
      ]
    },
    {
      "cell_type": "code",
      "source": [
        "#Output: 'normal'\n",
        "my_nuke_alarm(100,96,90)"
      ],
      "metadata": {
        "colab": {
          "base_uri": "https://localhost:8080/",
          "height": 35
        },
        "id": "DCIxJuyHLCON",
        "outputId": "65621ce8-186b-4c93-bc10-c3a0901bed2a"
      },
      "execution_count": 37,
      "outputs": [
        {
          "output_type": "execute_result",
          "data": {
            "text/plain": [
              "'normal'"
            ],
            "application/vnd.google.colaboratory.intrinsic+json": {
              "type": "string"
            }
          },
          "metadata": {},
          "execution_count": 37
        }
      ]
    },
    {
      "cell_type": "markdown",
      "source": [
        "8. Let Q(x) be the quadratic equation Q(x) = $ax^2 + bx + c$ for some scalar values a, b, and c. A root of Q(x) is an r such that Q(r)=0. The two roots of a quadratic equation can be described by the quadratic formula, which is\n",
        "\n",
        "r = $\\frac{-b ± \\sqrt{b^2 - 4ac}}{2a}$\n",
        "\n",
        "A quadratic equation has either two real roots (i.e. $b^2 > 4ac$), two imaginary roots (i.e. $b^2 < 4ac$), or one root, $r = \\frac{-b}{2a}$.\n",
        "\n",
        "Write a function my_n_roots(a,b,c), where a, b, and c are the coefficients of the quadratic Q(x), the function should return two values: n_roots and r. n_roots is 2 if Q has two real roots, 1 if Q has one root, −2 if Q has two imaginary roots, and r is an array containing the roots of Q.\n"
      ],
      "metadata": {
        "id": "v5fnRqdMLZ-q"
      }
    },
    {
      "cell_type": "code",
      "source": [
        "import math\n",
        "import cmath # for computations involving complex numbers such as sqrt of a negative number https://docs.python.org/3/library/cmath.html\n",
        "\n",
        "def my_n_roots(a,b,c):\n",
        "\n",
        "    if b**2 > 4*a*c:\n",
        "      n_roots = 2\n",
        "      root1 = (-b + math.sqrt(b**2 - 4*a*c))/(2*a)\n",
        "      root2 = (-b - math.sqrt(b**2 - 4*a*c))/(2*a)\n",
        "\n",
        "    elif b**2 < 4*a*c:\n",
        "      n_roots = -2\n",
        "      root1 = (-b + cmath.sqrt(b**2 - 4*a*c))/(2*a)\n",
        "      root2 = (-b - cmath.sqrt(b**2 - 4*a*c))/(2*a)\n",
        "    \n",
        "    else:\n",
        "      n_roots = 1\n",
        "      root1 = root2 = -b / (2*a)\n",
        "\n",
        "    r = list(set([root1, root2]))\n",
        "    \n",
        "    return n_roots, r"
      ],
      "metadata": {
        "id": "h-uC7bWBObXo"
      },
      "execution_count": 38,
      "outputs": []
    },
    {
      "cell_type": "code",
      "source": [
        "# test case 1\n",
        "# Output: n_roots = 2, r = [3, -3]\n",
        "my_n_roots(1,0,-9)"
      ],
      "metadata": {
        "colab": {
          "base_uri": "https://localhost:8080/"
        },
        "id": "IjThbwf0RsOn",
        "outputId": "f9eb88dd-f954-44f0-9b49-36fce3bc2b83"
      },
      "execution_count": 39,
      "outputs": [
        {
          "output_type": "execute_result",
          "data": {
            "text/plain": [
              "(2, [3.0, -3.0])"
            ]
          },
          "metadata": {},
          "execution_count": 39
        }
      ]
    },
    {
      "cell_type": "code",
      "source": [
        "# test case 2\n",
        "# Output: n_roots = -2, r = [-0.6667 + 1.1055i, -0.6667 - 1.1055i]\n",
        "my_n_roots(3,4,5)"
      ],
      "metadata": {
        "colab": {
          "base_uri": "https://localhost:8080/"
        },
        "id": "lU4NdjIZRwUo",
        "outputId": "1429eb4b-c2c1-451d-ca50-d1ac0b01b0a9"
      },
      "execution_count": 40,
      "outputs": [
        {
          "output_type": "execute_result",
          "data": {
            "text/plain": [
              "(-2,\n",
              " [(-0.6666666666666666+1.1055415967851332j),\n",
              "  (-0.6666666666666666-1.1055415967851332j)])"
            ]
          },
          "metadata": {},
          "execution_count": 40
        }
      ]
    },
    {
      "cell_type": "code",
      "source": [
        "# test case 3\n",
        "# Output: n_roots = 1, r = [1]\n",
        "my_n_roots(2,4,2)"
      ],
      "metadata": {
        "colab": {
          "base_uri": "https://localhost:8080/"
        },
        "id": "QAYQ9QBNR9H4",
        "outputId": "00abe6cd-5546-4453-dff9-22d56eb006bd"
      },
      "execution_count": 41,
      "outputs": [
        {
          "output_type": "execute_result",
          "data": {
            "text/plain": [
              "(1, [-1.0])"
            ]
          },
          "metadata": {},
          "execution_count": 41
        }
      ]
    },
    {
      "cell_type": "markdown",
      "source": [
        "9. Write a function my_split_function(f,g,a,b,x), where f and g are handles to functions f(x) and g(x), respectively. The output should be f(x)\n",
        "if x ≤ a, g(x) if x ≥ b, and 0 otherwise. You may assume that b > a."
      ],
      "metadata": {
        "id": "MIqm2Z0XUtHS"
      }
    },
    {
      "cell_type": "code",
      "source": [
        "# This function is provided in the problem itself\n",
        "def my_split_function(f,g,a,b,x):\n",
        "    \n",
        "    if x<=a:\n",
        "        return f(x)\n",
        "    elif x>=b:\n",
        "        return g(x)\n",
        "    else:\n",
        "        return 0"
      ],
      "metadata": {
        "id": "1SwfapblUho3"
      },
      "execution_count": 42,
      "outputs": []
    },
    {
      "cell_type": "code",
      "source": [
        "# test case 1\n",
        "# Output: 2.713\n",
        "my_split_function(np.exp,np.sin,2,4,1)"
      ],
      "metadata": {
        "colab": {
          "base_uri": "https://localhost:8080/"
        },
        "id": "wqhJGOY7VULg",
        "outputId": "fb9c4337-5f5c-45e2-8579-37f64d57a813"
      },
      "execution_count": 43,
      "outputs": [
        {
          "output_type": "execute_result",
          "data": {
            "text/plain": [
              "2.718281828459045"
            ]
          },
          "metadata": {},
          "execution_count": 43
        }
      ]
    },
    {
      "cell_type": "code",
      "source": [
        "# test case 2\n",
        "# Output: 0\n",
        "my_split_function(np.exp,np.sin,2,4,3)"
      ],
      "metadata": {
        "colab": {
          "base_uri": "https://localhost:8080/"
        },
        "id": "mNQgXMXeVcK8",
        "outputId": "5498476e-7845-4a16-e4fd-cd9bb7831936"
      },
      "execution_count": 44,
      "outputs": [
        {
          "output_type": "execute_result",
          "data": {
            "text/plain": [
              "0"
            ]
          },
          "metadata": {},
          "execution_count": 44
        }
      ]
    },
    {
      "cell_type": "code",
      "source": [
        "# test case 3\n",
        "# Output: -0.9589\n",
        "my_split_function(np.exp,np.sin,2,4,5)"
      ],
      "metadata": {
        "colab": {
          "base_uri": "https://localhost:8080/"
        },
        "id": "t2CsK3xLVxiW",
        "outputId": "bc90d1e2-ca43-471c-de13-54f09e12d4d8"
      },
      "execution_count": 45,
      "outputs": [
        {
          "output_type": "execute_result",
          "data": {
            "text/plain": [
              "-0.9589242746631385"
            ]
          },
          "metadata": {},
          "execution_count": 45
        }
      ]
    }
  ]
}